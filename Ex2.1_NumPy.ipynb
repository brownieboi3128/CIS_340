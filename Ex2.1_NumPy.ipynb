{
 "cells": [
  {
   "cell_type": "markdown",
   "metadata": {},
   "source": [
    "# Ex 2.1 Using NumPy Statistics Functions\n",
    "- Demonstrates how to:\n",
    "  - Identify the shape and type of a NumPy array.  \n",
    "  - Use NumPy statistics functions, including peak to peak (ptp), amax, and average.\n",
    "\n",
    "---"
   ]
  },
  {
   "cell_type": "code",
   "execution_count": 3,
   "metadata": {},
   "outputs": [],
   "source": [
    "import numpy as np"
   ]
  },
  {
   "cell_type": "markdown",
   "metadata": {},
   "source": [
    "### A 2D NumPy Array of base salary over three months:"
   ]
  },
  {
   "cell_type": "code",
   "execution_count": null,
   "metadata": {},
   "outputs": [],
   "source": [
    "jeff_salary = [2700, 3000, 3000]\n",
    "nick_salary = [2600, 2800, 2800]\n",
    "tom_salary = [2300, 2500, 2500]\n",
    "base_salary = np.array([jeff_salary, nick_salary, tom_salary])\n",
    "print(base_salary)"
   ]
  },
  {
   "cell_type": "markdown",
   "metadata": {},
   "source": [
    "### A 2D NumPy Array containing the employees' monthly bonuses:"
   ]
  },
  {
   "cell_type": "code",
   "execution_count": null,
   "metadata": {},
   "outputs": [],
   "source": [
    "jeff_bonus = [500, 400, 400]\n",
    "nick_bonus = [600, 300, 400]\n",
    "tom_bonus = [200, 500, 400]\n",
    "bonus = np.array([jeff_bonus, nick_bonus, tom_bonus])\n",
    "print(bonus)"
   ]
  },
  {
   "cell_type": "markdown",
   "metadata": {},
   "source": [
    "---"
   ]
  },
  {
   "cell_type": "markdown",
   "metadata": {},
   "source": [
    "# Part 1"
   ]
  },
  {
   "cell_type": "code",
   "execution_count": null,
   "metadata": {},
   "outputs": [],
   "source": [
    "# 1. Identify the shape of the base_salary and bonus arrays.\n",
    "# Use the .shape attribute to identify the shape of the base_salary and bonus arrays.\n",
    "\n",
    "# YOUR CODE HERE"
   ]
  },
  {
   "cell_type": "markdown",
   "metadata": {},
   "source": [
    "---"
   ]
  },
  {
   "cell_type": "markdown",
   "metadata": {},
   "source": [
    "# Part 2\n",
    "\n",
    "- Documentation for the numpy.ptp function can be found at: [numpy.ptp](https://numpy.org/doc/stable/reference/generated/numpy.ptp.html)"
   ]
  },
  {
   "cell_type": "code",
   "execution_count": null,
   "metadata": {},
   "outputs": [],
   "source": [
    "# 1. Find the difference between the highest and lowest base salary for each period and print the result.\n",
    "# Use the numpy.ptp() function that calculates a range of values (maximum - minimum) \n",
    "# along the 0 axis to identify the result. \n",
    "\n",
    "# YOUR CODE HERE"
   ]
  },
  {
   "cell_type": "markdown",
   "metadata": {},
   "source": [
    "---"
   ]
  },
  {
   "cell_type": "markdown",
   "metadata": {},
   "source": [
    "# Part 3\n",
    "- Each result set returned by `np.amax()`, as shown in our course notebook example is itself a NumPy array. Therefore, we can pass the result set to any other NumPy statistical function.\n",
    "- Use the `np.average()` function to calculate the average of the maximum amounts paid each month to all employees.\n",
    "    - Documentation for the numpy.average function can be found at: [numpy.average](https://numpy.org/doc/stable/reference/generated/numpy.average.html)"
   ]
  },
  {
   "cell_type": "code",
   "execution_count": null,
   "metadata": {},
   "outputs": [],
   "source": [
    "# 1. Use the np. average() and np.amax functions to \n",
    "# calculate the average of the maximum amounts paid each month to all employees.\n",
    "\n",
    "# YOUR CODE HERE"
   ]
  }
 ],
 "metadata": {
  "kernelspec": {
   "display_name": "Python 3",
   "language": "python",
   "name": "python3"
  },
  "language_info": {
   "codemirror_mode": {
    "name": "ipython",
    "version": 3
   },
   "file_extension": ".py",
   "mimetype": "text/x-python",
   "name": "python",
   "nbconvert_exporter": "python",
   "pygments_lexer": "ipython3",
   "version": "3.12.4"
  }
 },
 "nbformat": 4,
 "nbformat_minor": 2
}
