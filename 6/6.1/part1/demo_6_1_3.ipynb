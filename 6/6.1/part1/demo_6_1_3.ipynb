{
 "cells": [
  {
   "cell_type": "markdown",
   "metadata": {},
   "source": [
    "# Ex 6.1 - Part 1: Intro to Agentic AI and Performing Basic Statistical Analyses and Computing Summary Statistics\n",
    "\n",
    "## Objective\n",
    "Analyze the Sample - Superstore dataset by performing basic statistical analyses and computing summary statistics."
   ]
  },
  {
   "cell_type": "code",
   "execution_count": 6,
   "metadata": {},
   "outputs": [
    {
     "data": {
      "text/html": [
       "<div>\n",
       "<style scoped>\n",
       "    .dataframe tbody tr th:only-of-type {\n",
       "        vertical-align: middle;\n",
       "    }\n",
       "\n",
       "    .dataframe tbody tr th {\n",
       "        vertical-align: top;\n",
       "    }\n",
       "\n",
       "    .dataframe thead th {\n",
       "        text-align: right;\n",
       "    }\n",
       "</style>\n",
       "<table border=\"1\" class=\"dataframe\">\n",
       "  <thead>\n",
       "    <tr style=\"text-align: right;\">\n",
       "      <th></th>\n",
       "      <th>count</th>\n",
       "      <th>mean</th>\n",
       "      <th>std</th>\n",
       "      <th>min</th>\n",
       "      <th>25%</th>\n",
       "      <th>50%</th>\n",
       "      <th>75%</th>\n",
       "      <th>max</th>\n",
       "    </tr>\n",
       "  </thead>\n",
       "  <tbody>\n",
       "    <tr>\n",
       "      <th>Discount</th>\n",
       "      <td>10194.0</td>\n",
       "      <td>0.155385</td>\n",
       "      <td>0.206249</td>\n",
       "      <td>0.000</td>\n",
       "      <td>0.0000</td>\n",
       "      <td>0.20</td>\n",
       "      <td>0.200000</td>\n",
       "      <td>0.800</td>\n",
       "    </tr>\n",
       "    <tr>\n",
       "      <th>Profit</th>\n",
       "      <td>10194.0</td>\n",
       "      <td>28.673417</td>\n",
       "      <td>232.465115</td>\n",
       "      <td>-6599.978</td>\n",
       "      <td>1.7608</td>\n",
       "      <td>8.69</td>\n",
       "      <td>29.297925</td>\n",
       "      <td>8399.976</td>\n",
       "    </tr>\n",
       "    <tr>\n",
       "      <th>Quantity</th>\n",
       "      <td>10194.0</td>\n",
       "      <td>3.791838</td>\n",
       "      <td>2.228317</td>\n",
       "      <td>1.000</td>\n",
       "      <td>2.0000</td>\n",
       "      <td>3.00</td>\n",
       "      <td>5.000000</td>\n",
       "      <td>14.000</td>\n",
       "    </tr>\n",
       "    <tr>\n",
       "      <th>Sales</th>\n",
       "      <td>10194.0</td>\n",
       "      <td>228.225854</td>\n",
       "      <td>619.906839</td>\n",
       "      <td>0.444</td>\n",
       "      <td>17.2200</td>\n",
       "      <td>53.91</td>\n",
       "      <td>209.500000</td>\n",
       "      <td>22638.480</td>\n",
       "    </tr>\n",
       "  </tbody>\n",
       "</table>\n",
       "</div>"
      ],
      "text/plain": [
       "            count        mean         std       min      25%    50%  \\\n",
       "Discount  10194.0    0.155385    0.206249     0.000   0.0000   0.20   \n",
       "Profit    10194.0   28.673417  232.465115 -6599.978   1.7608   8.69   \n",
       "Quantity  10194.0    3.791838    2.228317     1.000   2.0000   3.00   \n",
       "Sales     10194.0  228.225854  619.906839     0.444  17.2200  53.91   \n",
       "\n",
       "                 75%        max  \n",
       "Discount    0.200000      0.800  \n",
       "Profit     29.297925   8399.976  \n",
       "Quantity    5.000000     14.000  \n",
       "Sales     209.500000  22638.480  "
      ]
     },
     "execution_count": 6,
     "metadata": {},
     "output_type": "execute_result"
    }
   ],
   "source": [
    "import pandas as pd\n",
    "\n",
    "# Load the Superstore dataset\n",
    "df = pd.read_csv('Sample - Superstore.csv')\n",
    "\n",
    "# Compute summary statistics\n",
    "df.describe().T"
   ]
  }
 ],
 "metadata": {
  "kernelspec": {
   "display_name": "Python 3",
   "language": "python",
   "name": "python3"
  },
  "language_info": {
   "codemirror_mode": {
    "name": "ipython",
    "version": 3
   },
   "file_extension": ".py",
   "mimetype": "text/x-python",
   "name": "python",
   "nbconvert_exporter": "python",
   "pygments_lexer": "ipython3",
   "version": "3.12.5"
  }
 },
 "nbformat": 4,
 "nbformat_minor": 4
}
