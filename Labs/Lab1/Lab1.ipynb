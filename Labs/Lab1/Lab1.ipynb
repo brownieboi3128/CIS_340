{
 "cells": [
  {
   "cell_type": "code",
   "execution_count": 2,
   "metadata": {},
   "outputs": [
    {
     "name": "stdout",
     "output_type": "stream",
     "text": [
      "(266, 3)\n"
     ]
    },
    {
     "data": {
      "application/vnd.microsoft.datawrangler.viewer.v0+json": {
       "columns": [
        {
         "name": "index",
         "rawType": "int64",
         "type": "integer"
        },
        {
         "name": "Country_Name",
         "rawType": "object",
         "type": "string"
        },
        {
         "name": "Country_Code",
         "rawType": "object",
         "type": "string"
        },
        {
         "name": "GDP_Change",
         "rawType": "float64",
         "type": "float"
        }
       ],
       "conversionMethod": "pd.DataFrame",
       "ref": "a3f5ea1d-e6aa-4912-9944-52589ff85e4f",
       "rows": [
        [
         "0",
         "Aruba",
         "ABW",
         "17.17250851"
        ],
        [
         "1",
         "Africa Eastern and Southern",
         "AFE",
         "4.293395436"
        ],
        [
         "2",
         "Afghanistan",
         "AFG",
         "-20.73714562"
        ],
        [
         "3",
         "Africa Western and Central",
         "AFW",
         "3.965398557"
        ],
        [
         "4",
         "Angola",
         "AGO",
         "1.1"
        ]
       ],
       "shape": {
        "columns": 3,
        "rows": 5
       }
      },
      "text/html": [
       "<div>\n",
       "<style scoped>\n",
       "    .dataframe tbody tr th:only-of-type {\n",
       "        vertical-align: middle;\n",
       "    }\n",
       "\n",
       "    .dataframe tbody tr th {\n",
       "        vertical-align: top;\n",
       "    }\n",
       "\n",
       "    .dataframe thead th {\n",
       "        text-align: right;\n",
       "    }\n",
       "</style>\n",
       "<table border=\"1\" class=\"dataframe\">\n",
       "  <thead>\n",
       "    <tr style=\"text-align: right;\">\n",
       "      <th></th>\n",
       "      <th>Country_Name</th>\n",
       "      <th>Country_Code</th>\n",
       "      <th>GDP_Change</th>\n",
       "    </tr>\n",
       "  </thead>\n",
       "  <tbody>\n",
       "    <tr>\n",
       "      <th>0</th>\n",
       "      <td>Aruba</td>\n",
       "      <td>ABW</td>\n",
       "      <td>17.172509</td>\n",
       "    </tr>\n",
       "    <tr>\n",
       "      <th>1</th>\n",
       "      <td>Africa Eastern and Southern</td>\n",
       "      <td>AFE</td>\n",
       "      <td>4.293395</td>\n",
       "    </tr>\n",
       "    <tr>\n",
       "      <th>2</th>\n",
       "      <td>Afghanistan</td>\n",
       "      <td>AFG</td>\n",
       "      <td>-20.737146</td>\n",
       "    </tr>\n",
       "    <tr>\n",
       "      <th>3</th>\n",
       "      <td>Africa Western and Central</td>\n",
       "      <td>AFW</td>\n",
       "      <td>3.965399</td>\n",
       "    </tr>\n",
       "    <tr>\n",
       "      <th>4</th>\n",
       "      <td>Angola</td>\n",
       "      <td>AGO</td>\n",
       "      <td>1.100000</td>\n",
       "    </tr>\n",
       "  </tbody>\n",
       "</table>\n",
       "</div>"
      ],
      "text/plain": [
       "                  Country_Name Country_Code  GDP_Change\n",
       "0                        Aruba          ABW   17.172509\n",
       "1  Africa Eastern and Southern          AFE    4.293395\n",
       "2                  Afghanistan          AFG  -20.737146\n",
       "3   Africa Western and Central          AFW    3.965399\n",
       "4                       Angola          AGO    1.100000"
      ]
     },
     "execution_count": 2,
     "metadata": {},
     "output_type": "execute_result"
    }
   ],
   "source": [
    "import pandas as pd\n",
    "df = pd.read_csv('WorldBank_GDPChange.csv')\n",
    "print(df.shape)\n",
    "df.head()"
   ]
  },
  {
   "cell_type": "markdown",
   "metadata": {},
   "source": [
    "Question 1: What were the Top 10 Countries for Annual GDP Change?"
   ]
  },
  {
   "cell_type": "code",
   "execution_count": 3,
   "metadata": {},
   "outputs": [
    {
     "name": "stdout",
     "output_type": "stream",
     "text": [
      "Q1: What were the Top 10 Countries for Annual GDP Change\n",
      "(10, 3)\n"
     ]
    },
    {
     "data": {
      "application/vnd.microsoft.datawrangler.viewer.v0+json": {
       "columns": [
        {
         "name": "index",
         "rawType": "int64",
         "type": "integer"
        },
        {
         "name": "Country_Name",
         "rawType": "object",
         "type": "string"
        },
        {
         "name": "Country_Code",
         "rawType": "object",
         "type": "string"
        },
        {
         "name": "GDP_Change",
         "rawType": "float64",
         "type": "float"
        }
       ],
       "conversionMethod": "pd.DataFrame",
       "ref": "cd0b06b8-677d-4545-bac3-6d20d9e5538d",
       "rows": [
        [
         "151",
         "Maldives",
         "MDV",
         "41.74510055"
        ],
        [
         "140",
         "Libya",
         "LBY",
         "31.37242223"
        ],
        [
         "164",
         "Monaco",
         "MCO",
         "21.5535607"
        ],
        [
         "98",
         "Guyana",
         "GUY",
         "20.06001095"
        ],
        [
         "147",
         "Macao SAR, China",
         "MAC",
         "19.26705638"
        ],
        [
         "12",
         "Aruba",
         "ABW",
         "17.17250851"
        ],
        [
         "190",
         "Panama",
         "PAN",
         "15.33587393"
        ],
        [
         "22",
         "Belize",
         "BLZ",
         "15.22613065"
        ],
        [
         "163",
         "Moldova",
         "MDA",
         "13.9445896"
        ],
        [
         "16",
         "Bahamas, The",
         "BHS",
         "13.71973494"
        ]
       ],
       "shape": {
        "columns": 3,
        "rows": 10
       }
      },
      "text/html": [
       "<div>\n",
       "<style scoped>\n",
       "    .dataframe tbody tr th:only-of-type {\n",
       "        vertical-align: middle;\n",
       "    }\n",
       "\n",
       "    .dataframe tbody tr th {\n",
       "        vertical-align: top;\n",
       "    }\n",
       "\n",
       "    .dataframe thead th {\n",
       "        text-align: right;\n",
       "    }\n",
       "</style>\n",
       "<table border=\"1\" class=\"dataframe\">\n",
       "  <thead>\n",
       "    <tr style=\"text-align: right;\">\n",
       "      <th></th>\n",
       "      <th>Country_Name</th>\n",
       "      <th>Country_Code</th>\n",
       "      <th>GDP_Change</th>\n",
       "    </tr>\n",
       "  </thead>\n",
       "  <tbody>\n",
       "    <tr>\n",
       "      <th>151</th>\n",
       "      <td>Maldives</td>\n",
       "      <td>MDV</td>\n",
       "      <td>41.745101</td>\n",
       "    </tr>\n",
       "    <tr>\n",
       "      <th>140</th>\n",
       "      <td>Libya</td>\n",
       "      <td>LBY</td>\n",
       "      <td>31.372422</td>\n",
       "    </tr>\n",
       "    <tr>\n",
       "      <th>164</th>\n",
       "      <td>Monaco</td>\n",
       "      <td>MCO</td>\n",
       "      <td>21.553561</td>\n",
       "    </tr>\n",
       "    <tr>\n",
       "      <th>98</th>\n",
       "      <td>Guyana</td>\n",
       "      <td>GUY</td>\n",
       "      <td>20.060011</td>\n",
       "    </tr>\n",
       "    <tr>\n",
       "      <th>147</th>\n",
       "      <td>Macao SAR, China</td>\n",
       "      <td>MAC</td>\n",
       "      <td>19.267056</td>\n",
       "    </tr>\n",
       "    <tr>\n",
       "      <th>12</th>\n",
       "      <td>Aruba</td>\n",
       "      <td>ABW</td>\n",
       "      <td>17.172509</td>\n",
       "    </tr>\n",
       "    <tr>\n",
       "      <th>190</th>\n",
       "      <td>Panama</td>\n",
       "      <td>PAN</td>\n",
       "      <td>15.335874</td>\n",
       "    </tr>\n",
       "    <tr>\n",
       "      <th>22</th>\n",
       "      <td>Belize</td>\n",
       "      <td>BLZ</td>\n",
       "      <td>15.226131</td>\n",
       "    </tr>\n",
       "    <tr>\n",
       "      <th>163</th>\n",
       "      <td>Moldova</td>\n",
       "      <td>MDA</td>\n",
       "      <td>13.944590</td>\n",
       "    </tr>\n",
       "    <tr>\n",
       "      <th>16</th>\n",
       "      <td>Bahamas, The</td>\n",
       "      <td>BHS</td>\n",
       "      <td>13.719735</td>\n",
       "    </tr>\n",
       "  </tbody>\n",
       "</table>\n",
       "</div>"
      ],
      "text/plain": [
       "         Country_Name Country_Code  GDP_Change\n",
       "151          Maldives          MDV   41.745101\n",
       "140             Libya          LBY   31.372422\n",
       "164            Monaco          MCO   21.553561\n",
       "98             Guyana          GUY   20.060011\n",
       "147  Macao SAR, China          MAC   19.267056\n",
       "12              Aruba          ABW   17.172509\n",
       "190            Panama          PAN   15.335874\n",
       "22             Belize          BLZ   15.226131\n",
       "163           Moldova          MDA   13.944590\n",
       "16       Bahamas, The          BHS   13.719735"
      ]
     },
     "execution_count": 3,
     "metadata": {},
     "output_type": "execute_result"
    }
   ],
   "source": [
    "print(\"Q1: What were the Top 10 Countries for Annual GDP Change\")\n",
    "df_Q1 = df.groupby('Country_Name', as_index=True).sum(numeric_only=False).reset_index()\n",
    "df_Q1 = df_Q1.sort_values(by='GDP_Change', ascending=False)\n",
    "df_Q1 = df_Q1.head(10)\n",
    "print(df_Q1.shape)\n",
    "df_Q1"
   ]
  },
  {
   "cell_type": "markdown",
   "metadata": {},
   "source": [
    "\n",
    "Question 2: What were the Bottom 15 Countries for Annual GDP Change?"
   ]
  },
  {
   "cell_type": "code",
   "execution_count": 4,
   "metadata": {},
   "outputs": [
    {
     "name": "stdout",
     "output_type": "stream",
     "text": [
      "Q2: What were the Bottom 15 Countries for Annual GDP Change?\n",
      "(15, 3)\n"
     ]
    },
    {
     "data": {
      "application/vnd.microsoft.datawrangler.viewer.v0+json": {
       "columns": [
        {
         "name": "index",
         "rawType": "int64",
         "type": "integer"
        },
        {
         "name": "Country_Name",
         "rawType": "object",
         "type": "string"
        },
        {
         "name": "Country_Code",
         "rawType": "object",
         "type": "string"
        },
        {
         "name": "GDP_Change",
         "rawType": "float64",
         "type": "float"
        }
       ],
       "conversionMethod": "pd.DataFrame",
       "ref": "40abda22-0fdb-4430-8e1a-0f33ac1f8304",
       "rows": [
        [
         "0",
         "Afghanistan",
         "AFG",
         "-20.73714562"
        ],
        [
         "169",
         "Myanmar",
         "MMR",
         "-17.9129448"
        ],
        [
         "189",
         "Palau",
         "PLW",
         "-13.33333333"
        ],
        [
         "204",
         "Samoa",
         "WSM",
         "-7.084587997"
        ],
        [
         "137",
         "Lebanon",
         "LBN",
         "-7.00123936"
        ],
        [
         "80",
         "Fiji",
         "FJI",
         "-5.111607393"
        ],
        [
         "187",
         "Pacific island small states",
         "PSS",
         "-3.667728391"
        ],
        [
         "158",
         "Micronesia, Fed. Sts.",
         "FSM",
         "-3.188187197"
        ],
        [
         "233",
         "Suriname",
         "SUR",
         "-2.729618827"
        ],
        [
         "242",
         "Tonga",
         "TON",
         "-2.667506175"
        ],
        [
         "50",
         "Congo, Rep.",
         "COG",
         "-2.200002606"
        ],
        [
         "232",
         "Sudan",
         "SDN",
         "-1.868520206"
        ],
        [
         "5",
         "American Samoa",
         "ASM",
         "-1.866251944"
        ],
        [
         "99",
         "Haiti",
         "HTI",
         "-1.798239889"
        ],
        [
         "31",
         "Brunei Darussalam",
         "BRN",
         "-1.59076248"
        ]
       ],
       "shape": {
        "columns": 3,
        "rows": 15
       }
      },
      "text/html": [
       "<div>\n",
       "<style scoped>\n",
       "    .dataframe tbody tr th:only-of-type {\n",
       "        vertical-align: middle;\n",
       "    }\n",
       "\n",
       "    .dataframe tbody tr th {\n",
       "        vertical-align: top;\n",
       "    }\n",
       "\n",
       "    .dataframe thead th {\n",
       "        text-align: right;\n",
       "    }\n",
       "</style>\n",
       "<table border=\"1\" class=\"dataframe\">\n",
       "  <thead>\n",
       "    <tr style=\"text-align: right;\">\n",
       "      <th></th>\n",
       "      <th>Country_Name</th>\n",
       "      <th>Country_Code</th>\n",
       "      <th>GDP_Change</th>\n",
       "    </tr>\n",
       "  </thead>\n",
       "  <tbody>\n",
       "    <tr>\n",
       "      <th>0</th>\n",
       "      <td>Afghanistan</td>\n",
       "      <td>AFG</td>\n",
       "      <td>-20.737146</td>\n",
       "    </tr>\n",
       "    <tr>\n",
       "      <th>169</th>\n",
       "      <td>Myanmar</td>\n",
       "      <td>MMR</td>\n",
       "      <td>-17.912945</td>\n",
       "    </tr>\n",
       "    <tr>\n",
       "      <th>189</th>\n",
       "      <td>Palau</td>\n",
       "      <td>PLW</td>\n",
       "      <td>-13.333333</td>\n",
       "    </tr>\n",
       "    <tr>\n",
       "      <th>204</th>\n",
       "      <td>Samoa</td>\n",
       "      <td>WSM</td>\n",
       "      <td>-7.084588</td>\n",
       "    </tr>\n",
       "    <tr>\n",
       "      <th>137</th>\n",
       "      <td>Lebanon</td>\n",
       "      <td>LBN</td>\n",
       "      <td>-7.001239</td>\n",
       "    </tr>\n",
       "    <tr>\n",
       "      <th>80</th>\n",
       "      <td>Fiji</td>\n",
       "      <td>FJI</td>\n",
       "      <td>-5.111607</td>\n",
       "    </tr>\n",
       "    <tr>\n",
       "      <th>187</th>\n",
       "      <td>Pacific island small states</td>\n",
       "      <td>PSS</td>\n",
       "      <td>-3.667728</td>\n",
       "    </tr>\n",
       "    <tr>\n",
       "      <th>158</th>\n",
       "      <td>Micronesia, Fed. Sts.</td>\n",
       "      <td>FSM</td>\n",
       "      <td>-3.188187</td>\n",
       "    </tr>\n",
       "    <tr>\n",
       "      <th>233</th>\n",
       "      <td>Suriname</td>\n",
       "      <td>SUR</td>\n",
       "      <td>-2.729619</td>\n",
       "    </tr>\n",
       "    <tr>\n",
       "      <th>242</th>\n",
       "      <td>Tonga</td>\n",
       "      <td>TON</td>\n",
       "      <td>-2.667506</td>\n",
       "    </tr>\n",
       "    <tr>\n",
       "      <th>50</th>\n",
       "      <td>Congo, Rep.</td>\n",
       "      <td>COG</td>\n",
       "      <td>-2.200003</td>\n",
       "    </tr>\n",
       "    <tr>\n",
       "      <th>232</th>\n",
       "      <td>Sudan</td>\n",
       "      <td>SDN</td>\n",
       "      <td>-1.868520</td>\n",
       "    </tr>\n",
       "    <tr>\n",
       "      <th>5</th>\n",
       "      <td>American Samoa</td>\n",
       "      <td>ASM</td>\n",
       "      <td>-1.866252</td>\n",
       "    </tr>\n",
       "    <tr>\n",
       "      <th>99</th>\n",
       "      <td>Haiti</td>\n",
       "      <td>HTI</td>\n",
       "      <td>-1.798240</td>\n",
       "    </tr>\n",
       "    <tr>\n",
       "      <th>31</th>\n",
       "      <td>Brunei Darussalam</td>\n",
       "      <td>BRN</td>\n",
       "      <td>-1.590762</td>\n",
       "    </tr>\n",
       "  </tbody>\n",
       "</table>\n",
       "</div>"
      ],
      "text/plain": [
       "                    Country_Name Country_Code  GDP_Change\n",
       "0                    Afghanistan          AFG  -20.737146\n",
       "169                      Myanmar          MMR  -17.912945\n",
       "189                        Palau          PLW  -13.333333\n",
       "204                        Samoa          WSM   -7.084588\n",
       "137                      Lebanon          LBN   -7.001239\n",
       "80                          Fiji          FJI   -5.111607\n",
       "187  Pacific island small states          PSS   -3.667728\n",
       "158        Micronesia, Fed. Sts.          FSM   -3.188187\n",
       "233                     Suriname          SUR   -2.729619\n",
       "242                        Tonga          TON   -2.667506\n",
       "50                   Congo, Rep.          COG   -2.200003\n",
       "232                        Sudan          SDN   -1.868520\n",
       "5                 American Samoa          ASM   -1.866252\n",
       "99                         Haiti          HTI   -1.798240\n",
       "31             Brunei Darussalam          BRN   -1.590762"
      ]
     },
     "execution_count": 4,
     "metadata": {},
     "output_type": "execute_result"
    }
   ],
   "source": [
    "print(\"Q2: What were the Bottom 15 Countries for Annual GDP Change?\")\n",
    "df_Q2 = df.groupby('Country_Name', as_index=True).sum(numeric_only=False).reset_index()\n",
    "df_Q2 = df_Q2.sort_values(by='GDP_Change', ascending=True)\n",
    "df_Q2 = df_Q2.head(15)\n",
    "print(df_Q2.shape)\n",
    "df_Q2"
   ]
  },
  {
   "cell_type": "markdown",
   "metadata": {},
   "source": [
    "Question 3: What was the annual GDP Change for Denmark, Spain, Mexico, Canada, United States, and the Upper Middle Income Countries?\n",
    "- Sort this DataFrame by Annual GDP Change, Highest to Lowest"
   ]
  },
  {
   "cell_type": "code",
   "execution_count": 13,
   "metadata": {},
   "outputs": [
    {
     "name": "stdout",
     "output_type": "stream",
     "text": [
      "Q3: What was the annual GDP Change for Denmakr, Spain, Mexico, Canada, United States, and the Upper Middle Income Countries?\n",
      "(6, 3)\n"
     ]
    },
    {
     "data": {
      "application/vnd.microsoft.datawrangler.viewer.v0+json": {
       "columns": [
        {
         "name": "index",
         "rawType": "int64",
         "type": "integer"
        },
        {
         "name": "Country_Name",
         "rawType": "object",
         "type": "string"
        },
        {
         "name": "Country_Code",
         "rawType": "object",
         "type": "string"
        },
        {
         "name": "GDP_Change",
         "rawType": "float64",
         "type": "float"
        }
       ],
       "conversionMethod": "pd.DataFrame",
       "ref": "18b74b04-a0f8-43cb-ae3c-b62ec5902348",
       "rows": [
        [
         "254",
         "Upper middle income",
         "UMC",
         "7.4021227"
        ],
        [
         "253",
         "United States",
         "USA",
         "5.945484761"
        ],
        [
         "223",
         "Spain",
         "ESP",
         "5.519594973"
        ],
        [
         "58",
         "Denmark",
         "DNK",
         "4.855707586"
        ],
        [
         "157",
         "Mexico",
         "MEX",
         "4.720565298"
        ],
        [
         "38",
         "Canada",
         "CAN",
         "4.540887309"
        ]
       ],
       "shape": {
        "columns": 3,
        "rows": 6
       }
      },
      "text/html": [
       "<div>\n",
       "<style scoped>\n",
       "    .dataframe tbody tr th:only-of-type {\n",
       "        vertical-align: middle;\n",
       "    }\n",
       "\n",
       "    .dataframe tbody tr th {\n",
       "        vertical-align: top;\n",
       "    }\n",
       "\n",
       "    .dataframe thead th {\n",
       "        text-align: right;\n",
       "    }\n",
       "</style>\n",
       "<table border=\"1\" class=\"dataframe\">\n",
       "  <thead>\n",
       "    <tr style=\"text-align: right;\">\n",
       "      <th></th>\n",
       "      <th>Country_Name</th>\n",
       "      <th>Country_Code</th>\n",
       "      <th>GDP_Change</th>\n",
       "    </tr>\n",
       "  </thead>\n",
       "  <tbody>\n",
       "    <tr>\n",
       "      <th>254</th>\n",
       "      <td>Upper middle income</td>\n",
       "      <td>UMC</td>\n",
       "      <td>7.402123</td>\n",
       "    </tr>\n",
       "    <tr>\n",
       "      <th>253</th>\n",
       "      <td>United States</td>\n",
       "      <td>USA</td>\n",
       "      <td>5.945485</td>\n",
       "    </tr>\n",
       "    <tr>\n",
       "      <th>223</th>\n",
       "      <td>Spain</td>\n",
       "      <td>ESP</td>\n",
       "      <td>5.519595</td>\n",
       "    </tr>\n",
       "    <tr>\n",
       "      <th>58</th>\n",
       "      <td>Denmark</td>\n",
       "      <td>DNK</td>\n",
       "      <td>4.855708</td>\n",
       "    </tr>\n",
       "    <tr>\n",
       "      <th>157</th>\n",
       "      <td>Mexico</td>\n",
       "      <td>MEX</td>\n",
       "      <td>4.720565</td>\n",
       "    </tr>\n",
       "    <tr>\n",
       "      <th>38</th>\n",
       "      <td>Canada</td>\n",
       "      <td>CAN</td>\n",
       "      <td>4.540887</td>\n",
       "    </tr>\n",
       "  </tbody>\n",
       "</table>\n",
       "</div>"
      ],
      "text/plain": [
       "            Country_Name Country_Code  GDP_Change\n",
       "254  Upper middle income          UMC    7.402123\n",
       "253        United States          USA    5.945485\n",
       "223                Spain          ESP    5.519595\n",
       "58               Denmark          DNK    4.855708\n",
       "157               Mexico          MEX    4.720565\n",
       "38                Canada          CAN    4.540887"
      ]
     },
     "execution_count": 13,
     "metadata": {},
     "output_type": "execute_result"
    }
   ],
   "source": [
    "print(\"Q3: What was the annual GDP Change for Denmakr, Spain, Mexico, Canada, United States, and the Upper Middle Income Countries?\")\n",
    "df_Q3 = df.groupby('Country_Name').sum(numeric_only=False).reset_index()\n",
    "df_Q3 = df_Q3[df_Q3['Country_Name'].str.contains('Denmark|Spain|Mexico|Canada|Upper middle income|United States')]\n",
    "df_Q3 = df_Q3.sort_values(by='GDP_Change', ascending=False)\n",
    "df_Q3 = df_Q3.head(15)\n",
    "print(df_Q3.shape)\n",
    "df_Q3"
   ]
  }
 ],
 "metadata": {
  "kernelspec": {
   "display_name": "Python 3",
   "language": "python",
   "name": "python3"
  },
  "language_info": {
   "codemirror_mode": {
    "name": "ipython",
    "version": 3
   },
   "file_extension": ".py",
   "mimetype": "text/x-python",
   "name": "python",
   "nbconvert_exporter": "python",
   "pygments_lexer": "ipython3",
   "version": "3.12.5"
  }
 },
 "nbformat": 4,
 "nbformat_minor": 2
}
