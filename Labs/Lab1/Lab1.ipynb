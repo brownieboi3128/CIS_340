{
 "cells": [
  {
   "cell_type": "code",
   "execution_count": 1,
   "metadata": {},
   "outputs": [],
   "source": [
    "import pandas as pd\n",
    "df = pd.read_csv('WorldBank_GDPChange.csv')"
   ]
  },
  {
   "cell_type": "markdown",
   "metadata": {},
   "source": [
    "Question 1: What were the Top 10 Countries for Annual GDP Change?"
   ]
  },
  {
   "cell_type": "code",
   "execution_count": 2,
   "metadata": {},
   "outputs": [
    {
     "name": "stdout",
     "output_type": "stream",
     "text": [
      "Q1: What were the Top 10 Countries for Annual GDP Change\n"
     ]
    }
   ],
   "source": [
    "print(\"Q1: What were the Top 10 Countries for Annual GDP Change\")"
   ]
  },
  {
   "cell_type": "markdown",
   "metadata": {},
   "source": [
    "\n",
    "Question 2: What were the Bottom 15 Countries for Annual GDP Change?"
   ]
  },
  {
   "cell_type": "code",
   "execution_count": 3,
   "metadata": {},
   "outputs": [
    {
     "name": "stdout",
     "output_type": "stream",
     "text": [
      "Q2: What were the Bottom 15 Countries for Annual GDP Change?\n"
     ]
    }
   ],
   "source": [
    "print(\"Q2: What were the Bottom 15 Countries for Annual GDP Change?\")"
   ]
  },
  {
   "cell_type": "markdown",
   "metadata": {},
   "source": [
    "Question 3: What was the annual GDP Change for Denmakr, Spain, Mexico, Canada, United States, and the Upper Middle Income Countries?\n",
    "- Sort this DataFrame by Annual GDP Change, Highest to Lowest"
   ]
  },
  {
   "cell_type": "code",
   "execution_count": 4,
   "metadata": {},
   "outputs": [
    {
     "name": "stdout",
     "output_type": "stream",
     "text": [
      "Q3: What was the annual GDP Change for Denmakr, Spain, Mexico, Canada, United States, and the Upper Middle Income Countries?\n"
     ]
    }
   ],
   "source": [
    "print(\"Q3: What was the annual GDP Change for Denmakr, Spain, Mexico, Canada, United States, and the Upper Middle Income Countries?\")"
   ]
  }
 ],
 "metadata": {
  "kernelspec": {
   "display_name": "Python 3",
   "language": "python",
   "name": "python3"
  },
  "language_info": {
   "codemirror_mode": {
    "name": "ipython",
    "version": 3
   },
   "file_extension": ".py",
   "mimetype": "text/x-python",
   "name": "python",
   "nbconvert_exporter": "python",
   "pygments_lexer": "ipython3",
   "version": "3.12.5"
  }
 },
 "nbformat": 4,
 "nbformat_minor": 2
}
