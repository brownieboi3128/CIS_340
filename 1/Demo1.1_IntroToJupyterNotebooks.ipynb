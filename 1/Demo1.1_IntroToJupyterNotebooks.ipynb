{
 "cells": [
  {
   "cell_type": "markdown",
   "metadata": {},
   "source": [
    "\n",
    "# Introduction to Jupyter notebooks\n",
    "\n",
    "##### Jupyter notebooks are an alternative environment for developing and running code, as well as for integrating documentation and graphical results. The IPython interpreter, is running inside a Jupyter notebook, and can process both Python code and IPython %magic functions that you enter into the input cells. Jupyter notebooks introduce a new level of code structure, that of cells, and the IPython interpreter is running within each of those code cells. You can group multiple Python expressions together in a cell, and those expression only get evaluated once you execute the entire cell. In Jupyter notebooks, a simple carriage return (return key on keyboard) will move you down to a new line in the same cell, but in order to execute the cell, you must type Shift+Return, i.e., the Shift and Return keys at the same time.\n",
    "\n",
    "##### At any given time, one cell is active and awaiting input. The cell that is currently awaiting input is highlighted by a surrounding box and colored bar on the left edge. You can switch between different cells just by clicking the mouse in the one you'd like to work in.\n",
    "\n",
    "##### Each cell has a *type* associated with it, which can be either *Code* or *Markdown*. The *Code* type is for Python code, and the *Markdown* type is for text."
   ]
  },
  {
   "cell_type": "markdown",
   "metadata": {},
   "source": [
    "---"
   ]
  },
  {
   "cell_type": "markdown",
   "metadata": {},
   "source": [
    "# Executing code in notebooks (Example)\n",
    "\n",
    "##### To convince yourself that the notebook includes a live Python interpreter, execute some Python code in the empty cell immediately below this one. First click on the empty cell below to highlight it, then enter `2+2` in the input cell, and type `Shift+Return`. You should see the result of that expression in the Out line below the input cell."
   ]
  },
  {
   "cell_type": "code",
   "execution_count": 1,
   "metadata": {},
   "outputs": [
    {
     "data": {
      "text/plain": [
       "4"
      ]
     },
     "execution_count": 1,
     "metadata": {},
     "output_type": "execute_result"
    }
   ],
   "source": [
    "2+2"
   ]
  },
  {
   "cell_type": "markdown",
   "metadata": {},
   "source": [
    "##### Click on the empty cell below this one, and in the cell, enter and execute:\n",
    "`print(\"Hello\")`\n",
    "##### You should notice that the word 'Hello' is printed below in the notebook, but that there is no Out[ ]: statement associated with that, since the print function does not return any value — it just prints to the screen."
   ]
  },
  {
   "cell_type": "code",
   "execution_count": 4,
   "metadata": {},
   "outputs": [
    {
     "name": "stdout",
     "output_type": "stream",
     "text": [
      "Hello\n"
     ]
    }
   ],
   "source": [
    "print(\"Hello\")"
   ]
  },
  {
   "cell_type": "markdown",
   "metadata": {},
   "source": [
    "##### As with any Python code, you cannot access a variable or a function if it has not been previously defined. A notebook is a bit different from the usual IPython interpreter because you can jump around and execute code in a different order than it appears on the page, but that can lead to confusion. ***You should lay out a notebook and execute cells from top to bottom in that order, so that the notebook reads like an annotated program.***"
   ]
  },
  {
   "cell_type": "markdown",
   "metadata": {},
   "source": [
    "---"
   ]
  },
  {
   "cell_type": "markdown",
   "metadata": {},
   "source": [
    "# Exploring Jupyter notebooks - Notebook toolbar\n",
    "\n",
    "##### In VS Code you can see the notebook toolbar at the top of the notebook. The toolbar has a number of buttons that allow you to interact with the notebook. The buttons are:\n",
    "- +Code - Change the cell type to code\n",
    "- +Markdown - Change the cell type to markdown\n",
    "- Run All - Run all cells in the notebook\n",
    "- Restart - Restart the kernel\n",
    "- Clear all outputs - Clear all outputs\n",
    "- Variables - Show the variables in the current kernel\n",
    "\n",
    "\n"
   ]
  },
  {
   "cell_type": "markdown",
   "metadata": {},
   "source": [
    "---"
   ]
  },
  {
   "cell_type": "markdown",
   "metadata": {},
   "source": [
    "# Demo 1.1 Intro to Jupyter Notebooks\n",
    "- Learn how to:  \n",
    "  - Use a Jupyter Notebook to create and run Python code \n",
    "  - Create *Markdown* cells for documentation  \n",
    "  - Create *Code cells* to run code    "
   ]
  },
  {
   "cell_type": "markdown",
   "metadata": {},
   "source": [
    "- Declare a variable named `time_24` and assign it a value of `11` \n",
    "- Create an If Statement that use the following logic:  \n",
    "  - If the time is less than 12, display **Good Morning!**  \n",
    "  - If the time is less than 18, display **Good Afternoon!**  \n",
    "  - If the time is less than or equal to 24, display **Good Evening!**  \n",
    "  - Otherwise, display **Time must be between 0 and 24!**"
   ]
  },
  {
   "cell_type": "code",
   "execution_count": 5,
   "metadata": {},
   "outputs": [],
   "source": [
    "# YOUR CODE HERE (Which is available to reference on our Course Notebook site)"
   ]
  },
  {
   "cell_type": "markdown",
   "metadata": {},
   "source": [
    "# Part 1: Miles to Kilometers Converter\n",
    "- Declare a variable named `distance_miles` and assign it a value of **31**\n",
    "- Write the code to calculate the equivalent distance in kilometers and store that value in a variable named `distance_km`.\n",
    "    - Note: 1 mile is equal to 1.60934 kilometers\n",
    "- display the result of both values in the output using the `print()` function."
   ]
  },
  {
   "cell_type": "code",
   "execution_count": 7,
   "metadata": {},
   "outputs": [
    {
     "name": "stdout",
     "output_type": "stream",
     "text": [
      "The distance in miles: 31 miles\n",
      "The equivilent distance in kilometers is: 49.89 kilometers\n"
     ]
    }
   ],
   "source": [
    "distance_miles = 31\n",
    "distance_km = distance_miles * 1.60934\n",
    "print(f\"The distance in miles: {distance_miles} miles\")\n",
    "print(f\"The equivilent distance in kilometers is: {distance_km:.2f} kilometers\")"
   ]
  },
  {
   "cell_type": "markdown",
   "metadata": {},
   "source": [
    "# Part 2: Pounds to Kilograms Converter\n",
    "- Define a function named `pounds_to_kilograms` that takes one parameter, **pounds**\n",
    "- Inside the body of the function, write a formula to calculate the equivalent weight in kilograms.\n",
    "The function should include a return statement that returns the result of the calcuation\n",
    "    - Note: 1 pound is equal to 0.453592 kilograms\n",
    "- Test the function by calling it with an argument of **150**."
   ]
  },
  {
   "cell_type": "code",
   "execution_count": 5,
   "metadata": {},
   "outputs": [
    {
     "name": "stdout",
     "output_type": "stream",
     "text": [
      "The weight in pounds: 150 pounds\n",
      "The equivilent weight in kilograms is: 68.04 kilograms\n"
     ]
    }
   ],
   "source": [
    "def pounds_to_kilograms(pounds):\n",
    "    kilograms = pounds * 0.453592\n",
    "    return kilograms\n",
    "\n",
    "print(f\"The weight in pounds: 150 pounds\")\n",
    "print(f\"The equivilent weight in kilograms is: {pounds_to_kilograms(150):.2f} kilograms\")"
   ]
  },
  {
   "cell_type": "markdown",
   "metadata": {},
   "source": [
    "# Part 3: Liters to Gallons Converter\n",
    "- Define a function named `liters_to_gallons` that takes one parameter, **liters**\n",
    "- Inside the body of the function, write a formula to calculate the equivalent volume in gallons.\n",
    "The function should include a return statement that returns the result of the calcuation\n",
    "    - Note: 1 liter is equal to 0.264172 gallons\n",
    "- Test the function by calling it with an argument of **10**."
   ]
  },
  {
   "cell_type": "code",
   "execution_count": 6,
   "metadata": {},
   "outputs": [
    {
     "name": "stdout",
     "output_type": "stream",
     "text": [
      "The volume in liters: 10 liters\n",
      "The equivilent volume in gallons is: 2.64 gallons\n"
     ]
    }
   ],
   "source": [
    "def liters_to_gallons(liters):\n",
    "    gallons = liters * 0.264172\n",
    "    return gallons\n",
    "\n",
    "print(f\"The volume in liters: 10 liters\")\n",
    "print(f\"The equivilent volume in gallons is: {liters_to_gallons(10):.2f} gallons\")"
   ]
  }
 ],
 "metadata": {
  "kernelspec": {
   "display_name": "Python 3",
   "language": "python",
   "name": "python3"
  },
  "language_info": {
   "codemirror_mode": {
    "name": "ipython",
    "version": 3
   },
   "file_extension": ".py",
   "mimetype": "text/x-python",
   "name": "python",
   "nbconvert_exporter": "python",
   "pygments_lexer": "ipython3",
   "version": "3.12.5"
  }
 },
 "nbformat": 4,
 "nbformat_minor": 2
}
