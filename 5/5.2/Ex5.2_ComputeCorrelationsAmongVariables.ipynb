{
 "cells": [
  {
   "cell_type": "markdown",
   "metadata": {
    "nbgrader": {
     "grade": false,
     "grade_id": "cell-78943c5d1f1f1f52",
     "locked": true,
     "schema_version": 3,
     "solution": false,
     "task": false
    }
   },
   "source": [
    "## Ex: 5.2 Compute Correlations\n",
    "\n",
    "- **Objective**: Compute the correlations among variables in the World Happiness Report data.\n",
    "\n",
    "- **Requires data file: `WHR2018Chapter2OnlineData.xls`**\n",
    "\n",
    "- **Demonstrates**:\n",
    "    - `corr()` method of pandas DataFrame\n",
    "    - `sns.heatmap()` function of seaborn\n",
    "    - `sns.regplot()` function of seaborn\n",
    "    - `sns.jointplot()` function of seaborn\n",
    "    - `Matplotlib’s 3D scatter plot`\n",
    "\n",
    "---"
   ]
  },
  {
   "cell_type": "markdown",
   "metadata": {
    "nbgrader": {
     "grade": false,
     "grade_id": "cell-ea2db48c5eb052a5",
     "locked": true,
     "schema_version": 3,
     "solution": false,
     "task": false
    }
   },
   "source": [
    "As before, we'll repeat here some of the code developed in a previous exercise so that we can continue to work with data in this exercise. Execute the next few code cells to load and reconfigure the data. Rather than examining the full dataset, we will just examine the data from 2015-2017, which we will store in a dataframe named ```df1517```."
   ]
  },
  {
   "cell_type": "code",
   "execution_count": 3,
   "metadata": {
    "nbgrader": {
     "grade": false,
     "grade_id": "cell-8f4187d9541afddc",
     "locked": true,
     "schema_version": 3,
     "solution": false,
     "task": false
    }
   },
   "outputs": [],
   "source": [
    "import pandas as pd\n",
    "import seaborn as sns\n",
    "import matplotlib.pyplot as plt\n",
    "pd.options.display.float_format = '{:.2f}'.format"
   ]
  },
  {
   "cell_type": "code",
   "execution_count": 4,
   "metadata": {
    "nbgrader": {
     "grade": false,
     "grade_id": "cell-027f49e733caa742",
     "locked": true,
     "schema_version": 3,
     "solution": false,
     "task": false
    }
   },
   "outputs": [],
   "source": [
    "dfraw = pd.read_excel('Data/WHR2018Chapter2OnlineData.xls', sheet_name='Table2.1')"
   ]
  },
  {
   "cell_type": "code",
   "execution_count": null,
   "metadata": {
    "nbgrader": {
     "grade": false,
     "grade_id": "cell-6ea62c911d56aba8",
     "locked": true,
     "schema_version": 3,
     "solution": false,
     "task": false
    }
   },
   "outputs": [],
   "source": [
    "cols_to_include = ['country', 'year', 'Life Ladder', \n",
    "                   'Positive affect','Negative affect',\n",
    "                   'Log GDP per capita', 'Social support',\n",
    "                   'Healthy life expectancy at birth', \n",
    "                   'Freedom to make life choices', \n",
    "                   'Generosity', 'Perceptions of corruption']\n",
    "renaming = {'Life Ladder': 'Happiness', \n",
    "            'Log GDP per capita': 'LogGDP', \n",
    "            'Social support': 'Support', \n",
    "            'Healthy life expectancy at birth': 'Life', \n",
    "            'Freedom to make life choices': 'Freedom', \n",
    "            'Perceptions of corruption': 'Corruption', \n",
    "            'Positive affect': 'Positive', \n",
    "            'Negative affect': 'Negative'}\n",
    "df = dfraw[cols_to_include].rename(renaming, axis=1)\n",
    "df1517 = df[df.year.isin(range(2015,2018))]\n",
    "df1517.head()"
   ]
  },
  {
   "cell_type": "markdown",
   "metadata": {
    "nbgrader": {
     "grade": false,
     "grade_id": "cell-ca6a8ff7dedb20e5",
     "locked": true,
     "schema_version": 3,
     "solution": false,
     "task": false
    }
   },
   "source": [
    "### Step 1\n",
    "\n",
    "We previously used pairwise scatterplots to examine relationships among components of the WHR dataset, and noted based on visual inspection some patterns of correlation and anticorrelation.  We can quantify those patterns by computing pairwise correlations among all the WHR variables that we are examining.\n",
    "\n",
    "Pandas provides the ```corr``` method on dataframes that computes pairwise correlations among all columns.  With no optional arguments, the method computes Pearson correlations among all pairs of columns.\n",
    "\n",
    "In the code cell below, write and evaluate the expression, ```df1517.corr(numeric_only=True)``` that computes all the pairwise correlations of the dataframe ```df1517```, and assign the result to the variable ```correlations```.  \n",
    "\n",
    "Examine the ```correlations``` dataframe after it is computed.  Note that the row and column labels are identical, such that any entry in the resulting matrix reflects the correlation between the row-column pair.  And since correlations are symmetric, i.e., corr(x,y) = corr(y,x), the matrix of correlation values is also symmetric about the diagonal."
   ]
  },
  {
   "cell_type": "code",
   "execution_count": null,
   "metadata": {
    "nbgrader": {
     "grade": false,
     "grade_id": "cell-f789f71eff4accbb",
     "locked": false,
     "schema_version": 3,
     "solution": true,
     "task": false
    }
   },
   "outputs": [],
   "source": [
    "# YOUR CODE HERE"
   ]
  },
  {
   "cell_type": "markdown",
   "metadata": {
    "nbgrader": {
     "grade": false,
     "grade_id": "cell-67d70dcde156e90b",
     "locked": true,
     "schema_version": 3,
     "solution": false,
     "task": false
    }
   },
   "source": [
    "### Step 2\n",
    "\n",
    "Visualization of the correlation matrix is useful with a heatmap.  Seaborn (sns) provides a useful heatmap function.\n",
    "\n",
    "Prior to making the heatmap, create a matplotlib figure that is bigger than the default size, since the heatmap will otherwise be a bit difficult to read.  \n",
    "- To do so, use the command ```plt.figure(figsize=(8,6))``` in the first line of the code cell below.  By creating the larger figure first, seaborn (which uses matplotlib for plotting) will insert the heatmap into the existing figure rather than creating a new one.\n",
    "\n",
    "- Next, make a call with the `sns.heatmap` function to display your computed correlation matrix.  Pass in the ```correlations``` variable, and the additional argument ```annot=True``` so that the numerical values of each entry are displayed on top of the heatmap, as well as the argument ```square=True``` so that it will make a square aspect ratio.  \n",
    "\n",
    "- Note: It is possible that your heatmap might get clipped off at the top and the bottom, because of recent changes made to matplotlib.  If you find that is the case, you should be able to fix this by first assigning the output of the heatmap function to a variable named ```ax``` (short for Axes), and then resetting the y-axis limits with the following command: ```ax.set_ylim(len(correlations), -0.5)```"
   ]
  },
  {
   "cell_type": "code",
   "execution_count": null,
   "metadata": {
    "nbgrader": {
     "grade": true,
     "grade_id": "cell-f3ee07effd0541f6",
     "locked": false,
     "points": 0,
     "schema_version": 3,
     "solution": true,
     "task": false
    },
    "scrolled": false
   },
   "outputs": [],
   "source": [
    "# Step 2\n",
    "# YOUR CODE HERE"
   ]
  },
  {
   "cell_type": "markdown",
   "metadata": {
    "nbgrader": {
     "grade": false,
     "grade_id": "cell-06a6e54685e10ab4",
     "locked": true,
     "schema_version": 3,
     "solution": false,
     "task": false
    }
   },
   "source": [
    "Note the patterns of positive and negative correlation.  We noticed previously that LogGDP, Support, and Life all showed reasonably strong positive correlation with Happiness, and that Corruption showed negative correlation.  That is explicitly shown here.  "
   ]
  },
  {
   "cell_type": "markdown",
   "metadata": {
    "nbgrader": {
     "grade": false,
     "grade_id": "cell-0e00d558b3352f13",
     "locked": true,
     "schema_version": 3,
     "solution": false,
     "task": false
    }
   },
   "source": [
    "### Step 3\n",
    "\n",
    "Seaborn provides a function called ```regplot``` (short for regression plot) that both presents a scatterplot of a pair of variables and estimates a linear regression of the data.  \n",
    "\n",
    "It is a method that estimates a relationship between two variables by fitting a straight line to data points relating those variables.  By performing a linear regression, we can estimate the line that best fits the data points.\n",
    "\n",
    "The Seaborn ```regplot``` function bundles together a scatterplot of two data variables with an estimate of the best fitting line, producing a figure showing both the data points and the regression line.  \n",
    "\n",
    "We have noted previously that Happiness and LogGDP show somewhat strong positive correlation.\n",
    "\n",
    "Use the ```regplot``` function in Seaborn to perform a plot of ```'Happiness' (on the y-axis)``` vs. ```'LogGDP' (on the x-axis)```, using the data in ```df1517```.  Note the linear fit to the data indicated by the line, and the shaded area around the line that indicates the confidence interval. "
   ]
  },
  {
   "cell_type": "code",
   "execution_count": null,
   "metadata": {
    "nbgrader": {
     "grade": true,
     "grade_id": "cell-c3b7b1f294c06dc6",
     "locked": false,
     "points": 0,
     "schema_version": 3,
     "solution": true,
     "task": false
    }
   },
   "outputs": [],
   "source": [
    "# Step 3\n",
    "# YOUR CODE HERE"
   ]
  },
  {
   "cell_type": "markdown",
   "metadata": {
    "nbgrader": {
     "grade": false,
     "grade_id": "cell-5a2b2b0ea971ccd4",
     "locked": true,
     "schema_version": 3,
     "solution": false,
     "task": false
    }
   },
   "source": [
    "### Step 4\n",
    "\n",
    "Perform another `regplot` to examine the relationship between 'Happiness' on the y-axis and 'Generosity' on the x-axis.  \n",
    "- You should note now that while there is a weak positive correlation between these quantities, the confidence interval is not as tight as in the previous plot, indicating that there is greater uncertainty in the slope and intercept of the best-fit line."
   ]
  },
  {
   "cell_type": "code",
   "execution_count": null,
   "metadata": {
    "nbgrader": {
     "grade": false,
     "grade_id": "cell-b3c6ad8a55cb21cc",
     "locked": true,
     "schema_version": 3,
     "solution": false,
     "task": false
    }
   },
   "outputs": [],
   "source": [
    "# Step 4\n",
    "# YOUR CODE HERE"
   ]
  },
  {
   "cell_type": "markdown",
   "metadata": {},
   "source": [
    "### Step 5\n",
    "\n",
    "Seaborn also provides a function called `jointplot` that creates a multi-panel figure showing both the bivariate relationship between two variables as well as their individual distributions. Read the [documentation](https://seaborn.pydata.org/generated/seaborn.jointplot.html) for that function to see the different options.\n",
    "\n",
    "By setting the `kind='reg'` parameter, the jointplot function combines a scatterplot with a regression line (just like regplot) in the central plot area, and adds histograms of each variable along the top and right sides to show their distributions.\n",
    "\n",
    "This allows you to see not only how the two variables relate to each other, but also how each variable is distributed individually.\n",
    "\n",
    "Use the `jointplot` function to create a plot of `'Happiness' (on the y-axis)` vs. `'LogGDP' (on the x-axis)`, using the data in `df1517`. The central plot should show a regression line fitted to the data, while the shaded area represents the confidence interval. The top and right margins should show histograms of the individual distributions of LogGDP and Happiness."
   ]
  },
  {
   "cell_type": "code",
   "execution_count": null,
   "metadata": {},
   "outputs": [],
   "source": [
    "# Step 5 \n",
    "# YOUR CODE HERE"
   ]
  },
  {
   "cell_type": "markdown",
   "metadata": {},
   "source": [
    "### Step 6\n",
    "\n",
    "To explore the relationship between three continuous variables — LogGDP, Happiness, and Generosity, we can use `Matplotlib’s 3D scatter plot`.\n",
    "\n",
    "- To do so, use the command ```plt.figure(figsize=(8,6))``` in the first line of the code cell below.\n",
    "\n",
    "- Add a subplot to the figure, but make sure to set the projection argument to '3d' so that it creates a 3D axes.\n",
    "\n",
    "<pre>\n",
    "axes = fig.add_subplot(projection='3d')\n",
    "</pre>\n",
    "\n",
    "- Next, use the `scatter` method of the 3D axes to create a scatter plot of the three variables. The `x-axis should represent LogGDP`, the `y-axis should represent Happiness`, and the `z-axis should represent Generosity`. Set the color of each point based on the country’s Happiness score.\n",
    "\n",
    "<pre>\n",
    "scatter_plot = axes.scatter(df1517['LogGDP'], df1517['Happiness'], df1517['Generosity'], c=df1517['Happiness'])\n",
    "</pre>\n",
    "\n",
    "- Next, set the title and axis labels for the 3D scatter plot. Use the `set` method of the axes object to set the title and labels.\n",
    "\n",
    "<pre>\n",
    "axes.set(title='3D Scatter Plot of LogGDP, Happiness, and Generosity', \n",
    "       xlabel='Log of GDP', ylabel='Happiness Score', zlabel='Generosity')\n",
    "</pre>\n",
    "\n",
    "- Finally, use the `colorbar` method of the figure to add a color bar to the plot. This will help interpret the colors of the points in relation to the Happiness score. Read the [documentation](https://matplotlib.org/stable/api/colorbar_api.html#module-matplotlib.colorbar) for the `colorbar` method to see the supported arguments.\n",
    "\n",
    "<pre>\n",
    "fig.colorbar(scatter_plot, ax=axes, pad=0.1).set_label('Happiness Score')\n",
    "plt.show()\n",
    "</pre>"
   ]
  },
  {
   "cell_type": "code",
   "execution_count": null,
   "metadata": {},
   "outputs": [],
   "source": [
    "# Step 6\n",
    "# YOUR CODE HERE"
   ]
  }
 ],
 "metadata": {
  "kernelspec": {
   "display_name": "Python 3",
   "language": "python",
   "name": "python3"
  },
  "language_info": {
   "codemirror_mode": {
    "name": "ipython",
    "version": 3
   },
   "file_extension": ".py",
   "mimetype": "text/x-python",
   "name": "python",
   "nbconvert_exporter": "python",
   "pygments_lexer": "ipython3",
   "version": "3.12.4"
  }
 },
 "nbformat": 4,
 "nbformat_minor": 2
}
