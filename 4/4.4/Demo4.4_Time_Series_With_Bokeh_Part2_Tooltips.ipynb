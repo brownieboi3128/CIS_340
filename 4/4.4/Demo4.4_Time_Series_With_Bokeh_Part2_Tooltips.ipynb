{
 "cells": [
  {
   "cell_type": "markdown",
   "metadata": {
    "nbgrader": {
     "grade": false,
     "grade_id": "cell-ec04110d0f297d84",
     "locked": true,
     "schema_version": 3,
     "solution": false,
     "task": false
    }
   },
   "source": [
    "# Demo: 4.4 - Part 2: Time Series with Bokeh\n",
    "\n",
    "- Objective: Create a time series line chart with Bokeh. Add a hover tooltip to display additional information about the data points.\n",
    "\n",
    "- No data file required\n",
    "\n",
    "- **Demonstrates**:\n",
    "    - Creating a time series line chart with Bokeh and yfinance\n",
    "    - Adding a hover tooltip to display additional information about the data points\n",
    "\n",
    "---"
   ]
  },
  {
   "cell_type": "code",
   "execution_count": 2,
   "metadata": {},
   "outputs": [],
   "source": [
    "from bokeh.plotting import figure, show, output_notebook\n",
    "from bokeh.models import ColumnDataSource, HoverTool\n",
    "from bokeh.layouts import row\n",
    "import yfinance as yf"
   ]
  },
  {
   "cell_type": "markdown",
   "metadata": {
    "nbgrader": {
     "grade": false,
     "grade_id": "cell-13f3a0d6e7f099a1",
     "locked": true,
     "schema_version": 3,
     "solution": false,
     "task": false
    }
   },
   "source": [
    "# Read the the stock price into a *pandas* Dataframe with `yfinance`"
   ]
  },
  {
   "cell_type": "code",
   "execution_count": 3,
   "metadata": {
    "nbgrader": {
     "grade": false,
     "grade_id": "cell-0d5a4f2075c40223",
     "locked": true,
     "schema_version": 3,
     "solution": false,
     "task": false
    }
   },
   "outputs": [
    {
     "name": "stdout",
     "output_type": "stream",
     "text": [
      "YF.download() has changed argument auto_adjust default to True\n"
     ]
    },
    {
     "name": "stderr",
     "output_type": "stream",
     "text": [
      "[*********************100%***********************]  1 of 1 completed\n"
     ]
    },
    {
     "data": {
      "text/html": [
       "<div>\n",
       "<style scoped>\n",
       "    .dataframe tbody tr th:only-of-type {\n",
       "        vertical-align: middle;\n",
       "    }\n",
       "\n",
       "    .dataframe tbody tr th {\n",
       "        vertical-align: top;\n",
       "    }\n",
       "\n",
       "    .dataframe thead th {\n",
       "        text-align: right;\n",
       "    }\n",
       "</style>\n",
       "<table border=\"1\" class=\"dataframe\">\n",
       "  <thead>\n",
       "    <tr style=\"text-align: right;\">\n",
       "      <th></th>\n",
       "      <th>Date</th>\n",
       "      <th>Close</th>\n",
       "      <th>High</th>\n",
       "      <th>Low</th>\n",
       "      <th>Open</th>\n",
       "      <th>Volume</th>\n",
       "    </tr>\n",
       "  </thead>\n",
       "  <tbody>\n",
       "    <tr>\n",
       "      <th>0</th>\n",
       "      <td>2024-01-02</td>\n",
       "      <td>184.532074</td>\n",
       "      <td>187.315366</td>\n",
       "      <td>182.792518</td>\n",
       "      <td>186.033057</td>\n",
       "      <td>82488700</td>\n",
       "    </tr>\n",
       "    <tr>\n",
       "      <th>1</th>\n",
       "      <td>2024-01-03</td>\n",
       "      <td>183.150375</td>\n",
       "      <td>184.770652</td>\n",
       "      <td>182.335262</td>\n",
       "      <td>183.120556</td>\n",
       "      <td>58414500</td>\n",
       "    </tr>\n",
       "    <tr>\n",
       "      <th>2</th>\n",
       "      <td>2024-01-04</td>\n",
       "      <td>180.824371</td>\n",
       "      <td>181.997322</td>\n",
       "      <td>179.800520</td>\n",
       "      <td>181.062929</td>\n",
       "      <td>71983600</td>\n",
       "    </tr>\n",
       "  </tbody>\n",
       "</table>\n",
       "</div>"
      ],
      "text/plain": [
       "        Date       Close        High         Low        Open    Volume\n",
       "0 2024-01-02  184.532074  187.315366  182.792518  186.033057  82488700\n",
       "1 2024-01-03  183.150375  184.770652  182.335262  183.120556  58414500\n",
       "2 2024-01-04  180.824371  181.997322  179.800520  181.062929  71983600"
      ]
     },
     "execution_count": 3,
     "metadata": {},
     "output_type": "execute_result"
    }
   ],
   "source": [
    "df = yf.download(tickers = \"AAPL\", start = \"2024-01-01\", end = \"2025-01-01\", multi_level_index = False).reset_index()\n",
    "df.head(3)"
   ]
  },
  {
   "cell_type": "markdown",
   "metadata": {},
   "source": [
    "# Check the data types"
   ]
  },
  {
   "cell_type": "code",
   "execution_count": 4,
   "metadata": {
    "nbgrader": {
     "grade": false,
     "grade_id": "cell-36541eba5ea95000",
     "locked": true,
     "schema_version": 3,
     "solution": false,
     "task": false
    }
   },
   "outputs": [
    {
     "data": {
      "text/plain": [
       "Date      datetime64[ns]\n",
       "Close            float64\n",
       "High             float64\n",
       "Low              float64\n",
       "Open             float64\n",
       "Volume             int64\n",
       "dtype: object"
      ]
     },
     "execution_count": 4,
     "metadata": {},
     "output_type": "execute_result"
    }
   ],
   "source": [
    "df.dtypes"
   ]
  },
  {
   "cell_type": "markdown",
   "metadata": {},
   "source": [
    "### Call the `output_notebook()` function to display the Bokeh plots in the Jupyter notebook"
   ]
  },
  {
   "cell_type": "code",
   "execution_count": 5,
   "metadata": {},
   "outputs": [
    {
     "data": {
      "text/html": [
       "    <style>\n",
       "        .bk-notebook-logo {\n",
       "            display: block;\n",
       "            width: 20px;\n",
       "            height: 20px;\n",
       "            background-image: url(data:image/png;base64,iVBORw0KGgoAAAANSUhEUgAAABQAAAAUCAYAAACNiR0NAAAABHNCSVQICAgIfAhkiAAAAAlwSFlzAAALEgAACxIB0t1+/AAAABx0RVh0U29mdHdhcmUAQWRvYmUgRmlyZXdvcmtzIENTNui8sowAAAOkSURBVDiNjZRtaJVlGMd/1/08zzln5zjP1LWcU9N0NkN8m2CYjpgQYQXqSs0I84OLIC0hkEKoPtiH3gmKoiJDU7QpLgoLjLIQCpEsNJ1vqUOdO7ppbuec5+V+rj4ctwzd8IIbbi6u+8f1539dt3A78eXC7QizUF7gyV1fD1Yqg4JWz84yffhm0qkFqBogB9rM8tZdtwVsPUhWhGcFJngGeWrPzHm5oaMmkfEg1usvLFyc8jLRqDOMru7AyC8saQr7GG7f5fvDeH7Ej8CM66nIF+8yngt6HWaKh7k49Soy9nXurCi1o3qUbS3zWfrYeQDTB/Qj6kX6Ybhw4B+bOYoLKCC9H3Nu/leUTZ1JdRWkkn2ldcCamzrcf47KKXdAJllSlxAOkRgyHsGC/zRday5Qld9DyoM4/q/rUoy/CXh3jzOu3bHUVZeU+DEn8FInkPBFlu3+nW3Nw0mk6vCDiWg8CeJaxEwuHS3+z5RgY+YBR6V1Z1nxSOfoaPa4LASWxxdNp+VWTk7+4vzaou8v8PN+xo+KY2xsw6une2frhw05CTYOmQvsEhjhWjn0bmXPjpE1+kplmmkP3suftwTubK9Vq22qKmrBhpY4jvd5afdRA3wGjFAgcnTK2s4hY0/GPNIb0nErGMCRxWOOX64Z8RAC4oCXdklmEvcL8o0BfkNK4lUg9HTl+oPlQxdNo3Mg4Nv175e/1LDGzZen30MEjRUtmXSfiTVu1kK8W4txyV6BMKlbgk3lMwYCiusNy9fVfvvwMxv8Ynl6vxoByANLTWplvuj/nF9m2+PDtt1eiHPBr1oIfhCChQMBw6Aw0UulqTKZdfVvfG7VcfIqLG9bcldL/+pdWTLxLUy8Qq38heUIjh4XlzZxzQm19lLFlr8vdQ97rjZVOLf8nclzckbcD4wxXMidpX30sFd37Fv/GtwwhzhxGVAprjbg0gCAEeIgwCZyTV2Z1REEW8O4py0wsjeloKoMr6iCY6dP92H6Vw/oTyICIthibxjm/DfN9lVz8IqtqKYLUXfoKVMVQVVJOElGjrnnUt9T9wbgp8AyYKaGlqingHZU/uG2NTZSVqwHQTWkx9hxjkpWDaCg6Ckj5qebgBVbT3V3NNXMSiWSDdGV3hrtzla7J+duwPOToIg42ChPQOQjspnSlp1V+Gjdged7+8UN5CRAV7a5EdFNwCjEaBR27b3W890TE7g24NAP/mMDXRWrGoFPQI9ls/MWO2dWFAar/xcOIImbbpA3zgAAAABJRU5ErkJggg==);\n",
       "        }\n",
       "    </style>\n",
       "    <div>\n",
       "        <a href=\"https://bokeh.org\" target=\"_blank\" class=\"bk-notebook-logo\"></a>\n",
       "        <span id=\"f8b071a8-f85d-4618-9156-e681a2700a01\">Loading BokehJS ...</span>\n",
       "    </div>\n"
      ]
     },
     "metadata": {},
     "output_type": "display_data"
    },
    {
     "data": {
      "application/javascript": "'use strict';\n(function(root) {\n  function now() {\n    return new Date();\n  }\n\n  const force = true;\n\n  if (typeof root._bokeh_onload_callbacks === \"undefined\" || force === true) {\n    root._bokeh_onload_callbacks = [];\n    root._bokeh_is_loading = undefined;\n  }\n\nconst JS_MIME_TYPE = 'application/javascript';\n  const HTML_MIME_TYPE = 'text/html';\n  const EXEC_MIME_TYPE = 'application/vnd.bokehjs_exec.v0+json';\n  const CLASS_NAME = 'output_bokeh rendered_html';\n\n  /**\n   * Render data to the DOM node\n   */\n  function render(props, node) {\n    const script = document.createElement(\"script\");\n    node.appendChild(script);\n  }\n\n  /**\n   * Handle when an output is cleared or removed\n   */\n  function handleClearOutput(event, handle) {\n    function drop(id) {\n      const view = Bokeh.index.get_by_id(id)\n      if (view != null) {\n        view.model.document.clear()\n        Bokeh.index.delete(view)\n      }\n    }\n\n    const cell = handle.cell;\n\n    const id = cell.output_area._bokeh_element_id;\n    const server_id = cell.output_area._bokeh_server_id;\n\n    // Clean up Bokeh references\n    if (id != null) {\n      drop(id)\n    }\n\n    if (server_id !== undefined) {\n      // Clean up Bokeh references\n      const cmd_clean = \"from bokeh.io.state import curstate; print(curstate().uuid_to_server['\" + server_id + \"'].get_sessions()[0].document.roots[0]._id)\";\n      cell.notebook.kernel.execute(cmd_clean, {\n        iopub: {\n          output: function(msg) {\n            const id = msg.content.text.trim()\n            drop(id)\n          }\n        }\n      });\n      // Destroy server and session\n      const cmd_destroy = \"import bokeh.io.notebook as ion; ion.destroy_server('\" + server_id + \"')\";\n      cell.notebook.kernel.execute(cmd_destroy);\n    }\n  }\n\n  /**\n   * Handle when a new output is added\n   */\n  function handleAddOutput(event, handle) {\n    const output_area = handle.output_area;\n    const output = handle.output;\n\n    // limit handleAddOutput to display_data with EXEC_MIME_TYPE content only\n    if ((output.output_type != \"display_data\") || (!Object.prototype.hasOwnProperty.call(output.data, EXEC_MIME_TYPE))) {\n      return\n    }\n\n    const toinsert = output_area.element.find(\".\" + CLASS_NAME.split(' ')[0]);\n\n    if (output.metadata[EXEC_MIME_TYPE][\"id\"] !== undefined) {\n      toinsert[toinsert.length - 1].firstChild.textContent = output.data[JS_MIME_TYPE];\n      // store reference to embed id on output_area\n      output_area._bokeh_element_id = output.metadata[EXEC_MIME_TYPE][\"id\"];\n    }\n    if (output.metadata[EXEC_MIME_TYPE][\"server_id\"] !== undefined) {\n      const bk_div = document.createElement(\"div\");\n      bk_div.innerHTML = output.data[HTML_MIME_TYPE];\n      const script_attrs = bk_div.children[0].attributes;\n      for (let i = 0; i < script_attrs.length; i++) {\n        toinsert[toinsert.length - 1].firstChild.setAttribute(script_attrs[i].name, script_attrs[i].value);\n        toinsert[toinsert.length - 1].firstChild.textContent = bk_div.children[0].textContent\n      }\n      // store reference to server id on output_area\n      output_area._bokeh_server_id = output.metadata[EXEC_MIME_TYPE][\"server_id\"];\n    }\n  }\n\n  function register_renderer(events, OutputArea) {\n\n    function append_mime(data, metadata, element) {\n      // create a DOM node to render to\n      const toinsert = this.create_output_subarea(\n        metadata,\n        CLASS_NAME,\n        EXEC_MIME_TYPE\n      );\n      this.keyboard_manager.register_events(toinsert);\n      // Render to node\n      const props = {data: data, metadata: metadata[EXEC_MIME_TYPE]};\n      render(props, toinsert[toinsert.length - 1]);\n      element.append(toinsert);\n      return toinsert\n    }\n\n    /* Handle when an output is cleared or removed */\n    events.on('clear_output.CodeCell', handleClearOutput);\n    events.on('delete.Cell', handleClearOutput);\n\n    /* Handle when a new output is added */\n    events.on('output_added.OutputArea', handleAddOutput);\n\n    /**\n     * Register the mime type and append_mime function with output_area\n     */\n    OutputArea.prototype.register_mime_type(EXEC_MIME_TYPE, append_mime, {\n      /* Is output safe? */\n      safe: true,\n      /* Index of renderer in `output_area.display_order` */\n      index: 0\n    });\n  }\n\n  // register the mime type if in Jupyter Notebook environment and previously unregistered\n  if (root.Jupyter !== undefined) {\n    const events = require('base/js/events');\n    const OutputArea = require('notebook/js/outputarea').OutputArea;\n\n    if (OutputArea.prototype.mime_types().indexOf(EXEC_MIME_TYPE) == -1) {\n      register_renderer(events, OutputArea);\n    }\n  }\n  if (typeof (root._bokeh_timeout) === \"undefined\" || force === true) {\n    root._bokeh_timeout = Date.now() + 5000;\n    root._bokeh_failed_load = false;\n  }\n\n  const NB_LOAD_WARNING = {'data': {'text/html':\n     \"<div style='background-color: #fdd'>\\n\"+\n     \"<p>\\n\"+\n     \"BokehJS does not appear to have successfully loaded. If loading BokehJS from CDN, this \\n\"+\n     \"may be due to a slow or bad network connection. Possible fixes:\\n\"+\n     \"</p>\\n\"+\n     \"<ul>\\n\"+\n     \"<li>re-rerun `output_notebook()` to attempt to load from CDN again, or</li>\\n\"+\n     \"<li>use INLINE resources instead, as so:</li>\\n\"+\n     \"</ul>\\n\"+\n     \"<code>\\n\"+\n     \"from bokeh.resources import INLINE\\n\"+\n     \"output_notebook(resources=INLINE)\\n\"+\n     \"</code>\\n\"+\n     \"</div>\"}};\n\n  function display_loaded(error = null) {\n    const el = document.getElementById(\"f8b071a8-f85d-4618-9156-e681a2700a01\");\n    if (el != null) {\n      const html = (() => {\n        if (typeof root.Bokeh === \"undefined\") {\n          if (error == null) {\n            return \"BokehJS is loading ...\";\n          } else {\n            return \"BokehJS failed to load.\";\n          }\n        } else {\n          const prefix = `BokehJS ${root.Bokeh.version}`;\n          if (error == null) {\n            return `${prefix} successfully loaded.`;\n          } else {\n            return `${prefix} <b>encountered errors</b> while loading and may not function as expected.`;\n          }\n        }\n      })();\n      el.innerHTML = html;\n\n      if (error != null) {\n        const wrapper = document.createElement(\"div\");\n        wrapper.style.overflow = \"auto\";\n        wrapper.style.height = \"5em\";\n        wrapper.style.resize = \"vertical\";\n        const content = document.createElement(\"div\");\n        content.style.fontFamily = \"monospace\";\n        content.style.whiteSpace = \"pre-wrap\";\n        content.style.backgroundColor = \"rgb(255, 221, 221)\";\n        content.textContent = error.stack ?? error.toString();\n        wrapper.append(content);\n        el.append(wrapper);\n      }\n    } else if (Date.now() < root._bokeh_timeout) {\n      setTimeout(() => display_loaded(error), 100);\n    }\n  }\n\n  function run_callbacks() {\n    try {\n      root._bokeh_onload_callbacks.forEach(function(callback) {\n        if (callback != null)\n          callback();\n      });\n    } finally {\n      delete root._bokeh_onload_callbacks\n    }\n    console.debug(\"Bokeh: all callbacks have finished\");\n  }\n\n  function load_libs(css_urls, js_urls, callback) {\n    if (css_urls == null) css_urls = [];\n    if (js_urls == null) js_urls = [];\n\n    root._bokeh_onload_callbacks.push(callback);\n    if (root._bokeh_is_loading > 0) {\n      console.debug(\"Bokeh: BokehJS is being loaded, scheduling callback at\", now());\n      return null;\n    }\n    if (js_urls == null || js_urls.length === 0) {\n      run_callbacks();\n      return null;\n    }\n    console.debug(\"Bokeh: BokehJS not loaded, scheduling load and callback at\", now());\n    root._bokeh_is_loading = css_urls.length + js_urls.length;\n\n    function on_load() {\n      root._bokeh_is_loading--;\n      if (root._bokeh_is_loading === 0) {\n        console.debug(\"Bokeh: all BokehJS libraries/stylesheets loaded\");\n        run_callbacks()\n      }\n    }\n\n    function on_error(url) {\n      console.error(\"failed to load \" + url);\n    }\n\n    for (let i = 0; i < css_urls.length; i++) {\n      const url = css_urls[i];\n      const element = document.createElement(\"link\");\n      element.onload = on_load;\n      element.onerror = on_error.bind(null, url);\n      element.rel = \"stylesheet\";\n      element.type = \"text/css\";\n      element.href = url;\n      console.debug(\"Bokeh: injecting link tag for BokehJS stylesheet: \", url);\n      document.body.appendChild(element);\n    }\n\n    for (let i = 0; i < js_urls.length; i++) {\n      const url = js_urls[i];\n      const element = document.createElement('script');\n      element.onload = on_load;\n      element.onerror = on_error.bind(null, url);\n      element.async = false;\n      element.src = url;\n      console.debug(\"Bokeh: injecting script tag for BokehJS library: \", url);\n      document.head.appendChild(element);\n    }\n  };\n\n  function inject_raw_css(css) {\n    const element = document.createElement(\"style\");\n    element.appendChild(document.createTextNode(css));\n    document.body.appendChild(element);\n  }\n\n  const js_urls = [\"https://cdn.bokeh.org/bokeh/release/bokeh-3.5.2.min.js\", \"https://cdn.bokeh.org/bokeh/release/bokeh-gl-3.5.2.min.js\", \"https://cdn.bokeh.org/bokeh/release/bokeh-widgets-3.5.2.min.js\", \"https://cdn.bokeh.org/bokeh/release/bokeh-tables-3.5.2.min.js\", \"https://cdn.bokeh.org/bokeh/release/bokeh-mathjax-3.5.2.min.js\"];\n  const css_urls = [];\n\n  const inline_js = [    function(Bokeh) {\n      Bokeh.set_log_level(\"info\");\n    },\nfunction(Bokeh) {\n    }\n  ];\n\n  function run_inline_js() {\n    if (root.Bokeh !== undefined || force === true) {\n      try {\n            for (let i = 0; i < inline_js.length; i++) {\n      inline_js[i].call(root, root.Bokeh);\n    }\n\n      } catch (error) {display_loaded(error);throw error;\n      }if (force === true) {\n        display_loaded();\n      }} else if (Date.now() < root._bokeh_timeout) {\n      setTimeout(run_inline_js, 100);\n    } else if (!root._bokeh_failed_load) {\n      console.log(\"Bokeh: BokehJS failed to load within specified timeout.\");\n      root._bokeh_failed_load = true;\n    } else if (force !== true) {\n      const cell = $(document.getElementById(\"f8b071a8-f85d-4618-9156-e681a2700a01\")).parents('.cell').data().cell;\n      cell.output_area.append_execute_result(NB_LOAD_WARNING)\n    }\n  }\n\n  if (root._bokeh_is_loading === 0) {\n    console.debug(\"Bokeh: BokehJS loaded, going straight to plotting\");\n    run_inline_js();\n  } else {\n    load_libs(css_urls, js_urls, function() {\n      console.debug(\"Bokeh: BokehJS plotting callback run at\", now());\n      run_inline_js();\n    });\n  }\n}(window));",
      "application/vnd.bokehjs_load.v0+json": ""
     },
     "metadata": {},
     "output_type": "display_data"
    }
   ],
   "source": [
    "output_notebook()"
   ]
  },
  {
   "cell_type": "markdown",
   "metadata": {},
   "source": [
    "### The `ColumnDataSource` object is used to hold the data that will be used to create the time series."
   ]
  },
  {
   "cell_type": "code",
   "execution_count": 6,
   "metadata": {},
   "outputs": [],
   "source": [
    "data_source = ColumnDataSource(df)"
   ]
  },
  {
   "cell_type": "markdown",
   "metadata": {},
   "source": [
    "## Create two hover tooltips to display the high and low prices of the stock"
   ]
  },
  {
   "cell_type": "code",
   "execution_count": 10,
   "metadata": {},
   "outputs": [],
   "source": [
    "hover_high = HoverTool(tooltips=[(\"High Stock Price\", \"@High\")])\n",
    "hover_low = HoverTool(tooltips=[(\"Low Stock Price\", \"@Low\")])"
   ]
  },
  {
   "cell_type": "markdown",
   "metadata": {},
   "source": [
    "## Create a layout with two figures side by side using the layout function from the bokeh.layouts module. The line methods should include the following arguments:\n",
    "- x\n",
    "- y\n",
    "- color\n",
    "- source\n",
    "- legend_label"
   ]
  },
  {
   "cell_type": "code",
   "execution_count": 12,
   "metadata": {
    "nbgrader": {
     "grade": false,
     "grade_id": "cell-95275e664d30bad9",
     "locked": true,
     "schema_version": 3,
     "solution": false,
     "task": false
    }
   },
   "outputs": [],
   "source": [
    "# Instantiate the figure object for 'High' and 'Low'\n",
    "fig_high = figure(title='Apple Stock Highs: Historical Price Trends', x_axis_type='datetime', tools=[hover_high])\n",
    "fig_low = figure(title='Apple Stock Lows: Historical Price Trends', x_axis_type='datetime', tools=[hover_low])\n",
    "\n",
    "# Add the 'High' Stock Price line to the first figure\n",
    "fig_high.line(x='Date', \n",
    "              y='High',\n",
    "              color='blue',\n",
    "              source=data_source,\n",
    "              legend_label='High')\n",
    "\n",
    "# Add the 'Low' Stock Price line to the second figure\n",
    "fig_low.line(x='Date', \n",
    "             y='Low',\n",
    "             color='red',\n",
    "             source=data_source,\n",
    "             legend_label='Low');"
   ]
  },
  {
   "cell_type": "markdown",
   "metadata": {},
   "source": [
    "## Use the row function from the bokeh.layouts module to create a layout with the two figures side by side."
   ]
  },
  {
   "cell_type": "code",
   "execution_count": 13,
   "metadata": {},
   "outputs": [
    {
     "data": {
      "text/html": [
       "\n",
       "  <div id=\"c6343068-3543-4e21-a6be-af539dfeff72\" data-root-id=\"p1189\" style=\"display: contents;\"></div>\n"
      ]
     },
     "metadata": {},
     "output_type": "display_data"
    },
    {
     "data": {
      "application/javascript": "(function(root) {\n  function embed_document(root) {\n  const docs_json = {\"047130e5-7b50-41cc-9273-bef0ce506bf4\":{\"version\":\"3.5.2\",\"title\":\"Bokeh Application\",\"roots\":[{\"type\":\"object\",\"name\":\"Row\",\"id\":\"p1189\",\"attributes\":{\"children\":[{\"type\":\"object\",\"name\":\"Figure\",\"id\":\"p1099\",\"attributes\":{\"x_range\":{\"type\":\"object\",\"name\":\"DataRange1d\",\"id\":\"p1100\"},\"y_range\":{\"type\":\"object\",\"name\":\"DataRange1d\",\"id\":\"p1101\"},\"x_scale\":{\"type\":\"object\",\"name\":\"LinearScale\",\"id\":\"p1109\"},\"y_scale\":{\"type\":\"object\",\"name\":\"LinearScale\",\"id\":\"p1110\"},\"title\":{\"type\":\"object\",\"name\":\"Title\",\"id\":\"p1102\",\"attributes\":{\"text\":\"Apple Stock Highs: Historical Price Trends\"}},\"renderers\":[{\"type\":\"object\",\"name\":\"GlyphRenderer\",\"id\":\"p1173\",\"attributes\":{\"data_source\":{\"type\":\"object\",\"name\":\"ColumnDataSource\",\"id\":\"p1001\",\"attributes\":{\"selected\":{\"type\":\"object\",\"name\":\"Selection\",\"id\":\"p1002\",\"attributes\":{\"indices\":[],\"line_indices\":[]}},\"selection_policy\":{\"type\":\"object\",\"name\":\"UnionRenderers\",\"id\":\"p1003\"},\"data\":{\"type\":\"map\",\"entries\":[[\"index\",{\"type\":\"ndarray\",\"array\":{\"type\":\"bytes\",\"data\":\"AAAAAAEAAAACAAAAAwAAAAQAAAAFAAAABgAAAAcAAAAIAAAACQAAAAoAAAALAAAADAAAAA0AAAAOAAAADwAAABAAAAARAAAAEgAAABMAAAAUAAAAFQAAABYAAAAXAAAAGAAAABkAAAAaAAAAGwAAABwAAAAdAAAAHgAAAB8AAAAgAAAAIQAAACIAAAAjAAAAJAAAACUAAAAmAAAAJwAAACgAAAApAAAAKgAAACsAAAAsAAAALQAAAC4AAAAvAAAAMAAAADEAAAAyAAAAMwAAADQAAAA1AAAANgAAADcAAAA4AAAAOQAAADoAAAA7AAAAPAAAAD0AAAA+AAAAPwAAAEAAAABBAAAAQgAAAEMAAABEAAAARQAAAEYAAABHAAAASAAAAEkAAABKAAAASwAAAEwAAABNAAAATgAAAE8AAABQAAAAUQAAAFIAAABTAAAAVAAAAFUAAABWAAAAVwAAAFgAAABZAAAAWgAAAFsAAABcAAAAXQAAAF4AAABfAAAAYAAAAGEAAABiAAAAYwAAAGQAAABlAAAAZgAAAGcAAABoAAAAaQAAAGoAAABrAAAAbAAAAG0AAABuAAAAbwAAAHAAAABxAAAAcgAAAHMAAAB0AAAAdQAAAHYAAAB3AAAAeAAAAHkAAAB6AAAAewAAAHwAAAB9AAAAfgAAAH8AAACAAAAAgQAAAIIAAACDAAAAhAAAAIUAAACGAAAAhwAAAIgAAACJAAAAigAAAIsAAACMAAAAjQAAAI4AAACPAAAAkAAAAJEAAACSAAAAkwAAAJQAAACVAAAAlgAAAJcAAACYAAAAmQAAAJoAAACbAAAAnAAAAJ0AAACeAAAAnwAAAKAAAAChAAAAogAAAKMAAACkAAAApQAAAKYAAACnAAAAqAAAAKkAAACqAAAAqwAAAKwAAACtAAAArgAAAK8AAACwAAAAsQAAALIAAACzAAAAtAAAALUAAAC2AAAAtwAAALgAAAC5AAAAugAAALsAAAC8AAAAvQAAAL4AAAC/AAAAwAAAAMEAAADCAAAAwwAAAMQAAADFAAAAxgAAAMcAAADIAAAAyQAAAMoAAADLAAAAzAAAAM0AAADOAAAAzwAAANAAAADRAAAA0gAAANMAAADUAAAA1QAAANYAAADXAAAA2AAAANkAAADaAAAA2wAAANwAAADdAAAA3gAAAN8AAADgAAAA4QAAAOIAAADjAAAA5AAAAOUAAADmAAAA5wAAAOgAAADpAAAA6gAAAOsAAADsAAAA7QAAAO4AAADvAAAA8AAAAPEAAADyAAAA8wAAAPQAAAD1AAAA9gAAAPcAAAD4AAAA+QAAAPoAAAD7AAAA\"},\"shape\":[252],\"dtype\":\"int32\",\"order\":\"little\"}],[\"Date\",{\"type\":\"ndarray\",\"array\":{\"type\":\"bytes\",\"data\":\"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\"},\"shape\":[252],\"dtype\":\"float64\",\"order\":\"little\"}],[\"Close\",{\"type\":\"ndarray\",\"array\":{\"type\":\"bytes\",\"data\":\"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\"},\"shape\":[252],\"dtype\":\"float64\",\"order\":\"little\"}],[\"High\",{\"type\":\"ndarray\",\"array\":{\"type\":\"bytes\",\"data\":\"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\"},\"shape\":[252],\"dtype\":\"float64\",\"order\":\"little\"}],[\"Low\",{\"type\":\"ndarray\",\"array\":{\"type\":\"bytes\",\"data\":\"0OAqT1zZZkCvKT53uspmQJUQL9udeWZA/zsWAQhjZkCiU9JeVo1mQCimp1N2tGZAgjUnu1DaZkCN3zvQxdBmQESzoXC2AmdA83O/4DR7ZkAR9RGcKmdmQCdx4QQSF2dAVv7C9S12Z0BSjxQxmuNnQLdfUACLFWhARp6V8sMlaEDr0czyo/5nQJZFr1ds2WdAypguvVqOZ0D97ejdPEtnQAd5onH+52ZAEkbBYCLXZkCzSCZOxEVmQK4kmlVjF2dAIXUNsfg0Z0AbAdfcf29nQMBBl4xrR2dAGE6w+bljZ0CznhdcMD1nQDoz2ae41GZA+dtRtaSyZkCQEB9i7Y9mQLL1qoMemmZAXkQ0D+5kZkAZENVo83lmQCooh8hHs2ZAReJDavSrZkA5dIrioXlmQMWTbpHqVmZAI5AXChJpZkDvtB349VVmQAPGjed7EWZAvhAO7ySfZUDS/wCgVBplQEKSlXBk/GRAAICBQlf2ZEDmWjpKrARlQCxOCtO5Z2VAxPP8F5pGZUBuDcC+oz5lQOOD/tK5Z2VA2xaEdKsvZUAsVCRzi5ZlQL2aeSzwhmVAx1ugc4zIZUBLt5IHMEFlQGu0OzhYKGVA0KtHpuoUZUDC/lWBDhllQKQC4/LvKWVA0yIuWK02ZUB0Js4s3xVlQAzSMjwP7mRAo5iZMTX5ZEAAAAAA2gBlQEyBQOH9BGVAh6ucFWHuZECtl8DR4fFkQECpeGtjymRAJiHHoNTrZECad9VWhaxlQGtOpdAOdmVATZbym1XvZEAAAAAgvOZkQCtcUH2NuGRAAICAS+JpZEAjgbFR3H9kQOo+wzqjhGRA+NW3brmtZECRcnT9gutkQPcr0B5RDGVAJB1EBiuJZUBDdmU0byZlQFlQpnAWCmVA1ji9o8dCZUBAgDN4prlmQDRVK4pOcmZA52NPtPiOZkD3sh2qHJNmQBsclvUhqGZA/0qiXqOwZkB2EintDABnQJUAWqhPNWdAy3DQm8FXZ0CuwWRwyqBnQGHKGk97kWdA5RL6cw+MZ0DdX169+chnQOlmhMk+tGdAgwc1vCdAZ0BJEQO8H21nQOVfIizujmdARhNIpwGcZ0CC5y4cur9nQMatvZXDqGdA3gtNDwH8Z0A2eKP4RAxoQBK3vbDzRmhA1NmogaAwaEAbfhOWqy9oQOAW9R008GdAc+71vWcfaEAKYO5On8ZpQBcID/GEXGpAtp5fh/NSakCqYqgjPYBqQMJY8SUriWpAsOpcZtAEakAirHHtUc1pQBwwPWi8vGlAj9Bg3yj9aUCdp3Te5j1qQBkOUkVwdGpAtGHpxw4zakCoAsRpuWZqQA9vn90kzGpAZ24/hntJa0BQbSOSCp1rQLFwROcR0GtAs19HQ5MzbEDfDYI6bY9sQICClaRwIGxAkJAOaj99bEDVYVoy5QltQHFe1hOo8WxArpCgty88bEBNeUGp0LBrQLcmlsMG0WtAJ9Srf/fKa0CKGlwv5L1rQORf49DiDGtAPF8KwdW8akAL+UCCKulqQAWRvbPf4GpA+J4ZqqzsakCFQurJgnxrQKr9TqVgCWtAcaNZP2Ifa0DedSGj/WpoQKSehwiwDGlA+fC7flu2aUDvA3wOLQRqQD8wPctRaGpAaSl9mAzkakDM5kfo7VBrQLB0Bvf1ZmtAu73GYqrIa0CrAA9NFeVrQGFo5gWb0WtACx21kY4ebECoeTUJyRFsQN7jgbUQ7WtABhGyp8v6a0AKLfwPv+xrQKlvCx2tDGxAlYKHcuYlbEAEcNl+E4xsQABAW7hfX2xAnPK3yOWVa0A+0oKgEyBrQBqZsLgSoWtAz6PQIzJpa0CVN5zOfQdrQMGUyQ4hCGtAAvfPDysta0C5SQLyymprQM23Qn2GrWtA3IktLWiuakCvx58S7cBqQAsWUAv+IWtA++AJ518EbEDBZDMP2GNsQDDnpR8NKmxA8+jlQH8nbEB9eq/G5fBrQGqTk5VHHWxALw+ncKBZbECt64tEqaRsQD3Qve/052tAEJPdpPfQa0BD3e7mi9prQDu/fuho9GtA8MDtuQGba0DyCcu1T9hrQAq5UrvCCmxAozZMxHlVbECdZSxn51psQPSOybIig2xArfspoIL7bECE3J9muqpsQMQ10NJwwGxAq0liD+AvbUB/fPuk7D1tQPHHuMXaAm1AKzhUeFBobECDZeCbEX1sQPnmHHobomxAzB+XCkIBbUBIZFcJ6vlsQICwAQV4oWxAYrv6lgAcbEA5skc+KXlrQAL5j8BHZ2tA7peUjvCUa0CeCFlGiZZrQLkwz3l1AmxAC1nPsilFbECUfb4vN6hrQPZJx5Or42tA6KuMu33Qa0Dc/D64FxhsQLwbZBHCAGxAzvU8xIYdbECiB0xzJ01sQBy7RHuKNGxATPsXqMkubECQONCo53lsQGoHEimbr2xAfEKoEFwibUD0QY/zszFtQCjz1DrRNm1AW7bs/MicbUBwwyFdZ9RtQFmns3WFH25ANqnoj6Y7bkAFg3pWDTpuQB0DHPyAL25AlOgH3UGibkCLoskxqr9uQK73WSMgrW5ABYZAoQa/bkCilgSgGOxuQFAwMmouMG9AcKoCKvnubkCaYcIqMtpuQEjyQQxyrW5ApNfTH36lb0BnBmDOTuBvQJpxy4CNFXBALI8QwwaZb0CZk50LME9vQEHqLmj+JG9A\"},\"shape\":[252],\"dtype\":\"float64\",\"order\":\"little\"}],[\"Open\",{\"type\":\"ndarray\",\"array\":{\"type\":\"bytes\",\"data\":\"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\"},\"shape\":[252],\"dtype\":\"float64\",\"order\":\"little\"}],[\"Volume\",{\"type\":\"ndarray\",\"array\":{\"type\":\"bytes\",\"data\":\"fK3qBKRVewPwYUoERKy2AzR5hgPIto0CxADKAtCj7QIcI2kCuAXpA5gB0gIoRqYEiOcYBAySlQOQS4YCRFkyA9SERANQc6gCgGLPAshYVAMYX04DmBLeA/BMHAbADycE8J2XAhhqLwPQB3ECgAOxAoyKfQJckl4DZJhBA4Rz5gMYYvYCQN8yA2SxeQJo6h0D1HiwAkiWbwI01zwDLPrqAmicJQiAVmEE1L7bBPCaqwW0kBYEbAxHBKhqiQTsp5UD+NyQA/zpIANcklgEvHRAB+iggQRghEoD/CsvA7QyVAYoAD0ErF88A3CtawOUspcD/BXqA/SSwQJctfACtLfXAtB2MwMgtoECXBE7AgDBhwL0gPYCXJ9tBdQwDgaYAWIEYL5kBNCwCAPUAJICxB4KBLAy3gII4/MCmEPgAlx1AwMALqwCuC4QBNAV7gP8yAAD9JqdBSSaugnk4K4EyJebBEyErwLYa+sCTIcGAwBRSwSAdh8DADgyBJBaJgNU7XUCVOakAhiXhQK0sRACzEkKA8jPKQIkux0D4MApA/wk+gIc03oE9Cr8Aihb1AIAXjoDaGJ0AhxNKgMUGswFNDVGChxKzwssRNUFzPwtBCwulgWE1sMEVOMiBZgXsA7Yy88ErGJhA1BV8gOcePcCbIDrBNSsmQP4tnUDyDc6AvDRmQNMlIUDRJXdAnSfuwPIZ9sD5GwpA4StuwP8s5MCbAdrA6ib7wMM/u0CSIDfAuy+YQLApq4D4CoQAxTJegL4EioCGG97Akx++wKIsLkDWNlKBrgqIAdU7yYE8C7JAwyfzwIA8oMCRENEAqTBoQKYRIACsDjEAuiTpAK42GwCeFPOAbx6EgLEvJoCNCtOAtjz0gGIUSQCaKFEAvwGGANQkygDCNn9AsjynALotC4CWODiAuAVAQRYNxMDXFioAlgtPAKIAzEC2LiJA8SRtgJ07JEDdAD7A1yr/hLQMzoDBJ2YAlyUhQIcCC8CEDIHAkw+QAMIp8UD2Lf1ASh5BwKsUDgC+M1aAlQU5gE8jwACzAuuAWCb5AF0jWACKAfcA5gNCAIIcvcBDH3EAiQzKQKIwFACGNYdA3yx2gF8E1ACPKUmAnBsHAK0Ps4CtDXWAxwL5AN0zK0CxPGsAUyJQANk+IIC4NlIAmD0gALcbWgCuA/lAvx7rQL0QdsCsNqpAliMKAJApRgCjIWCAuxmRgJgn18FmLG9AiAl/wF4l7IBjIPeAsj4UAKcPqUCbN5iAsiZMgLwSqkCcEYzAijJsQIcJfQB5Oj5AdDMFAPwog8D1E1iA3z9oAOEmcoIsHRvAoyIYgHsmp8BZEqGAnyQHgJ8bVoC\"},\"shape\":[252],\"dtype\":\"int32\",\"order\":\"little\"}]]}}},\"view\":{\"type\":\"object\",\"name\":\"CDSView\",\"id\":\"p1174\",\"attributes\":{\"filter\":{\"type\":\"object\",\"name\":\"AllIndices\",\"id\":\"p1175\"}}},\"glyph\":{\"type\":\"object\",\"name\":\"Line\",\"id\":\"p1170\",\"attributes\":{\"x\":{\"type\":\"field\",\"field\":\"Date\"},\"y\":{\"type\":\"field\",\"field\":\"High\"},\"line_color\":\"blue\"}},\"nonselection_glyph\":{\"type\":\"object\",\"name\":\"Line\",\"id\":\"p1171\",\"attributes\":{\"x\":{\"type\":\"field\",\"field\":\"Date\"},\"y\":{\"type\":\"field\",\"field\":\"High\"},\"line_color\":\"blue\",\"line_alpha\":0.1}},\"muted_glyph\":{\"type\":\"object\",\"name\":\"Line\",\"id\":\"p1172\",\"attributes\":{\"x\":{\"type\":\"field\",\"field\":\"Date\"},\"y\":{\"type\":\"field\",\"field\":\"High\"},\"line_color\":\"blue\",\"line_alpha\":0.2}}}}],\"toolbar\":{\"type\":\"object\",\"name\":\"Toolbar\",\"id\":\"p1108\",\"attributes\":{\"tools\":[{\"type\":\"object\",\"name\":\"HoverTool\",\"id\":\"p1007\",\"attributes\":{\"renderers\":\"auto\",\"tooltips\":[[\"High Stock Price\",\"@High\"]]}}]}},\"left\":[{\"type\":\"object\",\"name\":\"LinearAxis\",\"id\":\"p1128\",\"attributes\":{\"ticker\":{\"type\":\"object\",\"name\":\"BasicTicker\",\"id\":\"p1129\",\"attributes\":{\"mantissas\":[1,2,5]}},\"formatter\":{\"type\":\"object\",\"name\":\"BasicTickFormatter\",\"id\":\"p1130\"},\"major_label_policy\":{\"type\":\"object\",\"name\":\"AllLabels\",\"id\":\"p1131\"}}}],\"below\":[{\"type\":\"object\",\"name\":\"DatetimeAxis\",\"id\":\"p1111\",\"attributes\":{\"ticker\":{\"type\":\"object\",\"name\":\"DatetimeTicker\",\"id\":\"p1112\",\"attributes\":{\"num_minor_ticks\":5,\"tickers\":[{\"type\":\"object\",\"name\":\"AdaptiveTicker\",\"id\":\"p1113\",\"attributes\":{\"num_minor_ticks\":0,\"mantissas\":[1,2,5],\"max_interval\":500.0}},{\"type\":\"object\",\"name\":\"AdaptiveTicker\",\"id\":\"p1114\",\"attributes\":{\"num_minor_ticks\":0,\"base\":60,\"mantissas\":[1,2,5,10,15,20,30],\"min_interval\":1000.0,\"max_interval\":1800000.0}},{\"type\":\"object\",\"name\":\"AdaptiveTicker\",\"id\":\"p1115\",\"attributes\":{\"num_minor_ticks\":0,\"base\":24,\"mantissas\":[1,2,4,6,8,12],\"min_interval\":3600000.0,\"max_interval\":43200000.0}},{\"type\":\"object\",\"name\":\"DaysTicker\",\"id\":\"p1116\",\"attributes\":{\"days\":[1,2,3,4,5,6,7,8,9,10,11,12,13,14,15,16,17,18,19,20,21,22,23,24,25,26,27,28,29,30,31]}},{\"type\":\"object\",\"name\":\"DaysTicker\",\"id\":\"p1117\",\"attributes\":{\"days\":[1,4,7,10,13,16,19,22,25,28]}},{\"type\":\"object\",\"name\":\"DaysTicker\",\"id\":\"p1118\",\"attributes\":{\"days\":[1,8,15,22]}},{\"type\":\"object\",\"name\":\"DaysTicker\",\"id\":\"p1119\",\"attributes\":{\"days\":[1,15]}},{\"type\":\"object\",\"name\":\"MonthsTicker\",\"id\":\"p1120\",\"attributes\":{\"months\":[0,1,2,3,4,5,6,7,8,9,10,11]}},{\"type\":\"object\",\"name\":\"MonthsTicker\",\"id\":\"p1121\",\"attributes\":{\"months\":[0,2,4,6,8,10]}},{\"type\":\"object\",\"name\":\"MonthsTicker\",\"id\":\"p1122\",\"attributes\":{\"months\":[0,4,8]}},{\"type\":\"object\",\"name\":\"MonthsTicker\",\"id\":\"p1123\",\"attributes\":{\"months\":[0,6]}},{\"type\":\"object\",\"name\":\"YearsTicker\",\"id\":\"p1124\"}]}},\"formatter\":{\"type\":\"object\",\"name\":\"DatetimeTickFormatter\",\"id\":\"p1125\"},\"major_label_policy\":{\"type\":\"object\",\"name\":\"AllLabels\",\"id\":\"p1126\"}}}],\"center\":[{\"type\":\"object\",\"name\":\"Grid\",\"id\":\"p1127\",\"attributes\":{\"axis\":{\"id\":\"p1111\"}}},{\"type\":\"object\",\"name\":\"Grid\",\"id\":\"p1132\",\"attributes\":{\"dimension\":1,\"axis\":{\"id\":\"p1128\"}}},{\"type\":\"object\",\"name\":\"Legend\",\"id\":\"p1176\",\"attributes\":{\"items\":[{\"type\":\"object\",\"name\":\"LegendItem\",\"id\":\"p1177\",\"attributes\":{\"label\":{\"type\":\"value\",\"value\":\"High\"},\"renderers\":[{\"id\":\"p1173\"}]}}]}}]}},{\"type\":\"object\",\"name\":\"Figure\",\"id\":\"p1133\",\"attributes\":{\"x_range\":{\"type\":\"object\",\"name\":\"DataRange1d\",\"id\":\"p1134\"},\"y_range\":{\"type\":\"object\",\"name\":\"DataRange1d\",\"id\":\"p1135\"},\"x_scale\":{\"type\":\"object\",\"name\":\"LinearScale\",\"id\":\"p1143\"},\"y_scale\":{\"type\":\"object\",\"name\":\"LinearScale\",\"id\":\"p1144\"},\"title\":{\"type\":\"object\",\"name\":\"Title\",\"id\":\"p1136\",\"attributes\":{\"text\":\"Apple Stock Lows: Historical Price Trends\"}},\"renderers\":[{\"type\":\"object\",\"name\":\"GlyphRenderer\",\"id\":\"p1184\",\"attributes\":{\"data_source\":{\"id\":\"p1001\"},\"view\":{\"type\":\"object\",\"name\":\"CDSView\",\"id\":\"p1185\",\"attributes\":{\"filter\":{\"type\":\"object\",\"name\":\"AllIndices\",\"id\":\"p1186\"}}},\"glyph\":{\"type\":\"object\",\"name\":\"Line\",\"id\":\"p1181\",\"attributes\":{\"x\":{\"type\":\"field\",\"field\":\"Date\"},\"y\":{\"type\":\"field\",\"field\":\"Low\"},\"line_color\":\"red\"}},\"nonselection_glyph\":{\"type\":\"object\",\"name\":\"Line\",\"id\":\"p1182\",\"attributes\":{\"x\":{\"type\":\"field\",\"field\":\"Date\"},\"y\":{\"type\":\"field\",\"field\":\"Low\"},\"line_color\":\"red\",\"line_alpha\":0.1}},\"muted_glyph\":{\"type\":\"object\",\"name\":\"Line\",\"id\":\"p1183\",\"attributes\":{\"x\":{\"type\":\"field\",\"field\":\"Date\"},\"y\":{\"type\":\"field\",\"field\":\"Low\"},\"line_color\":\"red\",\"line_alpha\":0.2}}}}],\"toolbar\":{\"type\":\"object\",\"name\":\"Toolbar\",\"id\":\"p1142\",\"attributes\":{\"tools\":[{\"type\":\"object\",\"name\":\"HoverTool\",\"id\":\"p1008\",\"attributes\":{\"renderers\":\"auto\",\"tooltips\":[[\"Low Stock Price\",\"@Low\"]]}}]}},\"left\":[{\"type\":\"object\",\"name\":\"LinearAxis\",\"id\":\"p1162\",\"attributes\":{\"ticker\":{\"type\":\"object\",\"name\":\"BasicTicker\",\"id\":\"p1163\",\"attributes\":{\"mantissas\":[1,2,5]}},\"formatter\":{\"type\":\"object\",\"name\":\"BasicTickFormatter\",\"id\":\"p1164\"},\"major_label_policy\":{\"type\":\"object\",\"name\":\"AllLabels\",\"id\":\"p1165\"}}}],\"below\":[{\"type\":\"object\",\"name\":\"DatetimeAxis\",\"id\":\"p1145\",\"attributes\":{\"ticker\":{\"type\":\"object\",\"name\":\"DatetimeTicker\",\"id\":\"p1146\",\"attributes\":{\"num_minor_ticks\":5,\"tickers\":[{\"type\":\"object\",\"name\":\"AdaptiveTicker\",\"id\":\"p1147\",\"attributes\":{\"num_minor_ticks\":0,\"mantissas\":[1,2,5],\"max_interval\":500.0}},{\"type\":\"object\",\"name\":\"AdaptiveTicker\",\"id\":\"p1148\",\"attributes\":{\"num_minor_ticks\":0,\"base\":60,\"mantissas\":[1,2,5,10,15,20,30],\"min_interval\":1000.0,\"max_interval\":1800000.0}},{\"type\":\"object\",\"name\":\"AdaptiveTicker\",\"id\":\"p1149\",\"attributes\":{\"num_minor_ticks\":0,\"base\":24,\"mantissas\":[1,2,4,6,8,12],\"min_interval\":3600000.0,\"max_interval\":43200000.0}},{\"type\":\"object\",\"name\":\"DaysTicker\",\"id\":\"p1150\",\"attributes\":{\"days\":[1,2,3,4,5,6,7,8,9,10,11,12,13,14,15,16,17,18,19,20,21,22,23,24,25,26,27,28,29,30,31]}},{\"type\":\"object\",\"name\":\"DaysTicker\",\"id\":\"p1151\",\"attributes\":{\"days\":[1,4,7,10,13,16,19,22,25,28]}},{\"type\":\"object\",\"name\":\"DaysTicker\",\"id\":\"p1152\",\"attributes\":{\"days\":[1,8,15,22]}},{\"type\":\"object\",\"name\":\"DaysTicker\",\"id\":\"p1153\",\"attributes\":{\"days\":[1,15]}},{\"type\":\"object\",\"name\":\"MonthsTicker\",\"id\":\"p1154\",\"attributes\":{\"months\":[0,1,2,3,4,5,6,7,8,9,10,11]}},{\"type\":\"object\",\"name\":\"MonthsTicker\",\"id\":\"p1155\",\"attributes\":{\"months\":[0,2,4,6,8,10]}},{\"type\":\"object\",\"name\":\"MonthsTicker\",\"id\":\"p1156\",\"attributes\":{\"months\":[0,4,8]}},{\"type\":\"object\",\"name\":\"MonthsTicker\",\"id\":\"p1157\",\"attributes\":{\"months\":[0,6]}},{\"type\":\"object\",\"name\":\"YearsTicker\",\"id\":\"p1158\"}]}},\"formatter\":{\"type\":\"object\",\"name\":\"DatetimeTickFormatter\",\"id\":\"p1159\"},\"major_label_policy\":{\"type\":\"object\",\"name\":\"AllLabels\",\"id\":\"p1160\"}}}],\"center\":[{\"type\":\"object\",\"name\":\"Grid\",\"id\":\"p1161\",\"attributes\":{\"axis\":{\"id\":\"p1145\"}}},{\"type\":\"object\",\"name\":\"Grid\",\"id\":\"p1166\",\"attributes\":{\"dimension\":1,\"axis\":{\"id\":\"p1162\"}}},{\"type\":\"object\",\"name\":\"Legend\",\"id\":\"p1187\",\"attributes\":{\"items\":[{\"type\":\"object\",\"name\":\"LegendItem\",\"id\":\"p1188\",\"attributes\":{\"label\":{\"type\":\"value\",\"value\":\"Low\"},\"renderers\":[{\"id\":\"p1184\"}]}}]}}]}}]}}]}};\n  const render_items = [{\"docid\":\"047130e5-7b50-41cc-9273-bef0ce506bf4\",\"roots\":{\"p1189\":\"c6343068-3543-4e21-a6be-af539dfeff72\"},\"root_ids\":[\"p1189\"]}];\n  void root.Bokeh.embed.embed_items_notebook(docs_json, render_items);\n  }\n  if (root.Bokeh !== undefined) {\n    embed_document(root);\n  } else {\n    let attempts = 0;\n    const timer = setInterval(function(root) {\n      if (root.Bokeh !== undefined) {\n        clearInterval(timer);\n        embed_document(root);\n      } else {\n        attempts++;\n        if (attempts > 100) {\n          clearInterval(timer);\n          console.log(\"Bokeh: ERROR: Unable to run BokehJS code because BokehJS library is missing\");\n        }\n      }\n    }, 10, root)\n  }\n})(window);",
      "application/vnd.bokehjs_exec.v0+json": ""
     },
     "metadata": {
      "application/vnd.bokehjs_exec.v0+json": {
       "id": "p1189"
      }
     },
     "output_type": "display_data"
    }
   ],
   "source": [
    "# Use row layout to place figures side by side\n",
    "final_figure = row(fig_high, fig_low)\n",
    "\n",
    "# Display the layout\n",
    "show(final_figure)\n"
   ]
  }
 ],
 "metadata": {
  "kernelspec": {
   "display_name": "Python 3",
   "language": "python",
   "name": "python3"
  },
  "language_info": {
   "codemirror_mode": {
    "name": "ipython",
    "version": 3
   },
   "file_extension": ".py",
   "mimetype": "text/x-python",
   "name": "python",
   "nbconvert_exporter": "python",
   "pygments_lexer": "ipython3",
   "version": "3.12.5"
  }
 },
 "nbformat": 4,
 "nbformat_minor": 2
}
