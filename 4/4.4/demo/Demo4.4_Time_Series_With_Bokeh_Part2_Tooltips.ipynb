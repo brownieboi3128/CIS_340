{
 "cells": [
  {
   "cell_type": "markdown",
   "metadata": {
    "nbgrader": {
     "grade": false,
     "grade_id": "cell-ec04110d0f297d84",
     "locked": true,
     "schema_version": 3,
     "solution": false,
     "task": false
    }
   },
   "source": [
    "# Demo: 4.4 - Part 2: Time Series with Bokeh\n",
    "\n",
    "- Objective: Create a time series line chart with Bokeh. Add a hover tooltip to display additional information about the data points.\n",
    "\n",
    "- No data file required\n",
    "\n",
    "- **Demonstrates**:\n",
    "    - Creating a time series line chart with Bokeh and yfinance\n",
    "    - Adding a hover tooltip to display additional information about the data points\n",
    "\n",
    "---"
   ]
  },
  {
   "cell_type": "code",
   "execution_count": 3,
   "metadata": {},
   "outputs": [],
   "source": [
    "from bokeh.plotting import figure, show, output_notebook\n",
    "from bokeh.models import ColumnDataSource, HoverTool\n",
    "from bokeh.layouts import row\n",
    "import yfinance as yf"
   ]
  },
  {
   "cell_type": "markdown",
   "metadata": {
    "nbgrader": {
     "grade": false,
     "grade_id": "cell-13f3a0d6e7f099a1",
     "locked": true,
     "schema_version": 3,
     "solution": false,
     "task": false
    }
   },
   "source": [
    "# Read the the stock price into a *pandas* Dataframe with `yfinance`"
   ]
  },
  {
   "cell_type": "code",
   "execution_count": 4,
   "metadata": {
    "nbgrader": {
     "grade": false,
     "grade_id": "cell-0d5a4f2075c40223",
     "locked": true,
     "schema_version": 3,
     "solution": false,
     "task": false
    }
   },
   "outputs": [
    {
     "name": "stdout",
     "output_type": "stream",
     "text": [
      "YF.download() has changed argument auto_adjust default to True\n"
     ]
    },
    {
     "name": "stderr",
     "output_type": "stream",
     "text": [
      "[*********************100%***********************]  1 of 1 completed\n"
     ]
    },
    {
     "data": {
      "text/html": [
       "<div>\n",
       "<style scoped>\n",
       "    .dataframe tbody tr th:only-of-type {\n",
       "        vertical-align: middle;\n",
       "    }\n",
       "\n",
       "    .dataframe tbody tr th {\n",
       "        vertical-align: top;\n",
       "    }\n",
       "\n",
       "    .dataframe thead th {\n",
       "        text-align: right;\n",
       "    }\n",
       "</style>\n",
       "<table border=\"1\" class=\"dataframe\">\n",
       "  <thead>\n",
       "    <tr style=\"text-align: right;\">\n",
       "      <th></th>\n",
       "      <th>Date</th>\n",
       "      <th>Close</th>\n",
       "      <th>High</th>\n",
       "      <th>Low</th>\n",
       "      <th>Open</th>\n",
       "      <th>Volume</th>\n",
       "    </tr>\n",
       "  </thead>\n",
       "  <tbody>\n",
       "    <tr>\n",
       "      <th>0</th>\n",
       "      <td>2024-01-02</td>\n",
       "      <td>184.532074</td>\n",
       "      <td>187.315366</td>\n",
       "      <td>182.792518</td>\n",
       "      <td>186.033057</td>\n",
       "      <td>82488700</td>\n",
       "    </tr>\n",
       "    <tr>\n",
       "      <th>1</th>\n",
       "      <td>2024-01-03</td>\n",
       "      <td>183.150375</td>\n",
       "      <td>184.770652</td>\n",
       "      <td>182.335262</td>\n",
       "      <td>183.120556</td>\n",
       "      <td>58414500</td>\n",
       "    </tr>\n",
       "    <tr>\n",
       "      <th>2</th>\n",
       "      <td>2024-01-04</td>\n",
       "      <td>180.824356</td>\n",
       "      <td>181.997307</td>\n",
       "      <td>179.800504</td>\n",
       "      <td>181.062914</td>\n",
       "      <td>71983600</td>\n",
       "    </tr>\n",
       "  </tbody>\n",
       "</table>\n",
       "</div>"
      ],
      "text/plain": [
       "        Date       Close        High         Low        Open    Volume\n",
       "0 2024-01-02  184.532074  187.315366  182.792518  186.033057  82488700\n",
       "1 2024-01-03  183.150375  184.770652  182.335262  183.120556  58414500\n",
       "2 2024-01-04  180.824356  181.997307  179.800504  181.062914  71983600"
      ]
     },
     "execution_count": 4,
     "metadata": {},
     "output_type": "execute_result"
    }
   ],
   "source": [
    "df = yf.download(tickers = \"AAPL\", start = \"2024-01-01\", end = \"2025-01-01\", multi_level_index = False).reset_index()\n",
    "df.head(3)"
   ]
  },
  {
   "cell_type": "markdown",
   "metadata": {},
   "source": [
    "# Check the data types"
   ]
  },
  {
   "cell_type": "code",
   "execution_count": 5,
   "metadata": {
    "nbgrader": {
     "grade": false,
     "grade_id": "cell-36541eba5ea95000",
     "locked": true,
     "schema_version": 3,
     "solution": false,
     "task": false
    }
   },
   "outputs": [
    {
     "data": {
      "text/plain": [
       "Date      datetime64[ns]\n",
       "Close            float64\n",
       "High             float64\n",
       "Low              float64\n",
       "Open             float64\n",
       "Volume             int64\n",
       "dtype: object"
      ]
     },
     "execution_count": 5,
     "metadata": {},
     "output_type": "execute_result"
    }
   ],
   "source": [
    "df.dtypes"
   ]
  },
  {
   "cell_type": "markdown",
   "metadata": {},
   "source": [
    "### Call the `output_notebook()` function to display the Bokeh plots in the Jupyter notebook"
   ]
  },
  {
   "cell_type": "code",
   "execution_count": 6,
   "metadata": {},
   "outputs": [
    {
     "data": {
      "text/html": [
       "    <style>\n",
       "        .bk-notebook-logo {\n",
       "            display: block;\n",
       "            width: 20px;\n",
       "            height: 20px;\n",
       "            background-image: url(data:image/png;base64,iVBORw0KGgoAAAANSUhEUgAAABQAAAAUCAYAAACNiR0NAAAABHNCSVQICAgIfAhkiAAAAAlwSFlzAAALEgAACxIB0t1+/AAAABx0RVh0U29mdHdhcmUAQWRvYmUgRmlyZXdvcmtzIENTNui8sowAAAOkSURBVDiNjZRtaJVlGMd/1/08zzln5zjP1LWcU9N0NkN8m2CYjpgQYQXqSs0I84OLIC0hkEKoPtiH3gmKoiJDU7QpLgoLjLIQCpEsNJ1vqUOdO7ppbuec5+V+rj4ctwzd8IIbbi6u+8f1539dt3A78eXC7QizUF7gyV1fD1Yqg4JWz84yffhm0qkFqBogB9rM8tZdtwVsPUhWhGcFJngGeWrPzHm5oaMmkfEg1usvLFyc8jLRqDOMru7AyC8saQr7GG7f5fvDeH7Ej8CM66nIF+8yngt6HWaKh7k49Soy9nXurCi1o3qUbS3zWfrYeQDTB/Qj6kX6Ybhw4B+bOYoLKCC9H3Nu/leUTZ1JdRWkkn2ldcCamzrcf47KKXdAJllSlxAOkRgyHsGC/zRday5Qld9DyoM4/q/rUoy/CXh3jzOu3bHUVZeU+DEn8FInkPBFlu3+nW3Nw0mk6vCDiWg8CeJaxEwuHS3+z5RgY+YBR6V1Z1nxSOfoaPa4LASWxxdNp+VWTk7+4vzaou8v8PN+xo+KY2xsw6une2frhw05CTYOmQvsEhjhWjn0bmXPjpE1+kplmmkP3suftwTubK9Vq22qKmrBhpY4jvd5afdRA3wGjFAgcnTK2s4hY0/GPNIb0nErGMCRxWOOX64Z8RAC4oCXdklmEvcL8o0BfkNK4lUg9HTl+oPlQxdNo3Mg4Nv175e/1LDGzZen30MEjRUtmXSfiTVu1kK8W4txyV6BMKlbgk3lMwYCiusNy9fVfvvwMxv8Ynl6vxoByANLTWplvuj/nF9m2+PDtt1eiHPBr1oIfhCChQMBw6Aw0UulqTKZdfVvfG7VcfIqLG9bcldL/+pdWTLxLUy8Qq38heUIjh4XlzZxzQm19lLFlr8vdQ97rjZVOLf8nclzckbcD4wxXMidpX30sFd37Fv/GtwwhzhxGVAprjbg0gCAEeIgwCZyTV2Z1REEW8O4py0wsjeloKoMr6iCY6dP92H6Vw/oTyICIthibxjm/DfN9lVz8IqtqKYLUXfoKVMVQVVJOElGjrnnUt9T9wbgp8AyYKaGlqingHZU/uG2NTZSVqwHQTWkx9hxjkpWDaCg6Ckj5qebgBVbT3V3NNXMSiWSDdGV3hrtzla7J+duwPOToIg42ChPQOQjspnSlp1V+Gjdged7+8UN5CRAV7a5EdFNwCjEaBR27b3W890TE7g24NAP/mMDXRWrGoFPQI9ls/MWO2dWFAar/xcOIImbbpA3zgAAAABJRU5ErkJggg==);\n",
       "        }\n",
       "    </style>\n",
       "    <div>\n",
       "        <a href=\"https://bokeh.org\" target=\"_blank\" class=\"bk-notebook-logo\"></a>\n",
       "        <span id=\"fc46a5d6-14e6-48a2-8873-810fcb27565e\">Loading BokehJS ...</span>\n",
       "    </div>\n"
      ]
     },
     "metadata": {},
     "output_type": "display_data"
    },
    {
     "data": {
      "application/javascript": "'use strict';\n(function(root) {\n  function now() {\n    return new Date();\n  }\n\n  const force = true;\n\n  if (typeof root._bokeh_onload_callbacks === \"undefined\" || force === true) {\n    root._bokeh_onload_callbacks = [];\n    root._bokeh_is_loading = undefined;\n  }\n\nconst JS_MIME_TYPE = 'application/javascript';\n  const HTML_MIME_TYPE = 'text/html';\n  const EXEC_MIME_TYPE = 'application/vnd.bokehjs_exec.v0+json';\n  const CLASS_NAME = 'output_bokeh rendered_html';\n\n  /**\n   * Render data to the DOM node\n   */\n  function render(props, node) {\n    const script = document.createElement(\"script\");\n    node.appendChild(script);\n  }\n\n  /**\n   * Handle when an output is cleared or removed\n   */\n  function handleClearOutput(event, handle) {\n    function drop(id) {\n      const view = Bokeh.index.get_by_id(id)\n      if (view != null) {\n        view.model.document.clear()\n        Bokeh.index.delete(view)\n      }\n    }\n\n    const cell = handle.cell;\n\n    const id = cell.output_area._bokeh_element_id;\n    const server_id = cell.output_area._bokeh_server_id;\n\n    // Clean up Bokeh references\n    if (id != null) {\n      drop(id)\n    }\n\n    if (server_id !== undefined) {\n      // Clean up Bokeh references\n      const cmd_clean = \"from bokeh.io.state import curstate; print(curstate().uuid_to_server['\" + server_id + \"'].get_sessions()[0].document.roots[0]._id)\";\n      cell.notebook.kernel.execute(cmd_clean, {\n        iopub: {\n          output: function(msg) {\n            const id = msg.content.text.trim()\n            drop(id)\n          }\n        }\n      });\n      // Destroy server and session\n      const cmd_destroy = \"import bokeh.io.notebook as ion; ion.destroy_server('\" + server_id + \"')\";\n      cell.notebook.kernel.execute(cmd_destroy);\n    }\n  }\n\n  /**\n   * Handle when a new output is added\n   */\n  function handleAddOutput(event, handle) {\n    const output_area = handle.output_area;\n    const output = handle.output;\n\n    // limit handleAddOutput to display_data with EXEC_MIME_TYPE content only\n    if ((output.output_type != \"display_data\") || (!Object.prototype.hasOwnProperty.call(output.data, EXEC_MIME_TYPE))) {\n      return\n    }\n\n    const toinsert = output_area.element.find(\".\" + CLASS_NAME.split(' ')[0]);\n\n    if (output.metadata[EXEC_MIME_TYPE][\"id\"] !== undefined) {\n      toinsert[toinsert.length - 1].firstChild.textContent = output.data[JS_MIME_TYPE];\n      // store reference to embed id on output_area\n      output_area._bokeh_element_id = output.metadata[EXEC_MIME_TYPE][\"id\"];\n    }\n    if (output.metadata[EXEC_MIME_TYPE][\"server_id\"] !== undefined) {\n      const bk_div = document.createElement(\"div\");\n      bk_div.innerHTML = output.data[HTML_MIME_TYPE];\n      const script_attrs = bk_div.children[0].attributes;\n      for (let i = 0; i < script_attrs.length; i++) {\n        toinsert[toinsert.length - 1].firstChild.setAttribute(script_attrs[i].name, script_attrs[i].value);\n        toinsert[toinsert.length - 1].firstChild.textContent = bk_div.children[0].textContent\n      }\n      // store reference to server id on output_area\n      output_area._bokeh_server_id = output.metadata[EXEC_MIME_TYPE][\"server_id\"];\n    }\n  }\n\n  function register_renderer(events, OutputArea) {\n\n    function append_mime(data, metadata, element) {\n      // create a DOM node to render to\n      const toinsert = this.create_output_subarea(\n        metadata,\n        CLASS_NAME,\n        EXEC_MIME_TYPE\n      );\n      this.keyboard_manager.register_events(toinsert);\n      // Render to node\n      const props = {data: data, metadata: metadata[EXEC_MIME_TYPE]};\n      render(props, toinsert[toinsert.length - 1]);\n      element.append(toinsert);\n      return toinsert\n    }\n\n    /* Handle when an output is cleared or removed */\n    events.on('clear_output.CodeCell', handleClearOutput);\n    events.on('delete.Cell', handleClearOutput);\n\n    /* Handle when a new output is added */\n    events.on('output_added.OutputArea', handleAddOutput);\n\n    /**\n     * Register the mime type and append_mime function with output_area\n     */\n    OutputArea.prototype.register_mime_type(EXEC_MIME_TYPE, append_mime, {\n      /* Is output safe? */\n      safe: true,\n      /* Index of renderer in `output_area.display_order` */\n      index: 0\n    });\n  }\n\n  // register the mime type if in Jupyter Notebook environment and previously unregistered\n  if (root.Jupyter !== undefined) {\n    const events = require('base/js/events');\n    const OutputArea = require('notebook/js/outputarea').OutputArea;\n\n    if (OutputArea.prototype.mime_types().indexOf(EXEC_MIME_TYPE) == -1) {\n      register_renderer(events, OutputArea);\n    }\n  }\n  if (typeof (root._bokeh_timeout) === \"undefined\" || force === true) {\n    root._bokeh_timeout = Date.now() + 5000;\n    root._bokeh_failed_load = false;\n  }\n\n  const NB_LOAD_WARNING = {'data': {'text/html':\n     \"<div style='background-color: #fdd'>\\n\"+\n     \"<p>\\n\"+\n     \"BokehJS does not appear to have successfully loaded. If loading BokehJS from CDN, this \\n\"+\n     \"may be due to a slow or bad network connection. Possible fixes:\\n\"+\n     \"</p>\\n\"+\n     \"<ul>\\n\"+\n     \"<li>re-rerun `output_notebook()` to attempt to load from CDN again, or</li>\\n\"+\n     \"<li>use INLINE resources instead, as so:</li>\\n\"+\n     \"</ul>\\n\"+\n     \"<code>\\n\"+\n     \"from bokeh.resources import INLINE\\n\"+\n     \"output_notebook(resources=INLINE)\\n\"+\n     \"</code>\\n\"+\n     \"</div>\"}};\n\n  function display_loaded(error = null) {\n    const el = document.getElementById(\"fc46a5d6-14e6-48a2-8873-810fcb27565e\");\n    if (el != null) {\n      const html = (() => {\n        if (typeof root.Bokeh === \"undefined\") {\n          if (error == null) {\n            return \"BokehJS is loading ...\";\n          } else {\n            return \"BokehJS failed to load.\";\n          }\n        } else {\n          const prefix = `BokehJS ${root.Bokeh.version}`;\n          if (error == null) {\n            return `${prefix} successfully loaded.`;\n          } else {\n            return `${prefix} <b>encountered errors</b> while loading and may not function as expected.`;\n          }\n        }\n      })();\n      el.innerHTML = html;\n\n      if (error != null) {\n        const wrapper = document.createElement(\"div\");\n        wrapper.style.overflow = \"auto\";\n        wrapper.style.height = \"5em\";\n        wrapper.style.resize = \"vertical\";\n        const content = document.createElement(\"div\");\n        content.style.fontFamily = \"monospace\";\n        content.style.whiteSpace = \"pre-wrap\";\n        content.style.backgroundColor = \"rgb(255, 221, 221)\";\n        content.textContent = error.stack ?? error.toString();\n        wrapper.append(content);\n        el.append(wrapper);\n      }\n    } else if (Date.now() < root._bokeh_timeout) {\n      setTimeout(() => display_loaded(error), 100);\n    }\n  }\n\n  function run_callbacks() {\n    try {\n      root._bokeh_onload_callbacks.forEach(function(callback) {\n        if (callback != null)\n          callback();\n      });\n    } finally {\n      delete root._bokeh_onload_callbacks\n    }\n    console.debug(\"Bokeh: all callbacks have finished\");\n  }\n\n  function load_libs(css_urls, js_urls, callback) {\n    if (css_urls == null) css_urls = [];\n    if (js_urls == null) js_urls = [];\n\n    root._bokeh_onload_callbacks.push(callback);\n    if (root._bokeh_is_loading > 0) {\n      console.debug(\"Bokeh: BokehJS is being loaded, scheduling callback at\", now());\n      return null;\n    }\n    if (js_urls == null || js_urls.length === 0) {\n      run_callbacks();\n      return null;\n    }\n    console.debug(\"Bokeh: BokehJS not loaded, scheduling load and callback at\", now());\n    root._bokeh_is_loading = css_urls.length + js_urls.length;\n\n    function on_load() {\n      root._bokeh_is_loading--;\n      if (root._bokeh_is_loading === 0) {\n        console.debug(\"Bokeh: all BokehJS libraries/stylesheets loaded\");\n        run_callbacks()\n      }\n    }\n\n    function on_error(url) {\n      console.error(\"failed to load \" + url);\n    }\n\n    for (let i = 0; i < css_urls.length; i++) {\n      const url = css_urls[i];\n      const element = document.createElement(\"link\");\n      element.onload = on_load;\n      element.onerror = on_error.bind(null, url);\n      element.rel = \"stylesheet\";\n      element.type = \"text/css\";\n      element.href = url;\n      console.debug(\"Bokeh: injecting link tag for BokehJS stylesheet: \", url);\n      document.body.appendChild(element);\n    }\n\n    for (let i = 0; i < js_urls.length; i++) {\n      const url = js_urls[i];\n      const element = document.createElement('script');\n      element.onload = on_load;\n      element.onerror = on_error.bind(null, url);\n      element.async = false;\n      element.src = url;\n      console.debug(\"Bokeh: injecting script tag for BokehJS library: \", url);\n      document.head.appendChild(element);\n    }\n  };\n\n  function inject_raw_css(css) {\n    const element = document.createElement(\"style\");\n    element.appendChild(document.createTextNode(css));\n    document.body.appendChild(element);\n  }\n\n  const js_urls = [\"https://cdn.bokeh.org/bokeh/release/bokeh-3.5.2.min.js\", \"https://cdn.bokeh.org/bokeh/release/bokeh-gl-3.5.2.min.js\", \"https://cdn.bokeh.org/bokeh/release/bokeh-widgets-3.5.2.min.js\", \"https://cdn.bokeh.org/bokeh/release/bokeh-tables-3.5.2.min.js\", \"https://cdn.bokeh.org/bokeh/release/bokeh-mathjax-3.5.2.min.js\"];\n  const css_urls = [];\n\n  const inline_js = [    function(Bokeh) {\n      Bokeh.set_log_level(\"info\");\n    },\nfunction(Bokeh) {\n    }\n  ];\n\n  function run_inline_js() {\n    if (root.Bokeh !== undefined || force === true) {\n      try {\n            for (let i = 0; i < inline_js.length; i++) {\n      inline_js[i].call(root, root.Bokeh);\n    }\n\n      } catch (error) {display_loaded(error);throw error;\n      }if (force === true) {\n        display_loaded();\n      }} else if (Date.now() < root._bokeh_timeout) {\n      setTimeout(run_inline_js, 100);\n    } else if (!root._bokeh_failed_load) {\n      console.log(\"Bokeh: BokehJS failed to load within specified timeout.\");\n      root._bokeh_failed_load = true;\n    } else if (force !== true) {\n      const cell = $(document.getElementById(\"fc46a5d6-14e6-48a2-8873-810fcb27565e\")).parents('.cell').data().cell;\n      cell.output_area.append_execute_result(NB_LOAD_WARNING)\n    }\n  }\n\n  if (root._bokeh_is_loading === 0) {\n    console.debug(\"Bokeh: BokehJS loaded, going straight to plotting\");\n    run_inline_js();\n  } else {\n    load_libs(css_urls, js_urls, function() {\n      console.debug(\"Bokeh: BokehJS plotting callback run at\", now());\n      run_inline_js();\n    });\n  }\n}(window));",
      "application/vnd.bokehjs_load.v0+json": ""
     },
     "metadata": {},
     "output_type": "display_data"
    }
   ],
   "source": [
    "output_notebook()"
   ]
  },
  {
   "cell_type": "markdown",
   "metadata": {},
   "source": [
    "### The `ColumnDataSource` object is used to hold the data that will be used to create the time series."
   ]
  },
  {
   "cell_type": "code",
   "execution_count": 7,
   "metadata": {},
   "outputs": [],
   "source": [
    "data_source = ColumnDataSource(df)"
   ]
  },
  {
   "cell_type": "markdown",
   "metadata": {},
   "source": [
    "## Create two hover tooltips to display the high and low prices of the stock"
   ]
  },
  {
   "cell_type": "code",
   "execution_count": 8,
   "metadata": {},
   "outputs": [],
   "source": [
    "hover_high = HoverTool(tooltips=[(\"High Stock Price\", \"@High\")])\n",
    "hover_low = HoverTool(tooltips=[(\"Low Stock Price\", \"@Low\")])"
   ]
  },
  {
   "cell_type": "markdown",
   "metadata": {},
   "source": [
    "## Create a layout with two figures side by side using the layout function from the bokeh.layouts module. The line methods should include the following arguments:\n",
    "- x\n",
    "- y\n",
    "- color\n",
    "- source\n",
    "- legend_label"
   ]
  },
  {
   "cell_type": "code",
   "execution_count": 15,
   "metadata": {
    "nbgrader": {
     "grade": false,
     "grade_id": "cell-95275e664d30bad9",
     "locked": true,
     "schema_version": 3,
     "solution": false,
     "task": false
    }
   },
   "outputs": [],
   "source": [
    "# Instantiate the figure object for 'High' and 'Low'\n",
    "fig_high = figure(title='Apple Stock Highs: Historical Price Trends', x_axis_type='datetime', tools=[hover_high])\n",
    "fig_low = figure(title='Apple Stock Lows: Historical Price Trends', x_axis_type='datetime', tools=[hover_low])\n",
    "\n",
    "# Add the 'High' Stock Price line to the first figure\n",
    "fig_high.line(x='Date', \n",
    "              y='High',\n",
    "              color='blue',\n",
    "              source=data_source,\n",
    "              legend_label='High')\n",
    "fig_high.scatter(x='Date',\n",
    "                 y='High',\n",
    "                 color='purple',\n",
    "                 source=data_source,\n",
    "                 size=3)\n",
    "\n",
    "# Add the 'Low' Stock Price line to the second figure\n",
    "fig_low.line(x='Date', \n",
    "             y='Low',\n",
    "             color='red',\n",
    "             source=data_source,\n",
    "             legend_label='Low');"
   ]
  },
  {
   "cell_type": "markdown",
   "metadata": {},
   "source": [
    "## Use the row function from the bokeh.layouts module to create a layout with the two figures side by side."
   ]
  },
  {
   "cell_type": "code",
   "execution_count": 16,
   "metadata": {},
   "outputs": [
    {
     "data": {
      "text/html": [
       "\n",
       "  <div id=\"a894f60e-ead5-4d2d-9bf2-6bc64f1562c6\" data-root-id=\"p1426\" style=\"display: contents;\"></div>\n"
      ]
     },
     "metadata": {},
     "output_type": "display_data"
    },
    {
     "data": {
      "application/javascript": "(function(root) {\n  function embed_document(root) {\n  const docs_json = {\"1a8a2b12-51f2-4b59-9609-bb6dc00f98e2\":{\"version\":\"3.5.2\",\"title\":\"Bokeh Application\",\"roots\":[{\"type\":\"object\",\"name\":\"Row\",\"id\":\"p1426\",\"attributes\":{\"children\":[{\"type\":\"object\",\"name\":\"Figure\",\"id\":\"p1327\",\"attributes\":{\"x_range\":{\"type\":\"object\",\"name\":\"DataRange1d\",\"id\":\"p1328\"},\"y_range\":{\"type\":\"object\",\"name\":\"DataRange1d\",\"id\":\"p1329\"},\"x_scale\":{\"type\":\"object\",\"name\":\"LinearScale\",\"id\":\"p1337\"},\"y_scale\":{\"type\":\"object\",\"name\":\"LinearScale\",\"id\":\"p1338\"},\"title\":{\"type\":\"object\",\"name\":\"Title\",\"id\":\"p1330\",\"attributes\":{\"text\":\"Apple Stock Highs: Historical Price Trends\"}},\"renderers\":[{\"type\":\"object\",\"name\":\"GlyphRenderer\",\"id\":\"p1401\",\"attributes\":{\"data_source\":{\"type\":\"object\",\"name\":\"ColumnDataSource\",\"id\":\"p1001\",\"attributes\":{\"selected\":{\"type\":\"object\",\"name\":\"Selection\",\"id\":\"p1002\",\"attributes\":{\"indices\":[],\"line_indices\":[]}},\"selection_policy\":{\"type\":\"object\",\"name\":\"UnionRenderers\",\"id\":\"p1003\"},\"data\":{\"type\":\"map\",\"entries\":[[\"index\",{\"type\":\"ndarray\",\"array\":{\"type\":\"bytes\",\"data\":\"AAAAAAEAAAACAAAAAwAAAAQAAAAFAAAABgAAAAcAAAAIAAAACQAAAAoAAAALAAAADAAAAA0AAAAOAAAADwAAABAAAAARAAAAEgAAABMAAAAUAAAAFQAAABYAAAAXAAAAGAAAABkAAAAaAAAAGwAAABwAAAAdAAAAHgAAAB8AAAAgAAAAIQAAACIAAAAjAAAAJAAAACUAAAAmAAAAJwAAACgAAAApAAAAKgAAACsAAAAsAAAALQAAAC4AAAAvAAAAMAAAADEAAAAyAAAAMwAAADQAAAA1AAAANgAAADcAAAA4AAAAOQAAADoAAAA7AAAAPAAAAD0AAAA+AAAAPwAAAEAAAABBAAAAQgAAAEMAAABEAAAARQAAAEYAAABHAAAASAAAAEkAAABKAAAASwAAAEwAAABNAAAATgAAAE8AAABQAAAAUQAAAFIAAABTAAAAVAAAAFUAAABWAAAAVwAAAFgAAABZAAAAWgAAAFsAAABcAAAAXQAAAF4AAABfAAAAYAAAAGEAAABiAAAAYwAAAGQAAABlAAAAZgAAAGcAAABoAAAAaQAAAGoAAABrAAAAbAAAAG0AAABuAAAAbwAAAHAAAABxAAAAcgAAAHMAAAB0AAAAdQAAAHYAAAB3AAAAeAAAAHkAAAB6AAAAewAAAHwAAAB9AAAAfgAAAH8AAACAAAAAgQAAAIIAAACDAAAAhAAAAIUAAACGAAAAhwAAAIgAAACJAAAAigAAAIsAAACMAAAAjQAAAI4AAACPAAAAkAAAAJEAAACSAAAAkwAAAJQAAACVAAAAlgAAAJcAAACYAAAAmQAAAJoAAACbAAAAnAAAAJ0AAACeAAAAnwAAAKAAAAChAAAAogAAAKMAAACkAAAApQAAAKYAAACnAAAAqAAAAKkAAACqAAAAqwAAAKwAAACtAAAArgAAAK8AAACwAAAAsQAAALIAAACzAAAAtAAAALUAAAC2AAAAtwAAALgAAAC5AAAAugAAALsAAAC8AAAAvQAAAL4AAAC/AAAAwAAAAMEAAADCAAAAwwAAAMQAAADFAAAAxgAAAMcAAADIAAAAyQAAAMoAAADLAAAAzAAAAM0AAADOAAAAzwAAANAAAADRAAAA0gAAANMAAADUAAAA1QAAANYAAADXAAAA2AAAANkAAADaAAAA2wAAANwAAADdAAAA3gAAAN8AAADgAAAA4QAAAOIAAADjAAAA5AAAAOUAAADmAAAA5wAAAOgAAADpAAAA6gAAAOsAAADsAAAA7QAAAO4AAADvAAAA8AAAAPEAAADyAAAA8wAAAPQAAAD1AAAA9gAAAPcAAAD4AAAA+QAAAPoAAAD7AAAA\"},\"shape\":[252],\"dtype\":\"int32\",\"order\":\"little\"}],[\"Date\",{\"type\":\"ndarray\",\"array\":{\"type\":\"bytes\",\"data\":\"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\"},\"shape\":[252],\"dtype\":\"float64\",\"order\":\"little\"}],[\"Close\",{\"type\":\"ndarray\",\"array\":{\"type\":\"bytes\",\"data\":\"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\"},\"shape\":[252],\"dtype\":\"float64\",\"order\":\"little\"}],[\"High\",{\"type\":\"ndarray\",\"array\":{\"type\":\"bytes\",\"data\":\"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\"},\"shape\":[252],\"dtype\":\"float64\",\"order\":\"little\"}],[\"Low\",{\"type\":\"ndarray\",\"array\":{\"type\":\"bytes\",\"data\":\"0OAqT1zZZkCvKT53uspmQPByXbudeWZAWZHoIAhjZkCiU9JeVo1mQCimp1N2tGZAtxWLm1DaZkCN3zvQxdBmQESzoXC2AmdA83O/4DR7ZkAR9RGcKmdmQELXZyQSF2dAmNFNFS52Z0DesM9QmuNnQPkIieCKFWhARp6V8sMlaECHivnSo/5nQJZFr1ds2WdAypguvVqOZ0DvwgG+PEtnQIixpFH+52ZA3f87gCLXZkCzSCZOxEVmQCGE+ZRjF2dApfif0Pg0Z0B0Z7T8f29nQMBBl4xrR2dA5m6LGbpjZ0DFYCc8MD1nQPp2lce41GZA1u2dlaSyZkCQEB9i7Y9mQLL1qoMemmZAXkQ0D+5kZkDCeYqI83lmQLEF3KhHs2ZAd+ZQSvSrZkA5hKHCoXlmQMWTbpHqVmZAI5AXChJpZkDfaeYX9lVmQAPGjed7EWZAnFpLzySfZUAT7Oi/VBplQEKSlXBk/GRAAICBQlf2ZECfd+RprARlQACAK7O5Z2VAxPP8F5pGZUBuDcC+oz5lQACAK7O5Z2VAxoMVlKsvZUAsVCRzi5ZlQIa060vwhmVAToBEVIzIZUBLt5IHMEFlQGu0OzhYKGVA9ooExuoUZUDC/lWBDhllQKQC4/LvKWVA0yIuWK02ZUB0Js4s3xVlQEM5FVwP7mRAo5iZMTX5ZEAAAAAA2gBlQEyBQOH9BGVAh6ucFWHuZECtl8DR4fFkQECpeGtjymRAFCSFv9TrZECad9VWhaxlQGtOpdAOdmVATZbym1XvZEAAAAAgvOZkQCtcUH2NuGRA0NJSa+JpZEDeW+Yx3H9kQOo+wzqjhGRAnQdAT7mtZECRcnT9gutkQGBdyj5RDGVAAABX5iqJZUBXVXUUbyZlQMAenZAWCmVAsedXw8dCZUBAgDN4prlmQPQs8alOcmZAtuIe1PiOZkCi3uPJHJNmQBsclvUhqGZAUKP0HqOwZkB2EintDABnQCQtKMhPNWdAmuk1fMFXZ0CuwWRwyqBnQCoF/W57kWdA5RL6cw+MZ0DdX169+chnQBheaek+tGdAgwc1vCdAZ0BJEQO8H21nQOL/+0vujmdARhNIpwGcZ0CC5y4cur9nQMatvZXDqGdAesyM7wD8Z0DgG9vYRAxoQBK3vbDzRmhA1NmogaAwaEAbfhOWqy9oQG88Hv4z8GdAc+71vWcfaEBhJwFun8ZpQIP6c9GEXGpAVn+NZ/NSakCqYqgjPYBqQMJY8SUriWpAsOpcZtAEakAirHHtUc1pQHIxeki8vGlA09Zyvyj9aUCdp3Te5j1qQIEYD2VwdGpAtGHpxw4zakCoAsRpuWZqQLS1X74kzGpAZ24/hntJa0BQbSOSCp1rQLFwROcR0GtAs19HQ5MzbEDfDYI6bY9sQICClaRwIGxAkJAOaj99bEDVYVoy5QltQHmAfzOo8WxArpCgty88bEBNeUGp0LBrQLcmlsMG0WtAJ9Srf/fKa0DE7rAP5L1rQORf49DiDGtAPF8KwdW8akCIQ4piKulqQAWRvbPf4GpASPZ9iqzsakCFQurJgnxrQDS4HMVgCWtAcaNZP2Ifa0DedSGj/WpoQKSehwiwDGlA+fC7flu2aUDoECjvLARqQD8wPctRaGpAaSl9mAzkakC1kpvI7VBrQLB0Bvf1ZmtAu73GYqrIa0CrAA9NFeVrQA8NfyWb0WtACx21kY4ebECtUmbpyBFsQIHnatUQ7WtABhGyp8v6a0AKLfwPv+xrQK89fP2sDGxAlYKHcuYlbEAEcNl+E4xsQABAW7hfX2xACsnyqOWVa0A+0oKgEyBrQFRH0JgSoWtA0a+pQzJpa0Aq9zevfQdrQO7ISy4hCGtA6XV/8Cota0DvxG7SymprQNn+LJ2GrWtA3IktLWiuakCvx58S7cBqQAsWUAv+IWtA++AJ518EbEDBZDMP2GNsQDDnpR8NKmxA8+jlQH8nbEB9eq/G5fBrQGqTk5VHHWxALw+ncKBZbEBvIxZkqaRsQE5dZA/152tAc8BVxPfQa0BD3e7mi9prQDu/fuho9GtAfA77mQGba0DyCcu1T9hrQAq5UrvCCmxAdVQJ5HlVbECdZSxn51psQPSOybIig2xArfspoIL7bECE3J9muqpsQMQ10NJwwGxAh8yE798vbUB/fPuk7D1tQPHHuMXaAm1AKzhUeFBobEAtp5O7EX1sQPnmHHobomxAzB+XCkIBbUBIZFcJ6vlsQEdFFeV3oWxAYrv6lgAcbECDt6geKXlrQAL5j8BHZ2tA7peUjvCUa0CeCFlGiZZrQLkwz3l1AmxAC1nPsilFbECUfb4vN6hrQPZJx5Or42tA6KuMu33Qa0Dc/D64FxhsQLwbZBHCAGxAzvU8xIYdbECiB0xzJ01sQBy7RHuKNGxATPsXqMkubECQONCo53lsQGoHEimbr2xAfEKoEFwibUD0QY/zszFtQCjz1DrRNm1AW7bs/MicbUBwwyFdZ9RtQFmns3WFH25ANqnoj6Y7bkAFg3pWDTpuQB0DHPyAL25AlOgH3UGibkCLoskxqr9uQK73WSMgrW5ABYZAoQa/bkCilgSgGOxuQFAwMmouMG9AcKoCKvnubkCaYcIqMtpuQEjyQQxyrW5ApNfTH36lb0BnBmDOTuBvQJpxy4CNFXBALI8QwwaZb0CZk50LME9vQEHqLmj+JG9A\"},\"shape\":[252],\"dtype\":\"float64\",\"order\":\"little\"}],[\"Open\",{\"type\":\"ndarray\",\"array\":{\"type\":\"bytes\",\"data\":\"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\"},\"shape\":[252],\"dtype\":\"float64\",\"order\":\"little\"}],[\"Volume\",{\"type\":\"ndarray\",\"array\":{\"type\":\"bytes\",\"data\":\"fK3qBKRVewPwYUoERKy2AzR5hgPIto0CxADKAtCj7QIcI2kCuAXpA5gB0gIoRqYEiOcYBAySlQOQS4YCRFkyA9SERANQc6gCgGLPAshYVAMYX04DmBLeA/BMHAbADycE8J2XAhhqLwPQB3ECgAOxAoyKfQJckl4DZJhBA4Rz5gMYYvYCQN8yA2SxeQJo6h0D1HiwAkiWbwI01zwDLPrqAmicJQiAVmEE1L7bBPCaqwW0kBYEbAxHBKhqiQTsp5UD+NyQA/zpIANcklgEvHRAB+iggQRghEoD/CsvA7QyVAYoAD0ErF88A3CtawOUspcD/BXqA/SSwQJctfACtLfXAtB2MwMgtoECXBE7AgDBhwL0gPYCXJ9tBdQwDgaYAWIEYL5kBNCwCAPUAJICxB4KBLAy3gII4/MCmEPgAlx1AwMALqwCuC4QBNAV7gP8yAAD9JqdBSSaugnk4K4EyJebBEyErwLYa+sCTIcGAwBRSwSAdh8DADgyBJBaJgNU7XUCVOakAhiXhQK0sRACzEkKA8jPKQIkux0D4MApA/wk+gIc03oE9Cr8Aihb1AIAXjoDaGJ0AhxNKgMUGswFNDVGChxKzwssRNUFzPwtBCwulgWE1sMEVOMiBZgXsA7Yy88ErGJhA1BV8gOcePcCbIDrBNSsmQP4tnUDyDc6AvDRmQNMlIUDRJXdAnSfuwPIZ9sD5GwpA4StuwP8s5MCbAdrA6ib7wMM/u0CSIDfAuy+YQLApq4D4CoQAxTJegL4EioCGG97Akx++wKIsLkDWNlKBrgqIAdU7yYE8C7JAwyfzwIA8oMCRENEAqTBoQKYRIACsDjEAuiTpAK42GwCeFPOAbx6EgLEvJoCNCtOAtjz0gGIUSQCaKFEAvwGGANQkygDCNn9AsjynALotC4CWODiAuAVAQRYNxMDXFioAlgtPAKIAzEC2LiJA8SRtgJ07JEDdAD7A1yr/hLQMzoDBJ2YAlyUhQIcCC8CEDIHAkw+QAMIp8UD2Lf1ASh5BwKsUDgC+M1aAlQU5gE8jwACzAuuAWCb5AF0jWACKAfcA5gNCAIIcvcBDH3EAiQzKQKIwFACGNYdA3yx2gF8E1ACPKUmAnBsHAK0Ps4CtDXWAxwL5AN0zK0CxPGsAUyJQANk+IIC4NlIAmD0gALcbWgCuA/lAvx7rQL0QdsCsNqpAliMKAJApRgCjIWCAuxmRgJgn18FmLG9AiAl/wF4l7IBjIPeAsj4UAKcPqUCbN5iAsiZMgLwSqkCcEYzAijJsQIcJfQB5Oj5AdDMFAPwog8D1E1iA3z9oAOEmcoIsHRvAoyIYgHsmp8BZEqGAnyQHgJ8bVoC\"},\"shape\":[252],\"dtype\":\"int32\",\"order\":\"little\"}]]}}},\"view\":{\"type\":\"object\",\"name\":\"CDSView\",\"id\":\"p1402\",\"attributes\":{\"filter\":{\"type\":\"object\",\"name\":\"AllIndices\",\"id\":\"p1403\"}}},\"glyph\":{\"type\":\"object\",\"name\":\"Line\",\"id\":\"p1398\",\"attributes\":{\"x\":{\"type\":\"field\",\"field\":\"Date\"},\"y\":{\"type\":\"field\",\"field\":\"High\"},\"line_color\":\"blue\"}},\"nonselection_glyph\":{\"type\":\"object\",\"name\":\"Line\",\"id\":\"p1399\",\"attributes\":{\"x\":{\"type\":\"field\",\"field\":\"Date\"},\"y\":{\"type\":\"field\",\"field\":\"High\"},\"line_color\":\"blue\",\"line_alpha\":0.1}},\"muted_glyph\":{\"type\":\"object\",\"name\":\"Line\",\"id\":\"p1400\",\"attributes\":{\"x\":{\"type\":\"field\",\"field\":\"Date\"},\"y\":{\"type\":\"field\",\"field\":\"High\"},\"line_color\":\"blue\",\"line_alpha\":0.2}}}},{\"type\":\"object\",\"name\":\"GlyphRenderer\",\"id\":\"p1412\",\"attributes\":{\"data_source\":{\"id\":\"p1001\"},\"view\":{\"type\":\"object\",\"name\":\"CDSView\",\"id\":\"p1413\",\"attributes\":{\"filter\":{\"type\":\"object\",\"name\":\"AllIndices\",\"id\":\"p1414\"}}},\"glyph\":{\"type\":\"object\",\"name\":\"Scatter\",\"id\":\"p1409\",\"attributes\":{\"x\":{\"type\":\"field\",\"field\":\"Date\"},\"y\":{\"type\":\"field\",\"field\":\"High\"},\"size\":{\"type\":\"value\",\"value\":3},\"line_color\":{\"type\":\"value\",\"value\":\"purple\"},\"fill_color\":{\"type\":\"value\",\"value\":\"purple\"},\"hatch_color\":{\"type\":\"value\",\"value\":\"purple\"}}},\"nonselection_glyph\":{\"type\":\"object\",\"name\":\"Scatter\",\"id\":\"p1410\",\"attributes\":{\"x\":{\"type\":\"field\",\"field\":\"Date\"},\"y\":{\"type\":\"field\",\"field\":\"High\"},\"size\":{\"type\":\"value\",\"value\":3},\"line_color\":{\"type\":\"value\",\"value\":\"purple\"},\"line_alpha\":{\"type\":\"value\",\"value\":0.1},\"fill_color\":{\"type\":\"value\",\"value\":\"purple\"},\"fill_alpha\":{\"type\":\"value\",\"value\":0.1},\"hatch_color\":{\"type\":\"value\",\"value\":\"purple\"},\"hatch_alpha\":{\"type\":\"value\",\"value\":0.1}}},\"muted_glyph\":{\"type\":\"object\",\"name\":\"Scatter\",\"id\":\"p1411\",\"attributes\":{\"x\":{\"type\":\"field\",\"field\":\"Date\"},\"y\":{\"type\":\"field\",\"field\":\"High\"},\"size\":{\"type\":\"value\",\"value\":3},\"line_color\":{\"type\":\"value\",\"value\":\"purple\"},\"line_alpha\":{\"type\":\"value\",\"value\":0.2},\"fill_color\":{\"type\":\"value\",\"value\":\"purple\"},\"fill_alpha\":{\"type\":\"value\",\"value\":0.2},\"hatch_color\":{\"type\":\"value\",\"value\":\"purple\"},\"hatch_alpha\":{\"type\":\"value\",\"value\":0.2}}}}}],\"toolbar\":{\"type\":\"object\",\"name\":\"Toolbar\",\"id\":\"p1336\",\"attributes\":{\"tools\":[{\"type\":\"object\",\"name\":\"HoverTool\",\"id\":\"p1004\",\"attributes\":{\"renderers\":\"auto\",\"tooltips\":[[\"High Stock Price\",\"@High\"]]}}]}},\"left\":[{\"type\":\"object\",\"name\":\"LinearAxis\",\"id\":\"p1356\",\"attributes\":{\"ticker\":{\"type\":\"object\",\"name\":\"BasicTicker\",\"id\":\"p1357\",\"attributes\":{\"mantissas\":[1,2,5]}},\"formatter\":{\"type\":\"object\",\"name\":\"BasicTickFormatter\",\"id\":\"p1358\"},\"major_label_policy\":{\"type\":\"object\",\"name\":\"AllLabels\",\"id\":\"p1359\"}}}],\"below\":[{\"type\":\"object\",\"name\":\"DatetimeAxis\",\"id\":\"p1339\",\"attributes\":{\"ticker\":{\"type\":\"object\",\"name\":\"DatetimeTicker\",\"id\":\"p1340\",\"attributes\":{\"num_minor_ticks\":5,\"tickers\":[{\"type\":\"object\",\"name\":\"AdaptiveTicker\",\"id\":\"p1341\",\"attributes\":{\"num_minor_ticks\":0,\"mantissas\":[1,2,5],\"max_interval\":500.0}},{\"type\":\"object\",\"name\":\"AdaptiveTicker\",\"id\":\"p1342\",\"attributes\":{\"num_minor_ticks\":0,\"base\":60,\"mantissas\":[1,2,5,10,15,20,30],\"min_interval\":1000.0,\"max_interval\":1800000.0}},{\"type\":\"object\",\"name\":\"AdaptiveTicker\",\"id\":\"p1343\",\"attributes\":{\"num_minor_ticks\":0,\"base\":24,\"mantissas\":[1,2,4,6,8,12],\"min_interval\":3600000.0,\"max_interval\":43200000.0}},{\"type\":\"object\",\"name\":\"DaysTicker\",\"id\":\"p1344\",\"attributes\":{\"days\":[1,2,3,4,5,6,7,8,9,10,11,12,13,14,15,16,17,18,19,20,21,22,23,24,25,26,27,28,29,30,31]}},{\"type\":\"object\",\"name\":\"DaysTicker\",\"id\":\"p1345\",\"attributes\":{\"days\":[1,4,7,10,13,16,19,22,25,28]}},{\"type\":\"object\",\"name\":\"DaysTicker\",\"id\":\"p1346\",\"attributes\":{\"days\":[1,8,15,22]}},{\"type\":\"object\",\"name\":\"DaysTicker\",\"id\":\"p1347\",\"attributes\":{\"days\":[1,15]}},{\"type\":\"object\",\"name\":\"MonthsTicker\",\"id\":\"p1348\",\"attributes\":{\"months\":[0,1,2,3,4,5,6,7,8,9,10,11]}},{\"type\":\"object\",\"name\":\"MonthsTicker\",\"id\":\"p1349\",\"attributes\":{\"months\":[0,2,4,6,8,10]}},{\"type\":\"object\",\"name\":\"MonthsTicker\",\"id\":\"p1350\",\"attributes\":{\"months\":[0,4,8]}},{\"type\":\"object\",\"name\":\"MonthsTicker\",\"id\":\"p1351\",\"attributes\":{\"months\":[0,6]}},{\"type\":\"object\",\"name\":\"YearsTicker\",\"id\":\"p1352\"}]}},\"formatter\":{\"type\":\"object\",\"name\":\"DatetimeTickFormatter\",\"id\":\"p1353\"},\"major_label_policy\":{\"type\":\"object\",\"name\":\"AllLabels\",\"id\":\"p1354\"}}}],\"center\":[{\"type\":\"object\",\"name\":\"Grid\",\"id\":\"p1355\",\"attributes\":{\"axis\":{\"id\":\"p1339\"}}},{\"type\":\"object\",\"name\":\"Grid\",\"id\":\"p1360\",\"attributes\":{\"dimension\":1,\"axis\":{\"id\":\"p1356\"}}},{\"type\":\"object\",\"name\":\"Legend\",\"id\":\"p1404\",\"attributes\":{\"items\":[{\"type\":\"object\",\"name\":\"LegendItem\",\"id\":\"p1405\",\"attributes\":{\"label\":{\"type\":\"value\",\"value\":\"High\"},\"renderers\":[{\"id\":\"p1401\"}]}}]}}]}},{\"type\":\"object\",\"name\":\"Figure\",\"id\":\"p1361\",\"attributes\":{\"x_range\":{\"type\":\"object\",\"name\":\"DataRange1d\",\"id\":\"p1362\"},\"y_range\":{\"type\":\"object\",\"name\":\"DataRange1d\",\"id\":\"p1363\"},\"x_scale\":{\"type\":\"object\",\"name\":\"LinearScale\",\"id\":\"p1371\"},\"y_scale\":{\"type\":\"object\",\"name\":\"LinearScale\",\"id\":\"p1372\"},\"title\":{\"type\":\"object\",\"name\":\"Title\",\"id\":\"p1364\",\"attributes\":{\"text\":\"Apple Stock Lows: Historical Price Trends\"}},\"renderers\":[{\"type\":\"object\",\"name\":\"GlyphRenderer\",\"id\":\"p1421\",\"attributes\":{\"data_source\":{\"id\":\"p1001\"},\"view\":{\"type\":\"object\",\"name\":\"CDSView\",\"id\":\"p1422\",\"attributes\":{\"filter\":{\"type\":\"object\",\"name\":\"AllIndices\",\"id\":\"p1423\"}}},\"glyph\":{\"type\":\"object\",\"name\":\"Line\",\"id\":\"p1418\",\"attributes\":{\"x\":{\"type\":\"field\",\"field\":\"Date\"},\"y\":{\"type\":\"field\",\"field\":\"Low\"},\"line_color\":\"red\"}},\"nonselection_glyph\":{\"type\":\"object\",\"name\":\"Line\",\"id\":\"p1419\",\"attributes\":{\"x\":{\"type\":\"field\",\"field\":\"Date\"},\"y\":{\"type\":\"field\",\"field\":\"Low\"},\"line_color\":\"red\",\"line_alpha\":0.1}},\"muted_glyph\":{\"type\":\"object\",\"name\":\"Line\",\"id\":\"p1420\",\"attributes\":{\"x\":{\"type\":\"field\",\"field\":\"Date\"},\"y\":{\"type\":\"field\",\"field\":\"Low\"},\"line_color\":\"red\",\"line_alpha\":0.2}}}}],\"toolbar\":{\"type\":\"object\",\"name\":\"Toolbar\",\"id\":\"p1370\",\"attributes\":{\"tools\":[{\"type\":\"object\",\"name\":\"HoverTool\",\"id\":\"p1005\",\"attributes\":{\"renderers\":\"auto\",\"tooltips\":[[\"Low Stock Price\",\"@Low\"]]}}]}},\"left\":[{\"type\":\"object\",\"name\":\"LinearAxis\",\"id\":\"p1390\",\"attributes\":{\"ticker\":{\"type\":\"object\",\"name\":\"BasicTicker\",\"id\":\"p1391\",\"attributes\":{\"mantissas\":[1,2,5]}},\"formatter\":{\"type\":\"object\",\"name\":\"BasicTickFormatter\",\"id\":\"p1392\"},\"major_label_policy\":{\"type\":\"object\",\"name\":\"AllLabels\",\"id\":\"p1393\"}}}],\"below\":[{\"type\":\"object\",\"name\":\"DatetimeAxis\",\"id\":\"p1373\",\"attributes\":{\"ticker\":{\"type\":\"object\",\"name\":\"DatetimeTicker\",\"id\":\"p1374\",\"attributes\":{\"num_minor_ticks\":5,\"tickers\":[{\"type\":\"object\",\"name\":\"AdaptiveTicker\",\"id\":\"p1375\",\"attributes\":{\"num_minor_ticks\":0,\"mantissas\":[1,2,5],\"max_interval\":500.0}},{\"type\":\"object\",\"name\":\"AdaptiveTicker\",\"id\":\"p1376\",\"attributes\":{\"num_minor_ticks\":0,\"base\":60,\"mantissas\":[1,2,5,10,15,20,30],\"min_interval\":1000.0,\"max_interval\":1800000.0}},{\"type\":\"object\",\"name\":\"AdaptiveTicker\",\"id\":\"p1377\",\"attributes\":{\"num_minor_ticks\":0,\"base\":24,\"mantissas\":[1,2,4,6,8,12],\"min_interval\":3600000.0,\"max_interval\":43200000.0}},{\"type\":\"object\",\"name\":\"DaysTicker\",\"id\":\"p1378\",\"attributes\":{\"days\":[1,2,3,4,5,6,7,8,9,10,11,12,13,14,15,16,17,18,19,20,21,22,23,24,25,26,27,28,29,30,31]}},{\"type\":\"object\",\"name\":\"DaysTicker\",\"id\":\"p1379\",\"attributes\":{\"days\":[1,4,7,10,13,16,19,22,25,28]}},{\"type\":\"object\",\"name\":\"DaysTicker\",\"id\":\"p1380\",\"attributes\":{\"days\":[1,8,15,22]}},{\"type\":\"object\",\"name\":\"DaysTicker\",\"id\":\"p1381\",\"attributes\":{\"days\":[1,15]}},{\"type\":\"object\",\"name\":\"MonthsTicker\",\"id\":\"p1382\",\"attributes\":{\"months\":[0,1,2,3,4,5,6,7,8,9,10,11]}},{\"type\":\"object\",\"name\":\"MonthsTicker\",\"id\":\"p1383\",\"attributes\":{\"months\":[0,2,4,6,8,10]}},{\"type\":\"object\",\"name\":\"MonthsTicker\",\"id\":\"p1384\",\"attributes\":{\"months\":[0,4,8]}},{\"type\":\"object\",\"name\":\"MonthsTicker\",\"id\":\"p1385\",\"attributes\":{\"months\":[0,6]}},{\"type\":\"object\",\"name\":\"YearsTicker\",\"id\":\"p1386\"}]}},\"formatter\":{\"type\":\"object\",\"name\":\"DatetimeTickFormatter\",\"id\":\"p1387\"},\"major_label_policy\":{\"type\":\"object\",\"name\":\"AllLabels\",\"id\":\"p1388\"}}}],\"center\":[{\"type\":\"object\",\"name\":\"Grid\",\"id\":\"p1389\",\"attributes\":{\"axis\":{\"id\":\"p1373\"}}},{\"type\":\"object\",\"name\":\"Grid\",\"id\":\"p1394\",\"attributes\":{\"dimension\":1,\"axis\":{\"id\":\"p1390\"}}},{\"type\":\"object\",\"name\":\"Legend\",\"id\":\"p1424\",\"attributes\":{\"items\":[{\"type\":\"object\",\"name\":\"LegendItem\",\"id\":\"p1425\",\"attributes\":{\"label\":{\"type\":\"value\",\"value\":\"Low\"},\"renderers\":[{\"id\":\"p1421\"}]}}]}}]}}]}}]}};\n  const render_items = [{\"docid\":\"1a8a2b12-51f2-4b59-9609-bb6dc00f98e2\",\"roots\":{\"p1426\":\"a894f60e-ead5-4d2d-9bf2-6bc64f1562c6\"},\"root_ids\":[\"p1426\"]}];\n  void root.Bokeh.embed.embed_items_notebook(docs_json, render_items);\n  }\n  if (root.Bokeh !== undefined) {\n    embed_document(root);\n  } else {\n    let attempts = 0;\n    const timer = setInterval(function(root) {\n      if (root.Bokeh !== undefined) {\n        clearInterval(timer);\n        embed_document(root);\n      } else {\n        attempts++;\n        if (attempts > 100) {\n          clearInterval(timer);\n          console.log(\"Bokeh: ERROR: Unable to run BokehJS code because BokehJS library is missing\");\n        }\n      }\n    }, 10, root)\n  }\n})(window);",
      "application/vnd.bokehjs_exec.v0+json": ""
     },
     "metadata": {
      "application/vnd.bokehjs_exec.v0+json": {
       "id": "p1426"
      }
     },
     "output_type": "display_data"
    }
   ],
   "source": [
    "# Use row layout to place figures side by side\n",
    "final_figure = row(fig_high, fig_low)\n",
    "\n",
    "# Display the layout\n",
    "show(final_figure)\n"
   ]
  }
 ],
 "metadata": {
  "kernelspec": {
   "display_name": "Python 3",
   "language": "python",
   "name": "python3"
  },
  "language_info": {
   "codemirror_mode": {
    "name": "ipython",
    "version": 3
   },
   "file_extension": ".py",
   "mimetype": "text/x-python",
   "name": "python",
   "nbconvert_exporter": "python",
   "pygments_lexer": "ipython3",
   "version": "3.12.5"
  }
 },
 "nbformat": 4,
 "nbformat_minor": 2
}
