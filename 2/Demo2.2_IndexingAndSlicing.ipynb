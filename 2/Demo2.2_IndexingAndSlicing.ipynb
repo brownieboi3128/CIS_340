{
 "cells": [
  {
   "cell_type": "markdown",
   "metadata": {},
   "source": [
    "# Demo 2.2 Indexing and Slicing Arrays\n",
    "- Demonstrates how to:  \n",
    "  - Load a dataset with numpy\n",
    "  - Extract a subset of the data using indexing and slicing \n",
    "  - Calculate the summary statistics of the data \n",
    "\n",
    "** requires data files: `grades.csv`"
   ]
  },
  {
   "cell_type": "markdown",
   "metadata": {},
   "source": [
    "---"
   ]
  },
  {
   "cell_type": "code",
   "execution_count": 1,
   "metadata": {},
   "outputs": [],
   "source": [
    "import numpy as np"
   ]
  },
  {
   "cell_type": "markdown",
   "metadata": {},
   "source": [
    "# Part 1"
   ]
  },
  {
   "cell_type": "code",
   "execution_count": 11,
   "metadata": {},
   "outputs": [
    {
     "name": "stdout",
     "output_type": "stream",
     "text": [
      "[85. 78. 92. 75. 88. 84. 90. 76.]\n",
      "[90. 85. 88. 80. 92. 87. 85. 80.]\n",
      "[88. 84. 91. 78. 89. 86. 88. 82.]\n"
     ]
    }
   ],
   "source": [
    "# 1. Load the dataset, grades.csv, using numpy's genfromtxt() function. \n",
    "# Skip the header row.\n",
    "# Then, Extract the columns for Math, Science, and English from the dataset and \n",
    "# store them in separate variables named `grades_math`, `grades_science`, and `grades_english`.\n",
    "# Print the arrays as output. \n",
    "\n",
    "# Load the dataset\n",
    "data = np.genfromtxt('grades.csv', delimiter=',', skip_header=1)\n",
    "\n",
    "# Extract the columns for Math, Science, and English\n",
    "grades_math = data[:, 1]\n",
    "grades_science = data[:, 2]\n",
    "grades_english = data[:, 3]\n",
    "\n",
    "# Print the arrays\n",
    "print(grades_math)\n",
    "print(grades_science)\n",
    "print(grades_english)\n"
   ]
  },
  {
   "cell_type": "markdown",
   "metadata": {},
   "source": [
    "# Part 2\n"
   ]
  },
  {
   "cell_type": "code",
   "execution_count": 18,
   "metadata": {},
   "outputs": [
    {
     "name": "stdout",
     "output_type": "stream",
     "text": [
      "[[85. 90.]\n",
      " [78. 85.]\n",
      " [92. 88.]]\n"
     ]
    }
   ],
   "source": [
    "# 1. Extract the grades for the first three students in Math and Science and \n",
    "# store them in the variable,`grades_first_three_math_science`.\n",
    "\n",
    "# Extract the grades for the first three students in Math and Science\n",
    "grades_first_three_math_science = data[:3, 1:3]\n",
    "print(grades_first_three_math_science)\n"
   ]
  },
  {
   "cell_type": "markdown",
   "metadata": {},
   "source": [
    "# Part 3: Identify the Summary Statistics:"
   ]
  },
  {
   "cell_type": "code",
   "execution_count": 20,
   "metadata": {},
   "outputs": [
    {
     "name": "stdout",
     "output_type": "stream",
     "text": [
      "Mean: 83.5\n",
      "Median: 84.5\n",
      "Standard Deviation: 6.082762530298219\n",
      "Minimum: 75.0\n",
      "Maximum: 92.0\n"
     ]
    }
   ],
   "source": [
    "# 1. Calculate the mean, median, standard deviation, minimum, and maximum of the grades for Math, \n",
    "# Science, and English.\n",
    "\n",
    "# Calculate the mean, median, standard deviation, minimum, and maximum of the grades for Math\n",
    "mean_math = np.mean(grades_math)\n",
    "median_math = np.median(grades_math)\n",
    "std_math = np.std(grades_math)\n",
    "min_math = np.min(grades_math)\n",
    "max_math = np.max(grades_math)\n",
    "\n",
    "# print the output\n",
    "print(\"Mean:\", mean_math)\n",
    "print(\"Median:\", median_math)\n",
    "print(\"Standard Deviation:\", std_math)\n",
    "print(\"Minimum:\", min_math)\n",
    "print(\"Maximum:\", max_math)\n"
   ]
  }
 ],
 "metadata": {
  "kernelspec": {
   "display_name": "Python 3",
   "language": "python",
   "name": "python3"
  },
  "language_info": {
   "codemirror_mode": {
    "name": "ipython",
    "version": 3
   },
   "file_extension": ".py",
   "mimetype": "text/x-python",
   "name": "python",
   "nbconvert_exporter": "python",
   "pygments_lexer": "ipython3",
   "version": "3.12.5"
  }
 },
 "nbformat": 4,
 "nbformat_minor": 2
}
