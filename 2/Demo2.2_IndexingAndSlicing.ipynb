{
 "cells": [
  {
   "cell_type": "markdown",
   "metadata": {},
   "source": [
    "# Demo 2.2 Indexing and Slicing Arrays\n",
    "- Demonstrates how to:  \n",
    "  - Load a dataset with numpy\n",
    "  - Extract a subset of the data using indexing and slicing \n",
    "  - Calculate the summary statistics of the data \n",
    "\n",
    "** requires data files: `grades.csv`"
   ]
  },
  {
   "cell_type": "markdown",
   "metadata": {},
   "source": [
    "---"
   ]
  },
  {
   "cell_type": "code",
   "execution_count": 1,
   "metadata": {},
   "outputs": [],
   "source": [
    "import numpy as np"
   ]
  },
  {
   "cell_type": "markdown",
   "metadata": {},
   "source": [
    "# Part 1"
   ]
  },
  {
   "cell_type": "code",
   "execution_count": 3,
   "metadata": {},
   "outputs": [
    {
     "name": "stdout",
     "output_type": "stream",
     "text": [
      "[85. 78. 92. 75. 88. 84. 90. 76.]\n",
      "[90. 85. 88. 80. 92. 87. 85. 80.]\n",
      "[88. 84. 91. 78. 89. 86. 88. 82.]\n"
     ]
    }
   ],
   "source": [
    "# 1. Load the dataset, grades.csv, using numpy's genfromtxt() function. \n",
    "# Skip the header row.\n",
    "# Then, Extract the columns for Math, Science, and English from the dataset and \n",
    "# store them in separate variables named `grades_math`, `grades_science`, and `grades_english`.\n",
    "# Print the arrays as output. \n",
    "\n",
    "# YOUR CODE HERE"
   ]
  },
  {
   "cell_type": "markdown",
   "metadata": {},
   "source": [
    "# Part 2\n"
   ]
  },
  {
   "cell_type": "code",
   "execution_count": null,
   "metadata": {},
   "outputs": [
    {
     "name": "stdout",
     "output_type": "stream",
     "text": [
      "[[85. 90.]\n",
      " [78. 85.]\n",
      " [92. 88.]]\n"
     ]
    }
   ],
   "source": [
    "# 1. Extract the grades for the first three students in Math and Science and \n",
    "# store them in the variable,`grades_first_three_math_science`.\n",
    "\n",
    "# YOUR CODE HERE\n"
   ]
  },
  {
   "cell_type": "markdown",
   "metadata": {},
   "source": [
    "# Part 3: Identify the Summary Statistics:"
   ]
  },
  {
   "cell_type": "code",
   "execution_count": 13,
   "metadata": {},
   "outputs": [
    {
     "name": "stdout",
     "output_type": "stream",
     "text": [
      "Math - Mean: 83.5, Median: 84.5, Std: 6.082762530298219, Min: 75.0, Max: 92.0\n",
      "Science - Mean: 85.875, Median: 86.0, Std: 4.044672421840859, Min: 80.0, Max: 92.0\n",
      "English - Mean: 85.75, Median: 87.0, Std: 3.960744879438715, Min: 78.0, Max: 91.0\n"
     ]
    }
   ],
   "source": [
    "# 1. Calculate the mean, median, standard deviation, minimum, and maximum of the grades for Math, \n",
    "# Science, and English.\n",
    "\n",
    "# YOUR CODE HERE"
   ]
  }
 ],
 "metadata": {
  "kernelspec": {
   "display_name": "Python 3",
   "language": "python",
   "name": "python3"
  },
  "language_info": {
   "codemirror_mode": {
    "name": "ipython",
    "version": 3
   },
   "file_extension": ".py",
   "mimetype": "text/x-python",
   "name": "python",
   "nbconvert_exporter": "python",
   "pygments_lexer": "ipython3",
   "version": "3.10.5"
  }
 },
 "nbformat": 4,
 "nbformat_minor": 2
}
