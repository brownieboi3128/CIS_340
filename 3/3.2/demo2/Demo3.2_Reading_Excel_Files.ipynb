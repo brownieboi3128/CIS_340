{
 "cells": [
  {
   "attachments": {},
   "cell_type": "markdown",
   "metadata": {},
   "source": [
    "# Demo 3.2: Reading an *Excel* file      \n",
    " \n",
    "Read an Excel worksheet into a *pandas* Dataframe and display basic info about the new *pandas* Dataframe.   \n",
    "\n",
    "** requires data file: `w3schools_Data.xlsx`; Worksheet: `Orders` \n",
    "\n",
    "\n",
    "  \n",
    "- **Demonstrates**:  \n",
    "  - read_excel()  \n",
    "  - head()  \n",
    "  - shape \n",
    "  - dtypes  \n",
    "\n",
    "  ---\n",
    " "
   ]
  },
  {
   "cell_type": "code",
   "execution_count": 2,
   "metadata": {},
   "outputs": [],
   "source": [
    "import pandas as pd"
   ]
  },
  {
   "attachments": {},
   "cell_type": "markdown",
   "metadata": {},
   "source": [
    "### 1. Read the Excel Worksheet data into a pandas dataframe"
   ]
  },
  {
   "cell_type": "code",
   "execution_count": null,
   "metadata": {},
   "outputs": [],
   "source": []
  },
  {
   "attachments": {},
   "cell_type": "markdown",
   "metadata": {},
   "source": [
    "### 2. Display Column Data Type info"
   ]
  },
  {
   "cell_type": "code",
   "execution_count": null,
   "metadata": {},
   "outputs": [],
   "source": []
  }
 ],
 "metadata": {
  "kernelspec": {
   "display_name": "Python 3.9.12 ('Junk2')",
   "language": "python",
   "name": "python3"
  },
  "language_info": {
   "codemirror_mode": {
    "name": "ipython",
    "version": 3
   },
   "file_extension": ".py",
   "mimetype": "text/x-python",
   "name": "python",
   "nbconvert_exporter": "python",
   "pygments_lexer": "ipython3",
   "version": "3.10.5"
  },
  "vscode": {
   "interpreter": {
    "hash": "3b8f4006845a7d72156a2b549117d9775e941c7d750486381e11975a2dbfde72"
   }
  }
 },
 "nbformat": 4,
 "nbformat_minor": 4
}
