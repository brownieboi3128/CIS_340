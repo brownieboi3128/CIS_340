{
 "cells": [
  {
   "attachments": {},
   "cell_type": "markdown",
   "metadata": {},
   "source": [
    "# Demo 3.2: Reading an *Excel* file      \n",
    " \n",
    "Read an Excel worksheet into a *pandas* Dataframe and display basic info about the new *pandas* Dataframe.   \n",
    "\n",
    "** requires data file: `w3schools_Data.xlsx`; Worksheet: `Orders` \n",
    "\n",
    "\n",
    "  \n",
    "- **Demonstrates**:  \n",
    "  - read_excel()  \n",
    "  - head()  \n",
    "  - shape \n",
    "  - dtypes  \n",
    "\n",
    "  ---\n",
    " "
   ]
  },
  {
   "cell_type": "code",
   "execution_count": 1,
   "metadata": {},
   "outputs": [],
   "source": [
    "import pandas as pd"
   ]
  },
  {
   "attachments": {},
   "cell_type": "markdown",
   "metadata": {},
   "source": [
    "### 1. Read the Excel Worksheet data into a pandas dataframe"
   ]
  },
  {
   "cell_type": "code",
   "execution_count": 14,
   "metadata": {},
   "outputs": [
    {
     "data": {
      "text/html": [
       "<div>\n",
       "<style scoped>\n",
       "    .dataframe tbody tr th:only-of-type {\n",
       "        vertical-align: middle;\n",
       "    }\n",
       "\n",
       "    .dataframe tbody tr th {\n",
       "        vertical-align: top;\n",
       "    }\n",
       "\n",
       "    .dataframe thead th {\n",
       "        text-align: right;\n",
       "    }\n",
       "</style>\n",
       "<table border=\"1\" class=\"dataframe\">\n",
       "  <thead>\n",
       "    <tr style=\"text-align: right;\">\n",
       "      <th></th>\n",
       "      <th>OrderID</th>\n",
       "      <th>CustomerID</th>\n",
       "      <th>EmployeeID</th>\n",
       "      <th>OrderDate</th>\n",
       "      <th>ShipperID</th>\n",
       "    </tr>\n",
       "  </thead>\n",
       "  <tbody>\n",
       "    <tr>\n",
       "      <th>0</th>\n",
       "      <td>10248</td>\n",
       "      <td>90</td>\n",
       "      <td>5</td>\n",
       "      <td>1996-07-04</td>\n",
       "      <td>3</td>\n",
       "    </tr>\n",
       "    <tr>\n",
       "      <th>1</th>\n",
       "      <td>10249</td>\n",
       "      <td>81</td>\n",
       "      <td>6</td>\n",
       "      <td>1996-07-05</td>\n",
       "      <td>1</td>\n",
       "    </tr>\n",
       "    <tr>\n",
       "      <th>2</th>\n",
       "      <td>10250</td>\n",
       "      <td>34</td>\n",
       "      <td>4</td>\n",
       "      <td>1996-07-08</td>\n",
       "      <td>2</td>\n",
       "    </tr>\n",
       "    <tr>\n",
       "      <th>3</th>\n",
       "      <td>10251</td>\n",
       "      <td>84</td>\n",
       "      <td>3</td>\n",
       "      <td>1996-07-08</td>\n",
       "      <td>1</td>\n",
       "    </tr>\n",
       "    <tr>\n",
       "      <th>4</th>\n",
       "      <td>10252</td>\n",
       "      <td>76</td>\n",
       "      <td>4</td>\n",
       "      <td>1996-07-09</td>\n",
       "      <td>2</td>\n",
       "    </tr>\n",
       "    <tr>\n",
       "      <th>...</th>\n",
       "      <td>...</td>\n",
       "      <td>...</td>\n",
       "      <td>...</td>\n",
       "      <td>...</td>\n",
       "      <td>...</td>\n",
       "    </tr>\n",
       "    <tr>\n",
       "      <th>191</th>\n",
       "      <td>10439</td>\n",
       "      <td>51</td>\n",
       "      <td>6</td>\n",
       "      <td>1997-02-07</td>\n",
       "      <td>3</td>\n",
       "    </tr>\n",
       "    <tr>\n",
       "      <th>192</th>\n",
       "      <td>10440</td>\n",
       "      <td>71</td>\n",
       "      <td>4</td>\n",
       "      <td>1997-02-10</td>\n",
       "      <td>2</td>\n",
       "    </tr>\n",
       "    <tr>\n",
       "      <th>193</th>\n",
       "      <td>10441</td>\n",
       "      <td>55</td>\n",
       "      <td>3</td>\n",
       "      <td>1997-02-10</td>\n",
       "      <td>2</td>\n",
       "    </tr>\n",
       "    <tr>\n",
       "      <th>194</th>\n",
       "      <td>10442</td>\n",
       "      <td>20</td>\n",
       "      <td>3</td>\n",
       "      <td>1997-02-11</td>\n",
       "      <td>2</td>\n",
       "    </tr>\n",
       "    <tr>\n",
       "      <th>195</th>\n",
       "      <td>10443</td>\n",
       "      <td>66</td>\n",
       "      <td>8</td>\n",
       "      <td>1997-02-12</td>\n",
       "      <td>1</td>\n",
       "    </tr>\n",
       "  </tbody>\n",
       "</table>\n",
       "<p>196 rows × 5 columns</p>\n",
       "</div>"
      ],
      "text/plain": [
       "     OrderID  CustomerID  EmployeeID  OrderDate  ShipperID\n",
       "0      10248          90           5 1996-07-04          3\n",
       "1      10249          81           6 1996-07-05          1\n",
       "2      10250          34           4 1996-07-08          2\n",
       "3      10251          84           3 1996-07-08          1\n",
       "4      10252          76           4 1996-07-09          2\n",
       "..       ...         ...         ...        ...        ...\n",
       "191    10439          51           6 1997-02-07          3\n",
       "192    10440          71           4 1997-02-10          2\n",
       "193    10441          55           3 1997-02-10          2\n",
       "194    10442          20           3 1997-02-11          2\n",
       "195    10443          66           8 1997-02-12          1\n",
       "\n",
       "[196 rows x 5 columns]"
      ]
     },
     "execution_count": 14,
     "metadata": {},
     "output_type": "execute_result"
    }
   ],
   "source": [
    "df = pd.read_excel('w3schools_Data.xlsx', sheet_name='Orders', skiprows=3)\n",
    "df"
   ]
  },
  {
   "attachments": {},
   "cell_type": "markdown",
   "metadata": {},
   "source": [
    "### 2. Display Column Data Type info"
   ]
  },
  {
   "cell_type": "code",
   "execution_count": 15,
   "metadata": {},
   "outputs": [
    {
     "data": {
      "text/plain": [
       "OrderID                int64\n",
       "CustomerID             int64\n",
       "EmployeeID             int64\n",
       "OrderDate     datetime64[ns]\n",
       "ShipperID              int64\n",
       "dtype: object"
      ]
     },
     "execution_count": 15,
     "metadata": {},
     "output_type": "execute_result"
    }
   ],
   "source": [
    "df.dtypes"
   ]
  }
 ],
 "metadata": {
  "kernelspec": {
   "display_name": "Python 3",
   "language": "python",
   "name": "python3"
  },
  "language_info": {
   "codemirror_mode": {
    "name": "ipython",
    "version": 3
   },
   "file_extension": ".py",
   "mimetype": "text/x-python",
   "name": "python",
   "nbconvert_exporter": "python",
   "pygments_lexer": "ipython3",
   "version": "3.12.5"
  }
 },
 "nbformat": 4,
 "nbformat_minor": 4
}
