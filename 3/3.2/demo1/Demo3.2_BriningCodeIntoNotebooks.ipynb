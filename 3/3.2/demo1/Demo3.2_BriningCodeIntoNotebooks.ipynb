{
 "cells": [
  {
   "cell_type": "markdown",
   "metadata": {
    "nbgrader": {
     "grade": false,
     "grade_id": "cell-c24bf34975aa06b2",
     "locked": true,
     "schema_version": 1,
     "solution": false
    }
   },
   "source": [
    "# Demo 3.2: Bringing Code Into Notebooks\n",
    "\n",
    "There are a few different ways you can access code developed elsewhere, from within a notebook.  This demo will give you some experience with these different methods.\n",
    "\n",
    "Click on the empty cell below this one, and enter and execute <code>%ls</code> to call the IPython magic function that lists the contents of the current directory.  You should see that one of the files is WheatChessboard.py.  This includes some code that simulates the [wheat-on-a-chessboard problem](https://en.wikipedia.org/wiki/Wheat_and_chessboard_problem#:~:text=The%20problem%20may%20be%20solved,forth%20for%20the%2064%20squares.).\n"
   ]
  },
  {
   "cell_type": "code",
   "execution_count": null,
   "metadata": {
    "nbgrader": {
     "grade": false,
     "grade_id": "cell-b0e43373d2ff1d0e",
     "locked": true,
     "schema_version": 1,
     "solution": false
    }
   },
   "outputs": [],
   "source": [
    "%ls"
   ]
  },
  {
   "cell_type": "markdown",
   "metadata": {
    "nbgrader": {
     "grade": false,
     "grade_id": "cell-f5d0ec5b3ff2c874",
     "locked": true,
     "schema_version": 1,
     "solution": false
    }
   },
   "source": [
    "In the empty cell below, enter and execute \n",
    "\n",
    "<code>%load WheatChessboard.py</code>\n",
    "\n",
    "This uses the IPython magic function to load the file's contents into a notebook cell. The code is loaded but not executed. It works as if you had typed the code directly into the cell.  Once it's loaded, click on the cell with the loaded code to make that cell active, and enter ```Shift+Enter``` to execute it.  "
   ]
  },
  {
   "cell_type": "code",
   "execution_count": 4,
   "metadata": {
    "nbgrader": {
     "grade": false,
     "grade_id": "cell-2162d83d2e2481af",
     "locked": true,
     "schema_version": 1,
     "solution": false
    }
   },
   "outputs": [],
   "source": [
    "%load WheatChessboard.py"
   ]
  },
  {
   "cell_type": "markdown",
   "metadata": {
    "nbgrader": {
     "grade": false,
     "grade_id": "cell-3c85fc18d68690b1",
     "locked": true,
     "schema_version": 1,
     "solution": false
    }
   },
   "source": [
    "The code you executed above does not produce any output.  But once you have executed it, you can verify it has defined a new function and assigned some data to variables.  Enter and execute ```%whos``` in the empty cell below to see what has been defined."
   ]
  },
  {
   "cell_type": "code",
   "execution_count": null,
   "metadata": {
    "nbgrader": {
     "grade": false,
     "grade_id": "cell-d3149b26fb9a34a4",
     "locked": true,
     "schema_version": 1,
     "solution": false
    }
   },
   "outputs": [],
   "source": [
    "%whos"
   ]
  },
  {
   "cell_type": "markdown",
   "metadata": {},
   "source": [
    "---"
   ]
  },
  {
   "cell_type": "markdown",
   "metadata": {
    "nbgrader": {
     "grade": false,
     "grade_id": "cell-2aaaa46adc63bcd9",
     "locked": true,
     "schema_version": 1,
     "solution": false
    }
   },
   "source": [
    "## %load vs. %run\n",
    "\n",
    "In one of the cells above, you called the IPython/Jupyter magic function ```%load``` to load the code into a cell in the notebook, and then had to execute that code.\n",
    "\n",
    "An alternative magic function is ```%run```, which just executes the code in the specified Python file without showing you the code in the notebook.\n",
    "\n",
    "In the empty cell below, enter and execute:\n",
    "\n",
    "<code>%run WheatChessboard2.py</code>\n",
    "\n",
    "Note that this is a different file than before, named ```WheatChessboard2.py```.  This does the same things as in the first file, but with different names so that we can distinguish the results of the %load from the %run."
   ]
  },
  {
   "cell_type": "code",
   "execution_count": 6,
   "metadata": {
    "nbgrader": {
     "grade": false,
     "grade_id": "cell-05f2a9138e04eb5d",
     "locked": true,
     "schema_version": 1,
     "solution": false
    }
   },
   "outputs": [],
   "source": [
    "%run WheatChessboard2.py"
   ]
  },
  {
   "cell_type": "markdown",
   "metadata": {
    "nbgrader": {
     "grade": false,
     "grade_id": "cell-ba2e6c99233debb7",
     "locked": true,
     "schema_version": 1,
     "solution": false
    }
   },
   "source": [
    "You should see that the cell does not return any output, but as before you can verify it has defined a new function and assigned some data to variables.  Enter and execute ```%whos``` in the empty cell below to see what has been defined.  Now there should be two versions of each item, those without a trailing \"2\" that were defined in WheatChessboard.py and those with a trailing \"2\" from WheatChessboard2.py."
   ]
  },
  {
   "cell_type": "code",
   "execution_count": null,
   "metadata": {
    "nbgrader": {
     "grade": false,
     "grade_id": "cell-9a0538826f966b15",
     "locked": true,
     "schema_version": 1,
     "solution": false
    }
   },
   "outputs": [],
   "source": [
    "%whos"
   ]
  },
  {
   "cell_type": "markdown",
   "metadata": {
    "nbgrader": {
     "grade": false,
     "grade_id": "cell-9311bffb4dd00cfa",
     "locked": true,
     "schema_version": 1,
     "solution": false
    }
   },
   "source": [
    "Execute the code below to check that you have correctly loaded and run the files as described above.  If the test passes, it will let you know.  If it complains with an error message, diagnose the error, fix your code above, and run it again."
   ]
  },
  {
   "cell_type": "code",
   "execution_count": null,
   "metadata": {
    "nbgrader": {
     "grade": false,
     "grade_id": "cell-a6a30175f2b3c3c6",
     "locked": true,
     "schema_version": 1,
     "solution": false
    }
   },
   "outputs": [],
   "source": [
    "# Run this cell to check your code. \n",
    "\n",
    "assert total_wheat == total_wheat2, \"The total amount of wheat on each chessboard should be the same.\"\n",
    "print(\"Nice job!\")"
   ]
  },
  {
   "cell_type": "markdown",
   "metadata": {},
   "source": [
    "---"
   ]
  },
  {
   "cell_type": "markdown",
   "metadata": {
    "nbgrader": {
     "grade": false,
     "grade_id": "cell-53f2b18df75bf3fc",
     "locked": true,
     "schema_version": 1,
     "solution": false
    }
   },
   "source": [
    "## Importing a module\n",
    "\n",
    "In addition to the magic functions %load and %run, we can always import a module as we've done before in Python, and access its contents using the dot operator.  In the code cell below, enter and execute:\n",
    "\n",
    "```python\n",
    "import WheatChessboard\n",
    "print(WheatChessboard.total_wheat)\n"
   ]
  },
  {
   "cell_type": "code",
   "execution_count": null,
   "metadata": {
    "nbgrader": {
     "grade": false,
     "grade_id": "cell-9ef17dddbe9f0060",
     "locked": true,
     "schema_version": 1,
     "solution": false
    }
   },
   "outputs": [],
   "source": []
  }
 ],
 "metadata": {
  "kernelspec": {
   "display_name": "Python 3",
   "language": "python",
   "name": "python3"
  },
  "language_info": {
   "codemirror_mode": {
    "name": "ipython",
    "version": 3
   },
   "file_extension": ".py",
   "mimetype": "text/x-python",
   "name": "python",
   "nbconvert_exporter": "python",
   "pygments_lexer": "ipython3",
   "version": "3.12.4"
  }
 },
 "nbformat": 4,
 "nbformat_minor": 2
}
