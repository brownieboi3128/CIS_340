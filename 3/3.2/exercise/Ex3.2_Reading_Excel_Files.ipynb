{
 "cells": [
  {
   "attachments": {},
   "cell_type": "markdown",
   "metadata": {},
   "source": [
    "# Ex 3.2: Reading an *Excel* file      \n",
    " \n",
    "- Objective: Read an Excel worksheet into a *pandas* Dataframe and display basic info about the new *pandas* Dataframe.   \n",
    "\n",
    "** requires data files: `w3schools_Data.xlsx` and `Sample - Superstore.xlsx`; Worksheets: `Products`, `Orders` and `OrderDetails`\n",
    "  \n",
    "- **Demonstrates**:  \n",
    "  - read_excel()  \n",
    "  - head()  \n",
    "  - shape \n",
    "  - dtypes  \n",
    "\n",
    "  ---\n",
    " "
   ]
  },
  {
   "cell_type": "code",
   "execution_count": 2,
   "metadata": {},
   "outputs": [],
   "source": [
    "import pandas as pd"
   ]
  },
  {
   "cell_type": "markdown",
   "metadata": {},
   "source": [
    "# Part 1"
   ]
  },
  {
   "cell_type": "code",
   "execution_count": null,
   "metadata": {},
   "outputs": [],
   "source": [
    "# 1. Read the Products sheet from the w3schools_Data.xlsx file\n",
    "# Print the shape and display the head of the dataframe\n",
    "print('Ex 3.2 Part 1')\n",
    "\n",
    "# YOUR CODE HERE"
   ]
  },
  {
   "cell_type": "code",
   "execution_count": null,
   "metadata": {},
   "outputs": [],
   "source": [
    "# 2. Display the Data Types for the DataFrame columns\n",
    "\n",
    "# YOUR CODE HERE"
   ]
  },
  {
   "cell_type": "markdown",
   "metadata": {},
   "source": [
    "---"
   ]
  },
  {
   "cell_type": "markdown",
   "metadata": {},
   "source": [
    "# Part 2"
   ]
  },
  {
   "cell_type": "code",
   "execution_count": null,
   "metadata": {},
   "outputs": [],
   "source": [
    "# 1. Read the Orders worksheet in the Sample - Superstore.xlsx file into a DataFrame; \n",
    "# display the DataFrame head and shape.\n",
    "print(\"Ex 3.2 Part 2\")\n",
    "\n",
    "# YOUR CODE HERE"
   ]
  },
  {
   "cell_type": "code",
   "execution_count": null,
   "metadata": {},
   "outputs": [],
   "source": [
    "# 2. Display the Data Types for the DataFrame columns\n",
    "\n",
    "# YOUR CODE HERE"
   ]
  },
  {
   "cell_type": "markdown",
   "metadata": {},
   "source": [
    "---"
   ]
  },
  {
   "cell_type": "markdown",
   "metadata": {},
   "source": [
    "# Part 3"
   ]
  },
  {
   "cell_type": "code",
   "execution_count": null,
   "metadata": {},
   "outputs": [],
   "source": [
    "# 1. Read the OrderDetails worksheet in the w3schools_Data.xlsx file into a DataFrame; \n",
    "# display the DataFrame head and shape.\n",
    "print(\"Ex 3.2 Part 3\")\n",
    "\n",
    "# YOUR CODE HERE"
   ]
  },
  {
   "cell_type": "code",
   "execution_count": null,
   "metadata": {},
   "outputs": [],
   "source": [
    "# 2. Display the Data Types for the DataFrame columns\n",
    "\n",
    "# YOUR CODE HERE"
   ]
  }
 ],
 "metadata": {
  "kernelspec": {
   "display_name": "Python 3.9.12 ('Junk2')",
   "language": "python",
   "name": "python3"
  },
  "language_info": {
   "codemirror_mode": {
    "name": "ipython",
    "version": 3
   },
   "file_extension": ".py",
   "mimetype": "text/x-python",
   "name": "python",
   "nbconvert_exporter": "python",
   "pygments_lexer": "ipython3",
   "version": "3.10.5"
  },
  "vscode": {
   "interpreter": {
    "hash": "3b8f4006845a7d72156a2b549117d9775e941c7d750486381e11975a2dbfde72"
   }
  }
 },
 "nbformat": 4,
 "nbformat_minor": 4
}
