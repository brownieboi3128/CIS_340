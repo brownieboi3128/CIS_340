{
 "cells": [
  {
   "cell_type": "markdown",
   "metadata": {},
   "source": [
    "# Ex 3.4 Filtering a DataFrame\n",
    "- Objectives: Learn how to filter a *pandas* DataFrame\n",
    "\n",
    "** requires data files: `Cars.csv`, `Sample - Superstore.xlsx`, and `Leading_Causes_of_Death.csv`.\n",
    "\n",
    "---\n",
    "\n",
    "# Part 1"
   ]
  },
  {
   "cell_type": "code",
   "execution_count": 3,
   "metadata": {},
   "outputs": [],
   "source": [
    "import pandas as pd"
   ]
  },
  {
   "cell_type": "code",
   "execution_count": null,
   "metadata": {},
   "outputs": [],
   "source": [
    "# 1. Read the file Cars.csv into a DataFrame; display the DataFrame head and shape."
   ]
  },
  {
   "cell_type": "code",
   "execution_count": null,
   "metadata": {},
   "outputs": [],
   "source": [
    "# 2. Display the data types of each column "
   ]
  },
  {
   "cell_type": "code",
   "execution_count": null,
   "metadata": {},
   "outputs": [],
   "source": [
    "# 3. Get unique values of Makes"
   ]
  },
  {
   "cell_type": "code",
   "execution_count": null,
   "metadata": {},
   "outputs": [],
   "source": [
    "# 4. Confirm the MPG_City column is numeric"
   ]
  },
  {
   "cell_type": "markdown",
   "metadata": {},
   "source": [
    "### 5. Filter the data using query() to show only Chevys with MPG_City >= 25"
   ]
  },
  {
   "cell_type": "code",
   "execution_count": null,
   "metadata": {},
   "outputs": [],
   "source": [
    "# YOUR CODE HERE"
   ]
  },
  {
   "cell_type": "code",
   "execution_count": null,
   "metadata": {},
   "outputs": [],
   "source": [
    "# 6. Use unique() the check your filter results"
   ]
  },
  {
   "cell_type": "markdown",
   "metadata": {},
   "source": [
    "---"
   ]
  },
  {
   "cell_type": "markdown",
   "metadata": {},
   "source": [
    "# Part 2"
   ]
  },
  {
   "cell_type": "code",
   "execution_count": null,
   "metadata": {},
   "outputs": [],
   "source": [
    "# 1. Read the Orders worksheet in the Sample - Superstore.xlsx file into a DataFrame; \n",
    "# display the DataFrame head and shape."
   ]
  },
  {
   "cell_type": "code",
   "execution_count": null,
   "metadata": {},
   "outputs": [],
   "source": [
    "# 2. Display the data types of each column "
   ]
  },
  {
   "cell_type": "code",
   "execution_count": null,
   "metadata": {},
   "outputs": [],
   "source": [
    "# 3. Get uqniue values of State"
   ]
  },
  {
   "cell_type": "markdown",
   "metadata": {},
   "source": [
    "### 4. Filter: North Carolina, Georgia, and Virginia with Sales > 500"
   ]
  },
  {
   "cell_type": "code",
   "execution_count": null,
   "metadata": {},
   "outputs": [],
   "source": [
    "print('Part 2.1')\n",
    "# YOUR CODE HERE\n"
   ]
  },
  {
   "cell_type": "code",
   "execution_count": null,
   "metadata": {},
   "outputs": [],
   "source": [
    "# 5. Use unique() to demonstrate that your State and Sales Filtering is correct\n",
    "print(\"3.1 Part 2 Filtering Check:    \")\n",
    "print(\"State:  \", df_Q2['State'].unique())\n",
    "print(\"Sales:  \", df_Q2['Sales'].unique())"
   ]
  },
  {
   "cell_type": "markdown",
   "metadata": {},
   "source": [
    "---"
   ]
  },
  {
   "cell_type": "markdown",
   "metadata": {},
   "source": [
    "# Part 3.1\n",
    "- Using the `Leading_Causes_of_Death.csv` file, create code and to answer the following questions."
   ]
  },
  {
   "cell_type": "code",
   "execution_count": null,
   "metadata": {},
   "outputs": [],
   "source": [
    "#1. Read the Leading_Causes_of_Death.csv file into a DataFrame; display the DataFrame head and shape."
   ]
  },
  {
   "cell_type": "code",
   "execution_count": null,
   "metadata": {},
   "outputs": [],
   "source": [
    "# 2. Display the data types of each column"
   ]
  },
  {
   "cell_type": "code",
   "execution_count": null,
   "metadata": {},
   "outputs": [],
   "source": [
    "# 3. In 2017, what were the leading causes of death in the United States? Use the query() method to filter the data\n",
    "#  and display the shape of the resulting DataFrame.\n",
    "print('Part 3.1: In 2017, what were the leading causes of death in the US?')\n",
    "\n",
    "# YOUR CODE HERE"
   ]
  },
  {
   "cell_type": "code",
   "execution_count": null,
   "metadata": {},
   "outputs": [],
   "source": [
    "# 4. Use unique() the check your filter results\n",
    "print(\"Part 3.1 Filtering Check:    \")\n",
    "\n",
    "print(\"State:  \", df_Q3['State'].unique())\n",
    "print(\"Year:  \", df_Q3['Year'].unique())\n",
    "print(\"Death_Cause_Name:  \", df_Q3['Death_Cause_Name'].unique())"
   ]
  },
  {
   "cell_type": "markdown",
   "metadata": {},
   "source": [
    "---"
   ]
  },
  {
   "cell_type": "markdown",
   "metadata": {},
   "source": [
    "# Part 3.2\n",
    "- In 2000, what were the leading causes of death in the US?"
   ]
  },
  {
   "cell_type": "code",
   "execution_count": null,
   "metadata": {},
   "outputs": [],
   "source": [
    "\n",
    "# 1. In 2000, what were the leading causes of death in the United States? Use the query() method to filter the data;\n",
    "#  also, display the shape of the resulting DataFrame.\n",
    "\n",
    "# YOUR CODE HERE"
   ]
  },
  {
   "cell_type": "code",
   "execution_count": null,
   "metadata": {},
   "outputs": [],
   "source": [
    "# 2. Use unique() the check your filter results\n",
    "print(\"Part 3.2 Filtering Check:    \")\n",
    "\n",
    "print(\"State:  \", df_Q4['State'].unique())\n",
    "print(\"Year:  \", df_Q4['Year'].unique())\n",
    "print(\"Death_Cause_Name:  \", df_Q4['Death_Cause_Name'].unique())"
   ]
  }
 ],
 "metadata": {
  "kernelspec": {
   "display_name": "Python 3.9.12 ('Junk2')",
   "language": "python",
   "name": "python3"
  },
  "language_info": {
   "codemirror_mode": {
    "name": "ipython",
    "version": 3
   },
   "file_extension": ".py",
   "mimetype": "text/x-python",
   "name": "python",
   "nbconvert_exporter": "python",
   "pygments_lexer": "ipython3",
   "version": "3.10.5"
  },
  "vscode": {
   "interpreter": {
    "hash": "3b8f4006845a7d72156a2b549117d9775e941c7d750486381e11975a2dbfde72"
   }
  }
 },
 "nbformat": 4,
 "nbformat_minor": 4
}
