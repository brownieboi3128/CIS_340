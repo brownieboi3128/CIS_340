{
 "cells": [
  {
   "cell_type": "markdown",
   "metadata": {},
   "source": [
    "# Demo 3.4  ***query()***:  Filtering a *pandas* Dataframe         \n",
    "\n",
    " \n",
    "- **Demonstrates**:  \n",
    "  - Filtering with  ***query()*** \n",
    "    - Using  ***in*** \n",
    "  - Checking Data Types with ***dtypes***  \n",
    "\n",
    "\n",
    "- ** requires data file:  `Olympics.csv`\n",
    "\n",
    "---"
   ]
  },
  {
   "cell_type": "code",
   "execution_count": 3,
   "metadata": {},
   "outputs": [],
   "source": [
    "import pandas as pd"
   ]
  },
  {
   "cell_type": "markdown",
   "metadata": {},
   "source": [
    "### Read the datafile File into a *pandas* Dataframe  "
   ]
  },
  {
   "cell_type": "code",
   "execution_count": null,
   "metadata": {},
   "outputs": [],
   "source": [
    "# 1. Read the data file \"Olympics.csv\" into a pandas DataFrame;\n",
    "# display the DataFrame head and shape.\n",
    "df = pd.read_csv(\"Data/Olympics.csv\")\n",
    "\n",
    "print(df.shape)\n",
    "df.head()"
   ]
  },
  {
   "cell_type": "markdown",
   "metadata": {},
   "source": [
    "### Check Data Types"
   ]
  },
  {
   "cell_type": "code",
   "execution_count": null,
   "metadata": {},
   "outputs": [],
   "source": [
    "# 2. Display the data types of each column\n",
    "df.dtypes"
   ]
  },
  {
   "cell_type": "markdown",
   "metadata": {},
   "source": [
    "# Filtering on a *String* Condition \n",
    "- Options:  \n",
    "  - **==**  \n",
    "  - **!=**   "
   ]
  },
  {
   "cell_type": "markdown",
   "metadata": {},
   "source": [
    "#### Use unique() to get exact spelling  "
   ]
  },
  {
   "cell_type": "code",
   "execution_count": null,
   "metadata": {},
   "outputs": [],
   "source": [
    "# 3. Get unique values of the column and get the exact spelling\n",
    "df['Country']"
   ]
  },
  {
   "cell_type": "markdown",
   "metadata": {},
   "source": [
    "### Filter"
   ]
  },
  {
   "cell_type": "code",
   "execution_count": null,
   "metadata": {},
   "outputs": [],
   "source": [
    "# 4. Filter the data using the query method\n",
    "df_Q1 = df.\n",
    "\n",
    "print(df_Q1.shape)\n",
    "df_Q1.head()"
   ]
  },
  {
   "cell_type": "markdown",
   "metadata": {},
   "source": [
    "### Check Filtering  "
   ]
  },
  {
   "cell_type": "code",
   "execution_count": null,
   "metadata": {},
   "outputs": [],
   "source": [
    "# 5. Check filtering\n",
    "df_Q1['Country']"
   ]
  },
  {
   "cell_type": "markdown",
   "metadata": {},
   "source": [
    "# Filtering on a *Numeric* Condition \n",
    "- Options:  \n",
    "  - **>**  \n",
    "  - **<** \n",
    "  - **>=**  \n",
    "  - **<=**    \n",
    "  - **!=** "
   ]
  },
  {
   "cell_type": "markdown",
   "metadata": {},
   "source": [
    "#### First Make Sure the Field is Numeric  \n",
    "- If it's not, the above operators might work, but not exactly the way you want them to!  "
   ]
  },
  {
   "cell_type": "code",
   "execution_count": null,
   "metadata": {},
   "outputs": [],
   "source": [
    "# 6. Check data type for Gold to make sure it's numeric\n",
    "df.dtypes"
   ]
  },
  {
   "cell_type": "markdown",
   "metadata": {},
   "source": [
    "### Filter  "
   ]
  },
  {
   "cell_type": "code",
   "execution_count": null,
   "metadata": {},
   "outputs": [],
   "source": [
    "# 7. Filter the data using the query method\n",
    "df_Q2 = df\n",
    "print(df_Q2.shape)\n",
    "df_Q2"
   ]
  },
  {
   "cell_type": "markdown",
   "metadata": {},
   "source": [
    "### Check Filtering  "
   ]
  },
  {
   "cell_type": "code",
   "execution_count": null,
   "metadata": {},
   "outputs": [],
   "source": [
    "# 8. Check filtering \n",
    "df_Q2['Gold']"
   ]
  },
  {
   "cell_type": "markdown",
   "metadata": {},
   "source": [
    "# Filtering on *Multiple Values*  \n",
    "\n",
    "- Option:  ***in***  \n"
   ]
  },
  {
   "cell_type": "markdown",
   "metadata": {},
   "source": [
    "#### Use unique() to get exact spellings  \n"
   ]
  },
  {
   "cell_type": "code",
   "execution_count": null,
   "metadata": {},
   "outputs": [],
   "source": [
    "# 9. Get unique values of the column and get the exact spelling\n",
    "# df['Country'].unique()"
   ]
  },
  {
   "cell_type": "markdown",
   "metadata": {},
   "source": [
    "### Filter  "
   ]
  },
  {
   "cell_type": "code",
   "execution_count": 29,
   "metadata": {},
   "outputs": [],
   "source": [
    "# 10. Create a List of the Countries we want to filter by\n",
    "selected_countries = [ ]"
   ]
  },
  {
   "cell_type": "code",
   "execution_count": null,
   "metadata": {},
   "outputs": [],
   "source": [
    "# 11. Create a new Dataframe based on the filter results\n",
    "df_Q3 = df.\n",
    "\n",
    "print(df_Q3.shape)\n",
    "df_Q3"
   ]
  },
  {
   "cell_type": "markdown",
   "metadata": {},
   "source": [
    "### Check Filtering  "
   ]
  },
  {
   "cell_type": "code",
   "execution_count": null,
   "metadata": {},
   "outputs": [],
   "source": [
    "# 12. Check filtering\n",
    "df_Q3['Country']\n",
    "type(df_Q3['Country'])"
   ]
  }
 ],
 "metadata": {
  "kernelspec": {
   "display_name": "Python 3.9.12 ('Junk2')",
   "language": "python",
   "name": "python3"
  },
  "language_info": {
   "codemirror_mode": {
    "name": "ipython",
    "version": 3
   },
   "file_extension": ".py",
   "mimetype": "text/x-python",
   "name": "python",
   "nbconvert_exporter": "python",
   "pygments_lexer": "ipython3",
   "version": "3.10.5"
  },
  "vscode": {
   "interpreter": {
    "hash": "3b8f4006845a7d72156a2b549117d9775e941c7d750486381e11975a2dbfde72"
   }
  }
 },
 "nbformat": 4,
 "nbformat_minor": 4
}
