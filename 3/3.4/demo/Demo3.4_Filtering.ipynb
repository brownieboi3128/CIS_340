{
 "cells": [
  {
   "cell_type": "markdown",
   "metadata": {},
   "source": [
    "# Demo 3.4  ***query()***:  Filtering a *pandas* Dataframe         \n",
    "\n",
    " \n",
    "- **Demonstrates**:  \n",
    "  - Filtering with  ***query()*** \n",
    "    - Using  ***in*** \n",
    "  - Checking Data Types with ***dtypes***  \n",
    "\n",
    "\n",
    "- ** requires data file:  `Olympics.csv`\n",
    "\n",
    "---"
   ]
  },
  {
   "cell_type": "code",
   "execution_count": 2,
   "metadata": {},
   "outputs": [],
   "source": [
    "import pandas as pd"
   ]
  },
  {
   "cell_type": "markdown",
   "metadata": {},
   "source": [
    "### Read the datafile File into a *pandas* Dataframe  "
   ]
  },
  {
   "cell_type": "code",
   "execution_count": 3,
   "metadata": {},
   "outputs": [
    {
     "name": "stdout",
     "output_type": "stream",
     "text": [
      "(87, 6)\n"
     ]
    },
    {
     "data": {
      "text/html": [
       "<div>\n",
       "<style scoped>\n",
       "    .dataframe tbody tr th:only-of-type {\n",
       "        vertical-align: middle;\n",
       "    }\n",
       "\n",
       "    .dataframe tbody tr th {\n",
       "        vertical-align: top;\n",
       "    }\n",
       "\n",
       "    .dataframe thead th {\n",
       "        text-align: right;\n",
       "    }\n",
       "</style>\n",
       "<table border=\"1\" class=\"dataframe\">\n",
       "  <thead>\n",
       "    <tr style=\"text-align: right;\">\n",
       "      <th></th>\n",
       "      <th>Rank</th>\n",
       "      <th>Country</th>\n",
       "      <th>Gold</th>\n",
       "      <th>Silver</th>\n",
       "      <th>Bronze</th>\n",
       "      <th>Total</th>\n",
       "    </tr>\n",
       "  </thead>\n",
       "  <tbody>\n",
       "    <tr>\n",
       "      <th>0</th>\n",
       "      <td>1</td>\n",
       "      <td>United States (USA)</td>\n",
       "      <td>46</td>\n",
       "      <td>37</td>\n",
       "      <td>38</td>\n",
       "      <td>121</td>\n",
       "    </tr>\n",
       "    <tr>\n",
       "      <th>1</th>\n",
       "      <td>2</td>\n",
       "      <td>Great Britain (GBR)</td>\n",
       "      <td>27</td>\n",
       "      <td>23</td>\n",
       "      <td>17</td>\n",
       "      <td>67</td>\n",
       "    </tr>\n",
       "    <tr>\n",
       "      <th>2</th>\n",
       "      <td>3</td>\n",
       "      <td>China (CHN)</td>\n",
       "      <td>26</td>\n",
       "      <td>18</td>\n",
       "      <td>26</td>\n",
       "      <td>70</td>\n",
       "    </tr>\n",
       "    <tr>\n",
       "      <th>3</th>\n",
       "      <td>4</td>\n",
       "      <td>Russia (RUS)</td>\n",
       "      <td>19</td>\n",
       "      <td>17</td>\n",
       "      <td>19</td>\n",
       "      <td>55</td>\n",
       "    </tr>\n",
       "    <tr>\n",
       "      <th>4</th>\n",
       "      <td>5</td>\n",
       "      <td>Germany (GER)</td>\n",
       "      <td>17</td>\n",
       "      <td>10</td>\n",
       "      <td>15</td>\n",
       "      <td>42</td>\n",
       "    </tr>\n",
       "  </tbody>\n",
       "</table>\n",
       "</div>"
      ],
      "text/plain": [
       "   Rank              Country  Gold  Silver  Bronze  Total\n",
       "0     1  United States (USA)    46      37      38    121\n",
       "1     2  Great Britain (GBR)    27      23      17     67\n",
       "2     3          China (CHN)    26      18      26     70\n",
       "3     4         Russia (RUS)    19      17      19     55\n",
       "4     5        Germany (GER)    17      10      15     42"
      ]
     },
     "execution_count": 3,
     "metadata": {},
     "output_type": "execute_result"
    }
   ],
   "source": [
    "# 1. Read the data file \"Olympics.csv\" into a pandas DataFrame;\n",
    "# display the DataFrame head and shape.\n",
    "df = pd.read_csv(\"Olympics.csv\")\n",
    "\n",
    "print(df.shape)\n",
    "df.head()"
   ]
  },
  {
   "cell_type": "markdown",
   "metadata": {},
   "source": [
    "### Check Data Types"
   ]
  },
  {
   "cell_type": "code",
   "execution_count": 5,
   "metadata": {},
   "outputs": [
    {
     "data": {
      "text/plain": [
       "Rank        int64\n",
       "Country    object\n",
       "Gold        int64\n",
       "Silver      int64\n",
       "Bronze      int64\n",
       "Total       int64\n",
       "dtype: object"
      ]
     },
     "execution_count": 5,
     "metadata": {},
     "output_type": "execute_result"
    }
   ],
   "source": [
    "# 2. Display the data types of each column\n",
    "df.dtypes"
   ]
  },
  {
   "cell_type": "markdown",
   "metadata": {},
   "source": [
    "# Filtering on a *String* Condition \n",
    "- Options:  \n",
    "  - **==**  \n",
    "  - **!=**   "
   ]
  },
  {
   "cell_type": "markdown",
   "metadata": {},
   "source": [
    "#### Use unique() to get exact spelling  "
   ]
  },
  {
   "cell_type": "code",
   "execution_count": 4,
   "metadata": {},
   "outputs": [
    {
     "data": {
      "text/plain": [
       "array(['United States (USA)', 'Great Britain (GBR)', 'China (CHN)',\n",
       "       'Russia (RUS)', 'Germany (GER)', 'Japan (JPN)', 'France (FRA)',\n",
       "       'South Korea (KOR)', 'Italy (ITA)', 'Australia (AUS)',\n",
       "       'Netherlands (NED)', 'Hungary (HUN)', 'Brazil (BRA)*',\n",
       "       'Spain (ESP)', 'Kenya (KEN)', 'Jamaica (JAM)', 'Croatia (CRO)',\n",
       "       'Cuba (CUB)', 'New Zealand (NZL)', 'Canada (CAN)',\n",
       "       'Uzbekistan (UZB)', 'Kazakhstan (KAZ)', 'Colombia (COL)',\n",
       "       'Switzerland (SUI)', 'Iran (IRI)', 'Greece (GRE)',\n",
       "       'Argentina (ARG)', 'Denmark (DEN)', 'Sweden (SWE)',\n",
       "       'South Africa (RSA)', 'Ukraine (UKR)', 'Serbia (SRB)',\n",
       "       'Poland (POL)', 'North Korea (PRK)', 'Belgium (BEL)',\n",
       "       'Thailand (THA)', 'Slovakia (SVK)', 'Georgia (GEO)',\n",
       "       'Azerbaijan (AZE)', 'Belarus (BLR)', 'Turkey (TUR)',\n",
       "       'Armenia (ARM)', 'Czech Republic (CZE)', 'Ethiopia (ETH)',\n",
       "       'Slovenia (SLO)', 'Indonesia (INA)', 'Romania (ROU)',\n",
       "       'Bahrain (BRN)', 'Vietnam (VIE)', 'Chinese Taipei (TPE)',\n",
       "       'Bahamas (BAH)', \"Côte d'Ivoire (CIV)\",\n",
       "       'Independent Olympic Athletes (IOA)', 'Fiji (FIJ)', 'Jordan (JOR)',\n",
       "       'Kosovo (KOS)', 'Puerto Rico (PUR)', 'Singapore (SIN)',\n",
       "       'Tajikistan (TJK)', 'Malaysia (MAS)', 'Mexico (MEX)',\n",
       "       'Algeria (ALG)', 'Ireland (IRL)', 'Lithuania (LTU)',\n",
       "       'Bulgaria (BUL)', 'Venezuela (VEN)', 'India (IND)',\n",
       "       'Mongolia (MGL)', 'Burundi (BDI)', 'Grenada (GRN)', 'Niger (NIG)',\n",
       "       'Philippines (PHI)', 'Qatar (QAT)', 'Norway (NOR)', 'Egypt (EGY)',\n",
       "       'Tunisia (TUN)', 'Israel (ISR)', 'Austria (AUT)',\n",
       "       'Dominican Republic (DOM)', 'Estonia (EST)', 'Finland (FIN)',\n",
       "       'Morocco (MAR)', 'Moldova (MDA)', 'Nigeria (NGR)',\n",
       "       'Portugal (POR)', 'Trinidad and Tobago (TTO)',\n",
       "       'United Arab Emirates (UAE)'], dtype=object)"
      ]
     },
     "execution_count": 4,
     "metadata": {},
     "output_type": "execute_result"
    }
   ],
   "source": [
    "# 3. Get unique values of the column and get the exact spelling\n",
    "df['Country'].unique()"
   ]
  },
  {
   "cell_type": "markdown",
   "metadata": {},
   "source": [
    "### Filter"
   ]
  },
  {
   "cell_type": "code",
   "execution_count": 9,
   "metadata": {},
   "outputs": [
    {
     "name": "stdout",
     "output_type": "stream",
     "text": [
      "(1, 6)\n"
     ]
    },
    {
     "data": {
      "text/html": [
       "<div>\n",
       "<style scoped>\n",
       "    .dataframe tbody tr th:only-of-type {\n",
       "        vertical-align: middle;\n",
       "    }\n",
       "\n",
       "    .dataframe tbody tr th {\n",
       "        vertical-align: top;\n",
       "    }\n",
       "\n",
       "    .dataframe thead th {\n",
       "        text-align: right;\n",
       "    }\n",
       "</style>\n",
       "<table border=\"1\" class=\"dataframe\">\n",
       "  <thead>\n",
       "    <tr style=\"text-align: right;\">\n",
       "      <th></th>\n",
       "      <th>Rank</th>\n",
       "      <th>Country</th>\n",
       "      <th>Gold</th>\n",
       "      <th>Silver</th>\n",
       "      <th>Bronze</th>\n",
       "      <th>Total</th>\n",
       "    </tr>\n",
       "  </thead>\n",
       "  <tbody>\n",
       "    <tr>\n",
       "      <th>0</th>\n",
       "      <td>1</td>\n",
       "      <td>United States (USA)</td>\n",
       "      <td>46</td>\n",
       "      <td>37</td>\n",
       "      <td>38</td>\n",
       "      <td>121</td>\n",
       "    </tr>\n",
       "  </tbody>\n",
       "</table>\n",
       "</div>"
      ],
      "text/plain": [
       "   Rank              Country  Gold  Silver  Bronze  Total\n",
       "0     1  United States (USA)    46      37      38    121"
      ]
     },
     "execution_count": 9,
     "metadata": {},
     "output_type": "execute_result"
    }
   ],
   "source": [
    "# 4. Filter the data using the query method\n",
    "df_Q1 = df.query('Country == \"United States (USA)\"')\n",
    "\n",
    "print(df_Q1.shape)\n",
    "df_Q1.head()"
   ]
  },
  {
   "cell_type": "markdown",
   "metadata": {},
   "source": [
    "### Check Filtering  "
   ]
  },
  {
   "cell_type": "code",
   "execution_count": 10,
   "metadata": {},
   "outputs": [
    {
     "data": {
      "text/plain": [
       "array(['United States (USA)'], dtype=object)"
      ]
     },
     "execution_count": 10,
     "metadata": {},
     "output_type": "execute_result"
    }
   ],
   "source": [
    "# 5. Check filtering\n",
    "df_Q1['Country'].unique()"
   ]
  },
  {
   "cell_type": "markdown",
   "metadata": {},
   "source": [
    "# Filtering on a *Numeric* Condition \n",
    "- Options:  \n",
    "  - **>**  \n",
    "  - **<** \n",
    "  - **>=**  \n",
    "  - **<=**    \n",
    "  - **!=** "
   ]
  },
  {
   "cell_type": "markdown",
   "metadata": {},
   "source": [
    "#### First Make Sure the Field is Numeric  \n",
    "- If it's not, the above operators might work, but not exactly the way you want them to!  "
   ]
  },
  {
   "cell_type": "code",
   "execution_count": 11,
   "metadata": {},
   "outputs": [
    {
     "data": {
      "text/plain": [
       "Rank        int64\n",
       "Country    object\n",
       "Gold        int64\n",
       "Silver      int64\n",
       "Bronze      int64\n",
       "Total       int64\n",
       "dtype: object"
      ]
     },
     "execution_count": 11,
     "metadata": {},
     "output_type": "execute_result"
    }
   ],
   "source": [
    "# 6. Check data type for Gold to make sure it's numeric\n",
    "df.dtypes"
   ]
  },
  {
   "cell_type": "markdown",
   "metadata": {},
   "source": [
    "### Filter  "
   ]
  },
  {
   "cell_type": "code",
   "execution_count": 12,
   "metadata": {},
   "outputs": [
    {
     "name": "stdout",
     "output_type": "stream",
     "text": [
      "(6, 6)\n"
     ]
    },
    {
     "data": {
      "text/html": [
       "<div>\n",
       "<style scoped>\n",
       "    .dataframe tbody tr th:only-of-type {\n",
       "        vertical-align: middle;\n",
       "    }\n",
       "\n",
       "    .dataframe tbody tr th {\n",
       "        vertical-align: top;\n",
       "    }\n",
       "\n",
       "    .dataframe thead th {\n",
       "        text-align: right;\n",
       "    }\n",
       "</style>\n",
       "<table border=\"1\" class=\"dataframe\">\n",
       "  <thead>\n",
       "    <tr style=\"text-align: right;\">\n",
       "      <th></th>\n",
       "      <th>Rank</th>\n",
       "      <th>Country</th>\n",
       "      <th>Gold</th>\n",
       "      <th>Silver</th>\n",
       "      <th>Bronze</th>\n",
       "      <th>Total</th>\n",
       "    </tr>\n",
       "  </thead>\n",
       "  <tbody>\n",
       "    <tr>\n",
       "      <th>0</th>\n",
       "      <td>1</td>\n",
       "      <td>United States (USA)</td>\n",
       "      <td>46</td>\n",
       "      <td>37</td>\n",
       "      <td>38</td>\n",
       "      <td>121</td>\n",
       "    </tr>\n",
       "    <tr>\n",
       "      <th>1</th>\n",
       "      <td>2</td>\n",
       "      <td>Great Britain (GBR)</td>\n",
       "      <td>27</td>\n",
       "      <td>23</td>\n",
       "      <td>17</td>\n",
       "      <td>67</td>\n",
       "    </tr>\n",
       "    <tr>\n",
       "      <th>2</th>\n",
       "      <td>3</td>\n",
       "      <td>China (CHN)</td>\n",
       "      <td>26</td>\n",
       "      <td>18</td>\n",
       "      <td>26</td>\n",
       "      <td>70</td>\n",
       "    </tr>\n",
       "    <tr>\n",
       "      <th>3</th>\n",
       "      <td>4</td>\n",
       "      <td>Russia (RUS)</td>\n",
       "      <td>19</td>\n",
       "      <td>17</td>\n",
       "      <td>19</td>\n",
       "      <td>55</td>\n",
       "    </tr>\n",
       "    <tr>\n",
       "      <th>4</th>\n",
       "      <td>5</td>\n",
       "      <td>Germany (GER)</td>\n",
       "      <td>17</td>\n",
       "      <td>10</td>\n",
       "      <td>15</td>\n",
       "      <td>42</td>\n",
       "    </tr>\n",
       "    <tr>\n",
       "      <th>5</th>\n",
       "      <td>6</td>\n",
       "      <td>Japan (JPN)</td>\n",
       "      <td>12</td>\n",
       "      <td>8</td>\n",
       "      <td>21</td>\n",
       "      <td>41</td>\n",
       "    </tr>\n",
       "  </tbody>\n",
       "</table>\n",
       "</div>"
      ],
      "text/plain": [
       "   Rank              Country  Gold  Silver  Bronze  Total\n",
       "0     1  United States (USA)    46      37      38    121\n",
       "1     2  Great Britain (GBR)    27      23      17     67\n",
       "2     3          China (CHN)    26      18      26     70\n",
       "3     4         Russia (RUS)    19      17      19     55\n",
       "4     5        Germany (GER)    17      10      15     42\n",
       "5     6          Japan (JPN)    12       8      21     41"
      ]
     },
     "execution_count": 12,
     "metadata": {},
     "output_type": "execute_result"
    }
   ],
   "source": [
    "# 7. Filter the data using the query method\n",
    "df_Q2 = df.query('Gold > 10')\n",
    "print(df_Q2.shape)\n",
    "df_Q2"
   ]
  },
  {
   "cell_type": "markdown",
   "metadata": {},
   "source": [
    "### Check Filtering  "
   ]
  },
  {
   "cell_type": "code",
   "execution_count": 14,
   "metadata": {},
   "outputs": [
    {
     "data": {
      "text/plain": [
       "array([46, 27, 26, 19, 17, 12])"
      ]
     },
     "execution_count": 14,
     "metadata": {},
     "output_type": "execute_result"
    }
   ],
   "source": [
    "# 8. Check filtering \n",
    "df_Q2['Gold'].unique()"
   ]
  },
  {
   "cell_type": "markdown",
   "metadata": {},
   "source": [
    "# Filtering on *Multiple Values*  \n",
    "\n",
    "- Option:  ***in***  \n"
   ]
  },
  {
   "cell_type": "markdown",
   "metadata": {},
   "source": [
    "#### Use unique() to get exact spellings  \n"
   ]
  },
  {
   "cell_type": "code",
   "execution_count": 15,
   "metadata": {},
   "outputs": [
    {
     "data": {
      "text/plain": [
       "array(['United States (USA)', 'Great Britain (GBR)', 'China (CHN)',\n",
       "       'Russia (RUS)', 'Germany (GER)', 'Japan (JPN)', 'France (FRA)',\n",
       "       'South Korea (KOR)', 'Italy (ITA)', 'Australia (AUS)',\n",
       "       'Netherlands (NED)', 'Hungary (HUN)', 'Brazil (BRA)*',\n",
       "       'Spain (ESP)', 'Kenya (KEN)', 'Jamaica (JAM)', 'Croatia (CRO)',\n",
       "       'Cuba (CUB)', 'New Zealand (NZL)', 'Canada (CAN)',\n",
       "       'Uzbekistan (UZB)', 'Kazakhstan (KAZ)', 'Colombia (COL)',\n",
       "       'Switzerland (SUI)', 'Iran (IRI)', 'Greece (GRE)',\n",
       "       'Argentina (ARG)', 'Denmark (DEN)', 'Sweden (SWE)',\n",
       "       'South Africa (RSA)', 'Ukraine (UKR)', 'Serbia (SRB)',\n",
       "       'Poland (POL)', 'North Korea (PRK)', 'Belgium (BEL)',\n",
       "       'Thailand (THA)', 'Slovakia (SVK)', 'Georgia (GEO)',\n",
       "       'Azerbaijan (AZE)', 'Belarus (BLR)', 'Turkey (TUR)',\n",
       "       'Armenia (ARM)', 'Czech Republic (CZE)', 'Ethiopia (ETH)',\n",
       "       'Slovenia (SLO)', 'Indonesia (INA)', 'Romania (ROU)',\n",
       "       'Bahrain (BRN)', 'Vietnam (VIE)', 'Chinese Taipei (TPE)',\n",
       "       'Bahamas (BAH)', \"Côte d'Ivoire (CIV)\",\n",
       "       'Independent Olympic Athletes (IOA)', 'Fiji (FIJ)', 'Jordan (JOR)',\n",
       "       'Kosovo (KOS)', 'Puerto Rico (PUR)', 'Singapore (SIN)',\n",
       "       'Tajikistan (TJK)', 'Malaysia (MAS)', 'Mexico (MEX)',\n",
       "       'Algeria (ALG)', 'Ireland (IRL)', 'Lithuania (LTU)',\n",
       "       'Bulgaria (BUL)', 'Venezuela (VEN)', 'India (IND)',\n",
       "       'Mongolia (MGL)', 'Burundi (BDI)', 'Grenada (GRN)', 'Niger (NIG)',\n",
       "       'Philippines (PHI)', 'Qatar (QAT)', 'Norway (NOR)', 'Egypt (EGY)',\n",
       "       'Tunisia (TUN)', 'Israel (ISR)', 'Austria (AUT)',\n",
       "       'Dominican Republic (DOM)', 'Estonia (EST)', 'Finland (FIN)',\n",
       "       'Morocco (MAR)', 'Moldova (MDA)', 'Nigeria (NGR)',\n",
       "       'Portugal (POR)', 'Trinidad and Tobago (TTO)',\n",
       "       'United Arab Emirates (UAE)'], dtype=object)"
      ]
     },
     "execution_count": 15,
     "metadata": {},
     "output_type": "execute_result"
    }
   ],
   "source": [
    "# 9. Get unique values of the column and get the exact spelling\n",
    "df['Country'].unique()"
   ]
  },
  {
   "cell_type": "markdown",
   "metadata": {},
   "source": [
    "### Filter  "
   ]
  },
  {
   "cell_type": "code",
   "execution_count": 16,
   "metadata": {},
   "outputs": [],
   "source": [
    "# 10. Create a List of the Countries we want to filter by\n",
    "selected_countries = ['United States (USA)', 'Great Britain (GBR)', 'China (CHN)',\n",
    "       'Russia (RUS)', 'Germany (GER)' ]"
   ]
  },
  {
   "cell_type": "code",
   "execution_count": 17,
   "metadata": {},
   "outputs": [
    {
     "name": "stdout",
     "output_type": "stream",
     "text": [
      "(5, 6)\n"
     ]
    },
    {
     "data": {
      "text/html": [
       "<div>\n",
       "<style scoped>\n",
       "    .dataframe tbody tr th:only-of-type {\n",
       "        vertical-align: middle;\n",
       "    }\n",
       "\n",
       "    .dataframe tbody tr th {\n",
       "        vertical-align: top;\n",
       "    }\n",
       "\n",
       "    .dataframe thead th {\n",
       "        text-align: right;\n",
       "    }\n",
       "</style>\n",
       "<table border=\"1\" class=\"dataframe\">\n",
       "  <thead>\n",
       "    <tr style=\"text-align: right;\">\n",
       "      <th></th>\n",
       "      <th>Rank</th>\n",
       "      <th>Country</th>\n",
       "      <th>Gold</th>\n",
       "      <th>Silver</th>\n",
       "      <th>Bronze</th>\n",
       "      <th>Total</th>\n",
       "    </tr>\n",
       "  </thead>\n",
       "  <tbody>\n",
       "    <tr>\n",
       "      <th>0</th>\n",
       "      <td>1</td>\n",
       "      <td>United States (USA)</td>\n",
       "      <td>46</td>\n",
       "      <td>37</td>\n",
       "      <td>38</td>\n",
       "      <td>121</td>\n",
       "    </tr>\n",
       "    <tr>\n",
       "      <th>1</th>\n",
       "      <td>2</td>\n",
       "      <td>Great Britain (GBR)</td>\n",
       "      <td>27</td>\n",
       "      <td>23</td>\n",
       "      <td>17</td>\n",
       "      <td>67</td>\n",
       "    </tr>\n",
       "    <tr>\n",
       "      <th>2</th>\n",
       "      <td>3</td>\n",
       "      <td>China (CHN)</td>\n",
       "      <td>26</td>\n",
       "      <td>18</td>\n",
       "      <td>26</td>\n",
       "      <td>70</td>\n",
       "    </tr>\n",
       "    <tr>\n",
       "      <th>3</th>\n",
       "      <td>4</td>\n",
       "      <td>Russia (RUS)</td>\n",
       "      <td>19</td>\n",
       "      <td>17</td>\n",
       "      <td>19</td>\n",
       "      <td>55</td>\n",
       "    </tr>\n",
       "    <tr>\n",
       "      <th>4</th>\n",
       "      <td>5</td>\n",
       "      <td>Germany (GER)</td>\n",
       "      <td>17</td>\n",
       "      <td>10</td>\n",
       "      <td>15</td>\n",
       "      <td>42</td>\n",
       "    </tr>\n",
       "  </tbody>\n",
       "</table>\n",
       "</div>"
      ],
      "text/plain": [
       "   Rank              Country  Gold  Silver  Bronze  Total\n",
       "0     1  United States (USA)    46      37      38    121\n",
       "1     2  Great Britain (GBR)    27      23      17     67\n",
       "2     3          China (CHN)    26      18      26     70\n",
       "3     4         Russia (RUS)    19      17      19     55\n",
       "4     5        Germany (GER)    17      10      15     42"
      ]
     },
     "execution_count": 17,
     "metadata": {},
     "output_type": "execute_result"
    }
   ],
   "source": [
    "# 11. Create a new Dataframe based on the filter results\n",
    "df_Q3 = df.query('Country in @selected_countries')\n",
    "\n",
    "print(df_Q3.shape)\n",
    "df_Q3"
   ]
  },
  {
   "cell_type": "markdown",
   "metadata": {},
   "source": [
    "### Check Filtering  "
   ]
  },
  {
   "cell_type": "code",
   "execution_count": 21,
   "metadata": {},
   "outputs": [
    {
     "name": "stdout",
     "output_type": "stream",
     "text": [
      "<class 'pandas.core.series.Series'>\n"
     ]
    },
    {
     "data": {
      "text/plain": [
       "0    United States (USA)\n",
       "1    Great Britain (GBR)\n",
       "2            China (CHN)\n",
       "3           Russia (RUS)\n",
       "4          Germany (GER)\n",
       "Name: Country, dtype: object"
      ]
     },
     "execution_count": 21,
     "metadata": {},
     "output_type": "execute_result"
    }
   ],
   "source": [
    "# 12. Check filtering\n",
    "print(type(df_Q3['Country']))\n",
    "df_Q3['Country']"
   ]
  }
 ],
 "metadata": {
  "kernelspec": {
   "display_name": "Python 3",
   "language": "python",
   "name": "python3"
  },
  "language_info": {
   "codemirror_mode": {
    "name": "ipython",
    "version": 3
   },
   "file_extension": ".py",
   "mimetype": "text/x-python",
   "name": "python",
   "nbconvert_exporter": "python",
   "pygments_lexer": "ipython3",
   "version": "3.12.5"
  }
 },
 "nbformat": 4,
 "nbformat_minor": 4
}
