{
 "cells": [
  {
   "cell_type": "markdown",
   "metadata": {
    "nbgrader": {
     "grade": false,
     "grade_id": "cell-235b2bbb68574304",
     "locked": true,
     "schema_version": 3,
     "solution": false,
     "task": false
    }
   },
   "source": [
    "## Ex 3.9 Dealing with Missing Data\n",
    "\n",
    "Missing data is a common fact of life in data analytics.  We will explore here some tools for identifying and dealing with missing data.\n",
    "\n",
    "In the code cell below, we'll import pandas and then read a csv file with daily climate data in Ithaca, NY during the month of January 2018.  Execute the next code cell, which will display the dataframe after reading it in."
   ]
  },
  {
   "cell_type": "code",
   "execution_count": null,
   "metadata": {
    "nbgrader": {
     "grade": false,
     "grade_id": "cell-7fecdb93228aff95",
     "locked": true,
     "schema_version": 3,
     "solution": false,
     "task": false
    }
   },
   "outputs": [],
   "source": [
    "import pandas as pd\n",
    "df = pd.read_csv('Data/IthacaDailyClimateJan2018.csv', parse_dates=['Date'])\n",
    "df"
   ]
  },
  {
   "cell_type": "markdown",
   "metadata": {
    "nbgrader": {
     "grade": false,
     "grade_id": "cell-ddaf14235d988dc2",
     "locked": true,
     "schema_version": 3,
     "solution": false,
     "task": false
    }
   },
   "source": [
    "### Step 1.\n",
    "\n",
    "To examine the summary information of the dataframe using the <code>info</code> method, execute the code cell below. You should note that different columns have different numbers of missing entries.  Pandas uses the word \"null\" to refer to missing data, such that a \"non-null\" entry is one that is not missing."
   ]
  },
  {
   "cell_type": "code",
   "execution_count": null,
   "metadata": {
    "nbgrader": {
     "grade": false,
     "grade_id": "cell-213a3e8b672733ec",
     "locked": true,
     "schema_version": 3,
     "solution": false,
     "task": false
    }
   },
   "outputs": [],
   "source": [
    "df.info()"
   ]
  },
  {
   "cell_type": "markdown",
   "metadata": {
    "nbgrader": {
     "grade": false,
     "grade_id": "cell-048d0c8e8a60d1a0",
     "locked": true,
     "schema_version": 3,
     "solution": false,
     "task": false
    }
   },
   "source": [
    "### Step 2.\n",
    "\n",
    "Even though data are missing, pandas is able to compute a variety of useful things from the data that are present.  In the code cell below, enter and execute an expression to compute the mean of each column of the dataframe, storing the result in a variable named ```meanvals```, and then print those mean values."
   ]
  },
  {
   "cell_type": "code",
   "execution_count": null,
   "metadata": {
    "nbgrader": {
     "grade": false,
     "grade_id": "cell-75af3123b3de66bf",
     "locked": true,
     "schema_version": 1,
     "solution": false,
     "task": false
    },
    "scrolled": true
   },
   "outputs": [],
   "source": [
    "# YOUR CODE HERE"
   ]
  },
  {
   "cell_type": "markdown",
   "metadata": {
    "nbgrader": {
     "grade": false,
     "grade_id": "cell-d7857d5d720dbb37",
     "locked": true,
     "schema_version": 3,
     "solution": false,
     "task": false
    }
   },
   "source": [
    "### Step 3.\n",
    "\n",
    "A pandas dataframe has a method ```isnull``` that returns a new dataframe that is the shape of the original dataframe, but contains only boolean values, such that an entry is ```True``` if the corresponding entry in the original is missing (is null) and ```False``` if the corresponding entry is present (is not null).  Pandas dataframes also have a method ```notnull``` that reverses the logic of the ```isnull``` test.\n",
    "\n",
    "In the code cell below, execute a call to ```df.isnull()``` and examine the output.  You should observe that the resulting dataframe mostly contains ```False```, but is ```True``` wherever ```df``` has a missing entry."
   ]
  },
  {
   "cell_type": "code",
   "execution_count": null,
   "metadata": {
    "nbgrader": {
     "grade": false,
     "grade_id": "cell-47ec63fbb1ba83d8",
     "locked": true,
     "schema_version": 3,
     "solution": false,
     "task": false
    }
   },
   "outputs": [],
   "source": [
    "df.isnull()"
   ]
  },
  {
   "cell_type": "markdown",
   "metadata": {
    "nbgrader": {
     "grade": false,
     "grade_id": "cell-d99dcfd654833068",
     "locked": true,
     "schema_version": 3,
     "solution": false,
     "task": false
    }
   },
   "source": [
    "### Step 4.\n",
    "\n",
    "From the summary information we printed above, we could try to estimate how many missing entries each column has, by subtracting the number of non-null entries from the total.  But even easier is just to compute that, using the output from ```df.isnull()```.  Even though that dataframe is composed of entries that are either ```True``` or ```False```, it is useful to recall that in Python, ```True``` has value equal to 1, and ```False``` has value equal to 0.  Therefore, to count the number of missing entries in each column, all we need to do is sum up each column of the dataframe returned by the command ```df.isnull()```; each instance of missing data (```True```) will add one count to the sum.  You have previously been instructed how to sum up a dataframe over all rows for each column by calling the ```sum``` method with the appropriate axis parameter.\n",
    "\n",
    "In the code cell below, write an expression that computes the number of missing entries in each column, and assign the result to the variable ```num_missing```.  Print out ```num_missing``` to see the counts in each column."
   ]
  },
  {
   "cell_type": "code",
   "execution_count": null,
   "metadata": {
    "nbgrader": {
     "grade": false,
     "grade_id": "cell-d7fd0ce4b3924605",
     "locked": false,
     "schema_version": 3,
     "solution": true,
     "task": false
    }
   },
   "outputs": [],
   "source": [
    "# YOUR CODE HERE"
   ]
  },
  {
   "cell_type": "markdown",
   "metadata": {
    "nbgrader": {
     "grade": false,
     "grade_id": "cell-e690bd56893b3be2",
     "locked": true,
     "schema_version": 3,
     "solution": false,
     "task": false
    }
   },
   "source": [
    "### Step 5.\n",
    "\n",
    "Having computed above how many entries are missing in each column, maybe you want to know how many entries are missing in all (i.e., over columns).  Write an expression to compute the total number of missing entries in the entire dataframe ```df```, and store the result in the variable ```total_missing```.  (Hint: you can append one more function call to the code that you wrote in the previous step to sum up the counts over all columns.)  Print the value of ```total_missing```."
   ]
  },
  {
   "cell_type": "code",
   "execution_count": null,
   "metadata": {
    "nbgrader": {
     "grade": false,
     "grade_id": "cell-73633f8420cdb30c",
     "locked": true,
     "schema_version": 3,
     "solution": false,
     "task": false
    }
   },
   "outputs": [],
   "source": [
    "# YOUR CODE HERE"
   ]
  },
  {
   "cell_type": "markdown",
   "metadata": {
    "nbgrader": {
     "grade": false,
     "grade_id": "cell-003bc685a8895bca",
     "locked": true,
     "schema_version": 3,
     "solution": false,
     "task": false
    }
   },
   "source": [
    "### Step 6.\n",
    "\n",
    "While we can compute some things even with missing data, we might be interested in trying to estimate values for those missing entries, or in filling out the dataframe for an analysis that requires that all data be available. If you do intend to fill in missing data, you'll want to think carefully about the best approach to that, based on your particular dataset and the questions you are interested in.  Different methods can produce substantially different estimates, as demonstrated below.\n",
    "\n",
    "One approach would be to use the ```fillna``` method on a dataframe to fill in missing data in each column.  We might decide that where we have missing data, we can replace it by the mean value of all the present data in that column.  \n",
    "\n",
    "In the code cell below, fill each missing entry according to the column mean, and assign the result to the variable ```df1```.  In other words, all missing entries in a given column should be assigned to the mean value of the data that are present in that column.  (Hint, you can use ```df.mean()``` to compute the mean value of each column, and use that result as input to fill in the missing data.)"
   ]
  },
  {
   "cell_type": "code",
   "execution_count": null,
   "metadata": {
    "nbgrader": {
     "grade": false,
     "grade_id": "cell-1094b6a4d8ac537a",
     "locked": true,
     "schema_version": 3,
     "solution": false,
     "task": false
    }
   },
   "outputs": [],
   "source": [
    "# YOUR CODE HERE"
   ]
  },
  {
   "cell_type": "markdown",
   "metadata": {
    "nbgrader": {
     "grade": false,
     "grade_id": "cell-6c3e3f2642ac8a59",
     "locked": true,
     "schema_version": 3,
     "solution": false,
     "task": false
    }
   },
   "source": [
    "### Step 7.\n",
    "\n",
    "The ```fillna``` method used above assigns each missing entry to the same value per column.  Since our climate data occur as a time series (from the beginning to the end of the month), it might be more reasonable to try to fill in data based upon nearby dates, rather than assigning it to the mean over the entire month.  Since temperatures and snowfalls are more likely to be correlated over nearby days, this might be a better approach to filling in the data.\n",
    "\n",
    "Fortunately, pandas provides a method for *interpolating* data based on nearby values: a linear interpolation, for example, assigns to a missing entry the average value of the entries before and after it.  Additional information about interpolation is provided [here](https://pandas.pydata.org/pandas-docs/stable/reference/api/pandas.DataFrame.interpolate.html).\n",
    "\n",
    "In the code cell below, we'll use the ```interpolate``` method on the climate dataframe, and the ```'linear'``` method for interpolation, assigning the result to the variable ```df2```. To view the result, execute the code cell below."
   ]
  },
  {
   "cell_type": "code",
   "execution_count": null,
   "metadata": {
    "nbgrader": {
     "grade": false,
     "grade_id": "cell-75817ad60f279390",
     "locked": true,
     "schema_version": 3,
     "solution": false,
     "task": false
    }
   },
   "outputs": [],
   "source": [
    "# Perform interpolation on numeric columns only\n",
    "numeric_cols = df.select_dtypes(include='number').columns\n",
    "df[numeric_cols] = df[numeric_cols].interpolate(method='linear')\n",
    "\n",
    "# Create a new dataframe as df2 after performing interpolation\n",
    "df2 = df.copy()\n",
    "\n",
    "# Display the resulting dataframe, df2 with all columns\n",
    "df2"
   ]
  },
  {
   "cell_type": "markdown",
   "metadata": {
    "nbgrader": {
     "grade": false,
     "grade_id": "cell-82b4a2d20fe349af",
     "locked": true,
     "schema_version": 3,
     "solution": false,
     "task": false
    }
   },
   "source": [
    "### Step 8.\n",
    "\n",
    "Compute the difference between ```df1``` and ```df2```, and assign the result to the variable ```diff12``` (Hint: Use an arithmetic operator to find the difference).  Examine the contents of ```diff12```.  You should note that ```diff12``` has value 0 everywhere that ```df``` had data present, since no estimates were required to fill in those entries.  For those entries with missing data, the two methods of estimation can vary considerably."
   ]
  },
  {
   "cell_type": "code",
   "execution_count": null,
   "metadata": {
    "nbgrader": {
     "grade": false,
     "grade_id": "cell-d8990397e685ccd8",
     "locked": false,
     "schema_version": 3,
     "solution": true,
     "task": false
    }
   },
   "outputs": [],
   "source": [
    "# YOUR CODE HERE"
   ]
  }
 ],
 "metadata": {
  "kernelspec": {
   "display_name": "Python 3",
   "language": "python",
   "name": "python3"
  },
  "language_info": {
   "codemirror_mode": {
    "name": "ipython",
    "version": 3
   },
   "file_extension": ".py",
   "mimetype": "text/x-python",
   "name": "python",
   "nbconvert_exporter": "python",
   "pygments_lexer": "ipython3",
   "version": "3.10.5"
  }
 },
 "nbformat": 4,
 "nbformat_minor": 2
}
