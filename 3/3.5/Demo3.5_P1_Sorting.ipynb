{
 "cells": [
  {
   "cell_type": "markdown",
   "metadata": {},
   "source": [
    "# Demo 3.5 ***sort_values()***: Sorting a *pandas* Dataframe    \n",
    "\n",
    " \n",
    "- **Changing Data Types**  \n",
    "- **Sorting by One, Two or Three Columns**   \n",
    "  - **Sorting by a Single Column**      \n",
    "  - **Sorting by Two Columns**    \n",
    "  - **Sorting by Three Columns**    \n",
    "\n",
    "\n",
    "**requires data file:  `Cars.csv`\n",
    "\n",
    "---\n",
    "\n",
    " "
   ]
  },
  {
   "cell_type": "code",
   "execution_count": 9,
   "metadata": {},
   "outputs": [],
   "source": [
    "import pandas as pd"
   ]
  },
  {
   "cell_type": "markdown",
   "metadata": {},
   "source": [
    "### 1. Read the datafile File into a *pandas* Dataframe  "
   ]
  },
  {
   "cell_type": "code",
   "execution_count": null,
   "metadata": {},
   "outputs": [],
   "source": [
    "# dtype sets the data type as the csv file is read\n",
    "# I'm doing it here just so I can demo changing the data types from string to numeric ones\n",
    "df = pd.read_csv(\"Data/Cars.csv\",\n",
    "                 dtype={'MPG_City': str,\n",
    "                        'MPG_Hwy': str,\n",
    "                        'Horsepower': str})\n",
    "\n",
    "print(df.shape)\n",
    "df.head()"
   ]
  },
  {
   "cell_type": "markdown",
   "metadata": {},
   "source": [
    "### 2. Change Data Types as Needed  "
   ]
  },
  {
   "cell_type": "code",
   "execution_count": null,
   "metadata": {},
   "outputs": [],
   "source": [
    "df.dtypes"
   ]
  },
  {
   "cell_type": "code",
   "execution_count": null,
   "metadata": {},
   "outputs": [],
   "source": [
    "# 3. Change the data types of the columns to the appropriate ones\n",
    "\n",
    "# MPG and Dollar Amounts can be decimals - so they should all be floats\n",
    "df['MPG_City'] = df['MPG_City']\n",
    "df['MPG_Hwy'] = df['MPG_Hwy']\n",
    "\n",
    "df['MSRP'] = df['MSRP']\n",
    "df['Invoice'] = df['Invoice']\n",
    "\n",
    "# Horsepower is usually a reported as a whole number, so let's change it to an Integer\n",
    "df['Horsepower'] = df['Horsepower']\n",
    "\n",
    "df.dtypes"
   ]
  },
  {
   "cell_type": "markdown",
   "metadata": {},
   "source": [
    "# Sorting by a Single Column  "
   ]
  },
  {
   "cell_type": "markdown",
   "metadata": {},
   "source": [
    "### 4. Sort Highest to Lowest"
   ]
  },
  {
   "cell_type": "code",
   "execution_count": null,
   "metadata": {},
   "outputs": [],
   "source": [
    "\n",
    "\n",
    "print(df.shape)\n",
    "df.head()"
   ]
  },
  {
   "cell_type": "markdown",
   "metadata": {},
   "source": [
    "### 5. Sort Lowest to Highest  "
   ]
  },
  {
   "cell_type": "code",
   "execution_count": null,
   "metadata": {
    "tags": []
   },
   "outputs": [],
   "source": [
    "\n",
    "\n",
    "\n",
    "print(df.shape)\n",
    "df.head()"
   ]
  },
  {
   "cell_type": "markdown",
   "metadata": {},
   "source": [
    "# Sorting by Two Columns  "
   ]
  },
  {
   "cell_type": "markdown",
   "metadata": {},
   "source": [
    "### 6. Sort by Origin (Alphabetically) and MPG_City (Most to Least)  "
   ]
  },
  {
   "cell_type": "code",
   "execution_count": null,
   "metadata": {
    "tags": []
   },
   "outputs": [],
   "source": [
    "\n",
    "print(df.shape)\n",
    "df.head()"
   ]
  },
  {
   "cell_type": "markdown",
   "metadata": {},
   "source": [
    "### 7. Sort by Origin (Reverse Alphabetically) and MPG_City (Least to Most)  "
   ]
  },
  {
   "cell_type": "code",
   "execution_count": null,
   "metadata": {
    "tags": []
   },
   "outputs": [],
   "source": [
    "\n",
    "print(df.shape)\n",
    "df.head()"
   ]
  },
  {
   "cell_type": "markdown",
   "metadata": {},
   "source": [
    "# Sorting by Three Columns  "
   ]
  },
  {
   "cell_type": "markdown",
   "metadata": {},
   "source": [
    "### 8. Sort by Origin (Alphabetically), Type (Alphabetically) and MPG_City (Most to Least)  "
   ]
  },
  {
   "cell_type": "code",
   "execution_count": null,
   "metadata": {
    "tags": []
   },
   "outputs": [],
   "source": [
    "\n",
    "\n",
    "print(df.shape)\n",
    "df.head(10)"
   ]
  }
 ],
 "metadata": {
  "kernelspec": {
   "display_name": "Python 3.9.12 ('DashTest')",
   "language": "python",
   "name": "python3"
  },
  "language_info": {
   "codemirror_mode": {
    "name": "ipython",
    "version": 3
   },
   "file_extension": ".py",
   "mimetype": "text/x-python",
   "name": "python",
   "nbconvert_exporter": "python",
   "pygments_lexer": "ipython3",
   "version": "3.10.5"
  },
  "vscode": {
   "interpreter": {
    "hash": "a000eb4568a64cc86426b0ffec02cd705901da0b4ef109a157555bb736f0bf9c"
   }
  }
 },
 "nbformat": 4,
 "nbformat_minor": 4
}
