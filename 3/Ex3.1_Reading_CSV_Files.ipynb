{
 "cells": [
  {
   "cell_type": "markdown",
   "metadata": {},
   "source": [
    "# Ex 3.1: Reading a *CSV* file      \n",
    "\n",
    "Read the CSV File into a *pandas* Dataframe  and display basic info about the new *pandas Dataframe*.    \n",
    "\n",
    "- **Demonstrates**:  \n",
    "  - read_csv()\n",
    "  - head()  \n",
    "  - shape  \n",
    "\n",
    "** requires data files: `Country_Data.csv`,`Only Drug Poisoning Deaths Cleaned.csv`, and `cbp_GA_MotionPicture_Sector_5121.csv`\n",
    "\n",
    "---"
   ]
  },
  {
   "attachments": {},
   "cell_type": "markdown",
   "metadata": {},
   "source": [
    "# Part 1\n",
    "\n",
    "### Read the *CSV* File into a *pandas* Dataframe  \n",
    "- Under your code folder (or each code folder), create a folder named *Data*\n",
    "- All the data files you use in Cis 340 should be in a *Data* folder"
   ]
  },
  {
   "cell_type": "code",
   "execution_count": 7,
   "metadata": {},
   "outputs": [],
   "source": [
    "import pandas as pd"
   ]
  },
  {
   "cell_type": "code",
   "execution_count": null,
   "metadata": {},
   "outputs": [],
   "source": [
    "# 1. Read the data file \"Country_data.csv\" into a pandas DataFrame;\n",
    "# display the DataFrame shape and head.\n",
    "print(\"Ex 3.1 Part 1 - pandas Dataframe\")\n",
    "\n",
    "# YOUR CODE HERE"
   ]
  },
  {
   "cell_type": "markdown",
   "metadata": {},
   "source": [
    "### Display Data Types"
   ]
  },
  {
   "cell_type": "code",
   "execution_count": null,
   "metadata": {},
   "outputs": [],
   "source": [
    "# 2. Display the data types of each column\n",
    "print(\"Ex 3.1 Part 1 - Column Data Types\")\n",
    "\n",
    "# YOUR CODE HERE"
   ]
  },
  {
   "cell_type": "markdown",
   "metadata": {},
   "source": [
    "---"
   ]
  },
  {
   "cell_type": "markdown",
   "metadata": {},
   "source": [
    "# Part 2"
   ]
  },
  {
   "cell_type": "code",
   "execution_count": null,
   "metadata": {},
   "outputs": [],
   "source": [
    "# 1. Read the data file \"Only Drug Poisoning Deaths Cleaned.csv\" into a pandas DataFrame;\n",
    "# display the DataFrame shape and head.\n",
    "print(\"Ex 3.1 Part 2\")\n",
    "\n",
    "# YOUR CODE HERE"
   ]
  },
  {
   "cell_type": "markdown",
   "metadata": {},
   "source": [
    "# Part 3"
   ]
  },
  {
   "cell_type": "code",
   "execution_count": null,
   "metadata": {},
   "outputs": [],
   "source": [
    "# 1. Read the data file \"cbp_GA_MotionPicture_Sector_5121.csv\" into a pandas DataFrame;\n",
    "# display the DataFrame shape and head.\n",
    "print(\"Ex 3.1 Part 3\")\n",
    "\n",
    "# YOUR CODE HERE"
   ]
  },
  {
   "cell_type": "markdown",
   "metadata": {},
   "source": [
    "### Display Data Types"
   ]
  },
  {
   "cell_type": "code",
   "execution_count": null,
   "metadata": {},
   "outputs": [],
   "source": [
    "# 2. Display the data types of each column\n",
    "print(\"Ex 3.1 Part 3 - Column Data Types\")\n",
    "\n",
    "# YOUR CODE HERE"
   ]
  }
 ],
 "metadata": {
  "kernelspec": {
   "display_name": "Python 3.9.12 ('Cis340_Fall_2022')",
   "language": "python",
   "name": "python3"
  },
  "language_info": {
   "codemirror_mode": {
    "name": "ipython",
    "version": 3
   },
   "file_extension": ".py",
   "mimetype": "text/x-python",
   "name": "python",
   "nbconvert_exporter": "python",
   "pygments_lexer": "ipython3",
   "version": "3.10.5"
  },
  "vscode": {
   "interpreter": {
    "hash": "426c03df16ead08d896f83ef39e25467a46f39b961906caffdc3fd6183b9ccc5"
   }
  }
 },
 "nbformat": 4,
 "nbformat_minor": 4
}
