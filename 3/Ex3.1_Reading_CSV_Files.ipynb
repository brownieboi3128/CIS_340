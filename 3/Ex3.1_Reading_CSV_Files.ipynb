{
 "cells": [
  {
   "cell_type": "markdown",
   "metadata": {},
   "source": [
    "# Ex 3.1: Reading a *CSV* file      \n",
    "\n",
    "Read the CSV File into a *pandas* Dataframe  and display basic info about the new *pandas Dataframe*.    \n",
    "\n",
    "- **Demonstrates**:  \n",
    "  - read_csv()\n",
    "  - head()  \n",
    "  - shape  \n",
    "\n",
    "** requires data files: `Country_Data.csv`,`Only Drug Poisoning Deaths Cleaned.csv`, and `cbp_GA_MotionPicture_Sector_5121.csv`\n",
    "\n",
    "---"
   ]
  },
  {
   "attachments": {},
   "cell_type": "markdown",
   "metadata": {},
   "source": [
    "# Part 1\n",
    "\n",
    "### Read the *CSV* File into a *pandas* Dataframe  \n",
    "- Under your code folder (or each code folder), create a folder named *Data*\n",
    "- All the data files you use in Cis 340 should be in a *Data* folder"
   ]
  },
  {
   "cell_type": "code",
   "execution_count": 2,
   "metadata": {},
   "outputs": [],
   "source": [
    "import pandas as pd"
   ]
  },
  {
   "cell_type": "code",
   "execution_count": 3,
   "metadata": {},
   "outputs": [
    {
     "name": "stdout",
     "output_type": "stream",
     "text": [
      "Ex 3.1 Part 1 - pandas Dataframe\n",
      "(1692, 6)\n",
      "       Country Continent  Year  Life Expectancy  Population  GDP Per Capita\n",
      "0  Afghanistan      Asia  1952           28.801     8425333      779.445314\n",
      "1  Afghanistan      Asia  1957           30.332     9240934      820.853030\n",
      "2  Afghanistan      Asia  1962           31.997    10267083      853.100710\n",
      "3  Afghanistan      Asia  1967           34.020    11537966      836.197138\n",
      "4  Afghanistan      Asia  1972           36.088    13079460      739.981106\n"
     ]
    }
   ],
   "source": [
    "# 1. Read the data file \"Country_data.csv\" into a pandas DataFrame;\n",
    "# display the DataFrame shape and head.\n",
    "print(\"Ex 3.1 Part 1 - pandas Dataframe\")\n",
    "\n",
    "df = pd.read_csv(\"Country_data.csv\")\n",
    "print(df.shape)\n",
    "print(df.head())\n"
   ]
  },
  {
   "cell_type": "markdown",
   "metadata": {},
   "source": [
    "### Display Data Types"
   ]
  },
  {
   "cell_type": "code",
   "execution_count": 8,
   "metadata": {},
   "outputs": [
    {
     "name": "stdout",
     "output_type": "stream",
     "text": [
      "Ex 3.1 Part 1 - Column Data Types\n",
      "Country             object\n",
      "Continent           object\n",
      "Year                 int64\n",
      "Life Expectancy    float64\n",
      "Population           int64\n",
      "GDP Per Capita     float64\n",
      "dtype: object\n"
     ]
    }
   ],
   "source": [
    "# 2. Display the data types of each column\n",
    "print(\"Ex 3.1 Part 1 - Column Data Types\")\n",
    "\n",
    "print(df.dtypes)\n"
   ]
  },
  {
   "cell_type": "markdown",
   "metadata": {},
   "source": [
    "---"
   ]
  },
  {
   "cell_type": "markdown",
   "metadata": {},
   "source": [
    "# Part 2"
   ]
  },
  {
   "cell_type": "code",
   "execution_count": 12,
   "metadata": {},
   "outputs": [
    {
     "name": "stdout",
     "output_type": "stream",
     "text": [
      "Ex 3.1 Part 2\n",
      "(3136, 5)\n",
      "   Year State_Name County_Name  Population  Model-based_Death_Rate\n",
      "0  2020    Alabama     Autauga       56145                11.61598\n",
      "1  2020    Alabama     Baldwin      229287                27.35131\n",
      "2  2020    Alabama     Barbour       24589                 7.64675\n",
      "3  2020    Alabama        Bibb       22136                27.32364\n",
      "4  2020    Alabama      Blount       57879                24.20066\n"
     ]
    }
   ],
   "source": [
    "# 1. Read the data file \"Only Drug Poisoning Deaths Cleaned.csv\" into a pandas DataFrame;\n",
    "# display the DataFrame shape and head.\n",
    "print(\"Ex 3.1 Part 2\")\n",
    "\n",
    "df = pd.read_csv(\"Only Drug Poisoning Deaths Cleaned.csv\")\n",
    "print(df.shape)\n",
    "print(df.head())\n"
   ]
  },
  {
   "cell_type": "markdown",
   "metadata": {},
   "source": [
    "# Part 3"
   ]
  },
  {
   "cell_type": "code",
   "execution_count": 19,
   "metadata": {},
   "outputs": [
    {
     "name": "stdout",
     "output_type": "stream",
     "text": [
      "Ex 3.1 Part 3\n",
      "(30, 11)\n",
      "  County_Name  EMP  ESTAB  PAYANN           LFO_LABEL  \\\n",
      "0      Barrow   29      3     481  All establishments   \n",
      "1      Bartow   13      3     658  All establishments   \n",
      "2     Carroll    4      3     104  All establishments   \n",
      "3     Chatham   69     20    3422  All establishments   \n",
      "4    Cherokee   27     17    1240  All establishments   \n",
      "\n",
      "                       NAICS2017_LABEL       EMPSZES_LABEL  FIPS_State  \\\n",
      "0  Motion picture and video industries  All establishments        5121   \n",
      "1  Motion picture and video industries  All establishments        5121   \n",
      "2  Motion picture and video industries  All establishments        5121   \n",
      "3  Motion picture and video industries  All establishments        5121   \n",
      "4  Motion picture and video industries  All establishments        5121   \n",
      "\n",
      "   FIPS_County State_Name          GEO_ID  \n",
      "0           13    Georgia  0500000US13013  \n",
      "1           13    Georgia  0500000US13015  \n",
      "2           13    Georgia  0500000US13045  \n",
      "3           13    Georgia  0500000US13051  \n",
      "4           13    Georgia  0500000US13057  \n"
     ]
    }
   ],
   "source": [
    "# 1. Read the data file \"cbp_GA_MotionPicture_Sector_5121.csv\" into a pandas DataFrame;\n",
    "# display the DataFrame shape and head.\n",
    "print(\"Ex 3.1 Part 3\")\n",
    "\n",
    "df = pd.read_csv(\"cbp_GA_MotionPicture_Sector_5121.csv\")\n",
    "print(df.shape)\n",
    "print(df.head())"
   ]
  },
  {
   "cell_type": "markdown",
   "metadata": {},
   "source": [
    "### Display Data Types"
   ]
  },
  {
   "cell_type": "code",
   "execution_count": 20,
   "metadata": {},
   "outputs": [
    {
     "name": "stdout",
     "output_type": "stream",
     "text": [
      "Ex 3.1 Part 3 - Column Data Types\n",
      "County_Name        object\n",
      "EMP                 int64\n",
      "ESTAB               int64\n",
      "PAYANN              int64\n",
      "LFO_LABEL          object\n",
      "NAICS2017_LABEL    object\n",
      "EMPSZES_LABEL      object\n",
      "FIPS_State          int64\n",
      "FIPS_County         int64\n",
      "State_Name         object\n",
      "GEO_ID             object\n",
      "dtype: object\n"
     ]
    }
   ],
   "source": [
    "# 2. Display the data types of each column\n",
    "print(\"Ex 3.1 Part 3 - Column Data Types\")\n",
    "\n",
    "print(df.dtypes)\n"
   ]
  }
 ],
 "metadata": {
  "kernelspec": {
   "display_name": "Python 3",
   "language": "python",
   "name": "python3"
  },
  "language_info": {
   "codemirror_mode": {
    "name": "ipython",
    "version": 3
   },
   "file_extension": ".py",
   "mimetype": "text/x-python",
   "name": "python",
   "nbconvert_exporter": "python",
   "pygments_lexer": "ipython3",
   "version": "3.12.5"
  }
 },
 "nbformat": 4,
 "nbformat_minor": 4
}
