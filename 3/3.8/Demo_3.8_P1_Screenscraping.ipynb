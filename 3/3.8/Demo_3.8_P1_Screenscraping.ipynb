{
 "cells": [
  {
   "attachments": {},
   "cell_type": "markdown",
   "id": "departmental-republic",
   "metadata": {},
   "source": [
    "# Demo 3.8 - Part 1:  Screenscraping with pandas  \n",
    "\n",
    "- **Skills Demonstrated:**  \n",
    "  1. Screenscraping with *read_html()*  \n",
    "  \n",
    "\n",
    "- Web page with data: https://en.wikipedia.org/wiki/List_of_S%26P_500_companies\n",
    "\n",
    "\n",
    "\n",
    "- **Key Steps:**  \n",
    "  1. Grab HTML Table data from web page  \n",
    "    1. Each HTML Table of data will be stored as an item in the *tables* List\n",
    "  2. Choose the table of data (from the *tables* List) you want  \n",
    "  3. Create a pandas dataframe from the chosen list item of data\n",
    "\n",
    "\n",
    "- **References:**  \n",
    "  - [Quick Tip: The easiest way to grab data out of a web page in Python](https://medium.com/@ageitgey/quick-tip-the-easiest-way-to-grab-data-out-of-a-web-page-in-python-7153cecfca58)    \n",
    "  - [Reading HTML Tables with pandas](https://pbpython.com/pandas-html-table.html)  "
   ]
  },
  {
   "cell_type": "code",
   "execution_count": 9,
   "id": "academic-spine",
   "metadata": {},
   "outputs": [],
   "source": [
    "import pandas as pd"
   ]
  },
  {
   "cell_type": "markdown",
   "id": "6c8cd001-edfe-42c9-85f5-334fbdd6302e",
   "metadata": {},
   "source": [
    "# 1. Grab table(s) from web page \n",
    "- Each HTML table of data 0n the web page will be one item our the python List *tables*"
   ]
  },
  {
   "cell_type": "code",
   "execution_count": 10,
   "id": "alpine-backup",
   "metadata": {},
   "outputs": [],
   "source": [
    "url =  'https://en.wikipedia.org/wiki/List_of_S%26P_500_companies'"
   ]
  },
  {
   "cell_type": "markdown",
   "id": "9651e78a",
   "metadata": {},
   "source": [
    "#### Identify the data type"
   ]
  },
  {
   "cell_type": "code",
   "execution_count": null,
   "id": "bda4be7d-28fa-4fd6-a372-a0f663eb5be1",
   "metadata": {},
   "outputs": [],
   "source": [
    "type(df)"
   ]
  },
  {
   "cell_type": "markdown",
   "id": "9eafc4e8-8ab7-4b05-a8ac-9b2b5c1753de",
   "metadata": {},
   "source": [
    "# 2. Choose the table of data (from the table List) you want  "
   ]
  },
  {
   "cell_type": "code",
   "execution_count": null,
   "id": "moved-chase",
   "metadata": {},
   "outputs": [],
   "source": [
    "print(\"Number of Tables of Data in tables List:  \", )"
   ]
  },
  {
   "cell_type": "code",
   "execution_count": null,
   "id": "metric-cologne",
   "metadata": {},
   "outputs": [],
   "source": []
  },
  {
   "cell_type": "markdown",
   "id": "higher-burns",
   "metadata": {},
   "source": [
    "# 3. Create a pandas dataframe from the chosen list item of data"
   ]
  },
  {
   "cell_type": "code",
   "execution_count": null,
   "id": "moved-afternoon",
   "metadata": {},
   "outputs": [],
   "source": [
    "df = \n",
    "\n",
    "print(\"3.8 Demo Part 1: Screenscraping\")\n",
    "print(df.shape)\n",
    "df.head()"
   ]
  },
  {
   "cell_type": "code",
   "execution_count": null,
   "id": "large-inspection",
   "metadata": {},
   "outputs": [],
   "source": [
    "df.dtypes"
   ]
  },
  {
   "cell_type": "markdown",
   "id": "763fc8ff-295e-474f-93ad-136eabdf130a",
   "metadata": {},
   "source": [
    "# Optional:  Save the Dataframe as a CSV file"
   ]
  },
  {
   "cell_type": "code",
   "execution_count": 16,
   "id": "43ab38df-5759-458e-94fa-432c94df30b2",
   "metadata": {
    "tags": []
   },
   "outputs": [],
   "source": [
    "# csv_file_to_create = \"Demo_3.8_P1_SP500_Stocks.csv\"\n",
    "\n",
    "# filename_with_path = \"Data/\" + csv_file_to_create\n",
    "# df.to_csv(filename_with_path, index=False)"
   ]
  }
 ],
 "metadata": {
  "kernelspec": {
   "display_name": "Python 3.9.12 ('Cis340_Fall_2022')",
   "language": "python",
   "name": "python3"
  },
  "language_info": {
   "codemirror_mode": {
    "name": "ipython",
    "version": 3
   },
   "file_extension": ".py",
   "mimetype": "text/x-python",
   "name": "python",
   "nbconvert_exporter": "python",
   "pygments_lexer": "ipython3",
   "version": "3.10.5"
  },
  "vscode": {
   "interpreter": {
    "hash": "426c03df16ead08d896f83ef39e25467a46f39b961906caffdc3fd6183b9ccc5"
   }
  }
 },
 "nbformat": 4,
 "nbformat_minor": 5
}
