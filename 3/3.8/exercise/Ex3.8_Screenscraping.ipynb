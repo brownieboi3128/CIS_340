{
 "cells": [
  {
   "cell_type": "markdown",
   "metadata": {},
   "source": [
    "# Part 1"
   ]
  },
  {
   "cell_type": "code",
   "execution_count": 2,
   "metadata": {},
   "outputs": [],
   "source": [
    "import pandas as pd\n",
    "url = 'https://simple.wikipedia.org/wiki/List_of_U.S._states_by_traditional_abbreviation'"
   ]
  },
  {
   "cell_type": "code",
   "execution_count": 3,
   "metadata": {},
   "outputs": [
    {
     "name": "stdout",
     "output_type": "stream",
     "text": [
      "Ex 3.8 Part 1\n",
      "(51, 2)\n"
     ]
    },
    {
     "data": {
      "text/html": [
       "<div>\n",
       "<style scoped>\n",
       "    .dataframe tbody tr th:only-of-type {\n",
       "        vertical-align: middle;\n",
       "    }\n",
       "\n",
       "    .dataframe tbody tr th {\n",
       "        vertical-align: top;\n",
       "    }\n",
       "\n",
       "    .dataframe thead th {\n",
       "        text-align: right;\n",
       "    }\n",
       "</style>\n",
       "<table border=\"1\" class=\"dataframe\">\n",
       "  <thead>\n",
       "    <tr style=\"text-align: right;\">\n",
       "      <th></th>\n",
       "      <th>State_Name</th>\n",
       "      <th>State_Abbr</th>\n",
       "    </tr>\n",
       "  </thead>\n",
       "  <tbody>\n",
       "    <tr>\n",
       "      <th>0</th>\n",
       "      <td>Alabama</td>\n",
       "      <td>AL</td>\n",
       "    </tr>\n",
       "    <tr>\n",
       "      <th>1</th>\n",
       "      <td>Alaska</td>\n",
       "      <td>AK</td>\n",
       "    </tr>\n",
       "    <tr>\n",
       "      <th>2</th>\n",
       "      <td>Arizona</td>\n",
       "      <td>AZ</td>\n",
       "    </tr>\n",
       "    <tr>\n",
       "      <th>3</th>\n",
       "      <td>Arkansas</td>\n",
       "      <td>AR</td>\n",
       "    </tr>\n",
       "    <tr>\n",
       "      <th>4</th>\n",
       "      <td>California</td>\n",
       "      <td>CA</td>\n",
       "    </tr>\n",
       "  </tbody>\n",
       "</table>\n",
       "</div>"
      ],
      "text/plain": [
       "   State_Name State_Abbr\n",
       "0     Alabama         AL\n",
       "1      Alaska         AK\n",
       "2     Arizona         AZ\n",
       "3    Arkansas         AR\n",
       "4  California         CA"
      ]
     },
     "execution_count": 3,
     "metadata": {},
     "output_type": "execute_result"
    }
   ],
   "source": [
    "print(\"Ex 3.8 Part 1\")\n",
    "df = pd.read_html(url)\n",
    "df = df[0]\n",
    "df.drop(columns=['Traditional abbreviation'], inplace=True)\n",
    "df.rename(columns={'State': 'State_Name', 'Other abbreviations': 'State_Abbr'}, inplace=True)\n",
    "print(df.shape)\n",
    "df.head()"
   ]
  },
  {
   "cell_type": "markdown",
   "metadata": {},
   "source": [
    "# Part 2"
   ]
  },
  {
   "cell_type": "code",
   "execution_count": 4,
   "metadata": {},
   "outputs": [
    {
     "data": {
      "text/html": [
       "<div>\n",
       "<style scoped>\n",
       "    .dataframe tbody tr th:only-of-type {\n",
       "        vertical-align: middle;\n",
       "    }\n",
       "\n",
       "    .dataframe tbody tr th {\n",
       "        vertical-align: top;\n",
       "    }\n",
       "\n",
       "    .dataframe thead th {\n",
       "        text-align: right;\n",
       "    }\n",
       "</style>\n",
       "<table border=\"1\" class=\"dataframe\">\n",
       "  <thead>\n",
       "    <tr style=\"text-align: right;\">\n",
       "      <th></th>\n",
       "      <th>BusinessEntityID</th>\n",
       "      <th>EmployeeName</th>\n",
       "      <th>EmailAddress</th>\n",
       "      <th>PhoneNumber</th>\n",
       "      <th>StartDate</th>\n",
       "      <th>CurrentSalary</th>\n",
       "    </tr>\n",
       "  </thead>\n",
       "  <tbody>\n",
       "    <tr>\n",
       "      <th>0</th>\n",
       "      <td>1699</td>\n",
       "      <td>Robinson, David</td>\n",
       "      <td>david22@adventure-works.com</td>\n",
       "      <td>(827) 525-0100</td>\n",
       "      <td>06-05-2010</td>\n",
       "      <td>$80,950</td>\n",
       "    </tr>\n",
       "    <tr>\n",
       "      <th>1</th>\n",
       "      <td>1700</td>\n",
       "      <td>Robinson, Rebecca</td>\n",
       "      <td>rebecca5 @adventure-works.com</td>\n",
       "      <td>(829) 525-0101</td>\n",
       "      <td>05-01-2015</td>\n",
       "      <td>$70,950</td>\n",
       "    </tr>\n",
       "    <tr>\n",
       "      <th>2</th>\n",
       "      <td>1701</td>\n",
       "      <td>Robinson, Dorothy</td>\n",
       "      <td>dorothy3@adventure-works.com</td>\n",
       "      <td>(828) 555-0102</td>\n",
       "      <td>03-01-2017</td>\n",
       "      <td>$50,00</td>\n",
       "    </tr>\n",
       "  </tbody>\n",
       "</table>\n",
       "</div>"
      ],
      "text/plain": [
       "   BusinessEntityID                EmployeeName  \\\n",
       "0              1699           Robinson, David     \n",
       "1              1700         Robinson, Rebecca     \n",
       "2              1701       Robinson, Dorothy       \n",
       "\n",
       "                         EmailAddress     PhoneNumber   StartDate  \\\n",
       "0       david22@adventure-works.com    (827) 525-0100  06-05-2010   \n",
       "1     rebecca5 @adventure-works.com    (829) 525-0101  05-01-2015   \n",
       "2    dorothy3@adventure-works.com      (828) 555-0102  03-01-2017   \n",
       "\n",
       "  CurrentSalary  \n",
       "0       $80,950  \n",
       "1       $70,950  \n",
       "2        $50,00  "
      ]
     },
     "execution_count": 4,
     "metadata": {},
     "output_type": "execute_result"
    }
   ],
   "source": [
    "df_employees = pd.DataFrame(\n",
    "[\n",
    "[1699,'  Robinson, David  ','  david22@adventure-works.com  ', '(827) 525-0100', '06-05-2010', '$80,950'], \n",
    "[1700,'  Robinson, Rebecca  ','  rebecca5 @adventure-works.com  ', '(829) 525-0101', '05-01-2015', '$70,950'],\n",
    "[1701,'     Robinson, Dorothy    ','  dorothy3@adventure-works.com    ', '(828) 555-0102', '03-01-2017', '$50,00'],\n",
    "], \n",
    "columns=['BusinessEntityID', 'EmployeeName','EmailAddress', 'PhoneNumber', 'StartDate', 'CurrentSalary'])\n",
    "\t  \n",
    "df_employees\n"
   ]
  },
  {
   "cell_type": "code",
   "execution_count": 5,
   "metadata": {},
   "outputs": [
    {
     "name": "stdout",
     "output_type": "stream",
     "text": [
      "Ex 3.8 Part 2\n"
     ]
    },
    {
     "data": {
      "text/html": [
       "<div>\n",
       "<style scoped>\n",
       "    .dataframe tbody tr th:only-of-type {\n",
       "        vertical-align: middle;\n",
       "    }\n",
       "\n",
       "    .dataframe tbody tr th {\n",
       "        vertical-align: top;\n",
       "    }\n",
       "\n",
       "    .dataframe thead th {\n",
       "        text-align: right;\n",
       "    }\n",
       "</style>\n",
       "<table border=\"1\" class=\"dataframe\">\n",
       "  <thead>\n",
       "    <tr style=\"text-align: right;\">\n",
       "      <th></th>\n",
       "      <th>Emp_Name</th>\n",
       "      <th>Emp_Email</th>\n",
       "      <th>Emp_Phone</th>\n",
       "      <th>Emp_Start</th>\n",
       "      <th>Emp_Salary</th>\n",
       "    </tr>\n",
       "  </thead>\n",
       "  <tbody>\n",
       "    <tr>\n",
       "      <th>0</th>\n",
       "      <td>Robinson, David</td>\n",
       "      <td>david22@adventure-works.com</td>\n",
       "      <td>(827) 525-0100</td>\n",
       "      <td>06-05-2010</td>\n",
       "      <td>$80,950</td>\n",
       "    </tr>\n",
       "    <tr>\n",
       "      <th>1</th>\n",
       "      <td>Robinson, Rebecca</td>\n",
       "      <td>rebecca5 @adventure-works.com</td>\n",
       "      <td>(829) 525-0101</td>\n",
       "      <td>05-01-2015</td>\n",
       "      <td>$70,950</td>\n",
       "    </tr>\n",
       "    <tr>\n",
       "      <th>2</th>\n",
       "      <td>Robinson, Dorothy</td>\n",
       "      <td>dorothy3@adventure-works.com</td>\n",
       "      <td>(828) 555-0102</td>\n",
       "      <td>03-01-2017</td>\n",
       "      <td>$50,00</td>\n",
       "    </tr>\n",
       "  </tbody>\n",
       "</table>\n",
       "</div>"
      ],
      "text/plain": [
       "                     Emp_Name                           Emp_Email  \\\n",
       "0           Robinson, David         david22@adventure-works.com     \n",
       "1         Robinson, Rebecca       rebecca5 @adventure-works.com     \n",
       "2       Robinson, Dorothy        dorothy3@adventure-works.com       \n",
       "\n",
       "        Emp_Phone   Emp_Start Emp_Salary  \n",
       "0  (827) 525-0100  06-05-2010    $80,950  \n",
       "1  (829) 525-0101  05-01-2015    $70,950  \n",
       "2  (828) 555-0102  03-01-2017     $50,00  "
      ]
     },
     "execution_count": 5,
     "metadata": {},
     "output_type": "execute_result"
    }
   ],
   "source": [
    "print(\"Ex 3.8 Part 2\")\n",
    "df_employees.drop(columns=['BusinessEntityID'], inplace=True)\n",
    "df_employees.rename(columns={'EmployeeName':'Emp_Name', 'EmailAddress':'Emp_Email', 'PhoneNumber':'Emp_Phone', 'StartDate':'Emp_Start', 'CurrentSalary':'Emp_Salary'}, inplace=True)\n",
    "df_employees\n"
   ]
  },
  {
   "cell_type": "markdown",
   "metadata": {},
   "source": [
    "# Part 3"
   ]
  },
  {
   "cell_type": "code",
   "execution_count": 19,
   "metadata": {},
   "outputs": [
    {
     "name": "stdout",
     "output_type": "stream",
     "text": [
      "Ex 3.8 Part 3\n",
      "Note: Get rid of $ and commas, but only for 1980 and 1990\n",
      "(52, 10)\n"
     ]
    },
    {
     "data": {
      "text/html": [
       "<div>\n",
       "<style scoped>\n",
       "    .dataframe tbody tr th:only-of-type {\n",
       "        vertical-align: middle;\n",
       "    }\n",
       "\n",
       "    .dataframe tbody tr th {\n",
       "        vertical-align: top;\n",
       "    }\n",
       "\n",
       "    .dataframe thead th {\n",
       "        text-align: right;\n",
       "    }\n",
       "</style>\n",
       "<table border=\"1\" class=\"dataframe\">\n",
       "  <thead>\n",
       "    <tr style=\"text-align: right;\">\n",
       "      <th></th>\n",
       "      <th>State</th>\n",
       "      <th>1980</th>\n",
       "      <th>1990</th>\n",
       "      <th>1995</th>\n",
       "      <th>2000</th>\n",
       "      <th>2003</th>\n",
       "      <th>2006</th>\n",
       "      <th>2009</th>\n",
       "      <th>2012</th>\n",
       "      <th>2015</th>\n",
       "    </tr>\n",
       "  </thead>\n",
       "  <tbody>\n",
       "    <tr>\n",
       "      <th>0</th>\n",
       "      <td>Alabama</td>\n",
       "      <td>7465</td>\n",
       "      <td>14899</td>\n",
       "      <td>$19,683</td>\n",
       "      <td>$23,521</td>\n",
       "      <td>$26,338</td>\n",
       "      <td>$30,894</td>\n",
       "      <td>$33,096</td>\n",
       "      <td>$35,625</td>\n",
       "      <td>$38,965</td>\n",
       "    </tr>\n",
       "    <tr>\n",
       "      <th>1</th>\n",
       "      <td>Alaska</td>\n",
       "      <td>13007</td>\n",
       "      <td>20887</td>\n",
       "      <td>25798</td>\n",
       "      <td>29642</td>\n",
       "      <td>33568</td>\n",
       "      <td>38138</td>\n",
       "      <td>42603</td>\n",
       "      <td>46778</td>\n",
       "      <td>55940</td>\n",
       "    </tr>\n",
       "    <tr>\n",
       "      <th>2</th>\n",
       "      <td>Arizona</td>\n",
       "      <td>8854</td>\n",
       "      <td>16262</td>\n",
       "      <td>20634</td>\n",
       "      <td>24988</td>\n",
       "      <td>26838</td>\n",
       "      <td>31936</td>\n",
       "      <td>32935</td>\n",
       "      <td>35979</td>\n",
       "      <td>39060</td>\n",
       "    </tr>\n",
       "    <tr>\n",
       "      <th>3</th>\n",
       "      <td>Arkansas</td>\n",
       "      <td>7113</td>\n",
       "      <td>13779</td>\n",
       "      <td>18546</td>\n",
       "      <td>21995</td>\n",
       "      <td>24289</td>\n",
       "      <td>28473</td>\n",
       "      <td>31946</td>\n",
       "      <td>34723</td>\n",
       "      <td>39107</td>\n",
       "    </tr>\n",
       "    <tr>\n",
       "      <th>4</th>\n",
       "      <td>California</td>\n",
       "      <td>11021</td>\n",
       "      <td>20656</td>\n",
       "      <td>24496</td>\n",
       "      <td>32149</td>\n",
       "      <td>33749</td>\n",
       "      <td>39626</td>\n",
       "      <td>42325</td>\n",
       "      <td>44980</td>\n",
       "      <td>52651</td>\n",
       "    </tr>\n",
       "  </tbody>\n",
       "</table>\n",
       "</div>"
      ],
      "text/plain": [
       "        State   1980   1990     1995     2000     2003     2006     2009  \\\n",
       "0     Alabama   7465  14899  $19,683  $23,521  $26,338  $30,894  $33,096   \n",
       "1      Alaska  13007  20887    25798    29642    33568    38138    42603   \n",
       "2     Arizona   8854  16262    20634    24988    26838    31936    32935   \n",
       "3    Arkansas   7113  13779    18546    21995    24289    28473    31946   \n",
       "4  California  11021  20656    24496    32149    33749    39626    42325   \n",
       "\n",
       "      2012     2015  \n",
       "0  $35,625  $38,965  \n",
       "1    46778    55940  \n",
       "2    35979    39060  \n",
       "3    34723    39107  \n",
       "4    44980    52651  "
      ]
     },
     "execution_count": 19,
     "metadata": {},
     "output_type": "execute_result"
    }
   ],
   "source": [
    "url = 'https://www.infoplease.com/business/poverty-income/capita-personal-income-state'\n",
    "print(\"Ex 3.8 Part 3\")\n",
    "print(\"Note: Get rid of $ and commas, but only for 1980 and 1990\")\n",
    "df = pd.read_html(url)\n",
    "df = df[0]\n",
    "df['1980'] = df['1980'].replace({',': '', '\\\\$': ''}, regex=True) \n",
    "df['1990'] = df['1990'].replace({',': '', '\\\\$': ''}, regex=True) \n",
    "df.remove
    "print(df.shape)\n",
    "df.head()"
   ]
  }
 ],
 "metadata": {
  "kernelspec": {
   "display_name": "Python 3",
   "language": "python",
   "name": "python3"
  },
  "language_info": {
   "codemirror_mode": {
    "name": "ipython",
    "version": 3
   },
   "file_extension": ".py",
   "mimetype": "text/x-python",
   "name": "python",
   "nbconvert_exporter": "python",
   "pygments_lexer": "ipython3",
   "version": "3.12.5"
  }
 },
 "nbformat": 4,
 "nbformat_minor": 2
}
