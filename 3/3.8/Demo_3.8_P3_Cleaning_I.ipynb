{
 "cells": [
  {
   "attachments": {},
   "cell_type": "markdown",
   "id": "departmental-republic",
   "metadata": {},
   "source": [
    "# Demo 3.8 - Part 3:  Drop, Renaming, Cleaning out Junk  \n",
    "\n",
    "- **Data Cleaning Skills Demonstrated:**  \n",
    "  1. **Dropping** a Column  \n",
    "  2. **Renaming** a Column  \n",
    "  3. **String Columns**:  \n",
    "     1. Get rid of Leading and Trailing Spaces with *strip()*   \n",
    "  4. **Numeric Columns**:  \n",
    "     1. Get rid of junk with *replace()*  \n"
   ]
  },
  {
   "cell_type": "code",
   "execution_count": 12,
   "id": "academic-spine",
   "metadata": {},
   "outputs": [],
   "source": [
    "import pandas as pd"
   ]
  },
  {
   "cell_type": "markdown",
   "id": "f46ebede-a740-4d59-9e63-82a6cc69559d",
   "metadata": {},
   "source": [
    "### Read data from Part 1 Demo Output"
   ]
  },
  {
   "cell_type": "code",
   "execution_count": null,
   "id": "d279b8e5-8583-475e-828c-a961450b420d",
   "metadata": {},
   "outputs": [],
   "source": [
    "df = pd.read_csv(\"Data/Demo_3.8_P1_SP500_Stocks.csv\")\n",
    "\n",
    "print(df.shape)\n",
    "df.head()"
   ]
  },
  {
   "cell_type": "code",
   "execution_count": null,
   "id": "large-inspection",
   "metadata": {},
   "outputs": [],
   "source": [
    "df.dtypes"
   ]
  },
  {
   "cell_type": "markdown",
   "id": "b5e38edb-c9ba-4c58-b1d4-ae4d176e9427",
   "metadata": {},
   "source": [
    "# Clean Data (as needed)"
   ]
  },
  {
   "cell_type": "markdown",
   "id": "0906170f",
   "metadata": {},
   "source": [
    "- Drop the CIK column"
   ]
  },
  {
   "cell_type": "code",
   "execution_count": null,
   "id": "2f0c01ea-6f60-4886-9a73-673a465f259b",
   "metadata": {},
   "outputs": [],
   "source": [
    "\n",
    "\n",
    "print(df.shape)\n",
    "df.head()"
   ]
  },
  {
   "cell_type": "markdown",
   "id": "c78231c2",
   "metadata": {},
   "source": [
    "- Rename the `GICS Sector` column to `Sector`"
   ]
  },
  {
   "cell_type": "code",
   "execution_count": null,
   "id": "4d477ba0",
   "metadata": {},
   "outputs": [],
   "source": [
    "\n",
    "\n",
    "print(df.shape)\n",
    "df.head()"
   ]
  },
  {
   "cell_type": "code",
   "execution_count": null,
   "id": "c530cbb2",
   "metadata": {},
   "outputs": [],
   "source": [
    "df.columns"
   ]
  },
  {
   "cell_type": "markdown",
   "id": "6ca26eef",
   "metadata": {},
   "source": [
    "- Get rid of the leading and trailing spaces with strip()"
   ]
  },
  {
   "cell_type": "code",
   "execution_count": null,
   "id": "3687e17e-c397-4786-8807-4db99a27b52d",
   "metadata": {},
   "outputs": [],
   "source": [
    "# Get rid of leading and trailing spaces with strip()\n",
    "df.columns = df.columns.str.strip()\n",
    "\n",
    "print(df.shape)\n",
    "df.head()"
   ]
  },
  {
   "cell_type": "markdown",
   "id": "ebbc8525-355e-4025-b3aa-3d29c9e40765",
   "metadata": {},
   "source": [
    "- Introduce some Junk Data"
   ]
  },
  {
   "cell_type": "code",
   "execution_count": null,
   "id": "51acfe84-58f1-4431-bb45-53fe1c21aab2",
   "metadata": {},
   "outputs": [],
   "source": [
    "# Introduce some junk data for demonstration\n",
    "\n",
    "\n",
    "# Display the original values\n",
    "print(\"Values in 'Sector' column:\")\n",
    "print(df['Sector'].head())"
   ]
  },
  {
   "cell_type": "markdown",
   "id": "9713bcef-e07d-4f81-96b7-941a2e475ace",
   "metadata": {},
   "source": [
    "- Get rid of junk characters with replace()"
   ]
  },
  {
   "cell_type": "code",
   "execution_count": null,
   "id": "1155ee5f-bd94-4251-878a-e80022e25318",
   "metadata": {},
   "outputs": [],
   "source": []
  }
 ],
 "metadata": {
  "kernelspec": {
   "display_name": "Cis340_Fall_2022",
   "language": "python",
   "name": "python3"
  },
  "language_info": {
   "codemirror_mode": {
    "name": "ipython",
    "version": 3
   },
   "file_extension": ".py",
   "mimetype": "text/x-python",
   "name": "python",
   "nbconvert_exporter": "python",
   "pygments_lexer": "ipython3",
   "version": "3.10.5"
  },
  "vscode": {
   "interpreter": {
    "hash": "426c03df16ead08d896f83ef39e25467a46f39b961906caffdc3fd6183b9ccc5"
   }
  }
 },
 "nbformat": 4,
 "nbformat_minor": 5
}
