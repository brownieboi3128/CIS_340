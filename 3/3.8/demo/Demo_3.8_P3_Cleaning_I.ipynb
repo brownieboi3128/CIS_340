{
 "cells": [
  {
   "attachments": {},
   "cell_type": "markdown",
   "id": "departmental-republic",
   "metadata": {},
   "source": [
    "# Demo 3.8 - Part 3:  Drop, Renaming, Cleaning out Junk  \n",
    "\n",
    "- **Data Cleaning Skills Demonstrated:**  \n",
    "  1. **Dropping** a Column  \n",
    "  2. **Renaming** a Column  \n",
    "  3. **String Columns**:  \n",
    "     1. Get rid of Leading and Trailing Spaces with *strip()*   \n",
    "  4. **Numeric Columns**:  \n",
    "     1. Get rid of junk with *replace()*  \n"
   ]
  },
  {
   "cell_type": "code",
   "execution_count": 22,
   "id": "academic-spine",
   "metadata": {},
   "outputs": [],
   "source": [
    "import pandas as pd"
   ]
  },
  {
   "cell_type": "markdown",
   "id": "f46ebede-a740-4d59-9e63-82a6cc69559d",
   "metadata": {},
   "source": [
    "### Read data from Part 1 Demo Output"
   ]
  },
  {
   "cell_type": "code",
   "execution_count": 23,
   "id": "d279b8e5-8583-475e-828c-a961450b420d",
   "metadata": {},
   "outputs": [
    {
     "name": "stdout",
     "output_type": "stream",
     "text": [
      "(503, 8)\n"
     ]
    },
    {
     "data": {
      "application/vnd.microsoft.datawrangler.viewer.v0+json": {
       "columns": [
        {
         "name": "index",
         "rawType": "int64",
         "type": "integer"
        },
        {
         "name": "Symbol",
         "rawType": "object",
         "type": "string"
        },
        {
         "name": "Security",
         "rawType": "object",
         "type": "string"
        },
        {
         "name": "GICS Sector",
         "rawType": "object",
         "type": "string"
        },
        {
         "name": "GICS Sub-Industry",
         "rawType": "object",
         "type": "string"
        },
        {
         "name": "Headquarters Location",
         "rawType": "object",
         "type": "string"
        },
        {
         "name": "Date added",
         "rawType": "object",
         "type": "string"
        },
        {
         "name": "CIK",
         "rawType": "int64",
         "type": "integer"
        },
        {
         "name": "Founded",
         "rawType": "object",
         "type": "string"
        }
       ],
       "conversionMethod": "pd.DataFrame",
       "ref": "68fa617f-3a7e-4ec3-854b-caa558dbe769",
       "rows": [
        [
         "0",
         "MMM",
         "3M",
         "Industrials",
         "Industrial Conglomerates",
         "Saint Paul, Minnesota",
         "1957-03-04",
         "66740",
         "1902"
        ],
        [
         "1",
         "AOS",
         "A. O. Smith",
         "Industrials",
         "Building Products",
         "Milwaukee, Wisconsin",
         "2017-07-26",
         "91142",
         "1916"
        ],
        [
         "2",
         "ABT",
         "Abbott",
         "Health Care",
         "Health Care Equipment",
         "North Chicago, Illinois",
         "1957-03-04",
         "1800",
         "1888"
        ],
        [
         "3",
         "ABBV",
         "AbbVie",
         "Health Care",
         "Biotechnology",
         "North Chicago, Illinois",
         "2012-12-31",
         "1551152",
         "2013 (1888)"
        ],
        [
         "4",
         "ACN",
         "Accenture",
         "Information Technology",
         "IT Consulting & Other Services",
         "Dublin, Ireland",
         "2011-07-06",
         "1467373",
         "1989"
        ]
       ],
       "shape": {
        "columns": 8,
        "rows": 5
       }
      },
      "text/html": [
       "<div>\n",
       "<style scoped>\n",
       "    .dataframe tbody tr th:only-of-type {\n",
       "        vertical-align: middle;\n",
       "    }\n",
       "\n",
       "    .dataframe tbody tr th {\n",
       "        vertical-align: top;\n",
       "    }\n",
       "\n",
       "    .dataframe thead th {\n",
       "        text-align: right;\n",
       "    }\n",
       "</style>\n",
       "<table border=\"1\" class=\"dataframe\">\n",
       "  <thead>\n",
       "    <tr style=\"text-align: right;\">\n",
       "      <th></th>\n",
       "      <th>Symbol</th>\n",
       "      <th>Security</th>\n",
       "      <th>GICS Sector</th>\n",
       "      <th>GICS Sub-Industry</th>\n",
       "      <th>Headquarters Location</th>\n",
       "      <th>Date added</th>\n",
       "      <th>CIK</th>\n",
       "      <th>Founded</th>\n",
       "    </tr>\n",
       "  </thead>\n",
       "  <tbody>\n",
       "    <tr>\n",
       "      <th>0</th>\n",
       "      <td>MMM</td>\n",
       "      <td>3M</td>\n",
       "      <td>Industrials</td>\n",
       "      <td>Industrial Conglomerates</td>\n",
       "      <td>Saint Paul, Minnesota</td>\n",
       "      <td>1957-03-04</td>\n",
       "      <td>66740</td>\n",
       "      <td>1902</td>\n",
       "    </tr>\n",
       "    <tr>\n",
       "      <th>1</th>\n",
       "      <td>AOS</td>\n",
       "      <td>A. O. Smith</td>\n",
       "      <td>Industrials</td>\n",
       "      <td>Building Products</td>\n",
       "      <td>Milwaukee, Wisconsin</td>\n",
       "      <td>2017-07-26</td>\n",
       "      <td>91142</td>\n",
       "      <td>1916</td>\n",
       "    </tr>\n",
       "    <tr>\n",
       "      <th>2</th>\n",
       "      <td>ABT</td>\n",
       "      <td>Abbott</td>\n",
       "      <td>Health Care</td>\n",
       "      <td>Health Care Equipment</td>\n",
       "      <td>North Chicago, Illinois</td>\n",
       "      <td>1957-03-04</td>\n",
       "      <td>1800</td>\n",
       "      <td>1888</td>\n",
       "    </tr>\n",
       "    <tr>\n",
       "      <th>3</th>\n",
       "      <td>ABBV</td>\n",
       "      <td>AbbVie</td>\n",
       "      <td>Health Care</td>\n",
       "      <td>Biotechnology</td>\n",
       "      <td>North Chicago, Illinois</td>\n",
       "      <td>2012-12-31</td>\n",
       "      <td>1551152</td>\n",
       "      <td>2013 (1888)</td>\n",
       "    </tr>\n",
       "    <tr>\n",
       "      <th>4</th>\n",
       "      <td>ACN</td>\n",
       "      <td>Accenture</td>\n",
       "      <td>Information Technology</td>\n",
       "      <td>IT Consulting &amp; Other Services</td>\n",
       "      <td>Dublin, Ireland</td>\n",
       "      <td>2011-07-06</td>\n",
       "      <td>1467373</td>\n",
       "      <td>1989</td>\n",
       "    </tr>\n",
       "  </tbody>\n",
       "</table>\n",
       "</div>"
      ],
      "text/plain": [
       "  Symbol     Security             GICS Sector               GICS Sub-Industry  \\\n",
       "0    MMM           3M             Industrials        Industrial Conglomerates   \n",
       "1    AOS  A. O. Smith             Industrials               Building Products   \n",
       "2    ABT       Abbott             Health Care           Health Care Equipment   \n",
       "3   ABBV       AbbVie             Health Care                   Biotechnology   \n",
       "4    ACN    Accenture  Information Technology  IT Consulting & Other Services   \n",
       "\n",
       "     Headquarters Location  Date added      CIK      Founded  \n",
       "0    Saint Paul, Minnesota  1957-03-04    66740         1902  \n",
       "1     Milwaukee, Wisconsin  2017-07-26    91142         1916  \n",
       "2  North Chicago, Illinois  1957-03-04     1800         1888  \n",
       "3  North Chicago, Illinois  2012-12-31  1551152  2013 (1888)  \n",
       "4          Dublin, Ireland  2011-07-06  1467373         1989  "
      ]
     },
     "execution_count": 23,
     "metadata": {},
     "output_type": "execute_result"
    }
   ],
   "source": [
    "df = pd.read_csv(\"Demo_3.8_P1_SP500_Stocks.csv\")\n",
    "\n",
    "print(df.shape)\n",
    "df.head()"
   ]
  },
  {
   "cell_type": "code",
   "execution_count": 24,
   "id": "large-inspection",
   "metadata": {},
   "outputs": [
    {
     "data": {
      "text/plain": [
       "Symbol                   object\n",
       "Security                 object\n",
       "GICS Sector              object\n",
       "GICS Sub-Industry        object\n",
       "Headquarters Location    object\n",
       "Date added               object\n",
       "CIK                       int64\n",
       "Founded                  object\n",
       "dtype: object"
      ]
     },
     "execution_count": 24,
     "metadata": {},
     "output_type": "execute_result"
    }
   ],
   "source": [
    "df.dtypes"
   ]
  },
  {
   "cell_type": "markdown",
   "id": "b5e38edb-c9ba-4c58-b1d4-ae4d176e9427",
   "metadata": {},
   "source": [
    "# Clean Data (as needed)"
   ]
  },
  {
   "cell_type": "markdown",
   "id": "0906170f",
   "metadata": {},
   "source": [
    "- Drop the CIK column"
   ]
  },
  {
   "cell_type": "code",
   "execution_count": 25,
   "id": "2f0c01ea-6f60-4886-9a73-673a465f259b",
   "metadata": {},
   "outputs": [
    {
     "name": "stdout",
     "output_type": "stream",
     "text": [
      "(503, 7)\n"
     ]
    },
    {
     "data": {
      "application/vnd.microsoft.datawrangler.viewer.v0+json": {
       "columns": [
        {
         "name": "index",
         "rawType": "int64",
         "type": "integer"
        },
        {
         "name": "Symbol",
         "rawType": "object",
         "type": "string"
        },
        {
         "name": "Security",
         "rawType": "object",
         "type": "string"
        },
        {
         "name": "GICS Sector",
         "rawType": "object",
         "type": "string"
        },
        {
         "name": "GICS Sub-Industry",
         "rawType": "object",
         "type": "string"
        },
        {
         "name": "Headquarters Location",
         "rawType": "object",
         "type": "string"
        },
        {
         "name": "Date added",
         "rawType": "object",
         "type": "string"
        },
        {
         "name": "Founded",
         "rawType": "object",
         "type": "string"
        }
       ],
       "conversionMethod": "pd.DataFrame",
       "ref": "79514d3c-b6a1-49ad-9bb3-52ce26b70138",
       "rows": [
        [
         "0",
         "MMM",
         "3M",
         "Industrials",
         "Industrial Conglomerates",
         "Saint Paul, Minnesota",
         "1957-03-04",
         "1902"
        ],
        [
         "1",
         "AOS",
         "A. O. Smith",
         "Industrials",
         "Building Products",
         "Milwaukee, Wisconsin",
         "2017-07-26",
         "1916"
        ],
        [
         "2",
         "ABT",
         "Abbott",
         "Health Care",
         "Health Care Equipment",
         "North Chicago, Illinois",
         "1957-03-04",
         "1888"
        ],
        [
         "3",
         "ABBV",
         "AbbVie",
         "Health Care",
         "Biotechnology",
         "North Chicago, Illinois",
         "2012-12-31",
         "2013 (1888)"
        ],
        [
         "4",
         "ACN",
         "Accenture",
         "Information Technology",
         "IT Consulting & Other Services",
         "Dublin, Ireland",
         "2011-07-06",
         "1989"
        ]
       ],
       "shape": {
        "columns": 7,
        "rows": 5
       }
      },
      "text/html": [
       "<div>\n",
       "<style scoped>\n",
       "    .dataframe tbody tr th:only-of-type {\n",
       "        vertical-align: middle;\n",
       "    }\n",
       "\n",
       "    .dataframe tbody tr th {\n",
       "        vertical-align: top;\n",
       "    }\n",
       "\n",
       "    .dataframe thead th {\n",
       "        text-align: right;\n",
       "    }\n",
       "</style>\n",
       "<table border=\"1\" class=\"dataframe\">\n",
       "  <thead>\n",
       "    <tr style=\"text-align: right;\">\n",
       "      <th></th>\n",
       "      <th>Symbol</th>\n",
       "      <th>Security</th>\n",
       "      <th>GICS Sector</th>\n",
       "      <th>GICS Sub-Industry</th>\n",
       "      <th>Headquarters Location</th>\n",
       "      <th>Date added</th>\n",
       "      <th>Founded</th>\n",
       "    </tr>\n",
       "  </thead>\n",
       "  <tbody>\n",
       "    <tr>\n",
       "      <th>0</th>\n",
       "      <td>MMM</td>\n",
       "      <td>3M</td>\n",
       "      <td>Industrials</td>\n",
       "      <td>Industrial Conglomerates</td>\n",
       "      <td>Saint Paul, Minnesota</td>\n",
       "      <td>1957-03-04</td>\n",
       "      <td>1902</td>\n",
       "    </tr>\n",
       "    <tr>\n",
       "      <th>1</th>\n",
       "      <td>AOS</td>\n",
       "      <td>A. O. Smith</td>\n",
       "      <td>Industrials</td>\n",
       "      <td>Building Products</td>\n",
       "      <td>Milwaukee, Wisconsin</td>\n",
       "      <td>2017-07-26</td>\n",
       "      <td>1916</td>\n",
       "    </tr>\n",
       "    <tr>\n",
       "      <th>2</th>\n",
       "      <td>ABT</td>\n",
       "      <td>Abbott</td>\n",
       "      <td>Health Care</td>\n",
       "      <td>Health Care Equipment</td>\n",
       "      <td>North Chicago, Illinois</td>\n",
       "      <td>1957-03-04</td>\n",
       "      <td>1888</td>\n",
       "    </tr>\n",
       "    <tr>\n",
       "      <th>3</th>\n",
       "      <td>ABBV</td>\n",
       "      <td>AbbVie</td>\n",
       "      <td>Health Care</td>\n",
       "      <td>Biotechnology</td>\n",
       "      <td>North Chicago, Illinois</td>\n",
       "      <td>2012-12-31</td>\n",
       "      <td>2013 (1888)</td>\n",
       "    </tr>\n",
       "    <tr>\n",
       "      <th>4</th>\n",
       "      <td>ACN</td>\n",
       "      <td>Accenture</td>\n",
       "      <td>Information Technology</td>\n",
       "      <td>IT Consulting &amp; Other Services</td>\n",
       "      <td>Dublin, Ireland</td>\n",
       "      <td>2011-07-06</td>\n",
       "      <td>1989</td>\n",
       "    </tr>\n",
       "  </tbody>\n",
       "</table>\n",
       "</div>"
      ],
      "text/plain": [
       "  Symbol     Security             GICS Sector               GICS Sub-Industry  \\\n",
       "0    MMM           3M             Industrials        Industrial Conglomerates   \n",
       "1    AOS  A. O. Smith             Industrials               Building Products   \n",
       "2    ABT       Abbott             Health Care           Health Care Equipment   \n",
       "3   ABBV       AbbVie             Health Care                   Biotechnology   \n",
       "4    ACN    Accenture  Information Technology  IT Consulting & Other Services   \n",
       "\n",
       "     Headquarters Location  Date added      Founded  \n",
       "0    Saint Paul, Minnesota  1957-03-04         1902  \n",
       "1     Milwaukee, Wisconsin  2017-07-26         1916  \n",
       "2  North Chicago, Illinois  1957-03-04         1888  \n",
       "3  North Chicago, Illinois  2012-12-31  2013 (1888)  \n",
       "4          Dublin, Ireland  2011-07-06         1989  "
      ]
     },
     "execution_count": 25,
     "metadata": {},
     "output_type": "execute_result"
    }
   ],
   "source": [
    "df.drop('CIK', axis='columns', inplace=True)\n",
    "\n",
    "print(df.shape)\n",
    "df.head()"
   ]
  },
  {
   "cell_type": "markdown",
   "id": "c78231c2",
   "metadata": {},
   "source": [
    "- Rename the `GICS Sector` column to `Sector`"
   ]
  },
  {
   "cell_type": "code",
   "execution_count": 26,
   "id": "4d477ba0",
   "metadata": {},
   "outputs": [
    {
     "name": "stdout",
     "output_type": "stream",
     "text": [
      "(503, 7)\n"
     ]
    },
    {
     "data": {
      "application/vnd.microsoft.datawrangler.viewer.v0+json": {
       "columns": [
        {
         "name": "index",
         "rawType": "int64",
         "type": "integer"
        },
        {
         "name": "Symbol",
         "rawType": "object",
         "type": "string"
        },
        {
         "name": "Security",
         "rawType": "object",
         "type": "string"
        },
        {
         "name": "Sector",
         "rawType": "object",
         "type": "string"
        },
        {
         "name": "GICS Sub-Industry",
         "rawType": "object",
         "type": "string"
        },
        {
         "name": "Headquarters Location",
         "rawType": "object",
         "type": "string"
        },
        {
         "name": "Date added",
         "rawType": "object",
         "type": "string"
        },
        {
         "name": "Founded",
         "rawType": "object",
         "type": "string"
        }
       ],
       "conversionMethod": "pd.DataFrame",
       "ref": "e567aaf2-f5fa-4457-95d9-1e961fd8c748",
       "rows": [
        [
         "0",
         "MMM",
         "3M",
         "Industrials",
         "Industrial Conglomerates",
         "Saint Paul, Minnesota",
         "1957-03-04",
         "1902"
        ],
        [
         "1",
         "AOS",
         "A. O. Smith",
         "Industrials",
         "Building Products",
         "Milwaukee, Wisconsin",
         "2017-07-26",
         "1916"
        ],
        [
         "2",
         "ABT",
         "Abbott",
         "Health Care",
         "Health Care Equipment",
         "North Chicago, Illinois",
         "1957-03-04",
         "1888"
        ],
        [
         "3",
         "ABBV",
         "AbbVie",
         "Health Care",
         "Biotechnology",
         "North Chicago, Illinois",
         "2012-12-31",
         "2013 (1888)"
        ],
        [
         "4",
         "ACN",
         "Accenture",
         "Information Technology",
         "IT Consulting & Other Services",
         "Dublin, Ireland",
         "2011-07-06",
         "1989"
        ]
       ],
       "shape": {
        "columns": 7,
        "rows": 5
       }
      },
      "text/html": [
       "<div>\n",
       "<style scoped>\n",
       "    .dataframe tbody tr th:only-of-type {\n",
       "        vertical-align: middle;\n",
       "    }\n",
       "\n",
       "    .dataframe tbody tr th {\n",
       "        vertical-align: top;\n",
       "    }\n",
       "\n",
       "    .dataframe thead th {\n",
       "        text-align: right;\n",
       "    }\n",
       "</style>\n",
       "<table border=\"1\" class=\"dataframe\">\n",
       "  <thead>\n",
       "    <tr style=\"text-align: right;\">\n",
       "      <th></th>\n",
       "      <th>Symbol</th>\n",
       "      <th>Security</th>\n",
       "      <th>Sector</th>\n",
       "      <th>GICS Sub-Industry</th>\n",
       "      <th>Headquarters Location</th>\n",
       "      <th>Date added</th>\n",
       "      <th>Founded</th>\n",
       "    </tr>\n",
       "  </thead>\n",
       "  <tbody>\n",
       "    <tr>\n",
       "      <th>0</th>\n",
       "      <td>MMM</td>\n",
       "      <td>3M</td>\n",
       "      <td>Industrials</td>\n",
       "      <td>Industrial Conglomerates</td>\n",
       "      <td>Saint Paul, Minnesota</td>\n",
       "      <td>1957-03-04</td>\n",
       "      <td>1902</td>\n",
       "    </tr>\n",
       "    <tr>\n",
       "      <th>1</th>\n",
       "      <td>AOS</td>\n",
       "      <td>A. O. Smith</td>\n",
       "      <td>Industrials</td>\n",
       "      <td>Building Products</td>\n",
       "      <td>Milwaukee, Wisconsin</td>\n",
       "      <td>2017-07-26</td>\n",
       "      <td>1916</td>\n",
       "    </tr>\n",
       "    <tr>\n",
       "      <th>2</th>\n",
       "      <td>ABT</td>\n",
       "      <td>Abbott</td>\n",
       "      <td>Health Care</td>\n",
       "      <td>Health Care Equipment</td>\n",
       "      <td>North Chicago, Illinois</td>\n",
       "      <td>1957-03-04</td>\n",
       "      <td>1888</td>\n",
       "    </tr>\n",
       "    <tr>\n",
       "      <th>3</th>\n",
       "      <td>ABBV</td>\n",
       "      <td>AbbVie</td>\n",
       "      <td>Health Care</td>\n",
       "      <td>Biotechnology</td>\n",
       "      <td>North Chicago, Illinois</td>\n",
       "      <td>2012-12-31</td>\n",
       "      <td>2013 (1888)</td>\n",
       "    </tr>\n",
       "    <tr>\n",
       "      <th>4</th>\n",
       "      <td>ACN</td>\n",
       "      <td>Accenture</td>\n",
       "      <td>Information Technology</td>\n",
       "      <td>IT Consulting &amp; Other Services</td>\n",
       "      <td>Dublin, Ireland</td>\n",
       "      <td>2011-07-06</td>\n",
       "      <td>1989</td>\n",
       "    </tr>\n",
       "  </tbody>\n",
       "</table>\n",
       "</div>"
      ],
      "text/plain": [
       "  Symbol     Security                  Sector               GICS Sub-Industry  \\\n",
       "0    MMM           3M             Industrials        Industrial Conglomerates   \n",
       "1    AOS  A. O. Smith             Industrials               Building Products   \n",
       "2    ABT       Abbott             Health Care           Health Care Equipment   \n",
       "3   ABBV       AbbVie             Health Care                   Biotechnology   \n",
       "4    ACN    Accenture  Information Technology  IT Consulting & Other Services   \n",
       "\n",
       "     Headquarters Location  Date added      Founded  \n",
       "0    Saint Paul, Minnesota  1957-03-04         1902  \n",
       "1     Milwaukee, Wisconsin  2017-07-26         1916  \n",
       "2  North Chicago, Illinois  1957-03-04         1888  \n",
       "3  North Chicago, Illinois  2012-12-31  2013 (1888)  \n",
       "4          Dublin, Ireland  2011-07-06         1989  "
      ]
     },
     "execution_count": 26,
     "metadata": {},
     "output_type": "execute_result"
    }
   ],
   "source": [
    "df.rename(columns={'GICS Sector': 'Sector'}, inplace=True)\n",
    "\n",
    "print(df.shape)\n",
    "df.head()"
   ]
  },
  {
   "cell_type": "code",
   "execution_count": 27,
   "id": "c530cbb2",
   "metadata": {},
   "outputs": [
    {
     "data": {
      "text/plain": [
       "Index(['Symbol', 'Security', 'Sector', 'GICS Sub-Industry',\n",
       "       'Headquarters Location', 'Date added', 'Founded'],\n",
       "      dtype='object')"
      ]
     },
     "execution_count": 27,
     "metadata": {},
     "output_type": "execute_result"
    }
   ],
   "source": [
    "df.columns"
   ]
  },
  {
   "cell_type": "markdown",
   "id": "6ca26eef",
   "metadata": {},
   "source": [
    "- Get rid of the leading and trailing spaces with strip()"
   ]
  },
  {
   "cell_type": "code",
   "execution_count": 28,
   "id": "3687e17e-c397-4786-8807-4db99a27b52d",
   "metadata": {},
   "outputs": [
    {
     "name": "stdout",
     "output_type": "stream",
     "text": [
      "(503, 7)\n"
     ]
    },
    {
     "data": {
      "application/vnd.microsoft.datawrangler.viewer.v0+json": {
       "columns": [
        {
         "name": "index",
         "rawType": "int64",
         "type": "integer"
        },
        {
         "name": "Symbol",
         "rawType": "object",
         "type": "string"
        },
        {
         "name": "Security",
         "rawType": "object",
         "type": "string"
        },
        {
         "name": "Sector",
         "rawType": "object",
         "type": "string"
        },
        {
         "name": "GICS Sub-Industry",
         "rawType": "object",
         "type": "string"
        },
        {
         "name": "Headquarters Location",
         "rawType": "object",
         "type": "string"
        },
        {
         "name": "Date added",
         "rawType": "object",
         "type": "string"
        },
        {
         "name": "Founded",
         "rawType": "object",
         "type": "string"
        }
       ],
       "conversionMethod": "pd.DataFrame",
       "ref": "6775a761-ce69-4933-b2a2-ba41a838616c",
       "rows": [
        [
         "0",
         "MMM",
         "3M",
         "Industrials",
         "Industrial Conglomerates",
         "Saint Paul, Minnesota",
         "1957-03-04",
         "1902"
        ],
        [
         "1",
         "AOS",
         "A. O. Smith",
         "Industrials",
         "Building Products",
         "Milwaukee, Wisconsin",
         "2017-07-26",
         "1916"
        ],
        [
         "2",
         "ABT",
         "Abbott",
         "Health Care",
         "Health Care Equipment",
         "North Chicago, Illinois",
         "1957-03-04",
         "1888"
        ],
        [
         "3",
         "ABBV",
         "AbbVie",
         "Health Care",
         "Biotechnology",
         "North Chicago, Illinois",
         "2012-12-31",
         "2013 (1888)"
        ],
        [
         "4",
         "ACN",
         "Accenture",
         "Information Technology",
         "IT Consulting & Other Services",
         "Dublin, Ireland",
         "2011-07-06",
         "1989"
        ]
       ],
       "shape": {
        "columns": 7,
        "rows": 5
       }
      },
      "text/html": [
       "<div>\n",
       "<style scoped>\n",
       "    .dataframe tbody tr th:only-of-type {\n",
       "        vertical-align: middle;\n",
       "    }\n",
       "\n",
       "    .dataframe tbody tr th {\n",
       "        vertical-align: top;\n",
       "    }\n",
       "\n",
       "    .dataframe thead th {\n",
       "        text-align: right;\n",
       "    }\n",
       "</style>\n",
       "<table border=\"1\" class=\"dataframe\">\n",
       "  <thead>\n",
       "    <tr style=\"text-align: right;\">\n",
       "      <th></th>\n",
       "      <th>Symbol</th>\n",
       "      <th>Security</th>\n",
       "      <th>Sector</th>\n",
       "      <th>GICS Sub-Industry</th>\n",
       "      <th>Headquarters Location</th>\n",
       "      <th>Date added</th>\n",
       "      <th>Founded</th>\n",
       "    </tr>\n",
       "  </thead>\n",
       "  <tbody>\n",
       "    <tr>\n",
       "      <th>0</th>\n",
       "      <td>MMM</td>\n",
       "      <td>3M</td>\n",
       "      <td>Industrials</td>\n",
       "      <td>Industrial Conglomerates</td>\n",
       "      <td>Saint Paul, Minnesota</td>\n",
       "      <td>1957-03-04</td>\n",
       "      <td>1902</td>\n",
       "    </tr>\n",
       "    <tr>\n",
       "      <th>1</th>\n",
       "      <td>AOS</td>\n",
       "      <td>A. O. Smith</td>\n",
       "      <td>Industrials</td>\n",
       "      <td>Building Products</td>\n",
       "      <td>Milwaukee, Wisconsin</td>\n",
       "      <td>2017-07-26</td>\n",
       "      <td>1916</td>\n",
       "    </tr>\n",
       "    <tr>\n",
       "      <th>2</th>\n",
       "      <td>ABT</td>\n",
       "      <td>Abbott</td>\n",
       "      <td>Health Care</td>\n",
       "      <td>Health Care Equipment</td>\n",
       "      <td>North Chicago, Illinois</td>\n",
       "      <td>1957-03-04</td>\n",
       "      <td>1888</td>\n",
       "    </tr>\n",
       "    <tr>\n",
       "      <th>3</th>\n",
       "      <td>ABBV</td>\n",
       "      <td>AbbVie</td>\n",
       "      <td>Health Care</td>\n",
       "      <td>Biotechnology</td>\n",
       "      <td>North Chicago, Illinois</td>\n",
       "      <td>2012-12-31</td>\n",
       "      <td>2013 (1888)</td>\n",
       "    </tr>\n",
       "    <tr>\n",
       "      <th>4</th>\n",
       "      <td>ACN</td>\n",
       "      <td>Accenture</td>\n",
       "      <td>Information Technology</td>\n",
       "      <td>IT Consulting &amp; Other Services</td>\n",
       "      <td>Dublin, Ireland</td>\n",
       "      <td>2011-07-06</td>\n",
       "      <td>1989</td>\n",
       "    </tr>\n",
       "  </tbody>\n",
       "</table>\n",
       "</div>"
      ],
      "text/plain": [
       "  Symbol     Security                  Sector               GICS Sub-Industry  \\\n",
       "0    MMM           3M             Industrials        Industrial Conglomerates   \n",
       "1    AOS  A. O. Smith             Industrials               Building Products   \n",
       "2    ABT       Abbott             Health Care           Health Care Equipment   \n",
       "3   ABBV       AbbVie             Health Care                   Biotechnology   \n",
       "4    ACN    Accenture  Information Technology  IT Consulting & Other Services   \n",
       "\n",
       "     Headquarters Location  Date added      Founded  \n",
       "0    Saint Paul, Minnesota  1957-03-04         1902  \n",
       "1     Milwaukee, Wisconsin  2017-07-26         1916  \n",
       "2  North Chicago, Illinois  1957-03-04         1888  \n",
       "3  North Chicago, Illinois  2012-12-31  2013 (1888)  \n",
       "4          Dublin, Ireland  2011-07-06         1989  "
      ]
     },
     "execution_count": 28,
     "metadata": {},
     "output_type": "execute_result"
    }
   ],
   "source": [
    "# Get rid of leading and trailing spaces with strip()\n",
    "df.columns = df.columns.str.strip()\n",
    "\n",
    "print(df.shape)\n",
    "df.head()"
   ]
  },
  {
   "cell_type": "markdown",
   "id": "ebbc8525-355e-4025-b3aa-3d29c9e40765",
   "metadata": {},
   "source": [
    "- Introduce some Junk Data"
   ]
  },
  {
   "cell_type": "code",
   "execution_count": 29,
   "id": "51acfe84-58f1-4431-bb45-53fe1c21aab2",
   "metadata": {},
   "outputs": [
    {
     "name": "stdout",
     "output_type": "stream",
     "text": [
      "Values in 'Sector' column:\n",
      "0              Industrials!\n",
      "1              #Industrials\n",
      "2               Health Care\n",
      "3               Health Care\n",
      "4    Information Technology\n",
      "Name: Sector, dtype: object\n"
     ]
    }
   ],
   "source": [
    "# Introduce some junk data for demonstration\n",
    "df.loc[0, 'Sector'] = 'Industrials!'\n",
    "df.loc[1, 'Sector'] = '#Industrials'\n",
    "\n",
    "# Display the original values\n",
    "print(\"Values in 'Sector' column:\")\n",
    "print(df['Sector'].head())"
   ]
  },
  {
   "cell_type": "markdown",
   "id": "9713bcef-e07d-4f81-96b7-941a2e475ace",
   "metadata": {},
   "source": [
    "- Get rid of junk characters with replace()"
   ]
  },
  {
   "cell_type": "code",
   "execution_count": 30,
   "id": "1155ee5f-bd94-4251-878a-e80022e25318",
   "metadata": {},
   "outputs": [
    {
     "name": "stdout",
     "output_type": "stream",
     "text": [
      "(503, 7)\n"
     ]
    },
    {
     "data": {
      "application/vnd.microsoft.datawrangler.viewer.v0+json": {
       "columns": [
        {
         "name": "index",
         "rawType": "int64",
         "type": "integer"
        },
        {
         "name": "Symbol",
         "rawType": "object",
         "type": "string"
        },
        {
         "name": "Security",
         "rawType": "object",
         "type": "string"
        },
        {
         "name": "Sector",
         "rawType": "object",
         "type": "string"
        },
        {
         "name": "GICS Sub-Industry",
         "rawType": "object",
         "type": "string"
        },
        {
         "name": "Headquarters Location",
         "rawType": "object",
         "type": "string"
        },
        {
         "name": "Date added",
         "rawType": "object",
         "type": "string"
        },
        {
         "name": "Founded",
         "rawType": "object",
         "type": "string"
        }
       ],
       "conversionMethod": "pd.DataFrame",
       "ref": "b9f44e33-0f68-4f1b-b037-287dba776470",
       "rows": [
        [
         "0",
         "MMM",
         "3M",
         "Industrials",
         "Industrial Conglomerates",
         "Saint Paul, Minnesota",
         "1957-03-04",
         "1902"
        ],
        [
         "1",
         "AOS",
         "A. O. Smith",
         "Industrials",
         "Building Products",
         "Milwaukee, Wisconsin",
         "2017-07-26",
         "1916"
        ],
        [
         "2",
         "ABT",
         "Abbott",
         "Health Care",
         "Health Care Equipment",
         "North Chicago, Illinois",
         "1957-03-04",
         "1888"
        ],
        [
         "3",
         "ABBV",
         "AbbVie",
         "Health Care",
         "Biotechnology",
         "North Chicago, Illinois",
         "2012-12-31",
         "2013 (1888)"
        ],
        [
         "4",
         "ACN",
         "Accenture",
         "Information Technology",
         "IT Consulting & Other Services",
         "Dublin, Ireland",
         "2011-07-06",
         "1989"
        ]
       ],
       "shape": {
        "columns": 7,
        "rows": 5
       }
      },
      "text/html": [
       "<div>\n",
       "<style scoped>\n",
       "    .dataframe tbody tr th:only-of-type {\n",
       "        vertical-align: middle;\n",
       "    }\n",
       "\n",
       "    .dataframe tbody tr th {\n",
       "        vertical-align: top;\n",
       "    }\n",
       "\n",
       "    .dataframe thead th {\n",
       "        text-align: right;\n",
       "    }\n",
       "</style>\n",
       "<table border=\"1\" class=\"dataframe\">\n",
       "  <thead>\n",
       "    <tr style=\"text-align: right;\">\n",
       "      <th></th>\n",
       "      <th>Symbol</th>\n",
       "      <th>Security</th>\n",
       "      <th>Sector</th>\n",
       "      <th>GICS Sub-Industry</th>\n",
       "      <th>Headquarters Location</th>\n",
       "      <th>Date added</th>\n",
       "      <th>Founded</th>\n",
       "    </tr>\n",
       "  </thead>\n",
       "  <tbody>\n",
       "    <tr>\n",
       "      <th>0</th>\n",
       "      <td>MMM</td>\n",
       "      <td>3M</td>\n",
       "      <td>Industrials</td>\n",
       "      <td>Industrial Conglomerates</td>\n",
       "      <td>Saint Paul, Minnesota</td>\n",
       "      <td>1957-03-04</td>\n",
       "      <td>1902</td>\n",
       "    </tr>\n",
       "    <tr>\n",
       "      <th>1</th>\n",
       "      <td>AOS</td>\n",
       "      <td>A. O. Smith</td>\n",
       "      <td>Industrials</td>\n",
       "      <td>Building Products</td>\n",
       "      <td>Milwaukee, Wisconsin</td>\n",
       "      <td>2017-07-26</td>\n",
       "      <td>1916</td>\n",
       "    </tr>\n",
       "    <tr>\n",
       "      <th>2</th>\n",
       "      <td>ABT</td>\n",
       "      <td>Abbott</td>\n",
       "      <td>Health Care</td>\n",
       "      <td>Health Care Equipment</td>\n",
       "      <td>North Chicago, Illinois</td>\n",
       "      <td>1957-03-04</td>\n",
       "      <td>1888</td>\n",
       "    </tr>\n",
       "    <tr>\n",
       "      <th>3</th>\n",
       "      <td>ABBV</td>\n",
       "      <td>AbbVie</td>\n",
       "      <td>Health Care</td>\n",
       "      <td>Biotechnology</td>\n",
       "      <td>North Chicago, Illinois</td>\n",
       "      <td>2012-12-31</td>\n",
       "      <td>2013 (1888)</td>\n",
       "    </tr>\n",
       "    <tr>\n",
       "      <th>4</th>\n",
       "      <td>ACN</td>\n",
       "      <td>Accenture</td>\n",
       "      <td>Information Technology</td>\n",
       "      <td>IT Consulting &amp; Other Services</td>\n",
       "      <td>Dublin, Ireland</td>\n",
       "      <td>2011-07-06</td>\n",
       "      <td>1989</td>\n",
       "    </tr>\n",
       "  </tbody>\n",
       "</table>\n",
       "</div>"
      ],
      "text/plain": [
       "  Symbol     Security                  Sector               GICS Sub-Industry  \\\n",
       "0    MMM           3M             Industrials        Industrial Conglomerates   \n",
       "1    AOS  A. O. Smith             Industrials               Building Products   \n",
       "2    ABT       Abbott             Health Care           Health Care Equipment   \n",
       "3   ABBV       AbbVie             Health Care                   Biotechnology   \n",
       "4    ACN    Accenture  Information Technology  IT Consulting & Other Services   \n",
       "\n",
       "     Headquarters Location  Date added      Founded  \n",
       "0    Saint Paul, Minnesota  1957-03-04         1902  \n",
       "1     Milwaukee, Wisconsin  2017-07-26         1916  \n",
       "2  North Chicago, Illinois  1957-03-04         1888  \n",
       "3  North Chicago, Illinois  2012-12-31  2013 (1888)  \n",
       "4          Dublin, Ireland  2011-07-06         1989  "
      ]
     },
     "execution_count": 30,
     "metadata": {},
     "output_type": "execute_result"
    }
   ],
   "source": [
    "df['Sector'] = df['Sector'].replace({'#': '', '!': ''}, regex=True) \n",
    "# .replace({'\\\\$': '',',': ''}, regex=True) Would remove the dollar sign and comma characters from a string, for example.\n",
    "print(df.shape)\n",
    "df.head()\n"
   ]
  }
 ],
 "metadata": {
  "kernelspec": {
   "display_name": "Python 3",
   "language": "python",
   "name": "python3"
  },
  "language_info": {
   "codemirror_mode": {
    "name": "ipython",
    "version": 3
   },
   "file_extension": ".py",
   "mimetype": "text/x-python",
   "name": "python",
   "nbconvert_exporter": "python",
   "pygments_lexer": "ipython3",
   "version": "3.12.5"
  }
 },
 "nbformat": 4,
 "nbformat_minor": 5
}
