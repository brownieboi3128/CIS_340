{
 "cells": [
  {
   "attachments": {},
   "cell_type": "markdown",
   "metadata": {},
   "source": [
    "# Demo 3.8 - Part 2: First Row as Headers  \n",
    "\n",
    "### Note:  This is sometimes required when Screenscraping - but not always!  \n",
    "- **Skills Demonstrated:**  \n",
    "  1. Using First Row as Header/Column Names    \n",
    "\n",
    "\n",
    "- **Situation:**  The Column Names we want are actually the first row of the data \n",
    "  - This is a common situation!  \n",
    "\n",
    "\n",
    "  \n",
    "  \n",
    "- **Solution Steps:**  \n",
    "  1. Grab the Column Names out of the First Row of the Dataframe   \n",
    "  2. Set the columns property of the Dataframe equal to the column names  \n",
    "  3. Now get rid of the First Row of the dataframe  \n"
   ]
  },
  {
   "cell_type": "code",
   "execution_count": 1,
   "metadata": {},
   "outputs": [],
   "source": [
    "import pandas as pd "
   ]
  },
  {
   "cell_type": "code",
   "execution_count": 2,
   "metadata": {},
   "outputs": [
    {
     "name": "stdout",
     "output_type": "stream",
     "text": [
      "(4, 6)\n"
     ]
    },
    {
     "data": {
      "application/vnd.microsoft.datawrangler.viewer.v0+json": {
       "columns": [
        {
         "name": "index",
         "rawType": "int64",
         "type": "integer"
        },
        {
         "name": "0",
         "rawType": "object",
         "type": "unknown"
        },
        {
         "name": "1",
         "rawType": "object",
         "type": "string"
        },
        {
         "name": "2",
         "rawType": "object",
         "type": "string"
        },
        {
         "name": "3",
         "rawType": "object",
         "type": "string"
        },
        {
         "name": "4",
         "rawType": "object",
         "type": "string"
        },
        {
         "name": "5",
         "rawType": "object",
         "type": "string"
        }
       ],
       "conversionMethod": "pd.DataFrame",
       "ref": "136bbf56-96d1-4f0a-b20c-4f8ccab8efb4",
       "rows": [
        [
         "0",
         "BusinessEntityID",
         "EmployeeName",
         "EmailAddress",
         "PhoneNumber",
         "StartDate",
         "CurrentSalary"
        ],
        [
         "1",
         "1699",
         "Robinett, David",
         "david22@adventure-works.com",
         "(827) 525-0100",
         "06-05-2010",
         "$80,950"
        ],
        [
         "2",
         "1700",
         "Robinson, Rebecca",
         "rebecca5 @adventure-works.com",
         "(829) 525-0101",
         "05-01-2015",
         "$70,950"
        ],
        [
         "3",
         "1701",
         "Robinson, Dorothy",
         "dorothy3@adventure-works.com",
         "(828) 555-0102",
         "03-01-2017",
         "$50,00"
        ]
       ],
       "shape": {
        "columns": 6,
        "rows": 4
       }
      },
      "text/html": [
       "<div>\n",
       "<style scoped>\n",
       "    .dataframe tbody tr th:only-of-type {\n",
       "        vertical-align: middle;\n",
       "    }\n",
       "\n",
       "    .dataframe tbody tr th {\n",
       "        vertical-align: top;\n",
       "    }\n",
       "\n",
       "    .dataframe thead th {\n",
       "        text-align: right;\n",
       "    }\n",
       "</style>\n",
       "<table border=\"1\" class=\"dataframe\">\n",
       "  <thead>\n",
       "    <tr style=\"text-align: right;\">\n",
       "      <th></th>\n",
       "      <th>0</th>\n",
       "      <th>1</th>\n",
       "      <th>2</th>\n",
       "      <th>3</th>\n",
       "      <th>4</th>\n",
       "      <th>5</th>\n",
       "    </tr>\n",
       "  </thead>\n",
       "  <tbody>\n",
       "    <tr>\n",
       "      <th>0</th>\n",
       "      <td>BusinessEntityID</td>\n",
       "      <td>EmployeeName</td>\n",
       "      <td>EmailAddress</td>\n",
       "      <td>PhoneNumber</td>\n",
       "      <td>StartDate</td>\n",
       "      <td>CurrentSalary</td>\n",
       "    </tr>\n",
       "    <tr>\n",
       "      <th>1</th>\n",
       "      <td>1699</td>\n",
       "      <td>Robinett, David</td>\n",
       "      <td>david22@adventure-works.com</td>\n",
       "      <td>(827) 525-0100</td>\n",
       "      <td>06-05-2010</td>\n",
       "      <td>$80,950</td>\n",
       "    </tr>\n",
       "    <tr>\n",
       "      <th>2</th>\n",
       "      <td>1700</td>\n",
       "      <td>Robinson, Rebecca</td>\n",
       "      <td>rebecca5 @adventure-works.com</td>\n",
       "      <td>(829) 525-0101</td>\n",
       "      <td>05-01-2015</td>\n",
       "      <td>$70,950</td>\n",
       "    </tr>\n",
       "    <tr>\n",
       "      <th>3</th>\n",
       "      <td>1701</td>\n",
       "      <td>Robinson, Dorothy</td>\n",
       "      <td>dorothy3@adventure-works.com</td>\n",
       "      <td>(828) 555-0102</td>\n",
       "      <td>03-01-2017</td>\n",
       "      <td>$50,00</td>\n",
       "    </tr>\n",
       "  </tbody>\n",
       "</table>\n",
       "</div>"
      ],
      "text/plain": [
       "                  0                  1                              2  \\\n",
       "0  BusinessEntityID       EmployeeName                   EmailAddress   \n",
       "1              1699    Robinett, David    david22@adventure-works.com   \n",
       "2              1700  Robinson, Rebecca  rebecca5 @adventure-works.com   \n",
       "3              1701  Robinson, Dorothy   dorothy3@adventure-works.com   \n",
       "\n",
       "                3           4              5  \n",
       "0     PhoneNumber   StartDate  CurrentSalary  \n",
       "1  (827) 525-0100  06-05-2010        $80,950  \n",
       "2  (829) 525-0101  05-01-2015        $70,950  \n",
       "3  (828) 555-0102  03-01-2017         $50,00  "
      ]
     },
     "execution_count": 2,
     "metadata": {},
     "output_type": "execute_result"
    }
   ],
   "source": [
    "# Hardcode a dataframe \n",
    "df = pd.DataFrame(\n",
    "    [\n",
    "    ['BusinessEntityID', 'EmployeeName','EmailAddress', 'PhoneNumber', 'StartDate', 'CurrentSalary'],\n",
    "    [1699,'Robinett, David','david22@adventure-works.com', '(827) 525-0100', '06-05-2010', '$80,950'], \n",
    "    [1700,'Robinson, Rebecca','rebecca5 @adventure-works.com', '(829) 525-0101', '05-01-2015', '$70,950'],\n",
    "    [1701,'Robinson, Dorothy','dorothy3@adventure-works.com', '(828) 555-0102', '03-01-2017', '$50,00'],\n",
    "    ]\n",
    ")\n",
    "  \n",
    "print(df.shape)\n",
    "df"
   ]
  },
  {
   "cell_type": "markdown",
   "metadata": {},
   "source": [
    "# 1. Grab the Column Names out of the First Row of the Dataframe\n",
    "- Use iloc to point to the first row of the dataframe  "
   ]
  },
  {
   "cell_type": "code",
   "execution_count": 3,
   "metadata": {},
   "outputs": [
    {
     "data": {
      "text/plain": [
       "0    BusinessEntityID\n",
       "1        EmployeeName\n",
       "2        EmailAddress\n",
       "3         PhoneNumber\n",
       "4           StartDate\n",
       "5       CurrentSalary\n",
       "Name: 0, dtype: object"
      ]
     },
     "execution_count": 3,
     "metadata": {},
     "output_type": "execute_result"
    }
   ],
   "source": [
    "df.iloc[0]"
   ]
  },
  {
   "cell_type": "markdown",
   "metadata": {},
   "source": [
    "# 2. Set the columns property of the Dataframe equal to the column names we grabbed  "
   ]
  },
  {
   "cell_type": "code",
   "execution_count": 4,
   "metadata": {},
   "outputs": [
    {
     "name": "stdout",
     "output_type": "stream",
     "text": [
      "(4, 6)\n"
     ]
    },
    {
     "data": {
      "application/vnd.microsoft.datawrangler.viewer.v0+json": {
       "columns": [
        {
         "name": "index",
         "rawType": "int64",
         "type": "integer"
        },
        {
         "name": "BusinessEntityID",
         "rawType": "object",
         "type": "unknown"
        },
        {
         "name": "EmployeeName",
         "rawType": "object",
         "type": "string"
        },
        {
         "name": "EmailAddress",
         "rawType": "object",
         "type": "string"
        },
        {
         "name": "PhoneNumber",
         "rawType": "object",
         "type": "string"
        },
        {
         "name": "StartDate",
         "rawType": "object",
         "type": "string"
        },
        {
         "name": "CurrentSalary",
         "rawType": "object",
         "type": "string"
        }
       ],
       "conversionMethod": "pd.DataFrame",
       "ref": "016d26f2-42d2-41eb-9a1d-12571ed74469",
       "rows": [
        [
         "0",
         "BusinessEntityID",
         "EmployeeName",
         "EmailAddress",
         "PhoneNumber",
         "StartDate",
         "CurrentSalary"
        ],
        [
         "1",
         "1699",
         "Robinett, David",
         "david22@adventure-works.com",
         "(827) 525-0100",
         "06-05-2010",
         "$80,950"
        ],
        [
         "2",
         "1700",
         "Robinson, Rebecca",
         "rebecca5 @adventure-works.com",
         "(829) 525-0101",
         "05-01-2015",
         "$70,950"
        ],
        [
         "3",
         "1701",
         "Robinson, Dorothy",
         "dorothy3@adventure-works.com",
         "(828) 555-0102",
         "03-01-2017",
         "$50,00"
        ]
       ],
       "shape": {
        "columns": 6,
        "rows": 4
       }
      },
      "text/html": [
       "<div>\n",
       "<style scoped>\n",
       "    .dataframe tbody tr th:only-of-type {\n",
       "        vertical-align: middle;\n",
       "    }\n",
       "\n",
       "    .dataframe tbody tr th {\n",
       "        vertical-align: top;\n",
       "    }\n",
       "\n",
       "    .dataframe thead th {\n",
       "        text-align: right;\n",
       "    }\n",
       "</style>\n",
       "<table border=\"1\" class=\"dataframe\">\n",
       "  <thead>\n",
       "    <tr style=\"text-align: right;\">\n",
       "      <th></th>\n",
       "      <th>BusinessEntityID</th>\n",
       "      <th>EmployeeName</th>\n",
       "      <th>EmailAddress</th>\n",
       "      <th>PhoneNumber</th>\n",
       "      <th>StartDate</th>\n",
       "      <th>CurrentSalary</th>\n",
       "    </tr>\n",
       "  </thead>\n",
       "  <tbody>\n",
       "    <tr>\n",
       "      <th>0</th>\n",
       "      <td>BusinessEntityID</td>\n",
       "      <td>EmployeeName</td>\n",
       "      <td>EmailAddress</td>\n",
       "      <td>PhoneNumber</td>\n",
       "      <td>StartDate</td>\n",
       "      <td>CurrentSalary</td>\n",
       "    </tr>\n",
       "    <tr>\n",
       "      <th>1</th>\n",
       "      <td>1699</td>\n",
       "      <td>Robinett, David</td>\n",
       "      <td>david22@adventure-works.com</td>\n",
       "      <td>(827) 525-0100</td>\n",
       "      <td>06-05-2010</td>\n",
       "      <td>$80,950</td>\n",
       "    </tr>\n",
       "    <tr>\n",
       "      <th>2</th>\n",
       "      <td>1700</td>\n",
       "      <td>Robinson, Rebecca</td>\n",
       "      <td>rebecca5 @adventure-works.com</td>\n",
       "      <td>(829) 525-0101</td>\n",
       "      <td>05-01-2015</td>\n",
       "      <td>$70,950</td>\n",
       "    </tr>\n",
       "    <tr>\n",
       "      <th>3</th>\n",
       "      <td>1701</td>\n",
       "      <td>Robinson, Dorothy</td>\n",
       "      <td>dorothy3@adventure-works.com</td>\n",
       "      <td>(828) 555-0102</td>\n",
       "      <td>03-01-2017</td>\n",
       "      <td>$50,00</td>\n",
       "    </tr>\n",
       "  </tbody>\n",
       "</table>\n",
       "</div>"
      ],
      "text/plain": [
       "0  BusinessEntityID       EmployeeName                   EmailAddress  \\\n",
       "0  BusinessEntityID       EmployeeName                   EmailAddress   \n",
       "1              1699    Robinett, David    david22@adventure-works.com   \n",
       "2              1700  Robinson, Rebecca  rebecca5 @adventure-works.com   \n",
       "3              1701  Robinson, Dorothy   dorothy3@adventure-works.com   \n",
       "\n",
       "0     PhoneNumber   StartDate  CurrentSalary  \n",
       "0     PhoneNumber   StartDate  CurrentSalary  \n",
       "1  (827) 525-0100  06-05-2010        $80,950  \n",
       "2  (829) 525-0101  05-01-2015        $70,950  \n",
       "3  (828) 555-0102  03-01-2017         $50,00  "
      ]
     },
     "execution_count": 4,
     "metadata": {},
     "output_type": "execute_result"
    }
   ],
   "source": [
    "df.columns = df.iloc[0]\n",
    "print(df.shape)\n",
    "df.head()"
   ]
  },
  {
   "cell_type": "markdown",
   "metadata": {},
   "source": [
    "# 3. Now Get Rid of the First Row of the Dataframe"
   ]
  },
  {
   "cell_type": "code",
   "execution_count": 5,
   "metadata": {},
   "outputs": [
    {
     "name": "stdout",
     "output_type": "stream",
     "text": [
      "3.5 Demo Part 2: Getting Columns names from 1st Data Row\n",
      "(3, 6)\n"
     ]
    },
    {
     "data": {
      "application/vnd.microsoft.datawrangler.viewer.v0+json": {
       "columns": [
        {
         "name": "index",
         "rawType": "int64",
         "type": "integer"
        },
        {
         "name": "BusinessEntityID",
         "rawType": "object",
         "type": "unknown"
        },
        {
         "name": "EmployeeName",
         "rawType": "object",
         "type": "string"
        },
        {
         "name": "EmailAddress",
         "rawType": "object",
         "type": "string"
        },
        {
         "name": "PhoneNumber",
         "rawType": "object",
         "type": "string"
        },
        {
         "name": "StartDate",
         "rawType": "object",
         "type": "string"
        },
        {
         "name": "CurrentSalary",
         "rawType": "object",
         "type": "string"
        }
       ],
       "conversionMethod": "pd.DataFrame",
       "ref": "cf862df5-ffae-4f8f-b071-91aa28577661",
       "rows": [
        [
         "1",
         "1699",
         "Robinett, David",
         "david22@adventure-works.com",
         "(827) 525-0100",
         "06-05-2010",
         "$80,950"
        ],
        [
         "2",
         "1700",
         "Robinson, Rebecca",
         "rebecca5 @adventure-works.com",
         "(829) 525-0101",
         "05-01-2015",
         "$70,950"
        ],
        [
         "3",
         "1701",
         "Robinson, Dorothy",
         "dorothy3@adventure-works.com",
         "(828) 555-0102",
         "03-01-2017",
         "$50,00"
        ]
       ],
       "shape": {
        "columns": 6,
        "rows": 3
       }
      },
      "text/html": [
       "<div>\n",
       "<style scoped>\n",
       "    .dataframe tbody tr th:only-of-type {\n",
       "        vertical-align: middle;\n",
       "    }\n",
       "\n",
       "    .dataframe tbody tr th {\n",
       "        vertical-align: top;\n",
       "    }\n",
       "\n",
       "    .dataframe thead th {\n",
       "        text-align: right;\n",
       "    }\n",
       "</style>\n",
       "<table border=\"1\" class=\"dataframe\">\n",
       "  <thead>\n",
       "    <tr style=\"text-align: right;\">\n",
       "      <th></th>\n",
       "      <th>BusinessEntityID</th>\n",
       "      <th>EmployeeName</th>\n",
       "      <th>EmailAddress</th>\n",
       "      <th>PhoneNumber</th>\n",
       "      <th>StartDate</th>\n",
       "      <th>CurrentSalary</th>\n",
       "    </tr>\n",
       "  </thead>\n",
       "  <tbody>\n",
       "    <tr>\n",
       "      <th>1</th>\n",
       "      <td>1699</td>\n",
       "      <td>Robinett, David</td>\n",
       "      <td>david22@adventure-works.com</td>\n",
       "      <td>(827) 525-0100</td>\n",
       "      <td>06-05-2010</td>\n",
       "      <td>$80,950</td>\n",
       "    </tr>\n",
       "    <tr>\n",
       "      <th>2</th>\n",
       "      <td>1700</td>\n",
       "      <td>Robinson, Rebecca</td>\n",
       "      <td>rebecca5 @adventure-works.com</td>\n",
       "      <td>(829) 525-0101</td>\n",
       "      <td>05-01-2015</td>\n",
       "      <td>$70,950</td>\n",
       "    </tr>\n",
       "    <tr>\n",
       "      <th>3</th>\n",
       "      <td>1701</td>\n",
       "      <td>Robinson, Dorothy</td>\n",
       "      <td>dorothy3@adventure-works.com</td>\n",
       "      <td>(828) 555-0102</td>\n",
       "      <td>03-01-2017</td>\n",
       "      <td>$50,00</td>\n",
       "    </tr>\n",
       "  </tbody>\n",
       "</table>\n",
       "</div>"
      ],
      "text/plain": [
       "0 BusinessEntityID       EmployeeName                   EmailAddress  \\\n",
       "1             1699    Robinett, David    david22@adventure-works.com   \n",
       "2             1700  Robinson, Rebecca  rebecca5 @adventure-works.com   \n",
       "3             1701  Robinson, Dorothy   dorothy3@adventure-works.com   \n",
       "\n",
       "0     PhoneNumber   StartDate CurrentSalary  \n",
       "1  (827) 525-0100  06-05-2010       $80,950  \n",
       "2  (829) 525-0101  05-01-2015       $70,950  \n",
       "3  (828) 555-0102  03-01-2017        $50,00  "
      ]
     },
     "execution_count": 5,
     "metadata": {},
     "output_type": "execute_result"
    }
   ],
   "source": [
    "df = df[1:]\n",
    "\n",
    "print(\"3.5 Demo Part 2: Getting Columns names from 1st Data Row\")\n",
    "print(df.shape)\n",
    "df"
   ]
  }
 ],
 "metadata": {
  "kernelspec": {
   "display_name": "Python 3",
   "language": "python",
   "name": "python3"
  },
  "language_info": {
   "codemirror_mode": {
    "name": "ipython",
    "version": 3
   },
   "file_extension": ".py",
   "mimetype": "text/x-python",
   "name": "python",
   "nbconvert_exporter": "python",
   "pygments_lexer": "ipython3",
   "version": "3.12.5"
  }
 },
 "nbformat": 4,
 "nbformat_minor": 4
}
