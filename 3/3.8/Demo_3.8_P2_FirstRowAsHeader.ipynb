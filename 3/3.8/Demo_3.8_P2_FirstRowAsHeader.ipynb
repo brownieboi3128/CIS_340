{
 "cells": [
  {
   "attachments": {},
   "cell_type": "markdown",
   "metadata": {},
   "source": [
    "# Demo 3.8 - Part 2: First Row as Headers  \n",
    "\n",
    "### Note:  This is sometimes required when Screenscraping - but not always!  \n",
    "- **Skills Demonstrated:**  \n",
    "  1. Using First Row as Header/Column Names    \n",
    "\n",
    "\n",
    "- **Situation:**  The Column Names we want are actually the first row of the data \n",
    "  - This is a common situation!  \n",
    "\n",
    "\n",
    "  \n",
    "  \n",
    "- **Solution Steps:**  \n",
    "  1. Grab the Column Names out of the First Row of the Dataframe   \n",
    "  2. Set the columns property of the Dataframe equal to the column names  \n",
    "  3. Now get rid of the First Row of the dataframe  \n"
   ]
  },
  {
   "cell_type": "code",
   "execution_count": null,
   "metadata": {},
   "outputs": [],
   "source": [
    "import pandas as pd "
   ]
  },
  {
   "cell_type": "code",
   "execution_count": null,
   "metadata": {},
   "outputs": [],
   "source": [
    "# Hardcode a dataframe \n",
    "df = pd.DataFrame(\n",
    "    [\n",
    "    ['BusinessEntityID', 'EmployeeName','EmailAddress', 'PhoneNumber', 'StartDate', 'CurrentSalary'],\n",
    "    [1699,'Robinett, David','david22@adventure-works.com', '(827) 525-0100', '06-05-2010', '$80,950'], \n",
    "    [1700,'Robinson, Rebecca','rebecca5 @adventure-works.com', '(829) 525-0101', '05-01-2015', '$70,950'],\n",
    "    [1701,'Robinson, Dorothy','dorothy3@adventure-works.com', '(828) 555-0102', '03-01-2017', '$50,00'],\n",
    "    ]\n",
    ")\n",
    "  \n",
    "print(df.shape)\n",
    "df"
   ]
  },
  {
   "cell_type": "markdown",
   "metadata": {},
   "source": [
    "# 1. Grab the Column Names out of the First Row of the Dataframe\n",
    "- Use iloc to point to the first row of the dataframe  "
   ]
  },
  {
   "cell_type": "code",
   "execution_count": null,
   "metadata": {},
   "outputs": [],
   "source": []
  },
  {
   "cell_type": "markdown",
   "metadata": {},
   "source": [
    "# 2. Set the columns property of the Dataframe equal to the column names we grabbed  "
   ]
  },
  {
   "cell_type": "code",
   "execution_count": null,
   "metadata": {},
   "outputs": [],
   "source": [
    "\n",
    "print(df.shape)\n",
    "df.head()"
   ]
  },
  {
   "cell_type": "markdown",
   "metadata": {},
   "source": [
    "# 3. Now Get Rid of the First Row of the Dataframe"
   ]
  },
  {
   "cell_type": "code",
   "execution_count": null,
   "metadata": {},
   "outputs": [],
   "source": [
    "\n",
    "\n",
    "print(\"3.5 Demo Part 2: Getting Columns names from 1st Data Row\")\n",
    "print(df.shape)\n",
    "df"
   ]
  }
 ],
 "metadata": {
  "kernelspec": {
   "display_name": "Cis340_Fall_2022",
   "language": "python",
   "name": "python3"
  },
  "language_info": {
   "codemirror_mode": {
    "name": "ipython",
    "version": 3
   },
   "file_extension": ".py",
   "mimetype": "text/x-python",
   "name": "python",
   "nbconvert_exporter": "python",
   "pygments_lexer": "ipython3",
   "version": "3.11.4"
  },
  "vscode": {
   "interpreter": {
    "hash": "426c03df16ead08d896f83ef39e25467a46f39b961906caffdc3fd6183b9ccc5"
   }
  }
 },
 "nbformat": 4,
 "nbformat_minor": 4
}
