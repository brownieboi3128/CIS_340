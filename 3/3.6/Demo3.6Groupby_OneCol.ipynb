{
 "cells": [
  {
   "attachments": {},
   "cell_type": "markdown",
   "metadata": {},
   "source": [
    "# Demo 3.6 *groupby()*: Aggregating On a *Single* Column \n",
    "\n",
    " \n",
    "**requires data file:  `Cars.csv`\n"
   ]
  },
  {
   "cell_type": "code",
   "execution_count": 18,
   "metadata": {},
   "outputs": [],
   "source": [
    "import pandas as pd "
   ]
  },
  {
   "cell_type": "markdown",
   "metadata": {},
   "source": [
    "### Read the datafile File into a *pandas* Dataframe  "
   ]
  },
  {
   "cell_type": "code",
   "execution_count": 19,
   "metadata": {},
   "outputs": [
    {
     "name": "stdout",
     "output_type": "stream",
     "text": [
      "(428, 13)\n"
     ]
    },
    {
     "data": {
      "application/vnd.microsoft.datawrangler.viewer.v0+json": {
       "columns": [
        {
         "name": "index",
         "rawType": "int64",
         "type": "integer"
        },
        {
         "name": "Vehicle_Make",
         "rawType": "object",
         "type": "string"
        },
        {
         "name": "Vehicle_Model",
         "rawType": "object",
         "type": "string"
        },
        {
         "name": "Vehicle_Type",
         "rawType": "object",
         "type": "string"
        },
        {
         "name": "Manufacturing_Origin",
         "rawType": "object",
         "type": "string"
        },
        {
         "name": "MPG_City",
         "rawType": "int64",
         "type": "integer"
        },
        {
         "name": "MPG_Hwy",
         "rawType": "int64",
         "type": "integer"
        },
        {
         "name": "MSRP",
         "rawType": "int64",
         "type": "integer"
        },
        {
         "name": "Invoice",
         "rawType": "int64",
         "type": "integer"
        },
        {
         "name": "Weight",
         "rawType": "int64",
         "type": "integer"
        },
        {
         "name": "Wheelbase",
         "rawType": "int64",
         "type": "integer"
        },
        {
         "name": "DriveTrain",
         "rawType": "object",
         "type": "string"
        },
        {
         "name": "EngineSize",
         "rawType": "float64",
         "type": "float"
        },
        {
         "name": "Horsepower",
         "rawType": "int64",
         "type": "integer"
        }
       ],
       "conversionMethod": "pd.DataFrame",
       "ref": "d1c19939-2b40-4ee5-949c-404b557266ad",
       "rows": [
        [
         "0",
         "Acura",
         "MDX",
         "SUV",
         "Asia",
         "17",
         "23",
         "36945",
         "33337",
         "4451",
         "106",
         "All",
         "3.5",
         "265"
        ],
        [
         "1",
         "Acura",
         "RSX Type S 2dr",
         "Sedan",
         "Asia",
         "24",
         "31",
         "23820",
         "21761",
         "2778",
         "101",
         "Front",
         "2.0",
         "200"
        ],
        [
         "2",
         "Acura",
         "TSX 4dr",
         "Sedan",
         "Asia",
         "22",
         "29",
         "26990",
         "24647",
         "3230",
         "105",
         "Front",
         "2.4",
         "200"
        ],
        [
         "3",
         "Acura",
         "TL 4dr",
         "Sedan",
         "Asia",
         "20",
         "28",
         "33195",
         "30299",
         "3575",
         "108",
         "Front",
         "3.2",
         "270"
        ],
        [
         "4",
         "Acura",
         "3.5 RL 4dr",
         "Sedan",
         "Asia",
         "18",
         "24",
         "43755",
         "39014",
         "3880",
         "115",
         "Front",
         "3.5",
         "225"
        ]
       ],
       "shape": {
        "columns": 13,
        "rows": 5
       }
      },
      "text/html": [
       "<div>\n",
       "<style scoped>\n",
       "    .dataframe tbody tr th:only-of-type {\n",
       "        vertical-align: middle;\n",
       "    }\n",
       "\n",
       "    .dataframe tbody tr th {\n",
       "        vertical-align: top;\n",
       "    }\n",
       "\n",
       "    .dataframe thead th {\n",
       "        text-align: right;\n",
       "    }\n",
       "</style>\n",
       "<table border=\"1\" class=\"dataframe\">\n",
       "  <thead>\n",
       "    <tr style=\"text-align: right;\">\n",
       "      <th></th>\n",
       "      <th>Vehicle_Make</th>\n",
       "      <th>Vehicle_Model</th>\n",
       "      <th>Vehicle_Type</th>\n",
       "      <th>Manufacturing_Origin</th>\n",
       "      <th>MPG_City</th>\n",
       "      <th>MPG_Hwy</th>\n",
       "      <th>MSRP</th>\n",
       "      <th>Invoice</th>\n",
       "      <th>Weight</th>\n",
       "      <th>Wheelbase</th>\n",
       "      <th>DriveTrain</th>\n",
       "      <th>EngineSize</th>\n",
       "      <th>Horsepower</th>\n",
       "    </tr>\n",
       "  </thead>\n",
       "  <tbody>\n",
       "    <tr>\n",
       "      <th>0</th>\n",
       "      <td>Acura</td>\n",
       "      <td>MDX</td>\n",
       "      <td>SUV</td>\n",
       "      <td>Asia</td>\n",
       "      <td>17</td>\n",
       "      <td>23</td>\n",
       "      <td>36945</td>\n",
       "      <td>33337</td>\n",
       "      <td>4451</td>\n",
       "      <td>106</td>\n",
       "      <td>All</td>\n",
       "      <td>3.5</td>\n",
       "      <td>265</td>\n",
       "    </tr>\n",
       "    <tr>\n",
       "      <th>1</th>\n",
       "      <td>Acura</td>\n",
       "      <td>RSX Type S 2dr</td>\n",
       "      <td>Sedan</td>\n",
       "      <td>Asia</td>\n",
       "      <td>24</td>\n",
       "      <td>31</td>\n",
       "      <td>23820</td>\n",
       "      <td>21761</td>\n",
       "      <td>2778</td>\n",
       "      <td>101</td>\n",
       "      <td>Front</td>\n",
       "      <td>2.0</td>\n",
       "      <td>200</td>\n",
       "    </tr>\n",
       "    <tr>\n",
       "      <th>2</th>\n",
       "      <td>Acura</td>\n",
       "      <td>TSX 4dr</td>\n",
       "      <td>Sedan</td>\n",
       "      <td>Asia</td>\n",
       "      <td>22</td>\n",
       "      <td>29</td>\n",
       "      <td>26990</td>\n",
       "      <td>24647</td>\n",
       "      <td>3230</td>\n",
       "      <td>105</td>\n",
       "      <td>Front</td>\n",
       "      <td>2.4</td>\n",
       "      <td>200</td>\n",
       "    </tr>\n",
       "    <tr>\n",
       "      <th>3</th>\n",
       "      <td>Acura</td>\n",
       "      <td>TL 4dr</td>\n",
       "      <td>Sedan</td>\n",
       "      <td>Asia</td>\n",
       "      <td>20</td>\n",
       "      <td>28</td>\n",
       "      <td>33195</td>\n",
       "      <td>30299</td>\n",
       "      <td>3575</td>\n",
       "      <td>108</td>\n",
       "      <td>Front</td>\n",
       "      <td>3.2</td>\n",
       "      <td>270</td>\n",
       "    </tr>\n",
       "    <tr>\n",
       "      <th>4</th>\n",
       "      <td>Acura</td>\n",
       "      <td>3.5 RL 4dr</td>\n",
       "      <td>Sedan</td>\n",
       "      <td>Asia</td>\n",
       "      <td>18</td>\n",
       "      <td>24</td>\n",
       "      <td>43755</td>\n",
       "      <td>39014</td>\n",
       "      <td>3880</td>\n",
       "      <td>115</td>\n",
       "      <td>Front</td>\n",
       "      <td>3.5</td>\n",
       "      <td>225</td>\n",
       "    </tr>\n",
       "  </tbody>\n",
       "</table>\n",
       "</div>"
      ],
      "text/plain": [
       "  Vehicle_Make   Vehicle_Model Vehicle_Type Manufacturing_Origin  MPG_City  \\\n",
       "0        Acura             MDX          SUV                 Asia        17   \n",
       "1        Acura  RSX Type S 2dr        Sedan                 Asia        24   \n",
       "2        Acura         TSX 4dr        Sedan                 Asia        22   \n",
       "3        Acura          TL 4dr        Sedan                 Asia        20   \n",
       "4        Acura      3.5 RL 4dr        Sedan                 Asia        18   \n",
       "\n",
       "   MPG_Hwy   MSRP  Invoice  Weight  Wheelbase DriveTrain  EngineSize  \\\n",
       "0       23  36945    33337    4451        106        All         3.5   \n",
       "1       31  23820    21761    2778        101      Front         2.0   \n",
       "2       29  26990    24647    3230        105      Front         2.4   \n",
       "3       28  33195    30299    3575        108      Front         3.2   \n",
       "4       24  43755    39014    3880        115      Front         3.5   \n",
       "\n",
       "   Horsepower  \n",
       "0         265  \n",
       "1         200  \n",
       "2         200  \n",
       "3         270  \n",
       "4         225  "
      ]
     },
     "execution_count": 19,
     "metadata": {},
     "output_type": "execute_result"
    }
   ],
   "source": [
    "df = pd.read_csv('Cars.csv')\n",
    "\n",
    "print(df.shape)\n",
    "df.head()"
   ]
  },
  {
   "attachments": {},
   "cell_type": "markdown",
   "metadata": {},
   "source": [
    "# Change Data Types as Needed  "
   ]
  },
  {
   "cell_type": "code",
   "execution_count": 20,
   "metadata": {},
   "outputs": [
    {
     "data": {
      "text/plain": [
       "Vehicle_Make             object\n",
       "Vehicle_Model            object\n",
       "Vehicle_Type             object\n",
       "Manufacturing_Origin     object\n",
       "MPG_City                  int64\n",
       "MPG_Hwy                   int64\n",
       "MSRP                      int64\n",
       "Invoice                   int64\n",
       "Weight                    int64\n",
       "Wheelbase                 int64\n",
       "DriveTrain               object\n",
       "EngineSize              float64\n",
       "Horsepower                int64\n",
       "dtype: object"
      ]
     },
     "execution_count": 20,
     "metadata": {},
     "output_type": "execute_result"
    }
   ],
   "source": [
    "# data Vehicle_Types 'Before' \n",
    "df.dtypes"
   ]
  },
  {
   "cell_type": "code",
   "execution_count": 21,
   "metadata": {},
   "outputs": [],
   "source": [
    "# Convert MSRP, Invoice, MPG_City, MPG_Hwy to floats\n",
    "df['MSRP'] = df['MSRP'].astype(float)\n",
    "df['Invoice'] = df['Invoice'].astype(float)\n",
    "\n",
    "df['MPG_City'] = df['MPG_City'].astype(float)\n",
    "df['MPG_Hwy'] = df['MPG_Hwy'].astype(float)"
   ]
  },
  {
   "cell_type": "code",
   "execution_count": 22,
   "metadata": {},
   "outputs": [
    {
     "data": {
      "text/plain": [
       "Vehicle_Make             object\n",
       "Vehicle_Model            object\n",
       "Vehicle_Type             object\n",
       "Manufacturing_Origin     object\n",
       "MPG_City                float64\n",
       "MPG_Hwy                 float64\n",
       "MSRP                    float64\n",
       "Invoice                 float64\n",
       "Weight                    int64\n",
       "Wheelbase                 int64\n",
       "DriveTrain               object\n",
       "EngineSize              float64\n",
       "Horsepower                int64\n",
       "dtype: object"
      ]
     },
     "execution_count": 22,
     "metadata": {},
     "output_type": "execute_result"
    }
   ],
   "source": [
    "# data Vehicle_Types 'After' \n",
    "df.dtypes"
   ]
  },
  {
   "cell_type": "markdown",
   "metadata": {},
   "source": [
    "# Question:  What is the Average City MPG By Vehicle Type?  \n",
    "- Categorical Variable to Group On:    \n",
    "- Continuous Variable We're Interested In:   \n",
    "- Aggregation Function:   \n",
    "\n"
   ]
  },
  {
   "cell_type": "code",
   "execution_count": 23,
   "metadata": {},
   "outputs": [
    {
     "data": {
      "text/plain": [
       "array(['SUV', 'Sedan', 'Sports', 'Wagon', 'Truck', 'Hybrid'], dtype=object)"
      ]
     },
     "execution_count": 23,
     "metadata": {},
     "output_type": "execute_result"
    }
   ],
   "source": [
    "# Optional:  Display the unique values of the column we want to Group on\n",
    "df['Vehicle_Type'].unique()"
   ]
  },
  {
   "cell_type": "markdown",
   "metadata": {},
   "source": [
    "# Group on One Column:  *Vehicle_Type* \n"
   ]
  },
  {
   "cell_type": "code",
   "execution_count": 24,
   "metadata": {},
   "outputs": [
    {
     "data": {
      "application/vnd.microsoft.datawrangler.viewer.v0+json": {
       "columns": [
        {
         "name": "index",
         "rawType": "int64",
         "type": "integer"
        },
        {
         "name": "Vehicle_Type",
         "rawType": "object",
         "type": "string"
        },
        {
         "name": "MPG_City",
         "rawType": "float64",
         "type": "float"
        },
        {
         "name": "MPG_Hwy",
         "rawType": "float64",
         "type": "float"
        },
        {
         "name": "MSRP",
         "rawType": "float64",
         "type": "float"
        },
        {
         "name": "Invoice",
         "rawType": "float64",
         "type": "float"
        },
        {
         "name": "Weight",
         "rawType": "float64",
         "type": "float"
        },
        {
         "name": "Wheelbase",
         "rawType": "float64",
         "type": "float"
        },
        {
         "name": "EngineSize",
         "rawType": "float64",
         "type": "float"
        },
        {
         "name": "Horsepower",
         "rawType": "float64",
         "type": "float"
        }
       ],
       "conversionMethod": "pd.DataFrame",
       "ref": "9926c9e4-8279-422f-acc3-e4602c174905",
       "rows": [
        [
         "0",
         "Hybrid",
         "55.0",
         "56.0",
         "19920.0",
         "18429.333333333332",
         "2490.6666666666665",
         "101.33333333333333",
         "1.6333333333333335",
         "92.0"
        ],
        [
         "1",
         "SUV",
         "16.1",
         "20.5",
         "34790.25",
         "31625.35",
         "4444.433333333333",
         "111.08333333333333",
         "3.92",
         "235.81666666666666"
        ],
        [
         "2",
         "Sedan",
         "21.083969465648856",
         "28.629770992366414",
         "29773.618320610687",
         "27389.797709923663",
         "3399.0648854961833",
         "108.0",
         "2.9709923664122138",
         "201.65648854961833"
        ],
        [
         "3",
         "Sports",
         "18.408163265306122",
         "25.489795918367346",
         "53387.06122448979",
         "48473.163265306124",
         "3295.6938775510203",
         "99.9795918367347",
         "3.442857142857143",
         "284.16326530612247"
        ],
        [
         "4",
         "Truck",
         "16.5",
         "21.0",
         "24941.375",
         "22616.75",
         "4250.75",
         "123.0",
         "4.079166666666667",
         "224.83333333333334"
        ],
        [
         "5",
         "Wagon",
         "21.1",
         "27.9",
         "28840.533333333333",
         "26645.633333333335",
         "3438.8",
         "105.8",
         "2.77",
         "194.0"
        ]
       ],
       "shape": {
        "columns": 9,
        "rows": 6
       }
      },
      "text/html": [
       "<div>\n",
       "<style scoped>\n",
       "    .dataframe tbody tr th:only-of-type {\n",
       "        vertical-align: middle;\n",
       "    }\n",
       "\n",
       "    .dataframe tbody tr th {\n",
       "        vertical-align: top;\n",
       "    }\n",
       "\n",
       "    .dataframe thead th {\n",
       "        text-align: right;\n",
       "    }\n",
       "</style>\n",
       "<table border=\"1\" class=\"dataframe\">\n",
       "  <thead>\n",
       "    <tr style=\"text-align: right;\">\n",
       "      <th></th>\n",
       "      <th>Vehicle_Type</th>\n",
       "      <th>MPG_City</th>\n",
       "      <th>MPG_Hwy</th>\n",
       "      <th>MSRP</th>\n",
       "      <th>Invoice</th>\n",
       "      <th>Weight</th>\n",
       "      <th>Wheelbase</th>\n",
       "      <th>EngineSize</th>\n",
       "      <th>Horsepower</th>\n",
       "    </tr>\n",
       "  </thead>\n",
       "  <tbody>\n",
       "    <tr>\n",
       "      <th>0</th>\n",
       "      <td>Hybrid</td>\n",
       "      <td>55.000000</td>\n",
       "      <td>56.000000</td>\n",
       "      <td>19920.000000</td>\n",
       "      <td>18429.333333</td>\n",
       "      <td>2490.666667</td>\n",
       "      <td>101.333333</td>\n",
       "      <td>1.633333</td>\n",
       "      <td>92.000000</td>\n",
       "    </tr>\n",
       "    <tr>\n",
       "      <th>1</th>\n",
       "      <td>SUV</td>\n",
       "      <td>16.100000</td>\n",
       "      <td>20.500000</td>\n",
       "      <td>34790.250000</td>\n",
       "      <td>31625.350000</td>\n",
       "      <td>4444.433333</td>\n",
       "      <td>111.083333</td>\n",
       "      <td>3.920000</td>\n",
       "      <td>235.816667</td>\n",
       "    </tr>\n",
       "    <tr>\n",
       "      <th>2</th>\n",
       "      <td>Sedan</td>\n",
       "      <td>21.083969</td>\n",
       "      <td>28.629771</td>\n",
       "      <td>29773.618321</td>\n",
       "      <td>27389.797710</td>\n",
       "      <td>3399.064885</td>\n",
       "      <td>108.000000</td>\n",
       "      <td>2.970992</td>\n",
       "      <td>201.656489</td>\n",
       "    </tr>\n",
       "    <tr>\n",
       "      <th>3</th>\n",
       "      <td>Sports</td>\n",
       "      <td>18.408163</td>\n",
       "      <td>25.489796</td>\n",
       "      <td>53387.061224</td>\n",
       "      <td>48473.163265</td>\n",
       "      <td>3295.693878</td>\n",
       "      <td>99.979592</td>\n",
       "      <td>3.442857</td>\n",
       "      <td>284.163265</td>\n",
       "    </tr>\n",
       "    <tr>\n",
       "      <th>4</th>\n",
       "      <td>Truck</td>\n",
       "      <td>16.500000</td>\n",
       "      <td>21.000000</td>\n",
       "      <td>24941.375000</td>\n",
       "      <td>22616.750000</td>\n",
       "      <td>4250.750000</td>\n",
       "      <td>123.000000</td>\n",
       "      <td>4.079167</td>\n",
       "      <td>224.833333</td>\n",
       "    </tr>\n",
       "    <tr>\n",
       "      <th>5</th>\n",
       "      <td>Wagon</td>\n",
       "      <td>21.100000</td>\n",
       "      <td>27.900000</td>\n",
       "      <td>28840.533333</td>\n",
       "      <td>26645.633333</td>\n",
       "      <td>3438.800000</td>\n",
       "      <td>105.800000</td>\n",
       "      <td>2.770000</td>\n",
       "      <td>194.000000</td>\n",
       "    </tr>\n",
       "  </tbody>\n",
       "</table>\n",
       "</div>"
      ],
      "text/plain": [
       "  Vehicle_Type   MPG_City    MPG_Hwy          MSRP       Invoice       Weight  \\\n",
       "0       Hybrid  55.000000  56.000000  19920.000000  18429.333333  2490.666667   \n",
       "1          SUV  16.100000  20.500000  34790.250000  31625.350000  4444.433333   \n",
       "2        Sedan  21.083969  28.629771  29773.618321  27389.797710  3399.064885   \n",
       "3       Sports  18.408163  25.489796  53387.061224  48473.163265  3295.693878   \n",
       "4        Truck  16.500000  21.000000  24941.375000  22616.750000  4250.750000   \n",
       "5        Wagon  21.100000  27.900000  28840.533333  26645.633333  3438.800000   \n",
       "\n",
       "    Wheelbase  EngineSize  Horsepower  \n",
       "0  101.333333    1.633333   92.000000  \n",
       "1  111.083333    3.920000  235.816667  \n",
       "2  108.000000    2.970992  201.656489  \n",
       "3   99.979592    3.442857  284.163265  \n",
       "4  123.000000    4.079167  224.833333  \n",
       "5  105.800000    2.770000  194.000000  "
      ]
     },
     "execution_count": 24,
     "metadata": {},
     "output_type": "execute_result"
    }
   ],
   "source": [
    "df_grouped = df.groupby('Vehicle_Type').mean(numeric_only=True).reset_index()\n",
    "df_grouped"
   ]
  },
  {
   "cell_type": "code",
   "execution_count": 25,
   "metadata": {},
   "outputs": [
    {
     "data": {
      "text/plain": [
       "Index(['Vehicle_Type', 'MPG_City', 'MPG_Hwy', 'MSRP', 'Invoice', 'Weight',\n",
       "       'Wheelbase', 'EngineSize', 'Horsepower'],\n",
       "      dtype='object')"
      ]
     },
     "execution_count": 25,
     "metadata": {},
     "output_type": "execute_result"
    }
   ],
   "source": [
    "df_grouped.columns"
   ]
  },
  {
   "cell_type": "code",
   "execution_count": 26,
   "metadata": {},
   "outputs": [
    {
     "name": "stdout",
     "output_type": "stream",
     "text": [
      "3.6 Demo:  Grouping on One Column\n",
      "(6, 3)\n"
     ]
    },
    {
     "data": {
      "application/vnd.microsoft.datawrangler.viewer.v0+json": {
       "columns": [
        {
         "name": "index",
         "rawType": "int64",
         "type": "integer"
        },
        {
         "name": "Vehicle_Type",
         "rawType": "object",
         "type": "string"
        },
        {
         "name": "MPG_City",
         "rawType": "float64",
         "type": "float"
        },
        {
         "name": "MPG_Hwy",
         "rawType": "float64",
         "type": "float"
        }
       ],
       "conversionMethod": "pd.DataFrame",
       "ref": "514abb1b-e36c-4f28-a917-f1a42e296c66",
       "rows": [
        [
         "0",
         "Hybrid",
         "55.0",
         "56.0"
        ],
        [
         "1",
         "SUV",
         "16.1",
         "20.5"
        ],
        [
         "2",
         "Sedan",
         "21.083969465648856",
         "28.629770992366414"
        ],
        [
         "3",
         "Sports",
         "18.408163265306122",
         "25.489795918367346"
        ],
        [
         "4",
         "Truck",
         "16.5",
         "21.0"
        ]
       ],
       "shape": {
        "columns": 3,
        "rows": 5
       }
      },
      "text/html": [
       "<div>\n",
       "<style scoped>\n",
       "    .dataframe tbody tr th:only-of-type {\n",
       "        vertical-align: middle;\n",
       "    }\n",
       "\n",
       "    .dataframe tbody tr th {\n",
       "        vertical-align: top;\n",
       "    }\n",
       "\n",
       "    .dataframe thead th {\n",
       "        text-align: right;\n",
       "    }\n",
       "</style>\n",
       "<table border=\"1\" class=\"dataframe\">\n",
       "  <thead>\n",
       "    <tr style=\"text-align: right;\">\n",
       "      <th></th>\n",
       "      <th>Vehicle_Type</th>\n",
       "      <th>MPG_City</th>\n",
       "      <th>MPG_Hwy</th>\n",
       "    </tr>\n",
       "  </thead>\n",
       "  <tbody>\n",
       "    <tr>\n",
       "      <th>0</th>\n",
       "      <td>Hybrid</td>\n",
       "      <td>55.000000</td>\n",
       "      <td>56.000000</td>\n",
       "    </tr>\n",
       "    <tr>\n",
       "      <th>1</th>\n",
       "      <td>SUV</td>\n",
       "      <td>16.100000</td>\n",
       "      <td>20.500000</td>\n",
       "    </tr>\n",
       "    <tr>\n",
       "      <th>2</th>\n",
       "      <td>Sedan</td>\n",
       "      <td>21.083969</td>\n",
       "      <td>28.629771</td>\n",
       "    </tr>\n",
       "    <tr>\n",
       "      <th>3</th>\n",
       "      <td>Sports</td>\n",
       "      <td>18.408163</td>\n",
       "      <td>25.489796</td>\n",
       "    </tr>\n",
       "    <tr>\n",
       "      <th>4</th>\n",
       "      <td>Truck</td>\n",
       "      <td>16.500000</td>\n",
       "      <td>21.000000</td>\n",
       "    </tr>\n",
       "  </tbody>\n",
       "</table>\n",
       "</div>"
      ],
      "text/plain": [
       "  Vehicle_Type   MPG_City    MPG_Hwy\n",
       "0       Hybrid  55.000000  56.000000\n",
       "1          SUV  16.100000  20.500000\n",
       "2        Sedan  21.083969  28.629771\n",
       "3       Sports  18.408163  25.489796\n",
       "4        Truck  16.500000  21.000000"
      ]
     },
     "execution_count": 26,
     "metadata": {},
     "output_type": "execute_result"
    }
   ],
   "source": [
    "df_grouped.drop(columns=['MSRP', 'Invoice', 'Weight', 'Wheelbase', 'EngineSize', 'Horsepower'], inplace=True)\n",
    "print(\"3.6 Demo:  Grouping on One Column\")\n",
    "print(df_grouped.shape)\n",
    "df_grouped.head()"
   ]
  },
  {
   "cell_type": "markdown",
   "metadata": {},
   "source": [
    "# What is the Average MSRP by Vehicle Type?\n",
    "- Sort by MSRP (Greatest to Least)"
   ]
  },
  {
   "cell_type": "code",
   "execution_count": 27,
   "metadata": {},
   "outputs": [
    {
     "name": "stdout",
     "output_type": "stream",
     "text": [
      "3.6 Part 1: Average MSRP by Vehicle Type\n",
      "(6, 5)\n"
     ]
    },
    {
     "data": {
      "application/vnd.microsoft.datawrangler.viewer.v0+json": {
       "columns": [
        {
         "name": "index",
         "rawType": "int64",
         "type": "integer"
        },
        {
         "name": "Vehicle_Type",
         "rawType": "object",
         "type": "string"
        },
        {
         "name": "MPG_City",
         "rawType": "float64",
         "type": "float"
        },
        {
         "name": "MPG_Hwy",
         "rawType": "float64",
         "type": "float"
        },
        {
         "name": "MSRP",
         "rawType": "float64",
         "type": "float"
        },
        {
         "name": "Invoice",
         "rawType": "float64",
         "type": "float"
        }
       ],
       "conversionMethod": "pd.DataFrame",
       "ref": "071817fc-0eed-4664-a8f0-3677fb6e118c",
       "rows": [
        [
         "3",
         "Sports",
         "18.408163265306122",
         "25.489795918367346",
         "53387.06122448979",
         "48473.163265306124"
        ],
        [
         "1",
         "SUV",
         "16.1",
         "20.5",
         "34790.25",
         "31625.35"
        ],
        [
         "2",
         "Sedan",
         "21.083969465648856",
         "28.629770992366414",
         "29773.618320610687",
         "27389.797709923663"
        ],
        [
         "5",
         "Wagon",
         "21.1",
         "27.9",
         "28840.533333333333",
         "26645.633333333335"
        ],
        [
         "4",
         "Truck",
         "16.5",
         "21.0",
         "24941.375",
         "22616.75"
        ],
        [
         "0",
         "Hybrid",
         "55.0",
         "56.0",
         "19920.0",
         "18429.333333333332"
        ]
       ],
       "shape": {
        "columns": 5,
        "rows": 6
       }
      },
      "text/html": [
       "<div>\n",
       "<style scoped>\n",
       "    .dataframe tbody tr th:only-of-type {\n",
       "        vertical-align: middle;\n",
       "    }\n",
       "\n",
       "    .dataframe tbody tr th {\n",
       "        vertical-align: top;\n",
       "    }\n",
       "\n",
       "    .dataframe thead th {\n",
       "        text-align: right;\n",
       "    }\n",
       "</style>\n",
       "<table border=\"1\" class=\"dataframe\">\n",
       "  <thead>\n",
       "    <tr style=\"text-align: right;\">\n",
       "      <th></th>\n",
       "      <th>Vehicle_Type</th>\n",
       "      <th>MPG_City</th>\n",
       "      <th>MPG_Hwy</th>\n",
       "      <th>MSRP</th>\n",
       "      <th>Invoice</th>\n",
       "    </tr>\n",
       "  </thead>\n",
       "  <tbody>\n",
       "    <tr>\n",
       "      <th>3</th>\n",
       "      <td>Sports</td>\n",
       "      <td>18.408163</td>\n",
       "      <td>25.489796</td>\n",
       "      <td>53387.061224</td>\n",
       "      <td>48473.163265</td>\n",
       "    </tr>\n",
       "    <tr>\n",
       "      <th>1</th>\n",
       "      <td>SUV</td>\n",
       "      <td>16.100000</td>\n",
       "      <td>20.500000</td>\n",
       "      <td>34790.250000</td>\n",
       "      <td>31625.350000</td>\n",
       "    </tr>\n",
       "    <tr>\n",
       "      <th>2</th>\n",
       "      <td>Sedan</td>\n",
       "      <td>21.083969</td>\n",
       "      <td>28.629771</td>\n",
       "      <td>29773.618321</td>\n",
       "      <td>27389.797710</td>\n",
       "    </tr>\n",
       "    <tr>\n",
       "      <th>5</th>\n",
       "      <td>Wagon</td>\n",
       "      <td>21.100000</td>\n",
       "      <td>27.900000</td>\n",
       "      <td>28840.533333</td>\n",
       "      <td>26645.633333</td>\n",
       "    </tr>\n",
       "    <tr>\n",
       "      <th>4</th>\n",
       "      <td>Truck</td>\n",
       "      <td>16.500000</td>\n",
       "      <td>21.000000</td>\n",
       "      <td>24941.375000</td>\n",
       "      <td>22616.750000</td>\n",
       "    </tr>\n",
       "    <tr>\n",
       "      <th>0</th>\n",
       "      <td>Hybrid</td>\n",
       "      <td>55.000000</td>\n",
       "      <td>56.000000</td>\n",
       "      <td>19920.000000</td>\n",
       "      <td>18429.333333</td>\n",
       "    </tr>\n",
       "  </tbody>\n",
       "</table>\n",
       "</div>"
      ],
      "text/plain": [
       "  Vehicle_Type   MPG_City    MPG_Hwy          MSRP       Invoice\n",
       "3       Sports  18.408163  25.489796  53387.061224  48473.163265\n",
       "1          SUV  16.100000  20.500000  34790.250000  31625.350000\n",
       "2        Sedan  21.083969  28.629771  29773.618321  27389.797710\n",
       "5        Wagon  21.100000  27.900000  28840.533333  26645.633333\n",
       "4        Truck  16.500000  21.000000  24941.375000  22616.750000\n",
       "0       Hybrid  55.000000  56.000000  19920.000000  18429.333333"
      ]
     },
     "execution_count": 27,
     "metadata": {},
     "output_type": "execute_result"
    }
   ],
   "source": [
    "print(\"3.6 Part 1: Average MSRP by Vehicle Type\")\n",
    "df_Q1 = df.groupby('Vehicle_Type').mean(numeric_only=True).reset_index()\n",
    "df_Q1.sort_values(by='MSRP', ascending=False, inplace=True)\n",
    "df_Q1.drop(columns=['Weight', 'Wheelbase', 'EngineSize', 'Horsepower'], inplace=True)\n",
    "print(df_Q1.shape)\n",
    "df_Q1"
   ]
  },
  {
   "cell_type": "code",
   "execution_count": 35,
   "metadata": {},
   "outputs": [
    {
     "name": "stdout",
     "output_type": "stream",
     "text": [
      "(9994, 21)\n"
     ]
    },
    {
     "name": "stderr",
     "output_type": "stream",
     "text": [
      "c:\\Users\\brown\\AppData\\Local\\Programs\\Python\\Python312\\Lib\\site-packages\\openpyxl\\worksheet\\header_footer.py:48: UserWarning: Cannot parse header or footer so it will be ignored\n",
      "  warn(\"\"\"Cannot parse header or footer so it will be ignored\"\"\")\n"
     ]
    },
    {
     "data": {
      "application/vnd.microsoft.datawrangler.viewer.v0+json": {
       "columns": [
        {
         "name": "index",
         "rawType": "int64",
         "type": "integer"
        },
        {
         "name": "Row ID",
         "rawType": "int64",
         "type": "integer"
        },
        {
         "name": "Order ID",
         "rawType": "object",
         "type": "string"
        },
        {
         "name": "Order_Date",
         "rawType": "datetime64[ns]",
         "type": "datetime"
        },
        {
         "name": "Ship Date",
         "rawType": "datetime64[ns]",
         "type": "datetime"
        },
        {
         "name": "Ship Mode",
         "rawType": "object",
         "type": "string"
        },
        {
         "name": "Customer ID",
         "rawType": "object",
         "type": "string"
        },
        {
         "name": "Customer Name",
         "rawType": "object",
         "type": "string"
        },
        {
         "name": "Business_Segment",
         "rawType": "object",
         "type": "string"
        },
        {
         "name": "Country/Region",
         "rawType": "object",
         "type": "string"
        },
        {
         "name": "City",
         "rawType": "object",
         "type": "string"
        },
        {
         "name": "State",
         "rawType": "object",
         "type": "string"
        },
        {
         "name": "Zipcode",
         "rawType": "float64",
         "type": "float"
        },
        {
         "name": "Region",
         "rawType": "object",
         "type": "string"
        },
        {
         "name": "Product_ID",
         "rawType": "object",
         "type": "string"
        },
        {
         "name": "Category",
         "rawType": "object",
         "type": "string"
        },
        {
         "name": "Subcategory",
         "rawType": "object",
         "type": "string"
        },
        {
         "name": "Product_Name",
         "rawType": "object",
         "type": "string"
        },
        {
         "name": "Sales",
         "rawType": "float64",
         "type": "float"
        },
        {
         "name": "Quantity",
         "rawType": "int64",
         "type": "integer"
        },
        {
         "name": "Discount",
         "rawType": "float64",
         "type": "float"
        },
        {
         "name": "Profit",
         "rawType": "float64",
         "type": "float"
        }
       ],
       "conversionMethod": "pd.DataFrame",
       "ref": "007b7caa-97ac-408c-8492-b814dbf67a7f",
       "rows": [
        [
         "0",
         "1",
         "CA-2019-152156",
         "2019-11-08 00:00:00",
         "2019-11-11 00:00:00",
         "Second Class",
         "CG-12520",
         "Claire Gute",
         "Consumer",
         "United States",
         "Henderson",
         "Kentucky",
         "42420.0",
         "South",
         "FUR-BO-10001798",
         "Furniture",
         "Bookcases",
         "Bush Somerset Collection Bookcase",
         "261.96",
         "2",
         "0.0",
         "41.9136"
        ],
        [
         "1",
         "2",
         "CA-2019-152156",
         "2019-11-08 00:00:00",
         "2019-11-11 00:00:00",
         "Second Class",
         "CG-12520",
         "Claire Gute",
         "Consumer",
         "United States",
         "Henderson",
         "Kentucky",
         "42420.0",
         "South",
         "FUR-CH-10000454",
         "Furniture",
         "Chairs",
         "Hon Deluxe Fabric Upholstered Stacking Chairs, Rounded Back",
         "731.9399999999999",
         "3",
         "0.0",
         "219.58199999999997"
        ],
        [
         "2",
         "3",
         "CA-2019-138688",
         "2019-06-12 00:00:00",
         "2019-06-16 00:00:00",
         "Second Class",
         "DV-13045",
         "Darrin Van Huff",
         "Corporate",
         "United States",
         "Los Angeles",
         "California",
         "90036.0",
         "West",
         "OFF-LA-10000240",
         "Office Supplies",
         "Labels",
         "Self-Adhesive Address Labels for Typewriters by Universal",
         "14.62",
         "2",
         "0.0",
         "6.8713999999999995"
        ],
        [
         "3",
         "4",
         "US-2018-108966",
         "2018-10-11 00:00:00",
         "2018-10-18 00:00:00",
         "Standard Class",
         "SO-20335",
         "Sean O'Donnell",
         "Consumer",
         "United States",
         "Fort Lauderdale",
         "Florida",
         "33311.0",
         "South",
         "FUR-TA-10000577",
         "Furniture",
         "Tables",
         "Bretford CR4500 Series Slim Rectangular Table",
         "957.5775",
         "5",
         "0.45",
         "-383.03100000000006"
        ],
        [
         "4",
         "5",
         "US-2018-108966",
         "2018-10-11 00:00:00",
         "2018-10-18 00:00:00",
         "Standard Class",
         "SO-20335",
         "Sean O'Donnell",
         "Consumer",
         "United States",
         "Fort Lauderdale",
         "Florida",
         "33311.0",
         "South",
         "OFF-ST-10000760",
         "Office Supplies",
         "Storage",
         "Eldon Fold 'N Roll Cart System",
         "22.368000000000002",
         "2",
         "0.2",
         "2.516399999999999"
        ]
       ],
       "shape": {
        "columns": 21,
        "rows": 5
       }
      },
      "text/html": [
       "<div>\n",
       "<style scoped>\n",
       "    .dataframe tbody tr th:only-of-type {\n",
       "        vertical-align: middle;\n",
       "    }\n",
       "\n",
       "    .dataframe tbody tr th {\n",
       "        vertical-align: top;\n",
       "    }\n",
       "\n",
       "    .dataframe thead th {\n",
       "        text-align: right;\n",
       "    }\n",
       "</style>\n",
       "<table border=\"1\" class=\"dataframe\">\n",
       "  <thead>\n",
       "    <tr style=\"text-align: right;\">\n",
       "      <th></th>\n",
       "      <th>Row ID</th>\n",
       "      <th>Order ID</th>\n",
       "      <th>Order_Date</th>\n",
       "      <th>Ship Date</th>\n",
       "      <th>Ship Mode</th>\n",
       "      <th>Customer ID</th>\n",
       "      <th>Customer Name</th>\n",
       "      <th>Business_Segment</th>\n",
       "      <th>Country/Region</th>\n",
       "      <th>City</th>\n",
       "      <th>...</th>\n",
       "      <th>Zipcode</th>\n",
       "      <th>Region</th>\n",
       "      <th>Product_ID</th>\n",
       "      <th>Category</th>\n",
       "      <th>Subcategory</th>\n",
       "      <th>Product_Name</th>\n",
       "      <th>Sales</th>\n",
       "      <th>Quantity</th>\n",
       "      <th>Discount</th>\n",
       "      <th>Profit</th>\n",
       "    </tr>\n",
       "  </thead>\n",
       "  <tbody>\n",
       "    <tr>\n",
       "      <th>0</th>\n",
       "      <td>1</td>\n",
       "      <td>CA-2019-152156</td>\n",
       "      <td>2019-11-08</td>\n",
       "      <td>2019-11-11</td>\n",
       "      <td>Second Class</td>\n",
       "      <td>CG-12520</td>\n",
       "      <td>Claire Gute</td>\n",
       "      <td>Consumer</td>\n",
       "      <td>United States</td>\n",
       "      <td>Henderson</td>\n",
       "      <td>...</td>\n",
       "      <td>42420.0</td>\n",
       "      <td>South</td>\n",
       "      <td>FUR-BO-10001798</td>\n",
       "      <td>Furniture</td>\n",
       "      <td>Bookcases</td>\n",
       "      <td>Bush Somerset Collection Bookcase</td>\n",
       "      <td>261.9600</td>\n",
       "      <td>2</td>\n",
       "      <td>0.00</td>\n",
       "      <td>41.9136</td>\n",
       "    </tr>\n",
       "    <tr>\n",
       "      <th>1</th>\n",
       "      <td>2</td>\n",
       "      <td>CA-2019-152156</td>\n",
       "      <td>2019-11-08</td>\n",
       "      <td>2019-11-11</td>\n",
       "      <td>Second Class</td>\n",
       "      <td>CG-12520</td>\n",
       "      <td>Claire Gute</td>\n",
       "      <td>Consumer</td>\n",
       "      <td>United States</td>\n",
       "      <td>Henderson</td>\n",
       "      <td>...</td>\n",
       "      <td>42420.0</td>\n",
       "      <td>South</td>\n",
       "      <td>FUR-CH-10000454</td>\n",
       "      <td>Furniture</td>\n",
       "      <td>Chairs</td>\n",
       "      <td>Hon Deluxe Fabric Upholstered Stacking Chairs,...</td>\n",
       "      <td>731.9400</td>\n",
       "      <td>3</td>\n",
       "      <td>0.00</td>\n",
       "      <td>219.5820</td>\n",
       "    </tr>\n",
       "    <tr>\n",
       "      <th>2</th>\n",
       "      <td>3</td>\n",
       "      <td>CA-2019-138688</td>\n",
       "      <td>2019-06-12</td>\n",
       "      <td>2019-06-16</td>\n",
       "      <td>Second Class</td>\n",
       "      <td>DV-13045</td>\n",
       "      <td>Darrin Van Huff</td>\n",
       "      <td>Corporate</td>\n",
       "      <td>United States</td>\n",
       "      <td>Los Angeles</td>\n",
       "      <td>...</td>\n",
       "      <td>90036.0</td>\n",
       "      <td>West</td>\n",
       "      <td>OFF-LA-10000240</td>\n",
       "      <td>Office Supplies</td>\n",
       "      <td>Labels</td>\n",
       "      <td>Self-Adhesive Address Labels for Typewriters b...</td>\n",
       "      <td>14.6200</td>\n",
       "      <td>2</td>\n",
       "      <td>0.00</td>\n",
       "      <td>6.8714</td>\n",
       "    </tr>\n",
       "    <tr>\n",
       "      <th>3</th>\n",
       "      <td>4</td>\n",
       "      <td>US-2018-108966</td>\n",
       "      <td>2018-10-11</td>\n",
       "      <td>2018-10-18</td>\n",
       "      <td>Standard Class</td>\n",
       "      <td>SO-20335</td>\n",
       "      <td>Sean O'Donnell</td>\n",
       "      <td>Consumer</td>\n",
       "      <td>United States</td>\n",
       "      <td>Fort Lauderdale</td>\n",
       "      <td>...</td>\n",
       "      <td>33311.0</td>\n",
       "      <td>South</td>\n",
       "      <td>FUR-TA-10000577</td>\n",
       "      <td>Furniture</td>\n",
       "      <td>Tables</td>\n",
       "      <td>Bretford CR4500 Series Slim Rectangular Table</td>\n",
       "      <td>957.5775</td>\n",
       "      <td>5</td>\n",
       "      <td>0.45</td>\n",
       "      <td>-383.0310</td>\n",
       "    </tr>\n",
       "    <tr>\n",
       "      <th>4</th>\n",
       "      <td>5</td>\n",
       "      <td>US-2018-108966</td>\n",
       "      <td>2018-10-11</td>\n",
       "      <td>2018-10-18</td>\n",
       "      <td>Standard Class</td>\n",
       "      <td>SO-20335</td>\n",
       "      <td>Sean O'Donnell</td>\n",
       "      <td>Consumer</td>\n",
       "      <td>United States</td>\n",
       "      <td>Fort Lauderdale</td>\n",
       "      <td>...</td>\n",
       "      <td>33311.0</td>\n",
       "      <td>South</td>\n",
       "      <td>OFF-ST-10000760</td>\n",
       "      <td>Office Supplies</td>\n",
       "      <td>Storage</td>\n",
       "      <td>Eldon Fold 'N Roll Cart System</td>\n",
       "      <td>22.3680</td>\n",
       "      <td>2</td>\n",
       "      <td>0.20</td>\n",
       "      <td>2.5164</td>\n",
       "    </tr>\n",
       "  </tbody>\n",
       "</table>\n",
       "<p>5 rows × 21 columns</p>\n",
       "</div>"
      ],
      "text/plain": [
       "   Row ID        Order ID Order_Date  Ship Date       Ship Mode Customer ID  \\\n",
       "0       1  CA-2019-152156 2019-11-08 2019-11-11    Second Class    CG-12520   \n",
       "1       2  CA-2019-152156 2019-11-08 2019-11-11    Second Class    CG-12520   \n",
       "2       3  CA-2019-138688 2019-06-12 2019-06-16    Second Class    DV-13045   \n",
       "3       4  US-2018-108966 2018-10-11 2018-10-18  Standard Class    SO-20335   \n",
       "4       5  US-2018-108966 2018-10-11 2018-10-18  Standard Class    SO-20335   \n",
       "\n",
       "     Customer Name Business_Segment Country/Region             City  ...  \\\n",
       "0      Claire Gute         Consumer  United States        Henderson  ...   \n",
       "1      Claire Gute         Consumer  United States        Henderson  ...   \n",
       "2  Darrin Van Huff        Corporate  United States      Los Angeles  ...   \n",
       "3   Sean O'Donnell         Consumer  United States  Fort Lauderdale  ...   \n",
       "4   Sean O'Donnell         Consumer  United States  Fort Lauderdale  ...   \n",
       "\n",
       "   Zipcode  Region       Product_ID         Category Subcategory  \\\n",
       "0  42420.0   South  FUR-BO-10001798        Furniture   Bookcases   \n",
       "1  42420.0   South  FUR-CH-10000454        Furniture      Chairs   \n",
       "2  90036.0    West  OFF-LA-10000240  Office Supplies      Labels   \n",
       "3  33311.0   South  FUR-TA-10000577        Furniture      Tables   \n",
       "4  33311.0   South  OFF-ST-10000760  Office Supplies     Storage   \n",
       "\n",
       "                                        Product_Name     Sales  Quantity  \\\n",
       "0                  Bush Somerset Collection Bookcase  261.9600         2   \n",
       "1  Hon Deluxe Fabric Upholstered Stacking Chairs,...  731.9400         3   \n",
       "2  Self-Adhesive Address Labels for Typewriters b...   14.6200         2   \n",
       "3      Bretford CR4500 Series Slim Rectangular Table  957.5775         5   \n",
       "4                     Eldon Fold 'N Roll Cart System   22.3680         2   \n",
       "\n",
       "   Discount    Profit  \n",
       "0      0.00   41.9136  \n",
       "1      0.00  219.5820  \n",
       "2      0.00    6.8714  \n",
       "3      0.45 -383.0310  \n",
       "4      0.20    2.5164  \n",
       "\n",
       "[5 rows x 21 columns]"
      ]
     },
     "execution_count": 35,
     "metadata": {},
     "output_type": "execute_result"
    }
   ],
   "source": [
    "df = pd.read_excel('Sample - Superstore.xlsx')\n",
    "print(df.shape)\n",
    "df.head()"
   ]
  },
  {
   "cell_type": "code",
   "execution_count": 72,
   "metadata": {},
   "outputs": [
    {
     "name": "stdout",
     "output_type": "stream",
     "text": [
      "3.6 Part 2: Total Sales and Profit by Region\n",
      "(4, 4)\n"
     ]
    },
    {
     "name": "stderr",
     "output_type": "stream",
     "text": [
      "c:\\Users\\brown\\AppData\\Local\\Programs\\Python\\Python312\\Lib\\site-packages\\openpyxl\\worksheet\\header_footer.py:48: UserWarning: Cannot parse header or footer so it will be ignored\n",
      "  warn(\"\"\"Cannot parse header or footer so it will be ignored\"\"\")\n"
     ]
    },
    {
     "data": {
      "application/vnd.microsoft.datawrangler.viewer.v0+json": {
       "columns": [
        {
         "name": "index",
         "rawType": "int64",
         "type": "integer"
        },
        {
         "name": "index",
         "rawType": "int64",
         "type": "integer"
        },
        {
         "name": "Region",
         "rawType": "object",
         "type": "string"
        },
        {
         "name": "Sales",
         "rawType": "float64",
         "type": "float"
        },
        {
         "name": "Profit",
         "rawType": "float64",
         "type": "float"
        }
       ],
       "conversionMethod": "pd.DataFrame",
       "ref": "0a6c4fa6-f1a6-44e4-84c2-e391ac5ba9b6",
       "rows": [
        [
         "0",
         "0",
         "Central",
         "501239.8908",
         "39706.36249999998"
        ],
        [
         "1",
         "1",
         "East",
         "678781.24",
         "91522.77999999998"
        ],
        [
         "2",
         "2",
         "South",
         "391721.905",
         "46749.43029999999"
        ],
        [
         "3",
         "3",
         "West",
         "725457.8245",
         "108418.44889999997"
        ]
       ],
       "shape": {
        "columns": 4,
        "rows": 4
       }
      },
      "text/html": [
       "<div>\n",
       "<style scoped>\n",
       "    .dataframe tbody tr th:only-of-type {\n",
       "        vertical-align: middle;\n",
       "    }\n",
       "\n",
       "    .dataframe tbody tr th {\n",
       "        vertical-align: top;\n",
       "    }\n",
       "\n",
       "    .dataframe thead th {\n",
       "        text-align: right;\n",
       "    }\n",
       "</style>\n",
       "<table border=\"1\" class=\"dataframe\">\n",
       "  <thead>\n",
       "    <tr style=\"text-align: right;\">\n",
       "      <th></th>\n",
       "      <th>index</th>\n",
       "      <th>Region</th>\n",
       "      <th>Sales</th>\n",
       "      <th>Profit</th>\n",
       "    </tr>\n",
       "  </thead>\n",
       "  <tbody>\n",
       "    <tr>\n",
       "      <th>0</th>\n",
       "      <td>0</td>\n",
       "      <td>Central</td>\n",
       "      <td>501239.8908</td>\n",
       "      <td>39706.3625</td>\n",
       "    </tr>\n",
       "    <tr>\n",
       "      <th>1</th>\n",
       "      <td>1</td>\n",
       "      <td>East</td>\n",
       "      <td>678781.2400</td>\n",
       "      <td>91522.7800</td>\n",
       "    </tr>\n",
       "    <tr>\n",
       "      <th>2</th>\n",
       "      <td>2</td>\n",
       "      <td>South</td>\n",
       "      <td>391721.9050</td>\n",
       "      <td>46749.4303</td>\n",
       "    </tr>\n",
       "    <tr>\n",
       "      <th>3</th>\n",
       "      <td>3</td>\n",
       "      <td>West</td>\n",
       "      <td>725457.8245</td>\n",
       "      <td>108418.4489</td>\n",
       "    </tr>\n",
       "  </tbody>\n",
       "</table>\n",
       "</div>"
      ],
      "text/plain": [
       "   index   Region        Sales       Profit\n",
       "0      0  Central  501239.8908   39706.3625\n",
       "1      1     East  678781.2400   91522.7800\n",
       "2      2    South  391721.9050   46749.4303\n",
       "3      3     West  725457.8245  108418.4489"
      ]
     },
     "execution_count": 72,
     "metadata": {},
     "output_type": "execute_result"
    }
   ],
   "source": [
    "print(\"3.6 Part 2: Total Sales and Profit by Region\")\n",
    "df = pd.read_excel('Sample - Superstore.xlsx')\n",
    "df_Q2 = df.groupby('Region', as_index=True).sum(numeric_only=True).reset_index()\n",
    "df_dropped = df_Q2.drop(columns=['Zipcode', 'Quantity', 'Discount', 'Row ID'])\n",
    "df_dropped.reset_index(inplace=True)\n",
    "print(df_dropped.shape)\n",
    "df_dropped\n",
    "\n"
   ]
  },
  {
   "cell_type": "code",
   "execution_count": 59,
   "metadata": {},
   "outputs": [
    {
     "name": "stdout",
     "output_type": "stream",
     "text": [
      "3.6 Part 3: Average Sales by Subcategory\n",
      "(17, 2)\n"
     ]
    },
    {
     "name": "stderr",
     "output_type": "stream",
     "text": [
      "c:\\Users\\brown\\AppData\\Local\\Programs\\Python\\Python312\\Lib\\site-packages\\openpyxl\\worksheet\\header_footer.py:48: UserWarning: Cannot parse header or footer so it will be ignored\n",
      "  warn(\"\"\"Cannot parse header or footer so it will be ignored\"\"\")\n"
     ]
    },
    {
     "data": {
      "application/vnd.microsoft.datawrangler.viewer.v0+json": {
       "columns": [
        {
         "name": "index",
         "rawType": "int64",
         "type": "integer"
        },
        {
         "name": "Subcategory",
         "rawType": "object",
         "type": "string"
        },
        {
         "name": "Profit",
         "rawType": "float64",
         "type": "float"
        }
       ],
       "conversionMethod": "pd.DataFrame",
       "ref": "a7c0f601-1e21-40ad-8394-83b78de452bb",
       "rows": [
        [
         "0",
         "Accessories",
         "54.111788"
        ],
        [
         "1",
         "Appliances",
         "38.9227583690987"
        ],
        [
         "2",
         "Art",
         "8.200737437185929"
        ],
        [
         "3",
         "Binders",
         "19.84357406434668"
        ],
        [
         "4",
         "Bookcases",
         "-15.23050877192984"
        ],
        [
         "5",
         "Chairs",
         "43.095893517017814"
        ],
        [
         "6",
         "Copiers",
         "817.9091897058822"
        ],
        [
         "7",
         "Envelopes",
         "27.418018503937006"
        ],
        [
         "8",
         "Fasteners",
         "4.375659907834101"
        ],
        [
         "9",
         "Furnishings",
         "13.645918077324971"
        ],
        [
         "10",
         "Labels",
         "15.236961538461538"
        ],
        [
         "11",
         "Machines",
         "29.43266869565207"
        ],
        [
         "12",
         "Paper",
         "24.856619927007294"
        ],
        [
         "13",
         "Phones",
         "50.07393768278965"
        ],
        [
         "14",
         "Storage",
         "25.152277068557915"
        ],
        [
         "15",
         "Supplies",
         "-6.258418421052635"
        ],
        [
         "16",
         "Tables",
         "-55.565771473354246"
        ]
       ],
       "shape": {
        "columns": 2,
        "rows": 17
       }
      },
      "text/html": [
       "<div>\n",
       "<style scoped>\n",
       "    .dataframe tbody tr th:only-of-type {\n",
       "        vertical-align: middle;\n",
       "    }\n",
       "\n",
       "    .dataframe tbody tr th {\n",
       "        vertical-align: top;\n",
       "    }\n",
       "\n",
       "    .dataframe thead th {\n",
       "        text-align: right;\n",
       "    }\n",
       "</style>\n",
       "<table border=\"1\" class=\"dataframe\">\n",
       "  <thead>\n",
       "    <tr style=\"text-align: right;\">\n",
       "      <th></th>\n",
       "      <th>Subcategory</th>\n",
       "      <th>Profit</th>\n",
       "    </tr>\n",
       "  </thead>\n",
       "  <tbody>\n",
       "    <tr>\n",
       "      <th>0</th>\n",
       "      <td>Accessories</td>\n",
       "      <td>54.111788</td>\n",
       "    </tr>\n",
       "    <tr>\n",
       "      <th>1</th>\n",
       "      <td>Appliances</td>\n",
       "      <td>38.922758</td>\n",
       "    </tr>\n",
       "    <tr>\n",
       "      <th>2</th>\n",
       "      <td>Art</td>\n",
       "      <td>8.200737</td>\n",
       "    </tr>\n",
       "    <tr>\n",
       "      <th>3</th>\n",
       "      <td>Binders</td>\n",
       "      <td>19.843574</td>\n",
       "    </tr>\n",
       "    <tr>\n",
       "      <th>4</th>\n",
       "      <td>Bookcases</td>\n",
       "      <td>-15.230509</td>\n",
       "    </tr>\n",
       "    <tr>\n",
       "      <th>5</th>\n",
       "      <td>Chairs</td>\n",
       "      <td>43.095894</td>\n",
       "    </tr>\n",
       "    <tr>\n",
       "      <th>6</th>\n",
       "      <td>Copiers</td>\n",
       "      <td>817.909190</td>\n",
       "    </tr>\n",
       "    <tr>\n",
       "      <th>7</th>\n",
       "      <td>Envelopes</td>\n",
       "      <td>27.418019</td>\n",
       "    </tr>\n",
       "    <tr>\n",
       "      <th>8</th>\n",
       "      <td>Fasteners</td>\n",
       "      <td>4.375660</td>\n",
       "    </tr>\n",
       "    <tr>\n",
       "      <th>9</th>\n",
       "      <td>Furnishings</td>\n",
       "      <td>13.645918</td>\n",
       "    </tr>\n",
       "    <tr>\n",
       "      <th>10</th>\n",
       "      <td>Labels</td>\n",
       "      <td>15.236962</td>\n",
       "    </tr>\n",
       "    <tr>\n",
       "      <th>11</th>\n",
       "      <td>Machines</td>\n",
       "      <td>29.432669</td>\n",
       "    </tr>\n",
       "    <tr>\n",
       "      <th>12</th>\n",
       "      <td>Paper</td>\n",
       "      <td>24.856620</td>\n",
       "    </tr>\n",
       "    <tr>\n",
       "      <th>13</th>\n",
       "      <td>Phones</td>\n",
       "      <td>50.073938</td>\n",
       "    </tr>\n",
       "    <tr>\n",
       "      <th>14</th>\n",
       "      <td>Storage</td>\n",
       "      <td>25.152277</td>\n",
       "    </tr>\n",
       "    <tr>\n",
       "      <th>15</th>\n",
       "      <td>Supplies</td>\n",
       "      <td>-6.258418</td>\n",
       "    </tr>\n",
       "    <tr>\n",
       "      <th>16</th>\n",
       "      <td>Tables</td>\n",
       "      <td>-55.565771</td>\n",
       "    </tr>\n",
       "  </tbody>\n",
       "</table>\n",
       "</div>"
      ],
      "text/plain": [
       "    Subcategory      Profit\n",
       "0   Accessories   54.111788\n",
       "1    Appliances   38.922758\n",
       "2           Art    8.200737\n",
       "3       Binders   19.843574\n",
       "4     Bookcases  -15.230509\n",
       "5        Chairs   43.095894\n",
       "6       Copiers  817.909190\n",
       "7     Envelopes   27.418019\n",
       "8     Fasteners    4.375660\n",
       "9   Furnishings   13.645918\n",
       "10       Labels   15.236962\n",
       "11     Machines   29.432669\n",
       "12        Paper   24.856620\n",
       "13       Phones   50.073938\n",
       "14      Storage   25.152277\n",
       "15     Supplies   -6.258418\n",
       "16       Tables  -55.565771"
      ]
     },
     "execution_count": 59,
     "metadata": {},
     "output_type": "execute_result"
    }
   ],
   "source": [
    "print(\"3.6 Part 3: Average Sales by Subcategory\")\n",
    "df = pd.read_excel('Sample - Superstore.xlsx')\n",
    "df_Q3 = df.groupby('Subcategory', as_index=True).mean(numeric_only=True).reset_index()\n",
    "df_dropped = df_Q3.drop(columns=['Zipcode', 'Quantity', 'Discount', 'Row ID', 'Sales'])\n",
    "print(df_dropped.shape)\n",
    "df_dropped"
   ]
  },
  {
   "cell_type": "code",
   "execution_count": 68,
   "metadata": {},
   "outputs": [
    {
     "name": "stdout",
     "output_type": "stream",
     "text": [
      "3.6 Part 4: What are the Top 5 Customers for Total Profits?\n",
      "(5, 2)\n"
     ]
    },
    {
     "name": "stderr",
     "output_type": "stream",
     "text": [
      "c:\\Users\\brown\\AppData\\Local\\Programs\\Python\\Python312\\Lib\\site-packages\\openpyxl\\worksheet\\header_footer.py:48: UserWarning: Cannot parse header or footer so it will be ignored\n",
      "  warn(\"\"\"Cannot parse header or footer so it will be ignored\"\"\")\n"
     ]
    },
    {
     "data": {
      "application/vnd.microsoft.datawrangler.viewer.v0+json": {
       "columns": [
        {
         "name": "index",
         "rawType": "int64",
         "type": "integer"
        },
        {
         "name": "Customer Name",
         "rawType": "object",
         "type": "string"
        },
        {
         "name": "Profit",
         "rawType": "float64",
         "type": "float"
        }
       ],
       "conversionMethod": "pd.DataFrame",
       "ref": "d6a05fc1-bea9-4a54-b2bd-4e393dd5431a",
       "rows": [
        [
         "730",
         "Tamara Chand",
         "8981.3239"
        ],
        [
         "622",
         "Raymond Buch",
         "6976.095899999999"
        ],
        [
         "671",
         "Sanjit Chand",
         "5757.4119"
        ],
        [
         "334",
         "Hunter Lopez",
         "5622.4292000000005"
        ],
        [
         "6",
         "Adrian Barton",
         "5444.8055"
        ]
       ],
       "shape": {
        "columns": 2,
        "rows": 5
       }
      },
      "text/html": [
       "<div>\n",
       "<style scoped>\n",
       "    .dataframe tbody tr th:only-of-type {\n",
       "        vertical-align: middle;\n",
       "    }\n",
       "\n",
       "    .dataframe tbody tr th {\n",
       "        vertical-align: top;\n",
       "    }\n",
       "\n",
       "    .dataframe thead th {\n",
       "        text-align: right;\n",
       "    }\n",
       "</style>\n",
       "<table border=\"1\" class=\"dataframe\">\n",
       "  <thead>\n",
       "    <tr style=\"text-align: right;\">\n",
       "      <th></th>\n",
       "      <th>Customer Name</th>\n",
       "      <th>Profit</th>\n",
       "    </tr>\n",
       "  </thead>\n",
       "  <tbody>\n",
       "    <tr>\n",
       "      <th>730</th>\n",
       "      <td>Tamara Chand</td>\n",
       "      <td>8981.3239</td>\n",
       "    </tr>\n",
       "    <tr>\n",
       "      <th>622</th>\n",
       "      <td>Raymond Buch</td>\n",
       "      <td>6976.0959</td>\n",
       "    </tr>\n",
       "    <tr>\n",
       "      <th>671</th>\n",
       "      <td>Sanjit Chand</td>\n",
       "      <td>5757.4119</td>\n",
       "    </tr>\n",
       "    <tr>\n",
       "      <th>334</th>\n",
       "      <td>Hunter Lopez</td>\n",
       "      <td>5622.4292</td>\n",
       "    </tr>\n",
       "    <tr>\n",
       "      <th>6</th>\n",
       "      <td>Adrian Barton</td>\n",
       "      <td>5444.8055</td>\n",
       "    </tr>\n",
       "  </tbody>\n",
       "</table>\n",
       "</div>"
      ],
      "text/plain": [
       "     Customer Name     Profit\n",
       "730   Tamara Chand  8981.3239\n",
       "622   Raymond Buch  6976.0959\n",
       "671   Sanjit Chand  5757.4119\n",
       "334   Hunter Lopez  5622.4292\n",
       "6    Adrian Barton  5444.8055"
      ]
     },
     "execution_count": 68,
     "metadata": {},
     "output_type": "execute_result"
    }
   ],
   "source": [
    "print(\"3.6 Part 4: What are the Top 5 Customers for Total Profits?\")\n",
    "df = pd.read_excel('Sample - Superstore.xlsx')\n",
    "df_Q4 = df.groupby('Customer Name', as_index=True).sum(numeric_only=True).reset_index()\n",
    "df_dropped = df_Q4.drop(columns=['Zipcode', 'Quantity', 'Discount', 'Row ID', 'Sales']).sort_values(by='Profit', ascending=False).head(5)\n",
    "print(df_dropped.shape)\n",
    "df_dropped"
   ]
  }
 ],
 "metadata": {
  "kernelspec": {
   "display_name": "Python 3",
   "language": "python",
   "name": "python3"
  },
  "language_info": {
   "codemirror_mode": {
    "name": "ipython",
    "version": 3
   },
   "file_extension": ".py",
   "mimetype": "text/x-python",
   "name": "python",
   "nbconvert_exporter": "python",
   "pygments_lexer": "ipython3",
   "version": "3.12.5"
  }
 },
 "nbformat": 4,
 "nbformat_minor": 4
}
